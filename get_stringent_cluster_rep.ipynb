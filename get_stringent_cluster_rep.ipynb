{
 "cells": [
  {
   "cell_type": "code",
   "execution_count": 1,
   "id": "511ed720-f08c-41e6-b578-0fcfbde682dd",
   "metadata": {},
   "outputs": [],
   "source": [
    "import os\n",
    "import pandas as pd\n",
    "import matplotlib.pyplot as plt\n",
    "from Bio import SeqIO\n",
    "import csv\n",
    "import sqlite3"
   ]
  },
  {
   "cell_type": "code",
   "execution_count": 32,
   "id": "23d6027a-4fd7-470b-9c8d-58a6f00a6160",
   "metadata": {},
   "outputs": [],
   "source": [
    "# helper functions\n",
    "\n",
    "#get protein viability from sql database. Input pid. Assume database conn is active\n",
    "#con=sqlite3.connect(\"genegraph.db\")\n",
    "con=sqlite3.connect(\"80kprotein_stats.db\")\n",
    "cur = con.cursor()\n",
    "def get_protein_is_goodrep(pid):\n",
    "    #cmd = \"SELECT * FROM proteins WHERE hashid='%s'\" % pid\n",
    "    cmd = \"SELECT * FROM proteins WHERE pid LIKE '%s\" % pid + \"%'\"\n",
    "    print(cmd)\n",
    "    cur.execute(cmd)\n",
    "    return cur.fetchone()"
   ]
  },
  {
   "cell_type": "code",
   "execution_count": 34,
   "id": "9aa792f4-5f34-4173-a9e8-6dffc2e2cfbc",
   "metadata": {},
   "outputs": [
    {
     "name": "stdout",
     "output_type": "stream",
     "text": [
      "SELECT * FROM proteins WHERE pid LIKE '94a5b1bd85e529b603f6%'\n"
     ]
    },
    {
     "data": {
      "text/plain": [
       "('94a5b1bd85e529b603f63591b1a7f9d7dd1d1931cac2b5be426f02b6ba4164e5',\n",
       " 'True',\n",
       " 644.0,\n",
       " 'True',\n",
       " 'MPPEEEKSHIDSLNSSLYSRNAPDVRSRRKLRIDDAPSDVRKAWQEAPEPVIETIPKVPQDHSMSFLTKLLIGSIIFCIIAVGIGTYLFVNGSNLISGDNIDIVISGPVSIPAGTPVTFEVTVTNSNTIALEGVELTVNFPAGSTSVTSPTQELLAYRDPLGSVAPGGTVKRTVSANIYGEQNTQKSLIVDVSYKVKGSSSPFAKEKSYDVLINSSPINLTVSSFKEISAGQEFDMTFKIKSNSGDTLRNILVAAKYPFGFTFVSSSLAPLGDKATWRIGDLPPGGEKNIIVRGRLQGEDQENRVFHVTVGTANPRNAGTIGTEFMSATQEIALQKSFMTIGLNLNGSSSGDAAGGFNQPVRVDVSWQNNLPTSVTNAEIAVKLSGSTYDRTLVQPGQGYFRSSSDEIIWSSQSDQKLASIGPGETGTVSFNITPRDLGTPSAPLVNPLLTFAVSVKGKRTQEAGVPESLSSIITRNVRISSIATLSGRIKRSGSEFVNTGPIPPKVDQKTTYTVVWSIDNTANLLNKAQVSANLPQYIKWLGAVSPSTEDVSYDEKTGMVTWSAGAIPTHTAQKGQRKTVAFQISLEPNVNQLQSSPILVNDASLSAIDDFTGAILGSKQSFLTTRFSTDTAYKSGDEIVGQ*')"
      ]
     },
     "execution_count": 34,
     "metadata": {},
     "output_type": "execute_result"
    }
   ],
   "source": [
    "get_protein_is_goodrep(\"94a5b1bd85e529b603f6\")"
   ]
  },
  {
   "cell_type": "code",
   "execution_count": 2,
   "id": "c0d53bba-ff0c-4f1a-8cb7-5c79c65938b7",
   "metadata": {},
   "outputs": [],
   "source": [
    "# read in test clu_cluster.tsv file\n",
    "path_tsv = \"../clusters/OUTPUT/stringent/tmp/clu_cluster_10k.tsv\"\n",
    "# path_tsv = \"../clusters/OUTPUT/stringent/tmp/clu_cluster.tsv\"\n",
    "\n",
    "#variables used to track shifting between clusters\n",
    "prev_clusterrep = \"\"\n",
    "is_newgroup = True\n",
    "with open(path_tsv, \"r\") as in_file:\n",
    "    for line in csv.reader(in_file, delimiter='\\t'):\n",
    "        # track which group I am in\n",
    "        cur_clusterrep = line[0]\n",
    "        cur_stats = get_protein_is_goodrep(cur_clusterrep)\n",
    "        is_newgroup = cur_clusterrep != prev_clusterrep\n",
    "        prev_clusterrep = cur_clusterrep\n",
    "        #if new group and good rep, pass through for loop until new clusterrep encountered AND write original lines to new csv\n",
    "        #elif new group and bad rep, keep passing thru until good rep encountered and write many lines at once\n",
    "        \n",
    "        # write to new file\n",
    "        unique_pid = line[1]\n",
    "    "
   ]
  },
  {
   "cell_type": "code",
   "execution_count": null,
   "id": "fcfeeb5e-317b-4d0a-a1b7-a2fb9ffe8847",
   "metadata": {},
   "outputs": [],
   "source": [
    "pd.read_csv(path_tsv, sep = \"\\t\", header = None)"
   ]
  },
  {
   "cell_type": "code",
   "execution_count": null,
   "id": "c040f95c-eb46-47ce-84ef-07cd764614e0",
   "metadata": {},
   "outputs": [],
   "source": [
    "unique_pid = pd.read_csv(path_tsv, sep = \"\\t\", header = None)[1].unique()"
   ]
  }
 ],
 "metadata": {
  "environment": {
   "kernel": "ggdb",
   "name": "common-cpu.m82",
   "type": "gcloud",
   "uri": "gcr.io/deeplearning-platform-release/base-cpu:m82"
  },
  "kernelspec": {
   "display_name": "ggdb",
   "language": "python",
   "name": "ggdb"
  },
  "language_info": {
   "codemirror_mode": {
    "name": "ipython",
    "version": 3
   },
   "file_extension": ".py",
   "mimetype": "text/x-python",
   "name": "python",
   "nbconvert_exporter": "python",
   "pygments_lexer": "ipython3",
   "version": "3.9.7"
  }
 },
 "nbformat": 4,
 "nbformat_minor": 5
}
