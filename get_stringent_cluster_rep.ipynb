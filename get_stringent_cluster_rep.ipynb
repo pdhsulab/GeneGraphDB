{
 "cells": [
  {
   "cell_type": "code",
   "execution_count": 42,
   "id": "511ed720-f08c-41e6-b578-0fcfbde682dd",
   "metadata": {},
   "outputs": [],
   "source": [
    "import os\n",
    "import pandas as pd\n",
    "import matplotlib.pyplot as plt\n",
    "from Bio import SeqIO\n",
    "import csv\n",
    "import sqlite3\n",
    "import time"
   ]
  },
  {
   "cell_type": "code",
   "execution_count": 117,
   "id": "23d6027a-4fd7-470b-9c8d-58a6f00a6160",
   "metadata": {},
   "outputs": [],
   "source": [
    "# helper functions\n",
    "\n",
    "#get protein viability from sql database. Input pid. Assume database conn is active\n",
    "#con=sqlite3.connect(\"genegraph.db\")\n",
    "con=sqlite3.connect(\"80kprotein_stats.db\")\n",
    "cur = con.cursor()\n",
    "def get_protein_is_goodrep(pid):\n",
    "    #cmd = \"SELECT * FROM proteins WHERE hashid='%s'\" % pid\n",
    "    cmd = \"SELECT * FROM proteins WHERE pid = '%s'\" % pid \n",
    "    #print(cmd)\n",
    "    cur.execute(cmd)\n",
    "    return cur.fetchone()"
   ]
  },
  {
   "cell_type": "code",
   "execution_count": 118,
   "id": "9aa792f4-5f34-4173-a9e8-6dffc2e2cfbc",
   "metadata": {},
   "outputs": [
    {
     "name": "stdout",
     "output_type": "stream",
     "text": [
      "0.001032114028930664\n"
     ]
    }
   ],
   "source": [
    "tic = time.time()\n",
    "get_protein_is_goodrep(\"94a5b1bd85e529b603f6\")\n",
    "toc = time.time()\n",
    "print(toc-tic)"
   ]
  },
  {
   "cell_type": "code",
   "execution_count": 127,
   "id": "6969bd19-103a-4f09-a680-258be100f5f9",
   "metadata": {},
   "outputs": [
    {
     "data": {
      "text/plain": [
       "34"
      ]
     },
     "execution_count": 127,
     "metadata": {},
     "output_type": "execute_result"
    }
   ],
   "source": [
    "len(pid_set)"
   ]
  },
  {
   "cell_type": "code",
   "execution_count": 128,
   "id": "d45cb90c-20fb-4cd7-8de4-7261769fc04f",
   "metadata": {},
   "outputs": [],
   "source": [
    "# create function to get all the csv lines for a stringent cluster\n",
    "# return value is list of lines to write to new file\n",
    "def write_stringentcluster_outfile(pid_set, cur_rep, outfile):\n",
    "    if len(pid_set) == 0:\n",
    "        pass\n",
    "    else:\n",
    "        out_csv_row_list = [cur_rep + \",\" + pid for pid in pid_set]\n",
    "        with open(outfile, \"a\") as f:\n",
    "            for out_csv_row in out_csv_row_list:\n",
    "                print(out_csv_row, file=f)\n",
    "#get_stringent_rep(test_set, \"3\")\n",
    "def return_better_rep(candidate_stats, cur_stats, cand_id, cur_id):\n",
    "    cur_isgapfree, cur_length, cur_iscomplete = cur_stats[1], cur_stats[2], cur_stats[3]\n",
    "    cand_isgapfree, cand_length, cand_iscomplete = candidate_stats[1], candidate_stats[2], candidate_stats[3]\n",
    "    if not bool(cur_isgapfree) & bool(cand_isgapfree):\n",
    "        return cand_id\n",
    "    elif bool(cur_isgapfree) & bool(cand_isgapfree):\n",
    "        if cand_length > cur_length:\n",
    "            return cand_id\n",
    "        else: return cur_id\n",
    "    else:\n",
    "        return cur_id"
   ]
  },
  {
   "cell_type": "code",
   "execution_count": 130,
   "id": "c0d53bba-ff0c-4f1a-8cb7-5c79c65938b7",
   "metadata": {},
   "outputs": [],
   "source": [
    "# read in test clu_cluster.tsv file\n",
    "path_tsv = \"../clusters/OUTPUT/stringent/tmp/clu_cluster_10k.tsv\"\n",
    "# path_tsv = \"../clusters/OUTPUT/stringent/tmp/clu_cluster.tsv\"\n",
    "\n",
    "#variables used to track shifting between clusters\n",
    "prev_clusterid = \"\"\n",
    "is_newgroup = True\n",
    "tracker_ = 0\n",
    "with open(path_tsv, \"r\") as in_file:\n",
    "    for line in csv.reader(in_file, delimiter='\\t'):\n",
    "        if tracker_ == 1000:\n",
    "            continue\n",
    "        # track which group I am in\n",
    "        cur_clusterid = line[0]\n",
    "        cand_clusterrep = line[1][:20]\n",
    "        is_newgroup = cur_clusterid != prev_clusterid\n",
    "        if is_newgroup:\n",
    "            if prev_clusterid != \"\": #if anything but first iteration\n",
    "                pid_set.remove(cur_clusterrep)\n",
    "                write_stringentcluster_outfile(pid_set, cur_clusterrep, \"../clusters/clu_rep_stringent_final.csv\")\n",
    "            cur_clusterrep = line[0][:20]\n",
    "            cur_stats = get_protein_is_goodrep(cur_clusterrep)\n",
    "            cand_stats = get_protein_is_goodrep(cand_clusterrep)\n",
    "            pid_set = set()\n",
    "            pid_set.add(cur_clusterrep)\n",
    "            pid_set.add(cand_clusterrep)\n",
    "            cur_clusterrep = return_better_rep(cand_stats, cur_stats, cand_clusterrep, cur_clusterrep)\n",
    "            \n",
    "        else:\n",
    "            cur_stats = get_protein_is_goodrep(cur_clusterrep)\n",
    "            cand_stats = get_protein_is_goodrep(cand_clusterrep)\n",
    "            pid_set.add(cand_clusterrep)\n",
    "            cur_clusterrep = return_better_rep(cand_stats, cur_stats, cand_clusterrep, cur_clusterrep) \n",
    "            ___\n",
    "        \n",
    "        # what if there is no representative protein that is complete? TO DO - record this to a csv. NOTE - fragments are already recorded in sql database. \n",
    "        \n",
    "        # # write to new file\n",
    "        # unique_pid = line[1]\n",
    "        prev_clusterid = cur_clusterid\n",
    "        tracker_ += 1\n",
    "    "
   ]
  },
  {
   "cell_type": "code",
   "execution_count": 134,
   "id": "fcfeeb5e-317b-4d0a-a1b7-a2fb9ffe8847",
   "metadata": {},
   "outputs": [],
   "source": [
    "# #data exploration of og clu_clusters file\n",
    "# pd.read_csv(path_tsv, sep = \"\\t\", header = None)\n",
    "# unique_pid = pd.read_csv(path_tsv, sep = \"\\t\", header = None)[1].unique()"
   ]
  },
  {
   "cell_type": "code",
   "execution_count": null,
   "id": "c040f95c-eb46-47ce-84ef-07cd764614e0",
   "metadata": {},
   "outputs": [],
   "source": []
  }
 ],
 "metadata": {
  "environment": {
   "kernel": "ggdb",
   "name": "common-cpu.m82",
   "type": "gcloud",
   "uri": "gcr.io/deeplearning-platform-release/base-cpu:m82"
  },
  "kernelspec": {
   "display_name": "ggdb",
   "language": "python",
   "name": "ggdb"
  },
  "language_info": {
   "codemirror_mode": {
    "name": "ipython",
    "version": 3
   },
   "file_extension": ".py",
   "mimetype": "text/x-python",
   "name": "python",
   "nbconvert_exporter": "python",
   "pygments_lexer": "ipython3",
   "version": "3.9.7"
  }
 },
 "nbformat": 4,
 "nbformat_minor": 5
}
