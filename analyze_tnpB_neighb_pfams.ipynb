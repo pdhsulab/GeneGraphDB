{
 "cells": [
  {
   "cell_type": "code",
   "execution_count": 2,
   "id": "f1bbecce-01e1-4f42-95a7-bec527a69925",
   "metadata": {},
   "outputs": [],
   "source": [
    "import os\n",
    "import pandas as pd\n",
    "import matplotlib.pyplot as plt\n",
    "from Bio import SeqIO\n",
    "from Bio import SearchIO\n",
    "import csv\n",
    "import sqlite3\n",
    "import time\n",
    "from multiprocessing import Pool, cpu_count\n",
    "import sys\n",
    "from calc_icity_ import *\n",
    "import ast\n",
    "from collections import defaultdict\n",
    "import numpy as np"
   ]
  },
  {
   "cell_type": "code",
   "execution_count": 6,
   "id": "48590d16-7ef0-43b6-a729-927b1ebe419b",
   "metadata": {},
   "outputs": [],
   "source": [
    "infile = \"tnpB_targetgenes_pfam.filtered.csv\"\n",
    "#infile = \"tnpB_targetgenes_pfam.csv\""
   ]
  },
  {
   "cell_type": "code",
   "execution_count": 7,
   "id": "d2535d92-43a8-45ba-90c2-177fe80b35ec",
   "metadata": {},
   "outputs": [
    {
     "data": {
      "text/plain": [
       "183"
      ]
     },
     "execution_count": 7,
     "metadata": {},
     "output_type": "execute_result"
    }
   ],
   "source": [
    "pfam_df = pd.read_csv(infile).iloc[:,1:]\n",
    "len(pfam_df['hit_id'].unique())"
   ]
  },
  {
   "cell_type": "code",
   "execution_count": 8,
   "id": "bb7d5e25-e238-40ad-a511-8e02aa407ca3",
   "metadata": {},
   "outputs": [],
   "source": [
    "all_query_ids = [pfam for pfam in list(pfam_df['query_id'].sort_values().unique()) if type(pfam) == str]"
   ]
  },
  {
   "cell_type": "markdown",
   "id": "398c0676-0176-4f70-8523-078764e1275a",
   "metadata": {},
   "source": [
    "### look into each target gene, or hit"
   ]
  },
  {
   "cell_type": "code",
   "execution_count": 9,
   "id": "1cb82d58-b286-4c09-bef5-d2c16f4631d5",
   "metadata": {},
   "outputs": [],
   "source": [
    "def get_hits_with_pfam_df(query_ids_suffixes, df):\n",
    "    all_query_ids = [pfam for pfam in list(pfam_df['query_id'].sort_values().unique()) if type(pfam) == str]\n",
    "    query_ids = []\n",
    "    for query_ids_suffix in query_ids_suffixes:\n",
    "        query_ids += [pfam for pfam in all_query_ids if query_ids_suffix in pfam ]    \n",
    "    hits_s = df[df[\"query_id\"].isin(query_ids)]['hit_id']\n",
    "    hits_set = set(hits_s)\n",
    "    hits_with_pfam_df = df[df[\"hit_id\"].isin(hits_set)]\n",
    "    print(\"number filtered hits: \" + str(len(hits_with_pfam_df['hit_id'].unique())))\n",
    "    return hits_with_pfam_df"
   ]
  },
  {
   "cell_type": "code",
   "execution_count": 10,
   "id": "148fbe64-28e9-43fe-9b1d-c06bbe61bf45",
   "metadata": {},
   "outputs": [],
   "source": [
    "query_ids_suffixes = [\"Acetyl\"]\n",
    "#get_hits_with_pfam_df(query_ids_suffixes, pfam_df)"
   ]
  },
  {
   "cell_type": "code",
   "execution_count": 11,
   "id": "2998abc7-0549-408e-9a15-55339eb5cf0e",
   "metadata": {},
   "outputs": [
    {
     "name": "stdout",
     "output_type": "stream",
     "text": [
      "number filtered hits: 10\n"
     ]
    },
    {
     "data": {
      "text/plain": [
       "169.98245614035088"
      ]
     },
     "execution_count": 11,
     "metadata": {},
     "output_type": "execute_result"
    }
   ],
   "source": [
    "pd.set_option('display.max_rows', None)\n",
    "Mer_hits_df = get_hits_with_pfam_df([\"Mer\"], pfam_df)\n",
    "np.mean(Mer_hits_df[\"target_length\"])"
   ]
  },
  {
   "cell_type": "markdown",
   "id": "d661c36d-f558-4891-adb4-3c4f57ba67bb",
   "metadata": {},
   "source": [
    "### analyze pfams in high icity genes near interesting hits"
   ]
  },
  {
   "cell_type": "code",
   "execution_count": 12,
   "id": "e5471e18-2b4d-4528-8a9e-76d925a6e609",
   "metadata": {},
   "outputs": [],
   "source": [
    "pd.set_option('display.max_rows', 7)\n",
    "baitlists_hits = [ast.literal_eval(baitlist) for baitlist in Mer_hits_df['baitp100s'].unique()]"
   ]
  },
  {
   "cell_type": "code",
   "execution_count": 13,
   "id": "f97a1a51-1eaa-4029-85e1-11a1d22bc7f0",
   "metadata": {},
   "outputs": [],
   "source": [
    "allbaits_hits = []\n",
    "for baitlist in baitlists_hits:\n",
    "    allbaits_hits += baitlist\n",
    "allbaits_hits = set(allbaits_hits)"
   ]
  },
  {
   "cell_type": "code",
   "execution_count": 14,
   "id": "957aaf24-0c68-4e9f-bdde-de95af2f3a8a",
   "metadata": {},
   "outputs": [],
   "source": [
    "baitlists_all = [ast.literal_eval(baitlist) for baitlist in pfam_df['baitp100s'].unique()]\n",
    "baitlists_expanded = []\n",
    "for baitlist in baitlists_all:\n",
    "    for bait in baitlist:\n",
    "        if bait in allbaits_hits:\n",
    "            baitlists_expanded.append(str(baitlist))\n",
    "            break"
   ]
  },
  {
   "cell_type": "code",
   "execution_count": 15,
   "id": "ac02af29-570a-4117-a670-ef7d97f2b223",
   "metadata": {},
   "outputs": [
    {
     "data": {
      "text/plain": [
       "(13, 10)"
      ]
     },
     "execution_count": 15,
     "metadata": {},
     "output_type": "execute_result"
    }
   ],
   "source": [
    "len(baitlists_expanded), len(baitlists_hits)"
   ]
  },
  {
   "cell_type": "code",
   "execution_count": 16,
   "id": "fd6cb9c9-f50c-4653-bf18-36f6da1e62d8",
   "metadata": {},
   "outputs": [],
   "source": [
    "def get_icityhits_near_pfam_hits_df(query_ids_suffixes, df):\n",
    "    all_query_ids = [pfam for pfam in list(df['query_id'].sort_values().unique()) if type(pfam) == str]\n",
    "    query_ids = []\n",
    "    for query_ids_suffix in query_ids_suffixes:\n",
    "        query_ids += [pfam for pfam in all_query_ids if query_ids_suffix in pfam]    \n",
    "    hits_s = df[df[\"query_id\"].isin(query_ids)]['hit_id']\n",
    "    hits_set = set(hits_s)\n",
    "    hits_with_pfam_df = df[df[\"hit_id\"].isin(hits_set)]\n",
    "    \n",
    "    baitlists_hits = [ast.literal_eval(baitlist) for baitlist in hits_with_pfam_df['baitp100s'].unique()]\n",
    "    allbaits_hits = []\n",
    "    for baitlist in baitlists_hits:\n",
    "        allbaits_hits += baitlist\n",
    "    allbaits_hits = set(allbaits_hits)\n",
    "    \n",
    "    baitlists_all = [ast.literal_eval(baitlist) for baitlist in df['baitp100s'].unique()]\n",
    "    baitlists_expanded = []\n",
    "    for baitlist in baitlists_all:\n",
    "        for bait in baitlist:\n",
    "            if bait in allbaits_hits:\n",
    "                baitlists_expanded.append(str(baitlist))\n",
    "                break\n",
    "                \n",
    "    baitlists_set = set(baitlists_expanded)\n",
    "    icityhits_near_domainhits_df = df[df[\"baitp100s\"].isin(baitlists_set)].dropna()\n",
    "    \n",
    "    print(\"number pfam filtered hits: \" + str(len(hits_with_pfam_df['hit_id'].unique())))\n",
    "    print(\"number icity hits near pfam filtered hits: \" + str(len(icityhits_near_domainhits_df['hit_id'].unique())))\n",
    "    return icityhits_near_domainhits_df"
   ]
  },
  {
   "cell_type": "code",
   "execution_count": 17,
   "id": "c579500d-7385-4686-8b0b-1b33ac29de9b",
   "metadata": {},
   "outputs": [
    {
     "name": "stdout",
     "output_type": "stream",
     "text": [
      "number pfam filtered hits: 1\n",
      "number icity hits near pfam filtered hits: 5\n"
     ]
    },
    {
     "data": {
      "text/html": [
       "<div>\n",
       "<style scoped>\n",
       "    .dataframe tbody tr th:only-of-type {\n",
       "        vertical-align: middle;\n",
       "    }\n",
       "\n",
       "    .dataframe tbody tr th {\n",
       "        vertical-align: top;\n",
       "    }\n",
       "\n",
       "    .dataframe thead th {\n",
       "        text-align: right;\n",
       "    }\n",
       "</style>\n",
       "<table border=\"1\" class=\"dataframe\">\n",
       "  <thead>\n",
       "    <tr style=\"text-align: right;\">\n",
       "      <th></th>\n",
       "      <th>query_id</th>\n",
       "      <th>query_accession</th>\n",
       "      <th>query_len</th>\n",
       "      <th>hit_id</th>\n",
       "      <th>hit_evalue</th>\n",
       "      <th>target_length</th>\n",
       "      <th>baitp100s</th>\n",
       "      <th>icity</th>\n",
       "      <th>numer</th>\n",
       "      <th>denom</th>\n",
       "      <th>is_tnpB</th>\n",
       "    </tr>\n",
       "  </thead>\n",
       "  <tbody>\n",
       "    <tr>\n",
       "      <th>16</th>\n",
       "      <td>AAA_14</td>\n",
       "      <td>PF13173.8</td>\n",
       "      <td>130.0</td>\n",
       "      <td>6d7ff89d8cbf492f5d</td>\n",
       "      <td>2.300000e-11</td>\n",
       "      <td>375.0</td>\n",
       "      <td>['82cbf4e851c4ed4e13', 'cd3e0cf59d8f98c2c0', '...</td>\n",
       "      <td>0.750000</td>\n",
       "      <td>9</td>\n",
       "      <td>12</td>\n",
       "      <td>0</td>\n",
       "    </tr>\n",
       "    <tr>\n",
       "      <th>17</th>\n",
       "      <td>AAA_16</td>\n",
       "      <td>PF13191.8</td>\n",
       "      <td>170.0</td>\n",
       "      <td>6d7ff89d8cbf492f5d</td>\n",
       "      <td>1.100000e-07</td>\n",
       "      <td>375.0</td>\n",
       "      <td>['82cbf4e851c4ed4e13', 'cd3e0cf59d8f98c2c0', '...</td>\n",
       "      <td>0.750000</td>\n",
       "      <td>9</td>\n",
       "      <td>12</td>\n",
       "      <td>0</td>\n",
       "    </tr>\n",
       "    <tr>\n",
       "      <th>18</th>\n",
       "      <td>AAA_22</td>\n",
       "      <td>PF13401.8</td>\n",
       "      <td>137.0</td>\n",
       "      <td>6d7ff89d8cbf492f5d</td>\n",
       "      <td>1.600000e-06</td>\n",
       "      <td>375.0</td>\n",
       "      <td>['82cbf4e851c4ed4e13', 'cd3e0cf59d8f98c2c0', '...</td>\n",
       "      <td>0.750000</td>\n",
       "      <td>9</td>\n",
       "      <td>12</td>\n",
       "      <td>0</td>\n",
       "    </tr>\n",
       "    <tr>\n",
       "      <th>19</th>\n",
       "      <td>ATPase_2</td>\n",
       "      <td>PF01637.20</td>\n",
       "      <td>233.0</td>\n",
       "      <td>6d7ff89d8cbf492f5d</td>\n",
       "      <td>8.900000e-22</td>\n",
       "      <td>375.0</td>\n",
       "      <td>['82cbf4e851c4ed4e13', 'cd3e0cf59d8f98c2c0', '...</td>\n",
       "      <td>0.750000</td>\n",
       "      <td>9</td>\n",
       "      <td>12</td>\n",
       "      <td>0</td>\n",
       "    </tr>\n",
       "    <tr>\n",
       "      <th>34</th>\n",
       "      <td>Acetyltransf_1</td>\n",
       "      <td>PF00583.27</td>\n",
       "      <td>117.0</td>\n",
       "      <td>7793fc6506532ffe22</td>\n",
       "      <td>3.500000e-23</td>\n",
       "      <td>202.0</td>\n",
       "      <td>['82cbf4e851c4ed4e13', '5b04b42d2f75e894da', '...</td>\n",
       "      <td>0.947368</td>\n",
       "      <td>18</td>\n",
       "      <td>19</td>\n",
       "      <td>0</td>\n",
       "    </tr>\n",
       "  </tbody>\n",
       "</table>\n",
       "</div>"
      ],
      "text/plain": [
       "          query_id query_accession   query_len              hit_id  \\\n",
       "16          AAA_14       PF13173.8       130.0  6d7ff89d8cbf492f5d   \n",
       "17          AAA_16       PF13191.8       170.0  6d7ff89d8cbf492f5d   \n",
       "18          AAA_22       PF13401.8       137.0  6d7ff89d8cbf492f5d   \n",
       "19        ATPase_2      PF01637.20       233.0  6d7ff89d8cbf492f5d   \n",
       "34  Acetyltransf_1      PF00583.27       117.0  7793fc6506532ffe22   \n",
       "\n",
       "      hit_evalue  target_length  \\\n",
       "16  2.300000e-11          375.0   \n",
       "17  1.100000e-07          375.0   \n",
       "18  1.600000e-06          375.0   \n",
       "19  8.900000e-22          375.0   \n",
       "34  3.500000e-23          202.0   \n",
       "\n",
       "                                            baitp100s     icity  numer  denom  \\\n",
       "16  ['82cbf4e851c4ed4e13', 'cd3e0cf59d8f98c2c0', '...  0.750000      9     12   \n",
       "17  ['82cbf4e851c4ed4e13', 'cd3e0cf59d8f98c2c0', '...  0.750000      9     12   \n",
       "18  ['82cbf4e851c4ed4e13', 'cd3e0cf59d8f98c2c0', '...  0.750000      9     12   \n",
       "19  ['82cbf4e851c4ed4e13', 'cd3e0cf59d8f98c2c0', '...  0.750000      9     12   \n",
       "34  ['82cbf4e851c4ed4e13', '5b04b42d2f75e894da', '...  0.947368     18     19   \n",
       "\n",
       "    is_tnpB  \n",
       "16        0  \n",
       "17        0  \n",
       "18        0  \n",
       "19        0  \n",
       "34        0  "
      ]
     },
     "execution_count": 17,
     "metadata": {},
     "output_type": "execute_result"
    }
   ],
   "source": [
    "# still displays original pfam_hits. also not very informative anymore\n",
    "get_icityhits_near_pfam_hits_df([\"Acetyl\"], pfam_df).head()"
   ]
  },
  {
   "cell_type": "markdown",
   "id": "7af9e8dc-4633-49d3-a379-a10329f2407c",
   "metadata": {},
   "source": [
    "### analyze tnpBs without catalytic domains"
   ]
  },
  {
   "cell_type": "code",
   "execution_count": 10,
   "id": "90f9646e-67e0-48f2-a357-73e25a4213c8",
   "metadata": {},
   "outputs": [],
   "source": [
    "inactive_tnpBs = []\n",
    "with open (\"../tnpBs/_inactive_tnpBs.faa\") as handle:\n",
    "    for rec in SeqIO.parse(handle, 'fasta'):\n",
    "        sequence = rec.seq\n",
    "        pid = rec.id\n",
    "        inactive_tnpBs.append(pid)"
   ]
  },
  {
   "cell_type": "code",
   "execution_count": 11,
   "id": "228ccaef-b031-4f05-802e-c8bcbcc764e5",
   "metadata": {},
   "outputs": [],
   "source": [
    "inactive_tnpBs_set = set(inactive_tnpBs)"
   ]
  },
  {
   "cell_type": "code",
   "execution_count": 12,
   "id": "cd855488-41ac-482f-bf48-02d819b3720e",
   "metadata": {},
   "outputs": [
    {
     "data": {
      "text/plain": [
       "0"
      ]
     },
     "execution_count": 12,
     "metadata": {},
     "output_type": "execute_result"
    }
   ],
   "source": [
    "sum([hit_id in inactive_tnpBs_set for hit_id in pfam_df[\"hit_id\"]])"
   ]
  },
  {
   "cell_type": "code",
   "execution_count": 13,
   "id": "ddbfe027-3768-4fd6-87ed-c3200de9a118",
   "metadata": {},
   "outputs": [],
   "source": [
    "def extract_inactive_tnpBs(entry, inactive_tnpBs):\n",
    "    baitp100s_set = set(ast.literal_eval(entry))\n",
    "    intersection = baitp100s_set.intersection(inactive_tnpBs)\n",
    "    return intersection"
   ]
  },
  {
   "cell_type": "code",
   "execution_count": 14,
   "id": "a80fb88b-814e-46d8-b77d-e0db296acf7f",
   "metadata": {},
   "outputs": [],
   "source": [
    "def get_hits_with_inactive_tnpB_bait_df(inactive_tnpBs, df):\n",
    "#     all_query_ids = [pfam for pfam in list(pfam_df['query_id'].sort_values().unique()) if type(pfam) == str]\n",
    "#     query_ids = []\n",
    "#     for query_ids_suffix in query_ids_suffixes:\n",
    "#         query_ids += [pfam for pfam in all_query_ids if query_ids_suffix in pfam ]    \n",
    "#     hits_s = df[df[\"query_id\"].isin(query_ids)]['hit_id']\n",
    "#     hits_set = set(hits_s)\n",
    "#     hits_with_pfam_df = df[df[\"hit_id\"].isin(hits_set)]\n",
    "    \n",
    "    \n",
    "    baitlists_all = [ast.literal_eval(baitlist) for baitlist in df['baitp100s'].unique()]\n",
    "    baitlists_expanded = []\n",
    "    for baitlist in baitlists_all:\n",
    "        for bait in baitlist:\n",
    "            if bait in inactive_tnpBs:\n",
    "                baitlists_expanded.append(str(baitlist))\n",
    "                break\n",
    "    hits_with_inactive_tnpB_df = df[df[\"baitp100s\"].isin(baitlists_expanded)].dropna()\n",
    "    # add column, \"inactive tnpBs\"\n",
    "    hits_with_inactive_tnpB_df['inactive tnpBs'] = hits_with_inactive_tnpB_df['baitp100s'].apply(lambda x: extract_inactive_tnpBs(x, inactive_tnpBs))\n",
    "    tnpB_hits_coloc_inactive_tnpB =  hits_with_inactive_tnpB_df[hits_with_inactive_tnpB_df['is_tnpB'] == 1]\n",
    "                \n",
    "    print(\"number hits with >1 inactive tnpB bait: \" + str(len(hits_with_inactive_tnpB_df['hit_id'].unique())))\n",
    "    print(\"number tnpB hits with >1 inactive tnpB bait: \" + str(len(tnpB_hits_coloc_inactive_tnpB['hit_id'].unique())))\n",
    "    return hits_with_inactive_tnpB_df"
   ]
  },
  {
   "cell_type": "code",
   "execution_count": 15,
   "id": "ca983b31-2a92-43ab-ad73-5a0af16665e7",
   "metadata": {},
   "outputs": [
    {
     "name": "stdout",
     "output_type": "stream",
     "text": [
      "number hits with >1 inactive tnpB bait: 8\n",
      "number tnpB hits with >1 inactive tnpB bait: 1\n"
     ]
    }
   ],
   "source": [
    "pd.set_option('display.max_rows', None)\n",
    "targets_inactivebaits_df = get_hits_with_inactive_tnpB_bait_df(inactive_tnpBs, pfam_df)"
   ]
  },
  {
   "cell_type": "code",
   "execution_count": 16,
   "id": "a6112aec-1dcb-4a1a-9087-bbe85fe61d4d",
   "metadata": {},
   "outputs": [
    {
     "data": {
      "text/plain": [
       "array(['c7a1b8f01c5b7c48a2', '7205dff302ff900300', '23422406293d40c201',\n",
       "       '6bf6c4c7da68779d7a', 'c1050b21cc75640d51', 'aa6af7e9289c3558d3',\n",
       "       '986ad2cde69643b021', 'd2246f26c16fb9eec9'], dtype=object)"
      ]
     },
     "execution_count": 16,
     "metadata": {},
     "output_type": "execute_result"
    }
   ],
   "source": [
    "targets_inactivebaits_df[\"hit_id\"].unique()"
   ]
  },
  {
   "cell_type": "code",
   "execution_count": 17,
   "id": "b8d1d102-5cfe-422a-bbc4-ae56f98c3875",
   "metadata": {},
   "outputs": [],
   "source": [
    "# verify the number of inactive tnpB baits that have a nearby target\n",
    "inactive_baits_near_target = set()\n",
    "for tnpB_set in list(targets_inactivebaits_df[\"inactive tnpBs\"]):\n",
    "    inactive_baits_near_target.update(tnpB_set)"
   ]
  },
  {
   "cell_type": "code",
   "execution_count": 22,
   "id": "d4e1e91d-0f6d-4388-afd4-960dc1034676",
   "metadata": {},
   "outputs": [
    {
     "data": {
      "text/plain": [
       "({'0648051c710ffc3f99',\n",
       "  '0da5a5d756496ec587',\n",
       "  '0f08a20cfe029876e3',\n",
       "  '124625bd293e1e735d',\n",
       "  '13d95e27e737ac62a9',\n",
       "  '15ce911abbf167916e',\n",
       "  '31428f0f03af2a9999',\n",
       "  '476fa0561841de3b03',\n",
       "  '58587edff93c9575ac',\n",
       "  '6be956b3dd0dfba935',\n",
       "  '70e9d1aa2ac3c57a62',\n",
       "  'a9a1793552f754a2c3',\n",
       "  'b9cc7b8a78f75d3bc5',\n",
       "  'c328360c354617b7a9',\n",
       "  'ee5c498bf075a0ad33',\n",
       "  'f6e74b8eea638f8073'},\n",
       " {'0648051c710ffc3f99',\n",
       "  '0da5a5d756496ec587',\n",
       "  '0f08a20cfe029876e3',\n",
       "  '124625bd293e1e735d',\n",
       "  '13d95e27e737ac62a9',\n",
       "  '15ce911abbf167916e',\n",
       "  '31428f0f03af2a9999',\n",
       "  '476fa0561841de3b03',\n",
       "  '58587edff93c9575ac',\n",
       "  '6be956b3dd0dfba935',\n",
       "  '70e9d1aa2ac3c57a62',\n",
       "  '998f3b369603e3d75b',\n",
       "  'a9a1793552f754a2c3',\n",
       "  'b9cc7b8a78f75d3bc5',\n",
       "  'c328360c354617b7a9',\n",
       "  'ee5c498bf075a0ad33',\n",
       "  'f6e74b8eea638f8073'})"
      ]
     },
     "execution_count": 22,
     "metadata": {},
     "output_type": "execute_result"
    }
   ],
   "source": [
    "set(inactive_baits_near_target), set(inactive_tnpBs)"
   ]
  },
  {
   "cell_type": "code",
   "execution_count": 319,
   "id": "2567026c-04fa-4377-98d3-9f45b8a59dfb",
   "metadata": {},
   "outputs": [
    {
     "data": {
      "text/html": [
       "<div>\n",
       "<style scoped>\n",
       "    .dataframe tbody tr th:only-of-type {\n",
       "        vertical-align: middle;\n",
       "    }\n",
       "\n",
       "    .dataframe tbody tr th {\n",
       "        vertical-align: top;\n",
       "    }\n",
       "\n",
       "    .dataframe thead th {\n",
       "        text-align: right;\n",
       "    }\n",
       "</style>\n",
       "<table border=\"1\" class=\"dataframe\">\n",
       "  <thead>\n",
       "    <tr style=\"text-align: right;\">\n",
       "      <th></th>\n",
       "      <th>query_id</th>\n",
       "      <th>query_accession</th>\n",
       "      <th>query_len</th>\n",
       "      <th>hit_id</th>\n",
       "      <th>hit_evalue</th>\n",
       "      <th>target_length</th>\n",
       "      <th>baitp100s</th>\n",
       "      <th>icity</th>\n",
       "      <th>numer</th>\n",
       "      <th>denom</th>\n",
       "      <th>is_tnpB</th>\n",
       "      <th>inactive tnpBs</th>\n",
       "    </tr>\n",
       "  </thead>\n",
       "  <tbody>\n",
       "  </tbody>\n",
       "</table>\n",
       "</div>"
      ],
      "text/plain": [
       "Empty DataFrame\n",
       "Columns: [query_id, query_accession,  query_len, hit_id, hit_evalue, target_length, baitp100s, icity, numer, denom, is_tnpB, inactive tnpBs]\n",
       "Index: []"
      ]
     },
     "execution_count": 320,
     "metadata": {},
     "output_type": "execute_result"
    }
   ],
   "source": [
    "targets_inactivebaits_df[targets_inactivebaits_df[\"hit_id\"] == '0648051c710ffc3f99']"
   ]
  },
  {
   "cell_type": "code",
   "execution_count": null,
   "id": "4e8f57e1-9bb2-4c62-afcc-cd820527ad5b",
   "metadata": {},
   "outputs": [],
   "source": []
  }
 ],
 "metadata": {
  "environment": {
   "kernel": "ggdb",
   "name": "common-cpu.m82",
   "type": "gcloud",
   "uri": "gcr.io/deeplearning-platform-release/base-cpu:m82"
  },
  "kernelspec": {
   "display_name": "ggdb",
   "language": "python",
   "name": "ggdb"
  },
  "language_info": {
   "codemirror_mode": {
    "name": "ipython",
    "version": 3
   },
   "file_extension": ".py",
   "mimetype": "text/x-python",
   "name": "python",
   "nbconvert_exporter": "python",
   "pygments_lexer": "ipython3",
   "version": "3.9.7"
  }
 },
 "nbformat": 4,
 "nbformat_minor": 5
}
