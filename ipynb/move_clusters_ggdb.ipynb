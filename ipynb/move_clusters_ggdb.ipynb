{
 "cells": [
  {
   "cell_type": "code",
   "execution_count": 2,
   "id": "0aff60bd-265b-4f91-9ae1-773194301ba7",
   "metadata": {},
   "outputs": [],
   "source": [
    "import os\n",
    "import pandas as pd\n",
    "import matplotlib.pyplot as plt\n",
    "from Bio import SeqIO\n",
    "import csv\n",
    "import sqlite3\n",
    "import time"
   ]
  },
  {
   "cell_type": "code",
   "execution_count": null,
   "id": "be979358-545b-4fb7-af2e-420b7fcbe46d",
   "metadata": {},
   "outputs": [],
   "source": [
    "def move_clusters_to_genegraphdb():\n",
    "    conn = sqlite3.connect('genegraph.db')\n",
    "    cursor = conn.cursor()\n",
    "    cmd1 = \"DROP TABLE permissive\"\n",
    "    cmd2 = \"ATTACH DATABASE 'clusters.db' AS db2\"\n",
    "    cmd3 = \"CREATE TABLE permissive (reppid text, pid text, PRIMARY KEY(pid))\"\n",
    "    cmd4 = \"INSERT INTO permissive SELECT a.reppid, a.pid FROM db2.permissive a\"\n",
    "    cmd5 = \"CREATE TABLE stringent (reppid text, pid text, PRIMARY KEY(pid))\"\n",
    "    cmd6 = \"INSERT INTO stringent SELECT b.reppid, b.pid FROM db2.stringent_ b\"\n",
    "    cursor.execute(cmd1)\n",
    "    conn.execute(cmd2)\n",
    "    cursor.execute(cmd3)\n",
    "    cursor.execute(cmd4)\n",
    "    # cursor.execute(cmd5)\n",
    "    # cursor.execute(cmd6)\n",
    "    conn.commit()\n",
    "    conn.close()\n",
    "move_clusters_to_genegraphdb()"
   ]
  }
 ],
 "metadata": {
  "environment": {
   "kernel": "ggdb",
   "name": "common-cpu.m82",
   "type": "gcloud",
   "uri": "gcr.io/deeplearning-platform-release/base-cpu:m82"
  },
  "kernelspec": {
   "display_name": "ggdb",
   "language": "python",
   "name": "ggdb"
  },
  "language_info": {
   "codemirror_mode": {
    "name": "ipython",
    "version": 3
   },
   "file_extension": ".py",
   "mimetype": "text/x-python",
   "name": "python",
   "nbconvert_exporter": "python",
   "pygments_lexer": "ipython3",
   "version": "3.9.7"
  }
 },
 "nbformat": 4,
 "nbformat_minor": 5
}
