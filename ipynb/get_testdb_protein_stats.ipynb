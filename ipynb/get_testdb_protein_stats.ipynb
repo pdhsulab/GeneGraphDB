{
 "cells": [
  {
   "cell_type": "code",
   "execution_count": 4,
   "id": "ad6d5af6-22bf-405e-a4f7-6601a9b7665e",
   "metadata": {},
   "outputs": [],
   "source": [
    "import os\n",
    "import pandas as pd\n",
    "import matplotlib.pyplot as plt\n",
    "from Bio import SeqIO\n",
    "import csv\n",
    "import sqlite3"
   ]
  },
  {
   "cell_type": "code",
   "execution_count": 10,
   "id": "2cd038fa-9022-4659-90d0-bbceea1a73ef",
   "metadata": {},
   "outputs": [],
   "source": [
    "# create proteins_full_stats.csv"
   ]
  },
  {
   "cell_type": "code",
   "execution_count": 2,
   "id": "2fc0707e-03da-4c38-9cb1-c5d5822a0f4f",
   "metadata": {},
   "outputs": [],
   "source": [
    "path_coords = \"../clusters/INPUT/stringent/mmseqs2_testdb_input.faa\"\n",
    "\n",
    "outfile_stats = open(\"../clusters/proteins_full_stats.csv\", \"w\")\n",
    "print(\"pid,isgapfree,length,iscomplete,sequence\", file=outfile_stats)\n",
    "\n",
    "fasta_sequences = SeqIO.parse(open(path_coords),'fasta')\n",
    "for fasta in fasta_sequences:\n",
    "    name, sequence = fasta.id[:20], str(fasta.seq)\n",
    "    p_gapfree = sequence[:-1].count(\"*\") == 0\n",
    "    p_len = len(sequence)\n",
    "    p_complete = (sequence[0] == \"M\")&(sequence[-1] == \"*\")\n",
    "    print(name + \",\" + str(p_gapfree) + \",\" + str(p_len) + \",\" + str(p_complete) + \",\" + sequence, file=outfile_stats)"
   ]
  },
  {
   "cell_type": "code",
   "execution_count": 3,
   "id": "5b36ddbc-de39-40aa-b73c-0c5c9658b9e1",
   "metadata": {},
   "outputs": [],
   "source": [
    "#load into sql database"
   ]
  },
  {
   "cell_type": "code",
   "execution_count": 9,
   "id": "b088d358-2b47-4c28-8bcd-983e6a0210c3",
   "metadata": {},
   "outputs": [],
   "source": [
    "con = sqlite3.connect('80kprotein_stats.db')\n",
    "cur = con.cursor()\n",
    "cur.execute('''CREATE TABLE proteins (pid text, isgapfree integer, length real, iscomplete integer, sequence text, PRIMARY KEY(pid))''')\n",
    "protein_csv = open(path_coords)\n",
    "protein_csv = open(\"../clusters/proteins_full_stats.csv\")\n",
    "rows = csv.reader(protein_csv)\n",
    "next(rows)\n",
    "cmd = '''\n",
    "INSERT OR IGNORE INTO proteins (pid, isgapfree, length, iscomplete, sequence) VALUES (?,?,?,?,?)\n",
    "'''\n",
    "cur.executemany(cmd, rows)\n",
    "con.commit()\n",
    "con.close()"
   ]
  }
 ],
 "metadata": {
  "environment": {
   "kernel": "ggdb",
   "name": "common-cpu.m82",
   "type": "gcloud",
   "uri": "gcr.io/deeplearning-platform-release/base-cpu:m82"
  },
  "kernelspec": {
   "display_name": "ggdb",
   "language": "python",
   "name": "ggdb"
  },
  "language_info": {
   "codemirror_mode": {
    "name": "ipython",
    "version": 3
   },
   "file_extension": ".py",
   "mimetype": "text/x-python",
   "name": "python",
   "nbconvert_exporter": "python",
   "pygments_lexer": "ipython3",
   "version": "3.9.7"
  }
 },
 "nbformat": 4,
 "nbformat_minor": 5
}
