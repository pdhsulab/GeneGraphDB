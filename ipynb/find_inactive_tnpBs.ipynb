{
 "cells": [
  {
   "cell_type": "code",
   "execution_count": 1,
   "id": "63ab32de-d1c6-4991-8d06-38b28c0f7f81",
   "metadata": {},
   "outputs": [],
   "source": [
    "import os\n",
    "import pandas as pd\n",
    "import matplotlib.pyplot as plt\n",
    "from Bio import SeqIO\n",
    "from Bio import SearchIO\n",
    "import csv\n",
    "import sqlite3\n",
    "import time\n",
    "from multiprocessing import Pool, cpu_count\n",
    "import sys\n",
    "from calc_icity_ import *\n",
    "import ast\n",
    "from collections import defaultdict"
   ]
  },
  {
   "cell_type": "code",
   "execution_count": 68,
   "id": "65cad4a4-f240-4711-862d-ea044bd80355",
   "metadata": {},
   "outputs": [
    {
     "data": {
      "text/plain": [
       "78873"
      ]
     },
     "execution_count": 85,
     "metadata": {},
     "output_type": "execute_result"
    }
   ],
   "source": [
    "tnpBs_list = []\n",
    "infile_tnpBs = \"tnpBs_in_testdb.p100.txt\"\n",
    "with open(infile_tnpBs, \"r\") as infile:\n",
    "    lines = infile.readlines()\n",
    "    for line in lines:\n",
    "        p100 = line.split('\\n')[0]\n",
    "        tnpBs_list.append(p100)\n",
    "tnpBs_set = set(tnpBs_list)\n",
    "len(tnpBs_list)"
   ]
  },
  {
   "cell_type": "code",
   "execution_count": 86,
   "id": "888eb633-f74e-4f70-aee9-c2308d9ec09f",
   "metadata": {},
   "outputs": [],
   "source": [
    "tnpB_10_target_annot_df = pd.read_csv(\"tnpB_targetgenes_pfam.csv\").iloc[:,1:]"
   ]
  },
  {
   "cell_type": "code",
   "execution_count": 87,
   "id": "473af590-313e-4f7c-86ee-5bd2cd94dfc9",
   "metadata": {},
   "outputs": [
    {
     "data": {
      "text/plain": [
       "24707"
      ]
     },
     "execution_count": 87,
     "metadata": {},
     "output_type": "execute_result"
    }
   ],
   "source": [
    "high_icity_tnpBs_ls = []\n",
    "for baitp100s_str in tnpB_10_target_annot_df[\"baitp100s\"]:\n",
    "    baitp100s_ls = ast.literal_eval(baitp100s_str)\n",
    "    high_icity_tnpBs_ls += baitp100s_ls\n",
    "high_icity_tnpBs = list(set(high_icity_tnpBs_ls))\n",
    "high_icity_tnpBs_set = set(high_icity_tnpBs_ls)\n",
    "len(high_icity_tnpBs)"
   ]
  },
  {
   "cell_type": "markdown",
   "id": "b538d5ef-d291-47c7-8820-1f13a8955661",
   "metadata": {},
   "source": [
    "## get representative tnpBs (p60s) to align"
   ]
  },
  {
   "cell_type": "code",
   "execution_count": 88,
   "id": "b1c3c849-70c4-4d83-bb66-6f860e6fda30",
   "metadata": {},
   "outputs": [],
   "source": [
    "def get_prot_sequence(pid):\n",
    "    con=sqlite3.connect(\"80kprotein_stats.db\")\n",
    "    cur = con.cursor()\n",
    "    cmd = \"SELECT sequence FROM proteins WHERE pid = '%s'\" % pid \n",
    "    #print(cmd)\n",
    "    cur.execute(cmd)\n",
    "    return str(cur.fetchone()[0])\n",
    "    con.close()\n",
    "def get_faas_protidlist(protidlist, outfile_path):\n",
    "    with open(outfile_path, \"w\") as outfile:\n",
    "        for protid in protidlist:\n",
    "            protseq = get_prot_sequence(protid)\n",
    "            print(\">\" + protid, file=outfile)\n",
    "            print(protseq, file=outfile)\n",
    "#get_faas_protidlist(tnpBs_list, \"INPUT/tnpB_mmseqs_input.faa\")"
   ]
  },
  {
   "cell_type": "code",
   "execution_count": 89,
   "id": "5a768eb1-0bcb-40a1-bd82-d9a75ba89822",
   "metadata": {},
   "outputs": [],
   "source": [
    "tnpB_p60s_path = \"../tnpBs/cluster/OUTPUT/tmp/clu_cluster.tsv\"\n",
    "tnpB_p60_df = pd.read_csv(tnpB_p60s_path, sep = '\\t', header = None).rename(columns = {0:\"p60\",1:'p100'}).drop_duplicates()"
   ]
  },
  {
   "cell_type": "code",
   "execution_count": 110,
   "id": "6ee57842-a0ac-4914-8cac-0d0f18126df1",
   "metadata": {},
   "outputs": [],
   "source": [
    "tnpB_p60_df_samp500 = tnpB_p60_df.sample(500)\n",
    "tnpB_p60_list_samp500 = list(set(tnpB_p60_df_samp500['p60']))\n",
    "tnpB_p60_highicity_list = [p60 for p60 in tnpB_p60_list_samp500 if p60 in high_icity_tnpBs_set]"
   ]
  },
  {
   "cell_type": "code",
   "execution_count": 114,
   "id": "ac0e2a62-05e7-4fe7-9e8f-17268e3d1e59",
   "metadata": {},
   "outputs": [],
   "source": [
    "def get_faas_protidlist(protidlist):\n",
    "    for protid in protidlist:\n",
    "        outfile_path = \"../tnpBs/representatives/\" + protid + \".faa\"\n",
    "        with open(outfile_path, \"w\") as outfile:\n",
    "            protseq = get_prot_sequence(protid)\n",
    "            print(\">\" + protid, file=outfile)\n",
    "            print(protseq, file=outfile)\n",
    "#get_faas_protidlist(tnpB_p60_highicity_list)"
   ]
  },
  {
   "cell_type": "code",
   "execution_count": 122,
   "id": "37edcf43-0160-406c-9f74-8d11147a8620",
   "metadata": {},
   "outputs": [
    {
     "data": {
      "text/plain": [
       "(array([ 44., 121., 157., 250., 178., 179., 126.,  77.,  91.,  71.]),\n",
       " array([ 47. ,  91.9, 136.8, 181.7, 226.6, 271.5, 316.4, 361.3, 406.2,\n",
       "        451.1, 496. ]),\n",
       " <BarContainer object of 10 artists>)"
      ]
     },
     "execution_count": 122,
     "metadata": {},
     "output_type": "execute_result"
    },
    {
     "data": {
      "image/png": "[encoded data removed]",
      "text/plain": [
       "<Figure size 432x288 with 1 Axes>"
      ]
     },
     "metadata": {
      "needs_background": "light"
     },
     "output_type": "display_data"
    }
   ],
   "source": [
    "plt.hist(tnpB_10_target_annot_df[tnpB_10_target_annot_df['target_length'] < 500]['target_length'])"
   ]
  },
  {
   "cell_type": "code",
   "execution_count": null,
   "id": "1ba1da18-4cef-4f1d-9bb9-fd7725d8acff",
   "metadata": {},
   "outputs": [],
   "source": []
  }
 ],
 "metadata": {
  "environment": {
   "kernel": "ggdb",
   "name": "common-cpu.m82",
   "type": "gcloud",
   "uri": "gcr.io/deeplearning-platform-release/base-cpu:m82"
  },
  "kernelspec": {
   "display_name": "ggdb",
   "language": "python",
   "name": "ggdb"
  },
  "language_info": {
   "codemirror_mode": {
    "name": "ipython",
    "version": 3
   },
   "file_extension": ".py",
   "mimetype": "text/x-python",
   "name": "python",
   "nbconvert_exporter": "python",
   "pygments_lexer": "ipython3",
   "version": "3.9.7"
  }
 },
 "nbformat": 4,
 "nbformat_minor": 5
}
