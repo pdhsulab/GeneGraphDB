{
 "cells": [
  {
   "cell_type": "code",
   "execution_count": 440,
   "id": "63ab32de-d1c6-4991-8d06-38b28c0f7f81",
   "metadata": {},
   "outputs": [],
   "source": [
    "import os\n",
    "import numpy as np\n",
    "import pandas as pd\n",
    "import matplotlib.pyplot as plt\n",
    "from Bio import SeqIO\n",
    "from Bio import SearchIO\n",
    "import csv\n",
    "import sqlite3\n",
    "import time\n",
    "from multiprocessing import Pool, cpu_count\n",
    "import sys\n",
    "from calc_icity_ import *\n",
    "import ast\n",
    "from collections import defaultdict\n",
    "import subprocess\n",
    "import logomaker"
   ]
  },
  {
   "cell_type": "markdown",
   "id": "403966c6-ce16-4c83-ae47-d806e554ada9",
   "metadata": {
    "tags": []
   },
   "source": [
    "## helper functions\n",
    "def get_permissive_rep_(bait_pid):\n",
    "def get_p90s(p30_id):\n",
    "def get_p100s(p90_id):\n",
    "def get_prot_sequence(pid):"
   ]
  },
  {
   "cell_type": "code",
   "execution_count": 459,
   "id": "4562c508-74b5-485b-8be9-38bca232c231",
   "metadata": {},
   "outputs": [
    {
     "data": {
      "text/plain": [
       "'14bc66ab7912db1e07'"
      ]
     },
     "execution_count": 459,
     "metadata": {},
     "output_type": "execute_result"
    }
   ],
   "source": []
  },
  {
   "cell_type": "code",
   "execution_count": 207,
   "id": "f216a306-cddd-4462-b6bc-d07abcd92701",
   "metadata": {},
   "outputs": [],
   "source": [
    "#### helper functions\n",
    "def get_prot_sequence(pid):\n",
    "    con = sqlite3.connect(\"80kprotein_stats.db\")\n",
    "    cur = con.cursor()\n",
    "    cmd = \"SELECT sequence FROM proteins WHERE pid = '%s'\" % pid \n",
    "    #print(cmd)\n",
    "    cur.execute(cmd)\n",
    "    return str(cur.fetchone()[0])\n",
    "    con.close()\n",
    "def get_permissive_rep_(bait_pid):\n",
    "    conn = sqlite3.connect('genegraph.db')\n",
    "    cursor = conn.cursor()\n",
    "    perm_rep = None\n",
    "    cmd_p = \"SELECT p30 FROM clusters WHERE p100 = '%s'\" % (bait_pid)\n",
    "    try:\n",
    "        cursor.execute(cmd_p)\n",
    "        perm_rep = cursor.fetchone()[0]\n",
    "        conn.close()\n",
    "        return(perm_rep)\n",
    "    except:\n",
    "        return \"nan\"\n",
    "\n",
    "def get_p90s(p30_id):\n",
    "    conn = sqlite3.connect('genegraph.db')\n",
    "    cursor = conn.cursor()\n",
    "    cmd = \"SELECT p90 FROM clusters WHERE p30 = '%s'\" % (p30_id)\n",
    "    cursor.execute(cmd)\n",
    "    p90s = get_list_ids_fromcursor(cursor.fetchall())\n",
    "    conn.close()\n",
    "    return(list(set(p90s)))\n",
    "\n",
    "def get_p100s(p90_id):\n",
    "    conn = sqlite3.connect('genegraph.db')\n",
    "    cursor = conn.cursor()\n",
    "    cmd = \"SELECT p100 FROM clusters WHERE p90 = '%s'\" % (p90_id)\n",
    "    cursor.execute(cmd)\n",
    "    p100s = get_list_ids_fromcursor(cursor.fetchall())\n",
    "    conn.close()\n",
    "    return(list(set(p100s)))"
   ]
  },
  {
   "cell_type": "code",
   "execution_count": 281,
   "id": "e1d73b26-b541-41aa-95c6-371adf368e8d",
   "metadata": {},
   "outputs": [],
   "source": [
    "tnpbdir = \"../tnpBs/dtnpB_highicity_anyresmut\"\n",
    "inpath_dtnpB_targets = \"../ggdb_dfs/dTnpB_anymut_target_fetch.input.tsv\""
   ]
  },
  {
   "cell_type": "code",
   "execution_count": 283,
   "id": "3a29a97a-1835-4c24-912b-520bfba4b9c2",
   "metadata": {},
   "outputs": [
    {
     "data": {
      "text/plain": [
       "2046"
      ]
     },
     "execution_count": 283,
     "metadata": {},
     "output_type": "execute_result"
    }
   ],
   "source": [
    "dtnpB_hiicity_ids = []\n",
    "dtnpB_targets_df = pd.read_csv(inpath_dtnpB_targets, sep = '\\t')\n",
    "dtnpB_series_p100 = dtnpB_targets_df[\"baitp100s\"].apply(lambda x: ast.literal_eval(x))\n",
    "for dtnpB_id_list in dtnpB_series_p100:\n",
    "    dtnpB_hiicity_ids += dtnpB_id_list\n",
    "dtnpB_hiicity_ids = list(set(dtnpB_hiicity_ids))\n",
    "len(dtnpB_hiicity_ids)"
   ]
  },
  {
   "cell_type": "markdown",
   "id": "b538d5ef-d291-47c7-8820-1f13a8955661",
   "metadata": {},
   "source": [
    "## get high icity tnpBs (p60s) to align"
   ]
  },
  {
   "cell_type": "code",
   "execution_count": 288,
   "id": "d40ccdd5-2fdd-417f-b43e-c62cad5f353c",
   "metadata": {},
   "outputs": [],
   "source": [
    "mmseqs_dir = tnpbdir\n",
    "os.mkdir(mmseqs_dir)\n",
    "mmseqs_in = mmseqs_dir + \"/in_ids\""
   ]
  },
  {
   "cell_type": "code",
   "execution_count": null,
   "id": "c06df86d-a8ff-4b7d-982d-0cf8c02fab4f",
   "metadata": {},
   "outputs": [],
   "source": []
  },
  {
   "cell_type": "code",
   "execution_count": 291,
   "id": "56f167cc-09bc-4811-bac3-19013423ea14",
   "metadata": {},
   "outputs": [],
   "source": [
    "def cluster_(pid_inpath, mmseqs_dir, identity, pid_list = None):\n",
    "    if pid_list != None:\n",
    "        with open(pid_inpath, \"w\") as outfile:\n",
    "            for pid in pid_list:\n",
    "                print(pid, file=outfile)\n",
    "    cmd = \"python3 clustering_gen.py {} {} {}\".format(pid_inpath, mmseqs_dir, identity)\n",
    "    process = subprocess.Popen(cmd.split(' '))\n",
    "    process.wait()\n",
    "    output_tsv = mmseqs_dir + \"/OUTPUT/_cluster.tsv\"\n",
    "    cluster_rep_df = pd.read_csv(output_tsv, sep = '\\t').drop_duplicates()\n",
    "    return list(set(cluster_rep_df.iloc[:,0]))"
   ]
  },
  {
   "cell_type": "code",
   "execution_count": 293,
   "id": "074dc818-fb4f-4c54-9a7f-f2c80fe7c4e1",
   "metadata": {},
   "outputs": [
    {
     "data": {
      "text/plain": [
       "313"
      ]
     },
     "execution_count": 293,
     "metadata": {},
     "output_type": "execute_result"
    }
   ],
   "source": [
    "#dtnpB_hiicity_p60_ids = cluster_(mmseqs_in, mmseqs_dir, \"0.6\", dtnpB_hiicity_ids)\n",
    "len(dtnpB_hiicity_p60_ids)"
   ]
  },
  {
   "cell_type": "code",
   "execution_count": 295,
   "id": "6e431848-9f56-4216-b868-5a0b3d98d4b7",
   "metadata": {},
   "outputs": [],
   "source": [
    "def p100_p60_cluster_dict(mmseqs_dir):\n",
    "    cluster_dict = {}\n",
    "    output_tsv = mmseqs_dir + \"/OUTPUT/_cluster.tsv\"\n",
    "    cluster_rep_df = pd.read_csv(output_tsv, sep = '\\t', header = None).drop_duplicates()\n",
    "    for i in range(len(cluster_rep_df)):\n",
    "        p60id = cluster_rep_df.iloc[i,0]\n",
    "        p100id = cluster_rep_df.iloc[i,1]\n",
    "        cluster_dict[p100id] = p60id\n",
    "    return cluster_dict\n",
    "p100_p60_dict = p100_p60_cluster_dict(mmseqs_dir)\n",
    "\n",
    "def get_p60_rep(p100_list_str):\n",
    "    p60_list = []\n",
    "    p100_list = ast.literal_eval(p100_list_str)\n",
    "    for p100 in p100_list:\n",
    "        p60 = p100_p60_dict[p100]\n",
    "        p60_list.append(p60)\n",
    "    return str(p60_list)\n",
    "\n",
    "def get_p30_rep(p100_list_str):\n",
    "    p30_list = []\n",
    "    p100_list = ast.literal_eval(p100_list_str)\n",
    "    for p100 in p100_list:\n",
    "        p30 = get_permissive_rep_(p100)\n",
    "        p30_list.append(p30)\n",
    "    return str(p30_list)"
   ]
  },
  {
   "cell_type": "code",
   "execution_count": 296,
   "id": "caea400f-b7a5-442a-a856-597148df4b22",
   "metadata": {},
   "outputs": [],
   "source": [
    "dtnpB_targets_df[\"baitp60s\"] = dtnpB_targets_df[\"baitp100s\"].apply(lambda x: get_p60_rep(x))\n",
    "dtnpB_targets_df[\"baitp60s_uniq\"] = dtnpB_targets_df[\"baitp100s\"].apply(lambda x: str(list(set(ast.literal_eval(get_p60_rep(x))))))\n",
    "dtnpB_targets_df[\"baitp30s_uniq\"] = dtnpB_targets_df[\"baitp100s\"].apply(lambda x: str(list(set(ast.literal_eval(get_p30_rep(x))))))"
   ]
  },
  {
   "cell_type": "markdown",
   "id": "b73d752b-98f2-4a13-8ecb-62f27e36dce2",
   "metadata": {},
   "source": [
    "### run alignments and get catalytically inactive tnpBs"
   ]
  },
  {
   "cell_type": "code",
   "execution_count": 297,
   "id": "1a63dcfc-48f7-415e-9a68-d4ceeb4b8c5f",
   "metadata": {},
   "outputs": [],
   "source": [
    "infile_mafft = tnpbdir + \"/mafft_input.p60.faa\"\n",
    "outfile_mafft = tnpbdir + \"/mafft_output.p60.faa\"\n",
    "infile_mafft_all = tnpbdir + \"/mafft_input.p100.faa\"\n",
    "outfile_mafft_all = tnpbdir + \"/mafft_output.p100.faa\""
   ]
  },
  {
   "cell_type": "code",
   "execution_count": 298,
   "id": "b1c3c849-70c4-4d83-bb66-6f860e6fda30",
   "metadata": {},
   "outputs": [],
   "source": [
    "def get_prot_sequence(pid):\n",
    "    con=sqlite3.connect(\"80kprotein_stats.db\")\n",
    "    cur = con.cursor()\n",
    "    cmd = \"SELECT sequence FROM proteins WHERE pid = '%s'\" % pid \n",
    "    #print(cmd)\n",
    "    cur.execute(cmd)\n",
    "    return str(cur.fetchone()[0])\n",
    "    con.close()"
   ]
  },
  {
   "cell_type": "code",
   "execution_count": 299,
   "id": "d28cb5a4-3fb4-48c2-b9b2-8a71b794a8f0",
   "metadata": {},
   "outputs": [
    {
     "data": {
      "text/plain": [
       "True"
      ]
     },
     "execution_count": 299,
     "metadata": {},
     "output_type": "execute_result"
    }
   ],
   "source": [
    "'d396977bf919235181' in dtnpB_hiicity_p60_ids"
   ]
  },
  {
   "cell_type": "code",
   "execution_count": 302,
   "id": "8f4a35f5-c713-4099-9297-734624617ebc",
   "metadata": {},
   "outputs": [],
   "source": [
    "def get_multifaa_protidlist(protidlist, outpath):\n",
    "    with open(outpath, \"w\") as outfile:\n",
    "        for protid in protidlist:\n",
    "            protseq = get_prot_sequence(protid)\n",
    "            if len(protseq) > 300 and len(protseq) < 500:\n",
    "                print(\">\" + protid, file=outfile)\n",
    "                print(protseq, file=outfile)\n",
    "#get_multifaa_protidlist(dtnpB_hiicity_p60_ids + [\"0fea0aedf485f57c86\"], infile_mafft)\n",
    "#get_multifaa_protidlist(dtnpB_hiicity_ids + [\"0fea0aedf485f57c86\"], infile_mafft_all)"
   ]
  },
  {
   "cell_type": "code",
   "execution_count": 301,
   "id": "94b5f0ba-cb41-4974-9bf4-ad75d6e0db61",
   "metadata": {},
   "outputs": [
    {
     "name": "stdout",
     "output_type": "stream",
     "text": [
      "running mafft ginsi: ginsi --thread 32 ../tnpBs/dtnpB_highicity_anyresmut/mafft_input.p60.faa > ../tnpBs/dtnpB_highicity_anyresmut/mafft_ouput.p60.faa\n"
     ]
    },
    {
     "name": "stderr",
     "output_type": "stream",
     "text": [
      "sh: 1: ginsi: not found\n"
     ]
    },
    {
     "data": {
      "text/plain": [
       "32512"
      ]
     },
     "execution_count": 301,
     "metadata": {},
     "output_type": "execute_result"
    }
   ],
   "source": [
    "cmd_mafft = \"ginsi --thread 32 \" + infile_mafft + \" > \" + outfile_mafft\n",
    "print(\"running mafft ginsi: \" + cmd_mafft)\n",
    "os.system(cmd_mafft)"
   ]
  },
  {
   "cell_type": "code",
   "execution_count": null,
   "id": "3271bb1e-24eb-4eba-b708-60baeb09d6f6",
   "metadata": {},
   "outputs": [],
   "source": [
    "cmd_mafft = \"ginsi --thread 32 \" + infile_mafft_all + \" > \" + outfile_mafft_all\n",
    "print(\"running mafft ginsi: \" + cmd_mafft)\n",
    "os.system(cmd_mafft)\n",
    "asdf"
   ]
  },
  {
   "cell_type": "code",
   "execution_count": 303,
   "id": "c4701f46-63bf-414a-b955-979ae80d9e7f",
   "metadata": {},
   "outputs": [
    {
     "data": {
      "text/plain": [
       "('D', 'E', 'D')"
      ]
     },
     "execution_count": 303,
     "metadata": {},
     "output_type": "execute_result"
    }
   ],
   "source": [
    "ref_tnpB_pid = '0fea0aedf485f57c86'\n",
    "ref_seq = get_prot_sequence(ref_tnpB_pid)\n",
    "ref_seq[187], ref_seq[271], ref_seq[354]"
   ]
  },
  {
   "cell_type": "code",
   "execution_count": 306,
   "id": "1edd1769-e68c-4c69-9402-cdb3d3b32e9e",
   "metadata": {},
   "outputs": [],
   "source": [
    "def get_alignindices_dict(ref_tnpB_pid, msa_file):\n",
    "    # get seq1, which is the amino acid fasta format for ref_tnpB_pid\n",
    "    seq1 = get_prot_sequence(ref_tnpB_pid)\n",
    "    # get seq2, which is the amino acid fasta format with gaps, post-alignment\n",
    "    with open(msa_file) as handle:\n",
    "        for rec in SeqIO.parse(handle, 'fasta'):\n",
    "            pid = rec.id\n",
    "            if pid == ref_tnpB_pid:\n",
    "                seq2 = str(rec.seq)\n",
    "                break\n",
    "    # map the indices of amino acids between the two sequence formats\n",
    "    index_to_alignindex = {}\n",
    "    align_indexes = []\n",
    "    for i in range(len(seq2)):\n",
    "        char = seq2[i]\n",
    "        if char != '-':\n",
    "            align_indexes.append(i)\n",
    "    for j in range(len(align_indexes)):\n",
    "        index_to_alignindex[j] = align_indexes[j]\n",
    "    return index_to_alignindex\n",
    "\n",
    "align_indices_dict = get_alignindices_dict(ref_tnpB_pid, outfile_mafft)\n",
    "align_indices_big_dict = get_alignindices_dict(ref_tnpB_pid, outfile_mafft_all)"
   ]
  },
  {
   "cell_type": "code",
   "execution_count": 452,
   "id": "1ba54022-fd14-4e6f-8199-a35ffcad55b0",
   "metadata": {},
   "outputs": [
    {
     "data": {
      "text/plain": [
       "Text(0, 0.5, 'frequency')"
      ]
     },
     "execution_count": 452,
     "metadata": {},
     "output_type": "execute_result"
    },
    {
     "data": {
      "image/png": "[encoded data removed]",
      "text/plain": [
       "<Figure size 432x288 with 1 Axes>"
      ]
     },
     "metadata": {
      "needs_background": "light"
     },
     "output_type": "display_data"
    }
   ],
   "source": [
    "plt.bar([0, 1, 2, 3], [list(p60id_numresmut.values()).count(i) for i in [0, 1, 2, 3]])\n",
    "plt.xlabel(\"number of mutations at catalytic site\")\n",
    "plt.ylabel(\"frequency\")"
   ]
  },
  {
   "cell_type": "code",
   "execution_count": 362,
   "id": "804a53e3-f9dd-4e38-ab3e-93f8cd983ae6",
   "metadata": {},
   "outputs": [],
   "source": [
    "p60id_allresmut = {}\n",
    "p60id_numresmut = {}\n",
    "seq_logo_list_p60 = []\n",
    "seq_logo_list_p100 = []\n",
    "\n",
    "with open(outfile_mafft) as handle:\n",
    "    for rec in SeqIO.parse(handle, 'fasta'):\n",
    "        d1, e2, d3 = 0,0,0\n",
    "        p60_id = rec.id\n",
    "        #if p60_id == ref_tnpB_pid:\n",
    "        p60_seq = rec.seq\n",
    "        residues = [p60_seq[align_indices_dict[187]], p60_seq[align_indices_dict[271]], p60_seq[align_indices_dict[354]]]\n",
    "        if residues[0] == \"D\":\n",
    "            d1 += 1\n",
    "        if residues[1] == \"E\":\n",
    "            e2 += 1\n",
    "        if residues[2] == \"D\":\n",
    "            d3 += 1\n",
    "        seq_logo_list_p60 += [residues]\n",
    "        p60id_allresmut[p60_id] = sum([d1, e2, d3]) == 0\n",
    "        p60id_numresmut[p60_id] = 3 - sum([d1, e2, d3])\n",
    "        \n",
    "p100id_allresmut = {}\n",
    "p100id_numresmut = {}\n",
    "with open(outfile_mafft_all) as handle:\n",
    "    for rec in SeqIO.parse(handle, 'fasta'):\n",
    "        d1, e2, d3 = 0,0,0\n",
    "        p100_id = rec.id\n",
    "        #if p60_id == ref_tnpB_pid:\n",
    "        p100_seq = rec.seq\n",
    "        residues = [p100_seq[align_indices_big_dict[187]], p100_seq[align_indices_big_dict[271]], p100_seq[align_indices_big_dict[354]]]\n",
    "        if residues[0] == \"D\":\n",
    "            d1 += 1\n",
    "        if residues[1] == \"E\":\n",
    "            e2 += 1\n",
    "        if residues[2] == \"D\":\n",
    "            d3 += 1\n",
    "        seq_logo_list_p100 += [residues]\n",
    "        p100id_allresmut[p100_id] = sum([d1, e2, d3]) == 0\n",
    "        p100id_numresmut[p100_id] = 3 - sum([d1, e2, d3])"
   ]
  },
  {
   "cell_type": "code",
   "execution_count": 455,
   "id": "82dd4fb0-58aa-4b43-854e-6275a686917a",
   "metadata": {},
   "outputs": [
    {
     "data": {
      "text/plain": [
       "(D    0.864078\n",
       " S    0.043689\n",
       " A    0.024272\n",
       " P    0.019417\n",
       " G    0.009709\n",
       " I    0.009709\n",
       " T    0.009709\n",
       " -    0.004854\n",
       " E    0.004854\n",
       " K    0.004854\n",
       " L    0.004854\n",
       " Name: 0, dtype: float64,\n",
       " E    0.524272\n",
       " G    0.325243\n",
       " A    0.043689\n",
       " S    0.019417\n",
       " V    0.019417\n",
       " -    0.014563\n",
       " P    0.014563\n",
       " Q    0.014563\n",
       " I    0.009709\n",
       " K    0.004854\n",
       " L    0.004854\n",
       " T    0.004854\n",
       " Name: 0, dtype: float64,\n",
       " D    0.781553\n",
       " -    0.116505\n",
       " G    0.029126\n",
       " Q    0.029126\n",
       " H    0.014563\n",
       " L    0.009709\n",
       " A    0.004854\n",
       " E    0.004854\n",
       " N    0.004854\n",
       " T    0.004854\n",
       " Name: 0, dtype: float64)"
      ]
     },
     "execution_count": 455,
     "metadata": {},
     "output_type": "execute_result"
    }
   ],
   "source": [
    "p100_seqlogo_raw_df = pd.DataFrame(seq_logo_list_p60)\n",
    "p100_resid_1_freq_df = pd.DataFrame(pd.get_dummies(p100_seqlogo_raw_df.iloc[:, 0]).mean())\n",
    "p100_resid_2_freq_df = pd.DataFrame(pd.get_dummies(p100_seqlogo_raw_df.iloc[:, 1]).mean())#.rename(columns={'0':'1'})\n",
    "p100_resid_3_freq_df = pd.DataFrame(pd.get_dummies(p100_seqlogo_raw_df.iloc[:, 2]).mean())#.rename(columns={'0':'1'})\n",
    "p100_seqlogo_freq_df = pd.concat([p100_resid_1_freq_df, p100_resid_2_freq_df, p100_resid_3_freq_df], axis = 1).fillna(0)\n",
    "p100_seqlogo_freq_df.columns = [1, 2, 3]\n",
    "p100_seqlogo_freq_df = p100_seqlogo_freq_df.transpose()\n",
    "p100_resid_1_freq_df.iloc[:,0].sort_values(ascending=False), \\\n",
    "p100_resid_2_freq_df.iloc[:,0].sort_values(ascending=False), \\\n",
    "p100_resid_3_freq_df.iloc[:,0].sort_values(ascending=False)"
   ]
  },
  {
   "cell_type": "code",
   "execution_count": 456,
   "id": "0c3e4e42-fda2-4afa-a770-a1dcd3cb41fd",
   "metadata": {},
   "outputs": [
    {
     "data": {
      "text/plain": [
       "<logomaker.src.Logo.Logo at 0x7fa683306c40>"
      ]
     },
     "execution_count": 456,
     "metadata": {},
     "output_type": "execute_result"
    },
    {
     "data": {
      "image/png": "[encoded data removed]",
      "text/plain": [
       "<Figure size 720x180 with 1 Axes>"
      ]
     },
     "metadata": {
      "needs_background": "light"
     },
     "output_type": "display_data"
    }
   ],
   "source": [
    "crp_logo = logomaker.Logo(p100_seqlogo_freq_df)\n",
    "crp_logo"
   ]
  },
  {
   "cell_type": "code",
   "execution_count": 308,
   "id": "94cd5099-24ec-46b5-9c27-81ecd118c0d6",
   "metadata": {},
   "outputs": [
    {
     "data": {
      "text/plain": [
       "(206, 1415)"
      ]
     },
     "execution_count": 308,
     "metadata": {},
     "output_type": "execute_result"
    }
   ],
   "source": [
    "len(p60id_numresmut), len(p100id_allresmut)"
   ]
  },
  {
   "cell_type": "code",
   "execution_count": 309,
   "id": "4d0c0c02-cf21-430d-9ffe-2b948d1f152d",
   "metadata": {},
   "outputs": [],
   "source": [
    "def all_res_mut(p60id_liststr, p60id_allresmut_dict):\n",
    "    rv = []\n",
    "    p60id_list = ast.literal_eval(p60id_liststr)\n",
    "    for p60id in p60id_list:\n",
    "        try:\n",
    "            all_res_mut = p60id_allresmut_dict[p60id]\n",
    "            rv.append(all_res_mut)\n",
    "        except:\n",
    "            #p60 got removed during alignment, most likely falls outside the 300-500 aa size range\n",
    "            rv.append(np.nan)\n",
    "    return rv\n",
    "def numresmut(p60id_liststr, p60id_numresmut_dict):\n",
    "    rv = []\n",
    "    p60id_list = ast.literal_eval(p60id_liststr)\n",
    "    for p60id in p60id_list:\n",
    "        try:\n",
    "            all_res_mut = p60id_numresmut_dict[p60id]\n",
    "            rv.append(all_res_mut)\n",
    "        except:\n",
    "            #p60 got removed during alignment, most likely falls outside the 300-500 aa size range\n",
    "            rv.append(np.nan)\n",
    "    return rv\n",
    "def len_proteins(pid_liststr):\n",
    "    rv = []\n",
    "    pid_list = ast.literal_eval(pid_liststr)\n",
    "    for pid in pid_list:\n",
    "        try:\n",
    "            len_protein = len(get_prot_sequence(pid))\n",
    "            rv.append(len_protein)\n",
    "        except:\n",
    "            #p60 got removed during alignment, most likely falls outside the 300-500 aa size range\n",
    "            rv.append(np.nan)\n",
    "    return rv"
   ]
  },
  {
   "cell_type": "code",
   "execution_count": 310,
   "id": "3a6a0b47-b7fa-466e-bf0f-cf4c5b7fb5b2",
   "metadata": {},
   "outputs": [],
   "source": [
    "dtnpB_targets_df[\"p60_all_res_mut\"] = dtnpB_targets_df[\"baitp60s_uniq\"].apply(lambda x: all_res_mut(x, p60id_allresmut))\n",
    "dtnpB_targets_df[\"p60_num_res_mut\"] = dtnpB_targets_df[\"baitp60s_uniq\"].apply(lambda x: all_res_mut(x, p60id_numresmut))\n",
    "dtnpB_targets_df[\"p100_num_res_mut\"] = dtnpB_targets_df[\"baitp100s\"].apply(lambda x: all_res_mut(x, p100id_numresmut))\n",
    "dtnpB_targets_df[\"p60_len\"] = dtnpB_targets_df[\"baitp60s_uniq\"].apply(lambda x: len_proteins(x))"
   ]
  },
  {
   "cell_type": "code",
   "execution_count": 331,
   "id": "75f73d4a-dbb8-4589-9548-655264b9a8e3",
   "metadata": {},
   "outputs": [],
   "source": [
    "dtnpB_targets_df_lenfiltered = dtnpB_targets_df[dtnpB_targets_df[\"p100_num_res_mut\"].apply(lambda x: x.count(np.nan)/len(x) < .2)]\n",
    "dtnpB_targets_df_filtered = dtnpB_targets_df_lenfiltered[dtnpB_targets_df_lenfiltered[\"p60_num_res_mut\"].apply(lambda x: x.count(0) / len(x) < .2)]"
   ]
  },
  {
   "cell_type": "code",
   "execution_count": 337,
   "id": "8de5e8f4-da9e-4dae-bccb-bada66368206",
   "metadata": {},
   "outputs": [],
   "source": [
    "dtnpB_targets_df.to_csv(\"../ggdb_dfs/dTnpB_anymut_target_analysis.tsv\", sep = '\\t', index = False)"
   ]
  },
  {
   "cell_type": "code",
   "execution_count": 338,
   "id": "d43f9b18-f3e9-4585-be9d-9b3d72e3a1ec",
   "metadata": {},
   "outputs": [],
   "source": [
    "dtnpB_targets_df_filtered.to_csv(\"../ggdb_dfs/dTnpB_anymut_target_analysis.filtered.tsv\", sep = '\\t', index = False)"
   ]
  },
  {
   "cell_type": "code",
   "execution_count": 334,
   "id": "b379a9ea-d5ab-488c-a09f-46ee8ac935c6",
   "metadata": {},
   "outputs": [
    {
     "data": {
      "text/plain": [
       "(91, 52, 28)"
      ]
     },
     "execution_count": 334,
     "metadata": {},
     "output_type": "execute_result"
    }
   ],
   "source": [
    "len(dtnpB_targets_df), len(dtnpB_targets_df_lenfiltered), len(dtnpB_targets_df_filtered)"
   ]
  },
  {
   "cell_type": "code",
   "execution_count": null,
   "id": "47de2ceb-8068-4cd8-8ca9-21d51d39598d",
   "metadata": {},
   "outputs": [],
   "source": []
  },
  {
   "cell_type": "code",
   "execution_count": 163,
   "id": "be800e80-3773-4e46-b537-2c3f94b7b336",
   "metadata": {},
   "outputs": [
    {
     "data": {
      "text/plain": [
       "['c1050b21cc75640d51',\n",
       " ' 04bbfb58c48a0e8a29',\n",
       " ' 260273e052f76dffd2',\n",
       " ' c7de21b826534e1702',\n",
       " ' aa6af7e9289c3558d3',\n",
       " ' c7a1b8f01c5b7c48a2',\n",
       " ' 0a3217e07a25d0cbe0',\n",
       " '  214319fd8cc31efee9',\n",
       " ' 7c8d22120719f2db6d',\n",
       " ' a0d79afeb20bd32508',\n",
       " ' d90f25484d732aa877']"
      ]
     },
     "execution_count": 163,
     "metadata": {},
     "output_type": "execute_result"
    }
   ],
   "source": [
    "\"c1050b21cc75640d51, 04bbfb58c48a0e8a29, 260273e052f76dffd2, c7de21b826534e1702, aa6af7e9289c3558d3, c7a1b8f01c5b7c48a2, 0a3217e07a25d0cbe0,  214319fd8cc31efee9, 7c8d22120719f2db6d, a0d79afeb20bd32508, d90f25484d732aa877\".split(\",\")"
   ]
  },
  {
   "cell_type": "code",
   "execution_count": 214,
   "id": "24cc8bba-4a45-4dd3-9461-2d9b6ccb171f",
   "metadata": {},
   "outputs": [],
   "source": [
    "# target genes near baits missing all 3 cat residues and within protein length range\n",
    "target_p30_deadbaits = ['9038f7993863bcadca', '6bf6c4c7da68779d7a', 'd862301d73972ea41c', '2a89c5bbdcfcb0cd2a', \n",
    "                        '23422406293d40c201', 'c1050b21cc75640d51', '04bbfb58c48a0e8a29', '260273e052f76dffd2',\n",
    "                        'c7de21b826534e1702', 'aa6af7e9289c3558d3', 'c7a1b8f01c5b7c48a2', '0a3217e07a25d0cbe0',\n",
    "                        '214319fd8cc31efee9', '7c8d22120719f2db6d', 'a0d79afeb20bd32508', 'd90f25484d732aa877']"
   ]
  },
  {
   "cell_type": "code",
   "execution_count": 278,
   "id": "10597755-68a0-49bf-b4b5-af6d55ca8227",
   "metadata": {},
   "outputs": [
    {
     "data": {
      "text/plain": [
       "26"
      ]
     },
     "execution_count": 279,
     "metadata": {},
     "output_type": "execute_result"
    }
   ],
   "source": [
    "list(dtnpB_targets_df_lenfiltered['target_p30id'])"
   ]
  },
  {
   "cell_type": "code",
   "execution_count": null,
   "id": "6872dbf6-edff-495f-8b56-e2212d87e98e",
   "metadata": {},
   "outputs": [],
   "source": []
  },
  {
   "cell_type": "code",
   "execution_count": 116,
   "id": "28d7b801-6bb1-4d19-aa45-f99414d06ac0",
   "metadata": {},
   "outputs": [
    {
     "data": {
      "text/plain": [
       "(10, 4, 11)"
      ]
     },
     "execution_count": 116,
     "metadata": {},
     "output_type": "execute_result"
    }
   ],
   "source": [
    "d1, e2, d3 = 0,0,0\n",
    "with open(outfile_mafft) as handle:\n",
    "    for rec in SeqIO.parse(handle, 'fasta'):\n",
    "        p60_id = rec.id\n",
    "        #if p60_id == ref_tnpB_pid:\n",
    "        p60_seq = rec.seq\n",
    "        residues = (p60_seq[align_indices_dict[187]], p60_seq[align_indices_dict[271]], p60_seq[align_indices_dict[354]])\n",
    "        if residues[0] == \"D\":\n",
    "            d1 += 1\n",
    "        if residues[1] == \"E\":\n",
    "            e2 += 1\n",
    "        if residues[2] == \"D\":\n",
    "            d3 += 1\n",
    "d1, e2, d3"
   ]
  },
  {
   "cell_type": "code",
   "execution_count": 115,
   "id": "9a64b056-3d91-47bf-8199-1e4f26e91278",
   "metadata": {},
   "outputs": [
    {
     "data": {
      "text/plain": [
       "(9, 5, 8)"
      ]
     },
     "execution_count": 115,
     "metadata": {},
     "output_type": "execute_result"
    }
   ],
   "source": [
    "d1, e2, d3 = 0,0,0\n",
    "with open(outfile_mafft_all) as handle:\n",
    "    for rec in SeqIO.parse(handle, 'fasta'):\n",
    "        p100_id = rec.id\n",
    "        if p100_id in set(dtnpB_hiicity_p60_ids):\n",
    "            p60_seq = rec.seq\n",
    "            residues = (p60_seq[align_indices_big_dict[187]], p60_seq[align_indices_big_dict[271]], p60_seq[align_indices_big_dict[354]])\n",
    "            if residues[0] == \"D\":\n",
    "                d1 += 1\n",
    "            if residues[1] == \"E\":\n",
    "                e2 += 1\n",
    "            if residues[2] == \"D\":\n",
    "                d3 += 1\n",
    "d1, e2, d3"
   ]
  },
  {
   "cell_type": "markdown",
   "id": "b393e562-d973-48b3-8ed9-d4eec40ce907",
   "metadata": {},
   "source": [
    "## Connect hits back to phylogenetic tree"
   ]
  },
  {
   "cell_type": "code",
   "execution_count": 176,
   "id": "f04cfff8-e85b-404e-b141-718ab9d42a31",
   "metadata": {},
   "outputs": [],
   "source": [
    "tree_p60_dtnpBs = ['1e8004b9ed6334203a',  'ce6458e7937be732d1', '3fff8120bed11c0a3d',  'db3ad769e574f02606',\n",
    "'fba0795fae4cf2b899',  '16bcdfc9dbe27375ce',  'b2d60aa00edc0ff328',  '8c1c38079e7d3951bd',\n",
    "'6f148253df15481f8b',\n",
    "'db837fd13b790cdecc', '127d6d664652909143', '8be4199a7b3eb07fd5',  '4dd8d5ee06e88251ba',  '51b95557c560b36205',\n",
    "'aad6dc7b6c362a1dc6', 'a53ecf027356cce68d',  'ccb1767618eda947d9'\n",
    "'9f7ed5e63d7924cb4f']\n",
    "\n"
   ]
  },
  {
   "cell_type": "code",
   "execution_count": 179,
   "id": "befe5297-5caf-426d-9305-9fd4144377e3",
   "metadata": {},
   "outputs": [
    {
     "data": {
      "text/plain": [
       "['d0ff02f989caa4bfe6',\n",
       " '888509f038f9be7bf9',\n",
       " '888509f038f9be7bf9',\n",
       " '888509f038f9be7bf9',\n",
       " '38791f2467dc1b2388',\n",
       " '018da5f0a53659b734',\n",
       " '38791f2467dc1b2388',\n",
       " '38791f2467dc1b2388',\n",
       " '90f0ed1fef9b9987db',\n",
       " '894a0679fdb57b0802',\n",
       " '894a0679fdb57b0802',\n",
       " '894a0679fdb57b0802',\n",
       " 'e1c939cb19e77c88ee',\n",
       " '33e6d85b815cbe55e5',\n",
       " '993ea08c331aa195bb',\n",
       " '4ca2541634b8270ca0',\n",
       " 'nan']"
      ]
     },
     "execution_count": 179,
     "metadata": {},
     "output_type": "execute_result"
    }
   ],
   "source": [
    "[get_permissive_rep_(tnpBid) for tnpBid in tree_p60_dtnpBs]"
   ]
  },
  {
   "cell_type": "code",
   "execution_count": 202,
   "id": "e49fb871-519b-41fa-94aa-f09a8b6b159d",
   "metadata": {},
   "outputs": [],
   "source": [
    "bait_p30s_set = set()\n",
    "for i in range(len(dtnpB_targets_df[\"baitp30s_uniq\"])):\n",
    "    bait_p30s_set.update(ast.literal_eval(dtnpB_targets_df[\"baitp30s_uniq\"][i]))"
   ]
  },
  {
   "cell_type": "code",
   "execution_count": 203,
   "id": "2b31e946-f366-455d-bde6-ed37e39f1c98",
   "metadata": {},
   "outputs": [
    {
     "data": {
      "text/plain": [
       "{'018da5f0a53659b734',\n",
       " '33e6d85b815cbe55e5',\n",
       " '38791f2467dc1b2388',\n",
       " '4ca2541634b8270ca0',\n",
       " '888509f038f9be7bf9',\n",
       " '894a0679fdb57b0802',\n",
       " '90f0ed1fef9b9987db',\n",
       " '993ea08c331aa195bb',\n",
       " 'd0ff02f989caa4bfe6',\n",
       " 'e1c939cb19e77c88ee'}"
      ]
     },
     "execution_count": 203,
     "metadata": {},
     "output_type": "execute_result"
    }
   ],
   "source": [
    "set(['d0ff02f989caa4bfe6',\n",
    " '888509f038f9be7bf9',\n",
    " '888509f038f9be7bf9',\n",
    " '888509f038f9be7bf9',\n",
    " '38791f2467dc1b2388',\n",
    " '018da5f0a53659b734',\n",
    " '38791f2467dc1b2388',\n",
    " '38791f2467dc1b2388',\n",
    " '90f0ed1fef9b9987db',\n",
    " '894a0679fdb57b0802',\n",
    " '894a0679fdb57b0802',\n",
    " '894a0679fdb57b0802',\n",
    " 'e1c939cb19e77c88ee',\n",
    " '33e6d85b815cbe55e5',\n",
    " '993ea08c331aa195bb',\n",
    " '4ca2541634b8270ca0',\n",
    " 'nan']).intersection(bait_p30s_set)"
   ]
  },
  {
   "cell_type": "code",
   "execution_count": null,
   "id": "5526f54b-0991-4c8f-89f3-11375438c20a",
   "metadata": {},
   "outputs": [],
   "source": []
  }
 ],
 "metadata": {
  "environment": {
   "kernel": "ggdb",
   "name": "common-cpu.m82",
   "type": "gcloud",
   "uri": "gcr.io/deeplearning-platform-release/base-cpu:m82"
  },
  "kernelspec": {
   "display_name": "ggdb",
   "language": "python",
   "name": "ggdb"
  },
  "language_info": {
   "codemirror_mode": {
    "name": "ipython",
    "version": 3
   },
   "file_extension": ".py",
   "mimetype": "text/x-python",
   "name": "python",
   "nbconvert_exporter": "python",
   "pygments_lexer": "ipython3",
   "version": "3.9.7"
  }
 },
 "nbformat": 4,
 "nbformat_minor": 5
}
