{
 "cells": [
  {
   "cell_type": "code",
   "execution_count": 1,
   "id": "7774d6e9-ebcc-49d1-9fc6-c98374166269",
   "metadata": {},
   "outputs": [],
   "source": [
    "from Bio import SeqIO\n",
    "from Bio.Seq import Seq\n",
    "import os"
   ]
  },
  {
   "cell_type": "code",
   "execution_count": 2,
   "id": "cb7a7e4e-efb1-4bef-8b23-772c55300f7c",
   "metadata": {},
   "outputs": [
    {
     "data": {
      "text/plain": [
       "['INPUT/gff/d2246f26c16fb9eec9.examples.gff',\n",
       " 'INPUT/gff/d2248a31d0e133ef11.examples.gff',\n",
       " 'INPUT/gff/6c3b2ade31d3833745.examples.gff',\n",
       " 'INPUT/gff/23422406293d40c201.examples.gff',\n",
       " 'INPUT/gff/4a23bcab7c50591a6a.examples.gff',\n",
       " 'INPUT/gff/27177e034d397f4d56.examples.gff',\n",
       " 'INPUT/gff/ba436543bec6c30920.examples.gff',\n",
       " 'INPUT/gff/7205dff302ff900300.examples.gff',\n",
       " 'INPUT/gff/e8a14f064cce46f350.examples.gff',\n",
       " 'INPUT/gff/596adb7fa02d385b18.examples.gff',\n",
       " 'INPUT/gff/4e45823b6b83464d6e.examples.gff',\n",
       " 'INPUT/gff/6bf6c4c7da68779d7a.examples.gff',\n",
       " 'INPUT/gff/0093c124a5b6ee038d.examples.gff',\n",
       " 'INPUT/gff/c15257c28ad9a20cdd.examples.gff',\n",
       " 'INPUT/gff/9a8a6e441d6dea8617.examples.gff',\n",
       " 'INPUT/gff/c1050b21cc75640d51.examples.gff',\n",
       " 'INPUT/gff/aa6af7e9289c3558d3.examples.gff']"
      ]
     },
     "execution_count": 2,
     "metadata": {},
     "output_type": "execute_result"
    }
   ],
   "source": [
    "infile_paths = ['INPUT/gff/' + file for file in os.listdir('INPUT/gff') if file != '.ipynb_checkpoints']\n",
    "infile_paths"
   ]
  },
  {
   "cell_type": "code",
   "execution_count": 7,
   "id": "c15fe924-28d5-4f43-83d8-c34e845dc4b0",
   "metadata": {},
   "outputs": [],
   "source": [
    "# integrate later\n",
    "def single_gff_to_fna(infile_path):\n",
    "    multifasta_path = infile_path.replace(\"gff\", \"fna\")\n",
    "    start_reading = False\n",
    "    outfile_gff_path = infile_path.replace(\"INPUT/gff\", \"OUTPUT\")\n",
    "    with open(infile_path, 'r') as infile, open(outfile_gff_path, 'w') as outfile_gff, open(multifasta_path, \"w\") as outfile:\n",
    "        for line in infile:\n",
    "            line = line.strip('\\n')\n",
    "            if line.startswith(\">\"):\n",
    "                start_reading = True\n",
    "            if not start_reading:\n",
    "                print(line, file=outfile_gff)\n",
    "            if start_reading:\n",
    "                print(line, file=outfile)"
   ]
  },
  {
   "cell_type": "code",
   "execution_count": 67,
   "id": "7af1813d-b788-4fce-a758-b752692f6f33",
   "metadata": {},
   "outputs": [],
   "source": [
    "def single_gff_to_faa(infile_path):\n",
    "    faa_path = infile_path.replace(\"gff\", \"faa\")\n",
    "    fna_path = infile_path.replace(\"gff\", \"fna\")\n",
    "    contigs = fasta_id_dict(fna_path)\n",
    "    #outfile_gff_path = infile_path.replace(\"INPUT/gff\", \"OUTPUT\")\n",
    "    with open(infile_path, 'r') as infile, open(faa_path, \"w\") as outfile:\n",
    "        for line in infile:\n",
    "            line = line.strip('\\n').split('\\t')\n",
    "            if 'PRODIGAL' in line:\n",
    "                header_old = line[0]\n",
    "                header = ';'.join([line[0], line[3], line[4], line[6]])\n",
    "                strand = line[6]\n",
    "                try:\n",
    "                    dna_seq = contigs[header_old]\n",
    "                except:\n",
    "                    pass #some proteins in contigs are annotated without reference sequence\n",
    "                aa_seq = extract_faa_seq(header, dna_seq)\n",
    "                print('>' + header, file=outfile)\n",
    "                print(aa_seq, file=outfile)\n",
    "                "
   ]
  },
  {
   "cell_type": "code",
   "execution_count": 68,
   "id": "31658bfc-8b0c-4e2a-8ab1-16a070d4ad77",
   "metadata": {},
   "outputs": [],
   "source": [
    "def extract_faa_seq(header, seq):\n",
    "    header_list = header.split(';')\n",
    "    start = int(header_list[-3]) - 1\n",
    "    end = int(header_list[-2])\n",
    "    strand = header_list[-1]\n",
    "    if strand == '+':\n",
    "        dna = Seq(seq[start:end])\n",
    "        protein = dna.translate()\n",
    "        return protein\n",
    "    elif strand == '-':\n",
    "        dna = Seq(seq[start:end]).reverse_complement()\n",
    "        protein = dna.translate()\n",
    "        return protein\n",
    "    \n",
    "def fasta_id_dict(fna_path):\n",
    "    contigs = {}\n",
    "    with open(fna_path) as handle:\n",
    "        for rec in SeqIO.parse(handle, 'fasta'):\n",
    "            header = rec.id\n",
    "            sequence = rec.seq\n",
    "            contigs[header] = sequence\n",
    "    return contigs\n",
    "        \n",
    "    "
   ]
  },
  {
   "cell_type": "code",
   "execution_count": null,
   "id": "1c03219f-c61f-47e4-a9df-aa935b5e9f29",
   "metadata": {},
   "outputs": [],
   "source": []
  }
 ],
 "metadata": {
  "environment": {
   "kernel": "ggdb",
   "name": "common-cpu.m82",
   "type": "gcloud",
   "uri": "gcr.io/deeplearning-platform-release/base-cpu:m82"
  },
  "kernelspec": {
   "display_name": "ggdb",
   "language": "python",
   "name": "ggdb"
  },
  "language_info": {
   "codemirror_mode": {
    "name": "ipython",
    "version": 3
   },
   "file_extension": ".py",
   "mimetype": "text/x-python",
   "name": "python",
   "nbconvert_exporter": "python",
   "pygments_lexer": "ipython3",
   "version": "3.9.7"
  }
 },
 "nbformat": 4,
 "nbformat_minor": 5
}
