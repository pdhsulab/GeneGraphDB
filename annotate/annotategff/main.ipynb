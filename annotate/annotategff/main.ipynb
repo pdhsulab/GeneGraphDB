{
 "cells": [
  {
   "cell_type": "code",
   "execution_count": 4,
   "id": "f74e509d-49f3-4c1a-ac49-42074161886a",
   "metadata": {},
   "outputs": [
    {
     "name": "stderr",
     "output_type": "stream",
     "text": [
      "[NbConvertApp] WARNING | Config option `kernel_spec_manager_class` not recognized by `NbConvertApp`.\n",
      "[NbConvertApp] Converting notebook main.ipynb to python\n",
      "[NbConvertApp] Writing 2166 bytes to main.py\n",
      "[NbConvertApp] WARNING | Config option `kernel_spec_manager_class` not recognized by `NbConvertApp`.\n",
      "[NbConvertApp] Converting notebook pfamannot.ipynb to python\n",
      "[NbConvertApp] Writing 3726 bytes to pfamannot.py\n",
      "[NbConvertApp] WARNING | Config option `kernel_spec_manager_class` not recognized by `NbConvertApp`.\n",
      "[NbConvertApp] Converting notebook parse.ipynb to python\n",
      "[NbConvertApp] Writing 4127 bytes to parse.py\n",
      "[NbConvertApp] WARNING | Config option `kernel_spec_manager_class` not recognized by `NbConvertApp`.\n",
      "[NbConvertApp] Converting notebook cctyper.ipynb to python\n",
      "[NbConvertApp] Writing 595 bytes to cctyper.py\n",
      "[NbConvertApp] WARNING | Config option `kernel_spec_manager_class` not recognized by `NbConvertApp`.\n",
      "[NbConvertApp] Converting notebook preprocess.ipynb to python\n"
     ]
    },
    {
     "name": "stdout",
     "output_type": "stream",
     "text": [
      "finished updating modules\n"
     ]
    },
    {
     "name": "stderr",
     "output_type": "stream",
     "text": [
      "[NbConvertApp] Writing 2376 bytes to preprocess.py\n"
     ]
    }
   ],
   "source": [
    "import os\n",
    "def update_modules():\n",
    "    for module in os.listdir():\n",
    "        if os.path.isfile(module) and \".ipynb\" in module:\n",
    "            cmd = \"jupyter nbconvert --to python \" + module\n",
    "            os.system(cmd)\n",
    "    print(\"finished updating modules\")\n",
    "update_modules()"
   ]
  },
  {
   "cell_type": "code",
   "execution_count": 5,
   "id": "c1b46844-85ff-482c-8ab1-5ab2e2deb2d6",
   "metadata": {},
   "outputs": [
    {
     "name": "stdout",
     "output_type": "stream",
     "text": [
      "formatting hmmsearch results\n"
     ]
    }
   ],
   "source": [
    "import preprocess\n",
    "import pfamannot\n",
    "import parse"
   ]
  },
  {
   "cell_type": "markdown",
   "id": "c6fa18c6-e879-4017-894e-a4721cf34f43",
   "metadata": {},
   "source": [
    "### for each .examples.gff file (target p30 neighborhood)\n",
    "- get multifasta file from gff: input for hmmsearch and cctyper\n",
    "- parse hmmsearch output\n",
    "- parse cctyper outputs\n",
    "\n",
    "### repeat for each .examples.gff file in input directory\n",
    "- \n"
   ]
  },
  {
   "cell_type": "code",
   "execution_count": 21,
   "id": "7c2fcb71-aa62-4a2f-ae44-dc9b8294decf",
   "metadata": {},
   "outputs": [],
   "source": [
    "# load input files into input directory\n",
    "# hits_near_inactive_tnpBs = ['7205dff302ff900300', '6c3b2ade31d3833745', '23422406293d40c201',\n",
    "#        'c1050b21cc75640d51', 'aa6af7e9289c3558d3', 'd2246f26c16fb9eec9',\n",
    "#        '6bf6c4c7da68779d7a']\n",
    "hits_near_inactive_tnpBs = ['0093c124a5b6ee038d',\n",
    " '23422406293d40c201',\n",
    " '27177e034d397f4d56',\n",
    " '3a86b6b12ef4de1264',\n",
    " '49c65ceeadb463ef7d',\n",
    " '4a23bcab7c50591a6a',\n",
    " '4e45823b6b83464d6e',\n",
    " '6bf6c4c7da68779d7a',\n",
    " '7205dff302ff900300',\n",
    " '986ad2cde69643b021',\n",
    " '9a8a6e441d6dea8617',\n",
    " 'aa6af7e9289c3558d3',\n",
    " 'ba436543bec6c30920',\n",
    " 'c1050b21cc75640d51',\n",
    " 'c15257c28ad9a20cdd',\n",
    " 'c7a1b8f01c5b7c48a2',\n",
    " 'd2246f26c16fb9eec9',\n",
    " 'd2248a31d0e133ef11',\n",
    " 'e8a14f064cce46f350']\n",
    "hits_not_fetched = []\n",
    "\n",
    "input_files = [hitid + \".examples.gff\" for hitid in hits_near_inactive_tnpBs]\n",
    "input_filepaths = [\"../ggdbfetch_output/\" + hitpath for hitpath in input_files]\n",
    "for i in range(len(input_filepaths)):\n",
    "    file_path = input_filepaths[i]\n",
    "    cmd = \"cp \" + file_path + \" INPUT/gff/\" + input_files[i]\n",
    "    if os.path.isfile(file_path):\n",
    "        os.system(cmd)\n",
    "    else:\n",
    "        hits_not_fetched.append(hits_near_inactive_tnpBs[i])\n",
    "# to do - fetch these target gene neighbourhood close to semi-inactive tnpBs\n",
    "for failed_hit in hits_not_fetched:\n",
    "    hits_near_inactive_tnpBs.remove(failed_hit)"
   ]
  },
  {
   "cell_type": "code",
   "execution_count": 23,
   "id": "0ffea742-7cb9-4649-9fef-14bfbdf8c60d",
   "metadata": {},
   "outputs": [
    {
     "data": {
      "text/plain": [
       "['3a86b6b12ef4de1264',\n",
       " '49c65ceeadb463ef7d',\n",
       " '986ad2cde69643b021',\n",
       " 'c7a1b8f01c5b7c48a2']"
      ]
     },
     "execution_count": 23,
     "metadata": {},
     "output_type": "execute_result"
    }
   ],
   "source": [
    "hits_not_fetched"
   ]
  },
  {
   "cell_type": "code",
   "execution_count": 8,
   "id": "3ce014b2-1962-461f-b92d-9e118bec75d3",
   "metadata": {},
   "outputs": [],
   "source": [
    "infile_paths = ['INPUT/gff/' + file for file in os.listdir('INPUT/gff') if file != '.ipynb_checkpoints']"
   ]
  },
  {
   "cell_type": "code",
   "execution_count": 9,
   "id": "b9211b5e-825f-4b43-a5d4-20f31c1e54fc",
   "metadata": {},
   "outputs": [
    {
     "data": {
      "text/plain": [
       "['INPUT/gff/d2246f26c16fb9eec9.examples.gff',\n",
       " 'INPUT/gff/6c3b2ade31d3833745.examples.gff',\n",
       " 'INPUT/gff/23422406293d40c201.examples.gff',\n",
       " 'INPUT/gff/7205dff302ff900300.examples.gff',\n",
       " 'INPUT/gff/596adb7fa02d385b18.examples.gff',\n",
       " 'INPUT/gff/6bf6c4c7da68779d7a.examples.gff',\n",
       " 'INPUT/gff/c1050b21cc75640d51.examples.gff',\n",
       " 'INPUT/gff/aa6af7e9289c3558d3.examples.gff']"
      ]
     },
     "execution_count": 9,
     "metadata": {},
     "output_type": "execute_result"
    }
   ],
   "source": [
    "infile_paths"
   ]
  },
  {
   "cell_type": "code",
   "execution_count": null,
   "id": "83e34168-5c9a-4d2b-82b0-f335b5d5e1c0",
   "metadata": {},
   "outputs": [],
   "source": []
  },
  {
   "cell_type": "code",
   "execution_count": 13,
   "id": "0df20d96-d1aa-4d19-be6c-29215cb8663d",
   "metadata": {},
   "outputs": [],
   "source": [
    "def update_gffs(ids_list):\n",
    "    print(\"creating contig fnas for cctyper\")\n",
    "    create_inputs(infile_paths)\n",
    "    print(\"annotating pfam domains with cctyper and hmmsearch\")\n",
    "    annotate(ids_list)\n",
    "    print(\"processing final gff output\")\n",
    "    final_gff_output(ids_list)\n",
    "    \n",
    "def create_inputs(infile_paths):\n",
    "    for path in infile_paths:\n",
    "        preprocess.single_gff_to_fna(path)\n",
    "        preprocess.single_gff_to_faa(path)\n",
    "\n",
    "def annotate(ids_list):\n",
    "    #os.system('conda run -n cctyper python cctyper.py')\n",
    "    #pfamannot.hmmsearch_pool(ids_list)\n",
    "    for hitid in ids_list:\n",
    "        pfamannot.format_hmmsearch_output(hitid)\n",
    "        \n",
    "def final_gff_output(ids_list):\n",
    "    for hitid in ids_list:\n",
    "        parse.put_gff_together(hitid) \n",
    "    parse.gff_output_csv()"
   ]
  },
  {
   "cell_type": "code",
   "execution_count": null,
   "id": "3265b4f9-d33c-426f-a8bf-c96a0ea4d471",
   "metadata": {},
   "outputs": [],
   "source": [
    "update_gffs(hits_near_inactive_tnpBs)"
   ]
  },
  {
   "cell_type": "code",
   "execution_count": null,
   "id": "db0037a5-cec9-4936-9fc3-14749192bcf7",
   "metadata": {},
   "outputs": [],
   "source": []
  }
 ],
 "metadata": {
  "environment": {
   "kernel": "ggdb",
   "name": "common-cpu.m82",
   "type": "gcloud",
   "uri": "gcr.io/deeplearning-platform-release/base-cpu:m82"
  },
  "kernelspec": {
   "display_name": "ggdb",
   "language": "python",
   "name": "ggdb"
  },
  "language_info": {
   "codemirror_mode": {
    "name": "ipython",
    "version": 3
   },
   "file_extension": ".py",
   "mimetype": "text/x-python",
   "name": "python",
   "nbconvert_exporter": "python",
   "pygments_lexer": "ipython3",
   "version": "3.9.7"
  }
 },
 "nbformat": 4,
 "nbformat_minor": 5
}
