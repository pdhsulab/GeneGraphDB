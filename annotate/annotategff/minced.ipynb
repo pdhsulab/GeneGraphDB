{
 "cells": [
  {
   "cell_type": "code",
   "execution_count": 3,
   "id": "b6798809-88cc-4f68-80ba-33e7bdeee3a6",
   "metadata": {},
   "outputs": [],
   "source": [
    "import subprocess\n",
    "from multiprocessing import Pool, cpu_count"
   ]
  },
  {
   "cell_type": "code",
   "execution_count": 2,
   "id": "81bb58d0-1ad7-4b73-9ac0-cf5404261e1c",
   "metadata": {},
   "outputs": [],
   "source": [
    "def annot_crispr(tnpB_multifna_path, out_gff_path):\n",
    "    cmd = \"minced -gffFull {} {}\".format(tnpB_multifna_path, out_gff_path)\n",
    "    process = subprocess.Popen(cmd.split(' '))"
   ]
  },
  {
   "cell_type": "code",
   "execution_count": null,
   "id": "c8ac4c1c-2a43-410e-a115-29761bca3067",
   "metadata": {},
   "outputs": [],
   "source": [
    "def annot_crispr_pool(ids_list):\n",
    "    paths_list = []\n",
    "    for targetid in ids_list:\n",
    "        tnpB_multifna_path = 'INPUT/fna/' + targetid + '.examples.fna'\n",
    "        out_gff_path = 'minced/' + targetid + '.minced.gff'\n",
    "        paths_list.append((tnpB_multifna_path, out_gff_path))\n",
    "    pool = Pool(cpu_count())\n",
    "    results = pool.starmap(annot_crispr, iterable = paths_list)\n",
    "    pool.close()\n",
    "    pool.join()\n",
    "    return results"
   ]
  },
  {
   "cell_type": "code",
   "execution_count": null,
   "id": "185d442c-39bc-49fd-a75a-2f393757224b",
   "metadata": {},
   "outputs": [],
   "source": []
  },
  {
   "cell_type": "code",
   "execution_count": null,
   "id": "31da45f7-c343-4e1a-92d1-ab1c2e0850ee",
   "metadata": {},
   "outputs": [],
   "source": []
  }
 ],
 "metadata": {
  "environment": {
   "kernel": "ggdb",
   "name": "common-cpu.m82",
   "type": "gcloud",
   "uri": "gcr.io/deeplearning-platform-release/base-cpu:m82"
  },
  "kernelspec": {
   "display_name": "ggdb",
   "language": "python",
   "name": "ggdb"
  },
  "language_info": {
   "codemirror_mode": {
    "name": "ipython",
    "version": 3
   },
   "file_extension": ".py",
   "mimetype": "text/x-python",
   "name": "python",
   "nbconvert_exporter": "python",
   "pygments_lexer": "ipython3",
   "version": "3.9.7"
  }
 },
 "nbformat": 4,
 "nbformat_minor": 5
}
