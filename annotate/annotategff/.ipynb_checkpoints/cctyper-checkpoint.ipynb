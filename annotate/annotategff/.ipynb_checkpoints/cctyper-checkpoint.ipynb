{
 "cells": [
  {
   "cell_type": "code",
   "execution_count": 3,
   "id": "b8be7a53-b85c-4bfc-a5d3-8a60c15c7976",
   "metadata": {},
   "outputs": [],
   "source": [
    "import os\n",
    "from multiprocessing import Pool"
   ]
  },
  {
   "cell_type": "code",
   "execution_count": 4,
   "id": "398d808b-2014-4428-9ac4-9d49b3a7d185",
   "metadata": {},
   "outputs": [],
   "source": [
    "infile_paths = ['INPUT/fna/' + file for file in os.listdir('INPUT/fna') if file != '.ipynb_checkpoints']\n",
    "p30s = [infile_path.split('/')[-1].split('.')[0] for infile_path in infile_paths]"
   ]
  },
  {
   "cell_type": "code",
   "execution_count": 6,
   "id": "112d57ba-6900-4685-a3d2-30da853d104a",
   "metadata": {},
   "outputs": [
    {
     "name": "stderr",
     "output_type": "stream",
     "text": [
      "sh: 1: cctyper: not found\n",
      "sh: 1: cctyper: not found\n",
      "sh: 1: cctyper: not found\n",
      "sh: 1: cctyper: not found\n",
      "sh: 1: cctyper: not found\n",
      "sh: 1: cctyper: not found\n",
      "sh: 1: cctyper: not found\n",
      "sh: 1: cctyper: not found\n"
     ]
    }
   ],
   "source": [
    "def cctyper(infile_paths):\n",
    "    for infile_path in infile_paths:\n",
    "        p30 = infile_path.split('/')[-1].split('.')[0]\n",
    "        outfile_path = 'cct/OUTPUT/' + p30\n",
    "        cmd = \"cctyper \" + infile_path + \" \" + outfile_path + \" --prodigal meta\"\n",
    "        os.system(cmd)\n",
    "cctyper(infile_paths)"
   ]
  }
 ],
 "metadata": {
  "environment": {
   "kernel": "cctyper",
   "name": "common-cpu.m82",
   "type": "gcloud",
   "uri": "gcr.io/deeplearning-platform-release/base-cpu:m82"
  },
  "kernelspec": {
   "display_name": "cctyper",
   "language": "python",
   "name": "cctyper"
  },
  "language_info": {
   "codemirror_mode": {
    "name": "ipython",
    "version": 3
   },
   "file_extension": ".py",
   "mimetype": "text/x-python",
   "name": "python",
   "nbconvert_exporter": "python",
   "pygments_lexer": "ipython3",
   "version": "3.7.10"
  }
 },
 "nbformat": 4,
 "nbformat_minor": 5
}
