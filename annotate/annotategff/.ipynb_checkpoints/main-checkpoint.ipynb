{
 "cells": [
  {
   "cell_type": "code",
   "execution_count": 1,
   "id": "4b5fc29b-8989-4c0a-9f67-a05d5411322f",
   "metadata": {},
   "outputs": [
    {
     "name": "stderr",
     "output_type": "stream",
     "text": [
      "[NbConvertApp] WARNING | Config option `kernel_spec_manager_class` not recognized by `NbConvertApp`.\n",
      "[NbConvertApp] Converting notebook main.ipynb to python\n",
      "[NbConvertApp] Writing 3180 bytes to main.py\n",
      "[NbConvertApp] WARNING | Config option `kernel_spec_manager_class` not recognized by `NbConvertApp`.\n",
      "[NbConvertApp] Converting notebook minced.ipynb to python\n",
      "[NbConvertApp] Writing 725 bytes to minced.py\n",
      "[NbConvertApp] WARNING | Config option `kernel_spec_manager_class` not recognized by `NbConvertApp`.\n",
      "[NbConvertApp] Converting notebook pfamannot.ipynb to python\n",
      "[NbConvertApp] Writing 2792 bytes to pfamannot.py\n",
      "[NbConvertApp] WARNING | Config option `kernel_spec_manager_class` not recognized by `NbConvertApp`.\n",
      "[NbConvertApp] Converting notebook parse.ipynb to python\n",
      "[NbConvertApp] Writing 4697 bytes to parse.py\n",
      "[NbConvertApp] WARNING | Config option `kernel_spec_manager_class` not recognized by `NbConvertApp`.\n",
      "[NbConvertApp] Converting notebook cctyper.ipynb to python\n",
      "[NbConvertApp] Writing 595 bytes to cctyper.py\n",
      "[NbConvertApp] WARNING | Config option `kernel_spec_manager_class` not recognized by `NbConvertApp`.\n",
      "[NbConvertApp] Converting notebook preprocess.ipynb to python\n"
     ]
    },
    {
     "name": "stdout",
     "output_type": "stream",
     "text": [
      "finished updating modules\n"
     ]
    },
    {
     "name": "stderr",
     "output_type": "stream",
     "text": [
      "[NbConvertApp] Writing 2516 bytes to preprocess.py\n"
     ]
    }
   ],
   "source": [
    "import os\n",
    "def update_modules():\n",
    "    for module in os.listdir():\n",
    "        if os.path.isfile(module) and \".ipynb\" in module:\n",
    "            cmd = \"jupyter nbconvert --to python \" + module\n",
    "            os.system(cmd)\n",
    "    print(\"finished updating modules\")\n",
    "update_modules()"
   ]
  },
  {
   "cell_type": "code",
   "execution_count": null,
   "id": "def7096e-02fd-4988-9351-3ba5adc857db",
   "metadata": {},
   "outputs": [],
   "source": [
    "os.system(\"\"\"mkdir cct cct/OUTPUT hmmer hmmer/out_clean hmmer/out_raw interproscan INPUT INPUT/faa INPUT/fna INPUT/gff OUTPUT minced\"\"\")"
   ]
  },
  {
   "cell_type": "code",
   "execution_count": 2,
   "id": "c1b46844-85ff-482c-8ab1-5ab2e2deb2d6",
   "metadata": {},
   "outputs": [],
   "source": [
    "import preprocess\n",
    "import pfamannot\n",
    "import parse\n",
    "import minced\n",
    "import os"
   ]
  },
  {
   "cell_type": "markdown",
   "id": "c6fa18c6-e879-4017-894e-a4721cf34f43",
   "metadata": {},
   "source": [
    "### for each .examples.gff file (target p30 neighborhood)\n",
    "- get multifasta file from gff: input for hmmsearch and cctyper\n",
    "- parse hmmsearch output\n",
    "- parse cctyper outputs\n",
    "\n",
    "### repeat for each .examples.gff file in input directory\n",
    "- \n"
   ]
  },
  {
   "cell_type": "code",
   "execution_count": 14,
   "id": "7c2fcb71-aa62-4a2f-ae44-dc9b8294decf",
   "metadata": {},
   "outputs": [],
   "source": [
    "# load input files into input directory\n",
    "# hits_near_inactive_tnpBs = ['7205dff302ff900300', '6c3b2ade31d3833745', '23422406293d40c201',\n",
    "#        'c1050b21cc75640d51', 'aa6af7e9289c3558d3', 'd2246f26c16fb9eec9',\n",
    "#        '6bf6c4c7da68779d7a']\n",
    "\n",
    "# hits_near_inactive_tnpBs = ['0093c124a5b6ee038d',\n",
    "#  '23422406293d40c201',\n",
    "#  '27177e034d397f4d56',\n",
    "#  '3a86b6b12ef4de1264',\n",
    "#  '49c65ceeadb463ef7d',\n",
    "#  '4a23bcab7c50591a6a',\n",
    "#  '4e45823b6b83464d6e',\n",
    "#  '6bf6c4c7da68779d7a',\n",
    "#  '7205dff302ff900300',\n",
    "#  '986ad2cde69643b021',\n",
    "#  '9a8a6e441d6dea8617',\n",
    "#  'aa6af7e9289c3558d3',\n",
    "#  'ba436543bec6c30920',\n",
    "#  'c1050b21cc75640d51',\n",
    "#  'c15257c28ad9a20cdd',\n",
    "#  'c7a1b8f01c5b7c48a2',\n",
    "#  'd2246f26c16fb9eec9',\n",
    "#  'd2248a31d0e133ef11',\n",
    "#  'e8a14f064cce46f350']\n",
    "\n",
    "# hits_near_inactive_tnpBs = ['f45a906808c45716e4',\n",
    "#  'ee669bb85d7c4a9459', '031933be88d0f6dd71',\n",
    "#  'cc3b1023fa38a3c1e6', '0204aff763d8b45bfe',\n",
    "#  'e95a232b429ceb001b', '9038f7993863bcadca',\n",
    "#  '6bf6c4c7da68779d7a', '0b921ace501a0fe980',\n",
    "#  'd862301d73972ea41c', '2a89c5bbdcfcb0cd2a',\n",
    "#  '4dcbca21fe7e9a5c29', 'e8e35986a4c05b4442',\n",
    "#  '4e45823b6b83464d6e', '66e3c83c192b25b489',\n",
    "#  'e8a14f064cce46f350', '2bce6e5989f64eecdf',\n",
    "#  '23422406293d40c201', 'c1050b21cc75640d51',\n",
    "#  '04bbfb58c48a0e8a29', '32de67ee40e11f3f2f',\n",
    "#  'e36a64acf9381581d3', '88a7c58044ed1c0c01',\n",
    "#  'c36b3b94eaf89826ba', '99f6125a673bcd700d',\n",
    "#  '260273e052f76dffd2', '62fe559eac786c1400',\n",
    "#  '3b91e97121e56aa047',\n",
    "#  'c7de21b826534e1702', '7684dc2cf4ee624258',\n",
    "#  'aa6af7e9289c3558d3', 'c7a1b8f01c5b7c48a2',\n",
    "#  '0a3217e07a25d0cbe0', '1b0744e098d12904a7',\n",
    "#  'f3a73b3acc03da9bf8', '56bf9d999b00b23351',\n",
    "#  '214319fd8cc31efee9', '7c8d22120719f2db6d',\n",
    "#  'a366ac26802335850e', '49c65ceeadb463ef7d',\n",
    "#  '97127aa4b059e7df3b', 'a0d79afeb20bd32508',\n",
    "#  '729ad68f76fcc9ad44', 'ad17062fc0b1953724',\n",
    "#  '7e848117da228c93cd', 'd90f25484d732aa877']\n",
    "\n",
    "hits_near_inactive_tnpBs = ['9038f7993863bcadca', '6bf6c4c7da68779d7a', 'd862301d73972ea41c', '2a89c5bbdcfcb0cd2a', \n",
    "                        '23422406293d40c201', 'c1050b21cc75640d51', '04bbfb58c48a0e8a29', '260273e052f76dffd2',\n",
    "                        'c7de21b826534e1702', 'aa6af7e9289c3558d3', 'c7a1b8f01c5b7c48a2', '0a3217e07a25d0cbe0',\n",
    "                        '214319fd8cc31efee9', '7c8d22120719f2db6d', 'a0d79afeb20bd32508', 'd90f25484d732aa877']\n",
    "hits_not_fetched = []\n",
    "\n",
    "input_files = [hitid + \".examples.gff\" for hitid in hits_near_inactive_tnpBs]\n",
    "input_filepaths = [\"../ggdbfetch_output/\" + hitpath for hitpath in input_files]\n",
    "for i in range(len(input_filepaths)):\n",
    "    file_path = input_filepaths[i]\n",
    "    cmd = \"cp \" + file_path + \" INPUT/gff/\" + input_files[i]\n",
    "    if os.path.isfile(file_path):\n",
    "        os.system(cmd)\n",
    "    else:\n",
    "        hits_not_fetched.append(hits_near_inactive_tnpBs[i])\n",
    "# to do - fetch these target gene neighbourhood close to semi-inactive tnpBs\n",
    "for failed_hit in hits_not_fetched:\n",
    "    hits_near_inactive_tnpBs.remove(failed_hit)"
   ]
  },
  {
   "cell_type": "code",
   "execution_count": 16,
   "id": "3ce014b2-1962-461f-b92d-9e118bec75d3",
   "metadata": {},
   "outputs": [],
   "source": [
    "infile_paths = ['INPUT/gff/' + file for file in os.listdir('INPUT/gff') if file != '.ipynb_checkpoints']"
   ]
  },
  {
   "cell_type": "code",
   "execution_count": 23,
   "id": "0df20d96-d1aa-4d19-be6c-29215cb8663d",
   "metadata": {},
   "outputs": [],
   "source": [
    "def update_gffs(ids_list):\n",
    "    print(\"creating contig fnas for cctyper\")\n",
    "    #create_inputs(infile_paths)\n",
    "    print(\"annotating pfam domains with cctyper and hmmsearch\")\n",
    "    #annotate(ids_list)\n",
    "    print(\"processing final gff output\")\n",
    "    final_gff_output(ids_list)\n",
    "    \n",
    "def create_inputs(infile_paths):\n",
    "    for path in infile_paths:\n",
    "        preprocess.single_gff_to_fna(path)\n",
    "        preprocess.single_gff_to_faa(path)\n",
    "\n",
    "def annotate(ids_list):\n",
    "    os.system('conda run -n cctyper python cctyper.py')\n",
    "    pfamannot.hmmsearch_pool(ids_list)\n",
    "    minced.annot_crispr_pool(ids_list)\n",
    "    for hitid in ids_list:\n",
    "        pfamannot.format_hmmsearch_output(hitid)\n",
    "        \n",
    "def final_gff_output(ids_list):\n",
    "    for hitid in ids_list:\n",
    "        parse.put_gff_together(hitid) \n",
    "    #parse.gff_output_csv()"
   ]
  },
  {
   "cell_type": "code",
   "execution_count": 24,
   "id": "cf83a421-3383-4645-b3ca-e8c9fe7039fe",
   "metadata": {},
   "outputs": [
    {
     "name": "stdout",
     "output_type": "stream",
     "text": [
      "creating contig fnas for cctyper\n",
      "annotating pfam domains with cctyper and hmmsearch\n",
      "processing final gff output\n"
     ]
    },
    {
     "name": "stderr",
     "output_type": "stream",
     "text": [
      "sh: 1: sortBed: not found\n",
      "sh: 1: sortBed: not found\n",
      "sh: 1: sortBed: not found\n",
      "sh: 1: sortBed: not found\n",
      "sh: 1: sortBed: not found\n",
      "sh: 1: sortBed: not found\n",
      "sh: 1: sortBed: not found\n",
      "sh: 1: sortBed: not found\n",
      "sh: 1: sortBed: not found\n",
      "sh: 1: sortBed: not found\n",
      "sh: 1: sortBed: not found\n",
      "sh: 1: sortBed: not found\n",
      "sh: 1: sortBed: not found\n",
      "sh: 1: sortBed: not found\n",
      "sh: 1: sortBed: not found\n",
      "sh: 1: sortBed: not found\n"
     ]
    }
   ],
   "source": [
    "update_gffs(hits_near_inactive_tnpBs)"
   ]
  },
  {
   "cell_type": "code",
   "execution_count": null,
   "id": "db0037a5-cec9-4936-9fc3-14749192bcf7",
   "metadata": {},
   "outputs": [],
   "source": []
  }
 ],
 "metadata": {
  "environment": {
   "kernel": "ggdb",
   "name": "common-cpu.m82",
   "type": "gcloud",
   "uri": "gcr.io/deeplearning-platform-release/base-cpu:m82"
  },
  "kernelspec": {
   "display_name": "ggdb",
   "language": "python",
   "name": "ggdb"
  },
  "language_info": {
   "codemirror_mode": {
    "name": "ipython",
    "version": 3
   },
   "file_extension": ".py",
   "mimetype": "text/x-python",
   "name": "python",
   "nbconvert_exporter": "python",
   "pygments_lexer": "ipython3",
   "version": "3.9.7"
  }
 },
 "nbformat": 4,
 "nbformat_minor": 5
}
