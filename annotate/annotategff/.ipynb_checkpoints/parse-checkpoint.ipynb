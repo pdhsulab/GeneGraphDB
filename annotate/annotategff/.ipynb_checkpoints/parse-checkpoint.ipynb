{
 "cells": [
  {
   "cell_type": "code",
   "execution_count": 4,
   "id": "9632ff17-8745-4678-a415-761a837b1932",
   "metadata": {},
   "outputs": [],
   "source": [
    "import os\n",
    "from Bio import SeqIO\n",
    "import pandas as pd"
   ]
  },
  {
   "cell_type": "code",
   "execution_count": 4,
   "id": "53d3d57f-9950-4faf-b69d-ecbc50a30a64",
   "metadata": {},
   "outputs": [],
   "source": [
    "infile_path = \"out/hmmer.tab\"\n",
    "outfile_path = \"OUTPUT/596adb7fa02d385b18.examples.gff\""
   ]
  },
  {
   "cell_type": "code",
   "execution_count": 12,
   "id": "624b0d72-6504-4f69-a7f5-311b0d0f5f94",
   "metadata": {},
   "outputs": [],
   "source": [
    "def parse_cct_hmm(infile_path, outfile_path):\n",
    "    with open(infile_path, \"r\") as infile, open(outfile_path, \"a\") as out_gff:\n",
    "        next(infile)\n",
    "        for line in infile:\n",
    "            line_elem = line.split('\\t')\n",
    "            Hmm, ORF, tlen, qlen, Eval, score, start, end, Acc, Pos, Cov_seq, Cov_hmm, strand = line_elem\n",
    "            if int(strand) == 1:\n",
    "                strand = '+'\n",
    "            elif int(strand) == -1:\n",
    "                strand = '-'\n",
    "            seqname, source, feature, score, frame = ORF, \"CCT\", \"CCT_domain\", 1, 0\n",
    "            seqname = '_'.join(seqname.split('_')[:-1])\n",
    "            attrib = ';'.join(['ID=' + Hmm, \n",
    "                              'full_seq_evalue=' + str(Eval), \n",
    "                              'full_seq_score=' + str(score),\n",
    "                              'qlen=' + str(qlen),\n",
    "                              'tlen=' + str(tlen),\n",
    "                              'qaln_perc=' + str(float(Cov_hmm)*100),\n",
    "                              'taln_perc=' + str(float(Cov_seq)*100),\n",
    "                             ])\n",
    "            out = [seqname, source, feature, start, end, score, strand, frame, attrib]\n",
    "            if float(Eval) < 1e-4:\n",
    "                print(*out, sep = '\\t', file=out_gff)"
   ]
  },
  {
   "cell_type": "code",
   "execution_count": 11,
   "id": "dde84605-b7bc-42de-8396-31efcb36c66f",
   "metadata": {},
   "outputs": [],
   "source": [
    "#parse_hmmsearch('hmmer/out_clean/7205dff302ff900300.csv', 'tmp.gff')"
   ]
  },
  {
   "cell_type": "code",
   "execution_count": 9,
   "id": "c7646c6f-fb78-41c9-9eb9-7493b8a0c161",
   "metadata": {},
   "outputs": [],
   "source": [
    "def parse_hmmsearch(infile_path, outfile_path):\n",
    "    with open(infile_path, \"r\") as infile, open(outfile_path, \"a\") as out_gff:\n",
    "        next(infile)\n",
    "        for line in infile:\n",
    "            line_elem = line.split(',')\n",
    "            query_id,query_accession,query_len,hit_id,hit_score,hit_evalue,target_length,qstart,qend,tstart,tend = line_elem\n",
    "            seqname, dnastart, dnaend, strand = hit_id.split(';')\n",
    "            if strand == \"+\":\n",
    "                start = int(dnastart) + 3*int(tstart)\n",
    "                end = int(dnastart) + 3*int(tend)\n",
    "            elif strand == \"-\":\n",
    "                start = int(dnaend) - 3*int(tend)\n",
    "                end = int(dnaend) - 3*int(tstart)\n",
    "            source, feature, score, frame = \"hmmsearch\", \"pfam_domain\", 1, 0\n",
    "            attrib = ';'.join(['ID=' + query_id, \n",
    "                              'domain_evalue=' + str(hit_evalue), \n",
    "                              'domain_score=' + str(hit_score),\n",
    "                              'qlen=' + str(query_len),\n",
    "                              'tlen=' + str(target_length),\n",
    "                               'qstart=' + str(qstart),\n",
    "                              'qend=' + str(qend),\n",
    "                              'tstart=' + str(tstart),\n",
    "                               'tend=' + str(tend),\n",
    "                             ])\n",
    "            out = [seqname, source, feature, start, end, score, strand, frame, attrib]\n",
    "            if float(hit_evalue) < 1e-4:\n",
    "                print(*out, sep = '\\t', file=out_gff)"
   ]
  },
  {
   "cell_type": "code",
   "execution_count": 6,
   "id": "9055790c-5ee4-4291-ad86-4655a6cd4f53",
   "metadata": {},
   "outputs": [],
   "source": [
    "def parse_minced(infile_path, outfile_path):\n",
    "    os.system(\"cat {} >> {}\".format(infile_path, outfile_path))"
   ]
  },
  {
   "cell_type": "code",
   "execution_count": 40,
   "id": "905e3762-1928-4b58-856a-e2d526ee8437",
   "metadata": {},
   "outputs": [],
   "source": [
    "def put_gff_together(targetid):\n",
    "    cct_out_path = 'cct/OUTPUT/' + targetid + '/hmmer.tab'\n",
    "    minced_out_path = 'minced/' + targetid + '.minced.gff'\n",
    "    gff_path = 'OUTPUT/' + targetid + '.examples.gff'\n",
    "    sorted_path = 'OUTPUT/' + targetid + '.sorted.gff'\n",
    "    fna_path = 'INPUT/fna/' + targetid + '.examples.fna'\n",
    "    fna_sorted_path = 'INPUT/fna/' + targetid + '.sorted.fna'\n",
    "    gff_path_final = 'OUTPUT/' + targetid + '.final.gff'\n",
    "    hmm_outclean_path = 'hmmer/out_clean/' + targetid + '.csv'\n",
    "    gff_hmmsearch_path = 'hmmer/out_clean/' + targetid + '.gff'\n",
    "    \n",
    "    parse_cct_hmm(cct_out_path, gff_path)\n",
    "    parse_minced(minced_out_path, gff_path)\n",
    "    parse_hmmsearch(hmm_outclean_path, gff_path)\n",
    "    \n",
    "    contigs = {}\n",
    "    with open(fna_path) as handle:\n",
    "        for rec in SeqIO.parse(handle, 'fasta'):\n",
    "            header = rec.id\n",
    "            sequence = rec.seq\n",
    "            contigs[header] = sequence\n",
    "    headers = list(contigs.keys())\n",
    "    headers.sort()\n",
    "    os.system(\"sortBed -i \" + gff_path + \" > \" + sorted_path)\n",
    "    with open(fna_sorted_path, 'w') as outfile:\n",
    "        for header in headers:\n",
    "            print('>' + header, file=outfile)\n",
    "            print(contigs[header], file=outfile)\n",
    "    os.system(\"cat \" + sorted_path + \" \" + fna_sorted_path + \" > \" + gff_path_final)\n",
    "    "
   ]
  },
  {
   "cell_type": "code",
   "execution_count": 33,
   "id": "a4442bbf-b331-4cba-b664-69bfb86c86b1",
   "metadata": {},
   "outputs": [],
   "source": [
    "def gff_output_raw_csv(targetid):\n",
    "    gff_path_final = 'OUTPUT/' + targetid + '.final.gff'\n",
    "    #to do - finish this summaryt stat csv\n",
    "    _csv_raw_out = 'OUTPUT/_csv_raw_out.csv' \n",
    "    with open(gff_path_final, \"r\") as infile, open(_csv_raw_out, \"w\") as outfile:\n",
    "        lines = infile.readlines()\n",
    "        for line in lines:\n",
    "            if line[0] == '>':\n",
    "                break\n",
    "            line = line.split('\\t')\n",
    "            ID = line[-1]\n",
    "            print(ID)\n",
    "            asdf\n",
    "            print(line, file = outfile)"
   ]
  },
  {
   "cell_type": "code",
   "execution_count": null,
   "id": "08216d4e-3680-45d1-8fd8-d85310bae13c",
   "metadata": {},
   "outputs": [],
   "source": []
  }
 ],
 "metadata": {
  "environment": {
   "kernel": "ggdb",
   "name": "common-cpu.m82",
   "type": "gcloud",
   "uri": "gcr.io/deeplearning-platform-release/base-cpu:m82"
  },
  "kernelspec": {
   "display_name": "ggdb",
   "language": "python",
   "name": "ggdb"
  },
  "language_info": {
   "codemirror_mode": {
    "name": "ipython",
    "version": 3
   },
   "file_extension": ".py",
   "mimetype": "text/x-python",
   "name": "python",
   "nbconvert_exporter": "python",
   "pygments_lexer": "ipython3",
   "version": "3.9.7"
  }
 },
 "nbformat": 4,
 "nbformat_minor": 5
}
