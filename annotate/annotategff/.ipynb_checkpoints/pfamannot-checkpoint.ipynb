{
 "cells": [
  {
   "cell_type": "code",
   "execution_count": 8,
   "id": "55cadb47-6186-4fcd-9338-e75a355f4062",
   "metadata": {},
   "outputs": [],
   "source": [
    "from multiprocessing import Pool, cpu_count\n",
    "from Bio import SearchIO\n",
    "import os"
   ]
  },
  {
   "cell_type": "code",
   "execution_count": 41,
   "id": "02d74553-3bdd-438b-9d7a-b9e18813bf6d",
   "metadata": {},
   "outputs": [],
   "source": [
    "def hmmsearch(tnpB_multifaa_path, out_raw_path, hmmfile_path):\n",
    "    pfam_command = \"hmmsearch --cpu {threads} -E 1 --domtblout {outtbl} {hmmfile} {seqdb}\".format(\n",
    "    threads = cpu_count(), outtbl=out_raw_path, hmmfile=hmmfile_path, seqdb=tnpB_multifaa_path)\n",
    "    print(\"running hmmsearch\")\n",
    "    os.system(pfam_command)\n",
    "def format_hmmsearch_output(pid):\n",
    "    out_raw_path = 'hmmer/out_raw/' + pid + '.tsv'\n",
    "    out_clean_path = 'hmmer/out_clean/' + pid + '.csv'\n",
    "    print(\"formatting hmmsearch results\")\n",
    "    with open(out_raw_path\n",
    "              , 'r') as infile, open(out_clean_path, \"w\") as outfile:\n",
    "        print(\"query_id,query_accession,query_len,hit_id,hit_score,hit_evalue,target_length,qstart,qend,tstart,tend\", file=outfile)\n",
    "        for qresult in SearchIO.parse(infile, 'hmmscan3-domtab'):\n",
    "            query_id = qresult.id  #sequence ID from fasta\n",
    "            query_accession = qresult.accession\n",
    "            query_len = qresult.seq_len\n",
    "            hits = qresult.hits\n",
    "            num_hits = len(hits)\n",
    "            if num_hits > 0:\n",
    "                for hit in hits: \n",
    "                    hit_evalue = hit.evalue\n",
    "                    hit_score = hit.bitscore\n",
    "                    target_length = hit.seq_len\n",
    "                    hit_id = hit.id\n",
    "                    for HSP in hit:\n",
    "                        out_row = \",\".join([query_id, query_accession, str(query_len), hit_id, str(hit_score), str(hit_evalue), str(target_length), str(HSP.hit_start), str(HSP.hit_end), str(HSP.query_start), str(HSP.query_end)])\n",
    "                        print(out_row, file=outfile)"
   ]
  },
  {
   "cell_type": "code",
   "execution_count": 11,
   "id": "98781a63-d73a-4d87-b16b-fbc18b1f78ff",
   "metadata": {},
   "outputs": [],
   "source": [
    "tnpB_multifaa_path = 'INPUT/faa/7205dff302ff900300.examples.faa'\n",
    "out_raw_path = 'hmmer/out_raw/7205dff302ff900300.tsv'\n",
    "out_clean_path = 'hmmer/out_clean/7205dff302ff900300.csv'\n",
    "hmmfile_path = '../../../tnpBs/data/Pfam-A.hmm'\n",
    "#hmmsearch(tnpB_multifaa_path, out_raw_path, hmmfile_path)"
   ]
  },
  {
   "cell_type": "code",
   "execution_count": null,
   "id": "d3a6b05d-9370-4e82-ba73-8f27e15e603c",
   "metadata": {},
   "outputs": [],
   "source": []
  },
  {
   "cell_type": "code",
   "execution_count": 12,
   "id": "8f9744f8-ca77-48c8-bb1c-9cb272d630f6",
   "metadata": {},
   "outputs": [],
   "source": [
    "def hmmsearch_pool(ids_list):\n",
    "    paths_list = []\n",
    "    for targetid in ids_list:\n",
    "        tnpB_multifaa_path = 'INPUT/faa/' + targetid + '.examples.faa'\n",
    "        out_raw_path = 'hmmer/out_raw/' + targetid + '.tsv'\n",
    "        hmmfile_path = '../../../tnpBs/data/Pfam-A.hmm'\n",
    "        paths_list.append((tnpB_multifaa_path, out_raw_path, hmmfile_path))\n",
    "    pool = Pool(cpu_count())\n",
    "    results = pool.starmap(hmmsearch, iterable = paths_list)\n",
    "    pool.close()\n",
    "    pool.join()\n",
    "    return results"
   ]
  },
  {
   "cell_type": "code",
   "execution_count": null,
   "id": "a9a70816-f7ea-4499-8ce3-daa7009e9630",
   "metadata": {},
   "outputs": [],
   "source": []
  },
  {
   "cell_type": "code",
   "execution_count": 13,
   "id": "c811b571-f23d-4607-bfb2-4a29678ca2b7",
   "metadata": {},
   "outputs": [],
   "source": [
    "ids_list  = ['7205dff302ff900300', '6c3b2ade31d3833745', '23422406293d40c201',\n",
    "       'c1050b21cc75640d51', 'aa6af7e9289c3558d3', 'd2246f26c16fb9eec9',\n",
    "       '6bf6c4c7da68779d7a']"
   ]
  },
  {
   "cell_type": "code",
   "execution_count": null,
   "id": "6b494521-494f-4b70-aad3-493c2b034ec9",
   "metadata": {},
   "outputs": [],
   "source": []
  },
  {
   "cell_type": "code",
   "execution_count": 14,
   "id": "5bdbed51-71f2-41e6-822a-a16ca25a3670",
   "metadata": {},
   "outputs": [
    {
     "name": "stdout",
     "output_type": "stream",
     "text": [
      "[('INPUT/faa/7205dff302ff900300.examples.faa', 'hmmer/out_raw/7205dff302ff900300.tsv', '../../../tnpBs/data/Pfam-A.hmm'), ('INPUT/faa/6c3b2ade31d3833745.examples.faa', 'hmmer/out_raw/6c3b2ade31d3833745.tsv', '../../../tnpBs/data/Pfam-A.hmm'), ('INPUT/faa/23422406293d40c201.examples.faa', 'hmmer/out_raw/23422406293d40c201.tsv', '../../../tnpBs/data/Pfam-A.hmm'), ('INPUT/faa/c1050b21cc75640d51.examples.faa', 'hmmer/out_raw/c1050b21cc75640d51.tsv', '../../../tnpBs/data/Pfam-A.hmm'), ('INPUT/faa/aa6af7e9289c3558d3.examples.faa', 'hmmer/out_raw/aa6af7e9289c3558d3.tsv', '../../../tnpBs/data/Pfam-A.hmm'), ('INPUT/faa/d2246f26c16fb9eec9.examples.faa', 'hmmer/out_raw/d2246f26c16fb9eec9.tsv', '../../../tnpBs/data/Pfam-A.hmm'), ('INPUT/faa/6bf6c4c7da68779d7a.examples.faa', 'hmmer/out_raw/6bf6c4c7da68779d7a.tsv', '../../../tnpBs/data/Pfam-A.hmm')]\n"
     ]
    },
    {
     "ename": "NameError",
     "evalue": "name 'asdf' is not defined",
     "output_type": "error",
     "traceback": [
      "\u001b[0;31m---------------------------------------------------------------------------\u001b[0m",
      "\u001b[0;31mNameError\u001b[0m                                 Traceback (most recent call last)",
      "\u001b[0;32m/tmp/ipykernel_30223/967806402.py\u001b[0m in \u001b[0;36m<module>\u001b[0;34m\u001b[0m\n\u001b[0;32m----> 1\u001b[0;31m \u001b[0mhmmsearch_pool\u001b[0m\u001b[0;34m(\u001b[0m\u001b[0mids_list\u001b[0m\u001b[0;34m)\u001b[0m\u001b[0;34m\u001b[0m\u001b[0;34m\u001b[0m\u001b[0m\n\u001b[0m",
      "\u001b[0;32m/tmp/ipykernel_30223/2868301262.py\u001b[0m in \u001b[0;36mhmmsearch_pool\u001b[0;34m(ids_list)\u001b[0m\n\u001b[1;32m      7\u001b[0m         \u001b[0mpaths_list\u001b[0m\u001b[0;34m.\u001b[0m\u001b[0mappend\u001b[0m\u001b[0;34m(\u001b[0m\u001b[0;34m(\u001b[0m\u001b[0mtnpB_multifaa_path\u001b[0m\u001b[0;34m,\u001b[0m \u001b[0mout_raw_path\u001b[0m\u001b[0;34m,\u001b[0m \u001b[0mhmmfile_path\u001b[0m\u001b[0;34m)\u001b[0m\u001b[0;34m)\u001b[0m\u001b[0;34m\u001b[0m\u001b[0;34m\u001b[0m\u001b[0m\n\u001b[1;32m      8\u001b[0m     \u001b[0mprint\u001b[0m\u001b[0;34m(\u001b[0m\u001b[0mpaths_list\u001b[0m\u001b[0;34m)\u001b[0m\u001b[0;34m\u001b[0m\u001b[0;34m\u001b[0m\u001b[0m\n\u001b[0;32m----> 9\u001b[0;31m     \u001b[0masdf\u001b[0m\u001b[0;34m\u001b[0m\u001b[0;34m\u001b[0m\u001b[0m\n\u001b[0m\u001b[1;32m     10\u001b[0m     \u001b[0mpool\u001b[0m \u001b[0;34m=\u001b[0m \u001b[0mPool\u001b[0m\u001b[0;34m(\u001b[0m\u001b[0mcpu_count\u001b[0m\u001b[0;34m(\u001b[0m\u001b[0;34m)\u001b[0m\u001b[0;34m)\u001b[0m\u001b[0;34m\u001b[0m\u001b[0;34m\u001b[0m\u001b[0m\n\u001b[1;32m     11\u001b[0m     \u001b[0mresults\u001b[0m \u001b[0;34m=\u001b[0m \u001b[0mpool\u001b[0m\u001b[0;34m.\u001b[0m\u001b[0mstarmap\u001b[0m\u001b[0;34m(\u001b[0m\u001b[0mhmmsearch\u001b[0m\u001b[0;34m,\u001b[0m \u001b[0miterable\u001b[0m \u001b[0;34m=\u001b[0m \u001b[0mpaths_list\u001b[0m\u001b[0;34m)\u001b[0m\u001b[0;34m\u001b[0m\u001b[0;34m\u001b[0m\u001b[0m\n",
      "\u001b[0;31mNameError\u001b[0m: name 'asdf' is not defined"
     ]
    }
   ],
   "source": [
    "#hmmsearch_pool(ids_list)"
   ]
  },
  {
   "cell_type": "code",
   "execution_count": null,
   "id": "cdfacb47-a7b7-407c-a4a3-af9a460e72ef",
   "metadata": {},
   "outputs": [],
   "source": []
  }
 ],
 "metadata": {
  "environment": {
   "kernel": "ggdb",
   "name": "common-cpu.m82",
   "type": "gcloud",
   "uri": "gcr.io/deeplearning-platform-release/base-cpu:m82"
  },
  "kernelspec": {
   "display_name": "ggdb",
   "language": "python",
   "name": "ggdb"
  },
  "language_info": {
   "codemirror_mode": {
    "name": "ipython",
    "version": 3
   },
   "file_extension": ".py",
   "mimetype": "text/x-python",
   "name": "python",
   "nbconvert_exporter": "python",
   "pygments_lexer": "ipython3",
   "version": "3.9.7"
  }
 },
 "nbformat": 4,
 "nbformat_minor": 5
}
