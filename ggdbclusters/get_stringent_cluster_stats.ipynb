{
 "cells": [
  {
   "cell_type": "code",
   "execution_count": 5,
   "id": "21605249-c327-42ee-bb8a-950aeb9e3979",
   "metadata": {},
   "outputs": [],
   "source": [
    "import os\n",
    "import pandas as pd\n",
    "import matplotlib.pyplot as plt\n",
    "from Bio import SeqIO\n",
    "import csv\n",
    "import sqlite3\n",
    "import time"
   ]
  },
  {
   "cell_type": "code",
   "execution_count": 6,
   "id": "bd5224ee-f78f-43e5-85aa-22b789af8490",
   "metadata": {},
   "outputs": [],
   "source": [
    "stats_outfile_name = \"cluster_stats.txt\"\n",
    "# os.system(\"touch %s\" % stats_outfile_name)"
   ]
  },
  {
   "cell_type": "code",
   "execution_count": 7,
   "id": "a756788d-015b-483b-91e2-203160a7b60d",
   "metadata": {},
   "outputs": [],
   "source": [
    "def get_protein_is_goodrep(pid):\n",
    "    con=sqlite3.connect(\"80kprotein_stats.db\")\n",
    "    cur = con.cursor()\n",
    "    cmd = \"SELECT * FROM proteins WHERE pid = '%s'\" % pid \n",
    "    cur.execute(cmd)\n",
    "    return str(cur.fetchone())\n",
    "    con.close()"
   ]
  },
  {
   "cell_type": "code",
   "execution_count": 9,
   "id": "400e7262-e0f5-4e2b-944c-3a4d864169f9",
   "metadata": {},
   "outputs": [],
   "source": [
    "path_stringent_repseq = \"../clusters/INPUT/permissive/clu_perm_mmseqs_input.faa\"\n",
    "path_permissive_repseq = \"../clusters/OUTPUT/permissive/tmp/clu_rep_seq.fasta\""
   ]
  },
  {
   "cell_type": "code",
   "execution_count": 7,
   "id": "e0c0c304-2a2f-47f5-a459-c632fc1cbfd0",
   "metadata": {},
   "outputs": [],
   "source": [
    "# # get number clusters\n",
    "# def get_number_entries(fasta_path):\n",
    "#     cmd = \"grep -c '>' \" + fasta_path\n",
    "#     rv = os.popen(cmd).read()\n",
    "#     return rv\n",
    "# print(\"number stringent clusters is \" + get_number_entries(path_stringent_repseq), file = stats_outfile)\n",
    "# print(\"number permissive clusters is \" + get_number_entries(path_permissive_repseq), file = stats_outfile)"
   ]
  },
  {
   "cell_type": "code",
   "execution_count": 10,
   "id": "d6a0ab8c-cd0d-4177-8d7a-64717038fecf",
   "metadata": {},
   "outputs": [],
   "source": [
    "# # get distribution of genes per cluster\n",
    "# def get_genespercluster_dist(tsv_path):\n",
    "#     df = pd.read_csv(tsv_path, sep=\"\\t\", header = None)\n",
    "#     df = df.groupby(0).count()\n",
    "#     fig, ax = plt.subplots(nrows=1, ncols=1)  # create figure & 1 axis\n",
    "#     (n, bins, patches) = ax.hist(df[1], bins = [1,2,3,4,5,6,7,8,10,14,20,40,100,200,500,1000])\n",
    "#     return str(n) + str(bins)\n",
    "path_stringent_tsv = \"../clusters/clu_rep_stringent_final.csv\"\n",
    "path_permissive_tsv = \"../clusters/OUTPUT/permissive/tmp/clu_cluster.tsv\"\n",
    "# with open(stats_outfile_name, \"a\") as stats_outfile:\n",
    "#     print(\"stats on genes per stringent cluster: \" + get_genespercluster_dist(path_stringent_tsv), file = stats_outfile)\n",
    "#     print(\"stats on genes per permissive cluster: \" + get_genespercluster_dist(path_permissive_tsv), file = stats_outfile)"
   ]
  },
  {
   "cell_type": "code",
   "execution_count": null,
   "id": "77d7d3be-e9b1-4db9-b8ed-2ed8cd1e22e4",
   "metadata": {},
   "outputs": [],
   "source": [
    "# get number fragments overall\n",
    "# def get_num_fragments():\n",
    "#     cmd = \"SELECT count(*) FROM proteins WHERE iscomplete = 'False'\"\n",
    "#     cur.execute(cmd)\n",
    "#     return str(cur.fetchone())\n",
    "# with open(stats_outfile_name, \"a\") as stats_outfile:\n",
    "#     num_frag = get_num_fragments()\n",
    "#     print(num_frag)\n",
    "#     print(\"number of fragments is: \" + num_frag, file = stats_outfile)"
   ]
  },
  {
   "cell_type": "markdown",
   "id": "e4c8d88a-7b66-453f-b724-f036db7b7d5f",
   "metadata": {},
   "source": [
    "### create "
   ]
  },
  {
   "cell_type": "code",
   "execution_count": null,
   "id": "646983ee-2758-4472-8eee-acc4914e03ac",
   "metadata": {},
   "outputs": [],
   "source": [
    "\n",
    "\n",
    "# get number of singleton permissive/stringent clusters represented by fragments\n",
    "def create_sqldb_fromclustertsv(tsv_path, is_perm):\n",
    "    conn = sqlite3.connect('clusters.db')\n",
    "    cursor = conn.cursor()\n",
    "    if is_perm:\n",
    "        cursor.execute('''CREATE TABLE permissive (reppid text, pid text, PRIMARY KEY(pid))''')\n",
    "        protein_tsv = open(tsv_path, \"r\")\n",
    "        rows = csv.reader(protein_tsv, delimiter=\"\\t\")\n",
    "        cmd = '''\n",
    "        INSERT OR IGNORE INTO permissive (reppid, pid) VALUES (?,?)\n",
    "        '''\n",
    "    else:\n",
    "        cursor.execute('''CREATE TABLE stringent (reppid text, pid text, PRIMARY KEY(pid))''')\n",
    "        protein_tsv = open(tsv_path, \"r\")\n",
    "        rows = csv.reader(protein_tsv)\n",
    "        cmd = '''\n",
    "        INSERT OR IGNORE INTO stringent (reppid, pid) VALUES (?,?)\n",
    "        '''\n",
    "    cursor.executemany(cmd, rows)\n",
    "    conn.commit()\n",
    "    conn.close()\n",
    "\n",
    "# create_sqldb_fromclustertsv(path_permissive_tsv, True)\n",
    "\n",
    "#create_sqldb_fromclustertsv(path_stringent_tsv, False)\n",
    "\n",
    "# def merge_80kproteinstats_permissive():\n",
    "#     conn = sqlite3.connect('clusters.db')\n",
    "#     cursor = conn.cursor()\n",
    "#     #cmd1 = \"attach 'clusters.db' as db1\"\n",
    "#     cmd2 = \"ATTACH DATABASE '80kprotein_stats.db' AS db2\"\n",
    "#     cmd3 = \"CREATE TABLE permissive_stats (reppid text, pid text, isgapfree integer, length real, iscomplete integer, sequence text, PRIMARY KEY(pid))\"\n",
    "#     cmd4 = \"INSERT INTO permissive_stats SELECT reppid, a.pid, isgapfree, length, iscomplete, sequence FROM permissive a INNER JOIN db2.proteins b ON a.pid = b.pid\"\n",
    "#     #cursor.execute(cmd1)\n",
    "#     conn.execute(cmd2)\n",
    "#     #cursor.execute(cmd3)\n",
    "#     #cursor.execute(\"SELECT * FROM db2.proteins LIMIT 10\")\n",
    "#     cursor.execute(cmd4)\n",
    "#     conn.commit()\n",
    "#     conn.close()\n",
    "    \n",
    "# merge_80kproteinstats_permissive()\n",
    "\n",
    "def merge_80kproteinstats_stringent():\n",
    "    conn = sqlite3.connect('clusters.db')\n",
    "    cursor = conn.cursor()\n",
    "    #cmd1 = \"attach 'clusters.db' as db1\"\n",
    "    cmd2 = \"ATTACH DATABASE '80kprotein_stats.db' AS db2\"\n",
    "    cmd3 = \"CREATE TABLE stringent_stats (reppid text, pid text, isgapfree integer, length real, iscomplete integer, sequence text, PRIMARY KEY(pid))\"\n",
    "    cmd4 = \"INSERT INTO stringent_stats SELECT reppid, a.pid, isgapfree, length, iscomplete, sequence FROM stringent_ a INNER JOIN db2.proteins b ON a.pid = b.pid\"\n",
    "    #cursor.execute(cmd1)\n",
    "    conn.execute(cmd2)\n",
    "    cursor.execute(cmd3)\n",
    "    #cursor.execute(\"SELECT * FROM db2.proteins LIMIT 10\")\n",
    "    cursor.execute(cmd4)\n",
    "    conn.commit()\n",
    "    conn.close()\n",
    "\n",
    "    \n",
    "## Uncomment this\n",
    "merge_80kproteinstats_stringent()"
   ]
  },
  {
   "cell_type": "code",
   "execution_count": 22,
   "id": "e4197566-61f8-4aea-93d7-87f0afd78a0f",
   "metadata": {},
   "outputs": [],
   "source": [
    "# test_df = pd.read_csv(\"../clusters/stringent_stats.csv\", nrows=200)\n",
    "# test_df.to_csv(\"test.csv\")\n",
    "# test_df = test_df.set_index(\"reppid\")\n",
    "# test_df[\"temp\"] = test_df.groupby(\"reppid\")['length'].apply(lambda x: (max(x)-min(x))/max(x))\n",
    "# test_df.reset_index()"
   ]
  },
  {
   "cell_type": "code",
   "execution_count": 29,
   "id": "9a131599-3f4c-4d3d-be33-597cbb27d192",
   "metadata": {},
   "outputs": [],
   "source": [
    "# # Final stats that require protein clusters merged with protein stats\n",
    "# def get_length_distance_stats(path_csv):\n",
    "#     df = pd.read_csv(path_csv)\n",
    "#     df = df.set_index(\"reppid\")\n",
    "#     df[\"len_coverage\"] = df.groupby(\"reppid\")['length'].apply(lambda x: (max(x)-min(x))/max(x))\n",
    "#     df = df.reset_index()\n",
    "#     df[df[\"len_coverage\"] > .2].to_csv(\"../clusters/clusters_poorcoverage.csv\")\n",
    "#     fig, ax = plt.subplots(nrows=1, ncols=1)  # create figure & 1 axis\n",
    "#     (n, bins, patches) = ax.hist(df[\"len_coverage\"], bins = [.02,.04,.06,.08,.1,.12,.14,.16,.18,.2,.3,1])\n",
    "\n",
    "#     with open(stats_outfile_name, \"a\") as stats_outfile:\n",
    "#         print(\"distribution of length coverage of fragments across clusters: \" + str(n), file = stats_outfile)\n",
    "#         print(\"distributed across bins: \" + str(bins), file = stats_outfile)\n",
    "        \n",
    "# # get_length_distance_stats(\"../clusters/stringent_stats.csv\")\n",
    "# get_length_distance_stats(\"../clusters/permissive_stats.csv\")\n",
    "\n",
    "# def count_singleton_p_clusters_fragments():\n",
    "#     conn = sqlite3.connect('clusters.db')\n",
    "#     cursor = conn.cursor()\n",
    "#     cmd_perm = \"SELECT count(*) FROM (SELECT * FROM permissive_stats WHERE iscomplete = 'False' GROUP BY reppid HAVING count(reppid) = 1)\"\n",
    "#     cursor.execute(cmd_perm)\n",
    "#     num_frag_perm = str(cursor.fetchone())\n",
    "#     print(num_frag_perm)\n",
    "#     with open(stats_outfile_name, \"a\") as stats_outfile:\n",
    "#         print(\"number of perm fragments in singleton clusters is: \" + num_frag_perm, file = stats_outfile)\n",
    "# def count_singleton_s_clusters_fragments():\n",
    "#     conn = sqlite3.connect('clusters.db')\n",
    "#     cursor = conn.cursor()\n",
    "#     cmd_stringent = \"SELECT count(*) FROM (SELECT * FROM stringent_stats WHERE iscomplete = 'False' GROUP BY reppid HAVING count(reppid) = 1)\"\n",
    "#     cursor.execute(cmd_stringent)\n",
    "#     num_frag_stringent = str(cursor.fetchone())\n",
    "#     print(num_frag_stringent)\n",
    "#     with open(stats_outfile_name, \"a\") as stats_outfile:\n",
    "#         print(\"number of stringent fragments in singleton clusters is: \" + num_frag_stringent, file = stats_outfile)\n",
    "# count_singleton_p_clusters_fragments()\n",
    "# count_singleton_s_clusters_fragments()"
   ]
  },
  {
   "cell_type": "code",
   "execution_count": null,
   "id": "c0613caa-979f-45e6-9f6e-e9321dc24dd2",
   "metadata": {},
   "outputs": [],
   "source": [
    "# skeleton code to save figures\n",
    "# fig, ax = plt.subplots( nrows=1, ncols=1 )  # create figure & 1 axis\n",
    "# ax.plot([0,1,2], [10,20,3])\n",
    "# fig.savefig('path/to/save/image/to.png')   # save the figure to file\n",
    "# plt.close(fig)"
   ]
  },
  {
   "cell_type": "code",
   "execution_count": null,
   "id": "05c72eec-b67b-4aa1-a7a9-bd2d30efb5e4",
   "metadata": {},
   "outputs": [],
   "source": []
  }
 ],
 "metadata": {
  "environment": {
   "kernel": "ggdb",
   "name": "common-cpu.m82",
   "type": "gcloud",
   "uri": "gcr.io/deeplearning-platform-release/base-cpu:m82"
  },
  "kernelspec": {
   "display_name": "ggdb",
   "language": "python",
   "name": "ggdb"
  },
  "language_info": {
   "codemirror_mode": {
    "name": "ipython",
    "version": 3
   },
   "file_extension": ".py",
   "mimetype": "text/x-python",
   "name": "python",
   "nbconvert_exporter": "python",
   "pygments_lexer": "ipython3",
   "version": "3.9.7"
  }
 },
 "nbformat": 4,
 "nbformat_minor": 5
}
