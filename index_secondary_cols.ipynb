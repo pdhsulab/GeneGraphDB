{
 "cells": [
  {
   "cell_type": "code",
   "execution_count": 1,
   "id": "7dd95b76-2019-440a-889a-322f97d13c5c",
   "metadata": {},
   "outputs": [],
   "source": [
    "import os\n",
    "import pandas as pd\n",
    "import matplotlib.pyplot as plt\n",
    "from Bio import SeqIO\n",
    "import csv\n",
    "import sqlite3\n",
    "import time"
   ]
  },
  {
   "cell_type": "code",
   "execution_count": 1,
   "id": "c9a1eb43-2ed7-4640-b31a-24cf74a453b8",
   "metadata": {},
   "outputs": [
    {
     "ename": "NameError",
     "evalue": "name 'sqlite3' is not defined",
     "output_type": "error",
     "traceback": [
      "\u001b[0;31m---------------------------------------------------------------------------\u001b[0m",
      "\u001b[0;31mNameError\u001b[0m                                 Traceback (most recent call last)",
      "\u001b[0;32m/tmp/ipykernel_10447/2424031500.py\u001b[0m in \u001b[0;36m<module>\u001b[0;34m\u001b[0m\n\u001b[1;32m     22\u001b[0m     \u001b[0mconn\u001b[0m\u001b[0;34m.\u001b[0m\u001b[0mcommit\u001b[0m\u001b[0;34m(\u001b[0m\u001b[0;34m)\u001b[0m\u001b[0;34m\u001b[0m\u001b[0;34m\u001b[0m\u001b[0m\n\u001b[1;32m     23\u001b[0m     \u001b[0mconn\u001b[0m\u001b[0;34m.\u001b[0m\u001b[0mclose\u001b[0m\u001b[0;34m(\u001b[0m\u001b[0;34m)\u001b[0m\u001b[0;34m\u001b[0m\u001b[0;34m\u001b[0m\u001b[0m\n\u001b[0;32m---> 24\u001b[0;31m \u001b[0mmove_clusters_to_genegraphdb\u001b[0m\u001b[0;34m(\u001b[0m\u001b[0;34m)\u001b[0m\u001b[0;34m\u001b[0m\u001b[0;34m\u001b[0m\u001b[0m\n\u001b[0m",
      "\u001b[0;32m/tmp/ipykernel_10447/2424031500.py\u001b[0m in \u001b[0;36mmove_clusters_to_genegraphdb\u001b[0;34m()\u001b[0m\n\u001b[1;32m      1\u001b[0m \u001b[0;32mdef\u001b[0m \u001b[0mmove_clusters_to_genegraphdb\u001b[0m\u001b[0;34m(\u001b[0m\u001b[0;34m)\u001b[0m\u001b[0;34m:\u001b[0m\u001b[0;34m\u001b[0m\u001b[0;34m\u001b[0m\u001b[0m\n\u001b[0;32m----> 2\u001b[0;31m     \u001b[0mconn\u001b[0m \u001b[0;34m=\u001b[0m \u001b[0msqlite3\u001b[0m\u001b[0;34m.\u001b[0m\u001b[0mconnect\u001b[0m\u001b[0;34m(\u001b[0m\u001b[0;34m'genegraph.db'\u001b[0m\u001b[0;34m)\u001b[0m\u001b[0;34m\u001b[0m\u001b[0;34m\u001b[0m\u001b[0m\n\u001b[0m\u001b[1;32m      3\u001b[0m     \u001b[0mcursor\u001b[0m \u001b[0;34m=\u001b[0m \u001b[0mconn\u001b[0m\u001b[0;34m.\u001b[0m\u001b[0mcursor\u001b[0m\u001b[0;34m(\u001b[0m\u001b[0;34m)\u001b[0m\u001b[0;34m\u001b[0m\u001b[0;34m\u001b[0m\u001b[0m\n\u001b[1;32m      4\u001b[0m     \u001b[0mcmd1\u001b[0m \u001b[0;34m=\u001b[0m \u001b[0;34m\"CREATE INDEX p2pwindow_p2hash ON prot2protwindow (p2hash)\"\u001b[0m\u001b[0;34m\u001b[0m\u001b[0;34m\u001b[0m\u001b[0m\n\u001b[1;32m      5\u001b[0m     \u001b[0mcmd2\u001b[0m \u001b[0;34m=\u001b[0m \u001b[0;34m\"CREATE INDEX contig2sample_sampleid ON contig2sample (sampleid)\"\u001b[0m\u001b[0;34m\u001b[0m\u001b[0;34m\u001b[0m\u001b[0m\n",
      "\u001b[0;31mNameError\u001b[0m: name 'sqlite3' is not defined"
     ]
    }
   ],
   "source": [
    "def move_clusters_to_genegraphdb():\n",
    "    conn = sqlite3.connect('genegraph.db')\n",
    "    cursor = conn.cursor()\n",
    "    cmd1 = \"CREATE INDEX p2pwindow_p2hash ON prot2protwindow (p2hash)\"\n",
    "    cmd2 = \"CREATE INDEX contig2sample_sampleid ON contig2sample (sampleid)\"\n",
    "    cmd3 = \"CREATE INDEX crisprcoords_contighash ON crisprcoords (contighash)\"\n",
    "    cmd4 = \"CREATE INDEX proteincoords_contighash ON proteincoords (contighash)\"\n",
    "    cmd5 = \"CREATE INDEX p2p_p2hash ON prot2prot (p2hash)\"\n",
    "    cmd6 = \"CREATE INDEX p2c_crisprhash ON prot2crispr (crisprhash)\"\n",
    "    cmd7 = \"CREATE INDEX p2cwindow_crisprhash ON prot2crisprwindow (crisprhash)\"\n",
    "    cmd8 = \"CREATE INDEX reppid ON stringent (reppid)\"\n",
    "    cmd9 = \"CREATE INDEX reppid ON permissive (reppid)\"\n",
    "    # cursor.execute(cmd1)\n",
    "    # cursor.execute(cmd2)\n",
    "    # cursor.execute(cmd3)\n",
    "    # cursor.execute(cmd4)\n",
    "    # cursor.execute(cmd5)\n",
    "    # cursor.execute(cmd6)\n",
    "    # cursor.execute(cmd7)\n",
    "    cursor.execute(cmd8)\n",
    "    cursor.execute(cmd9)\n",
    "    conn.commit()\n",
    "    conn.close()\n",
    "move_clusters_to_genegraphdb()"
   ]
  },
  {
   "cell_type": "code",
   "execution_count": null,
   "id": "555beb15-9a25-4eb3-9130-4ef95642dbed",
   "metadata": {},
   "outputs": [],
   "source": []
  }
 ],
 "metadata": {
  "environment": {
   "kernel": "ggdb",
   "name": "common-cpu.m82",
   "type": "gcloud",
   "uri": "gcr.io/deeplearning-platform-release/base-cpu:m82"
  },
  "kernelspec": {
   "display_name": "ggdb",
   "language": "python",
   "name": "ggdb"
  },
  "language_info": {
   "codemirror_mode": {
    "name": "ipython",
    "version": 3
   },
   "file_extension": ".py",
   "mimetype": "text/x-python",
   "name": "python",
   "nbconvert_exporter": "python",
   "pygments_lexer": "ipython3",
   "version": "3.9.7"
  }
 },
 "nbformat": 4,
 "nbformat_minor": 5
}
