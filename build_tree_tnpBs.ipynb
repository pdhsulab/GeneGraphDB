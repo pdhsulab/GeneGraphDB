{
 "cells": [
  {
   "cell_type": "code",
   "execution_count": 184,
   "id": "d7a5ca42-2098-4e50-a6d2-b2092fce81e5",
   "metadata": {},
   "outputs": [],
   "source": [
    "import os\n",
    "import pandas as pd\n",
    "import matplotlib.pyplot as plt\n",
    "from Bio import SeqIO\n",
    "from Bio import SearchIO\n",
    "import csv\n",
    "import sqlite3\n",
    "import time\n",
    "from multiprocessing import Pool, cpu_count\n",
    "import sys\n",
    "from calc_icity_ import *\n",
    "import ast\n",
    "from collections import defaultdict\n",
    "import subprocess\n",
    "import numpy as np\n",
    "import sys"
   ]
  },
  {
   "cell_type": "code",
   "execution_count": 191,
   "id": "8f736fe2-b5f3-476d-8663-24f537916081",
   "metadata": {},
   "outputs": [],
   "source": [
    "def get_prot_sequence(pid):\n",
    "    con = sqlite3.connect(\"80kprotein_stats.db\")\n",
    "    cur = con.cursor()\n",
    "    cmd = \"SELECT sequence FROM proteins WHERE pid = '%s'\" % pid \n",
    "    #print(cmd)\n",
    "    cur.execute(cmd)\n",
    "    return str(cur.fetchone()[0])\n",
    "    con.close()\n",
    "def get_faas_protidlist(protidlist, outfile_path, minlen):\n",
    "    with open(outfile_path, \"w\") as outfile:\n",
    "        for protid in protidlist:\n",
    "            protseq = get_prot_sequence(protid)\n",
    "            if len(protseq) > minlen:\n",
    "                print(\">\" + protid, file=outfile)\n",
    "                print(protseq, file=outfile)\n",
    "def get_headers_faa(inpath):\n",
    "    pids = []\n",
    "    with open(inpath) as handle:\n",
    "        for rec in SeqIO.parse(handle, 'fasta'):\n",
    "            pid = rec.id\n",
    "            pids.append(pid)\n",
    "    return pids"
   ]
  },
  {
   "cell_type": "markdown",
   "id": "087153b6-a688-4ec1-8c59-a20d394806dd",
   "metadata": {
    "tags": []
   },
   "source": [
    "## alignment"
   ]
  },
  {
   "cell_type": "markdown",
   "id": "5ef6e51b-4ccc-410b-8c4c-3764ded2c04f",
   "metadata": {},
   "source": [
    "- always start with all p60 tnpBs id.txt\n",
    "- add 100 high icity dtnpBs to \"ignore\" set\n",
    "- add 100 low icity dtnpBs to \"ignore\" set\n",
    "- select 300 random p60 tnpB ids\n",
    "- p60 cluster again"
   ]
  },
  {
   "cell_type": "markdown",
   "id": "4783d984-8f00-4fe9-bad0-2b26c0d077e7",
   "metadata": {},
   "source": [
    "### get protein ids we want to cluster: tnpB, dtnpB low icity, dtnpB high icity"
   ]
  },
  {
   "cell_type": "code",
   "execution_count": 206,
   "id": "23280932-8af7-4990-b36b-dc8bbf85fef8",
   "metadata": {},
   "outputs": [
    {
     "name": "stderr",
     "output_type": "stream",
     "text": [
      "/tmp/ipykernel_29511/3351818201.py:7: UserWarning: Boolean Series key will be reindexed to match DataFrame index.\n",
      "  tnpB_df_low_icity = tnpB_df[tnpB_df[\"denom\"] > 10][tnpB_df[\"icity\"] < .7].sort_values([\"icity\",\"numer\"], ascending = False).drop_duplicates()\n"
     ]
    }
   ],
   "source": [
    "# # concatenate catalytically active tnpBs to inactive list + condense for visibility\n",
    "tnpB_p60s_path = \"../tnpBs/cluster/OUTPUT/tmp/clu_cluster.tsv\"\n",
    "tnpB_p60_df = pd.read_csv(tnpB_p60s_path, sep = '\\t', header = None).rename(columns = {0:\"p60\",1:'p100'}).drop_duplicates()\n",
    "tnpB_p60_set = set(tnpB_p60_df[\"p60\"])\n",
    "\n",
    "tnpB_df = pd.read_csv(\"tnpB_icity_output.tsv\", sep='\\t')\n",
    "tnpB_df_low_icity = tnpB_df[tnpB_df[\"denom\"] > 10][tnpB_df[\"icity\"] < .7].sort_values([\"icity\",\"numer\"], ascending = False).drop_duplicates()\n",
    "tnpB_df = tnpB_df[tnpB_df[\"icity\"] > .7].sort_values([\"icity\",\"numer\"], ascending = False).drop_duplicates()\n",
    "tnpB_10_target_annot_df = tnpB_df[tnpB_df[\"denom\"] > 10]\n",
    "\n",
    "high_icity_dtnpBs_ls = []\n",
    "for baitp100s_str in tnpB_10_target_annot_df[\"baitp100s\"]:\n",
    "    baitp100s_ls = ast.literal_eval(baitp100s_str)\n",
    "    high_icity_dtnpBs_ls += baitp100s_ls\n",
    "high_icity_dtnpBs_ls = list(set(high_icity_dtnpBs_ls))\n",
    "high_icity_dtnpBs_samp = set(np.random.choice(high_icity_dtnpBs_ls, 100))\n",
    "\n",
    "low_icity_dtnpBs_ls = []\n",
    "for baitp100s_str in tnpB_df_low_icity[\"baitp100s\"]:\n",
    "    baitp100s_ls = ast.literal_eval(baitp100s_str)\n",
    "    low_icity_dtnpBs_ls += baitp100s_ls\n",
    "low_icity_dtnpBs_ls = list(set(low_icity_dtnpBs_ls))\n",
    "low_icity_dtnpBs_samp = set(np.random.choice(low_icity_dtnpBs_ls, 100))\n",
    "\n",
    "tnpBs_p60samp = [tnpB for tnpB in np.random.choice(\n",
    "    list(set(tnpB_p60_df[\"p60\"])), 300, replace = False) \n",
    "                 if (tnpB not in low_icity_dtnpBs_samp) \n",
    "                 and (tnpB not in high_icity_dtnpBs_samp)]\n"
   ]
  },
  {
   "cell_type": "markdown",
   "id": "dcc27691-2250-46d9-a8a6-f902ced1bdd4",
   "metadata": {
    "tags": []
   },
   "source": [
    "### cluster"
   ]
  },
  {
   "cell_type": "code",
   "execution_count": 207,
   "id": "f68c37a9-5c70-4f2b-b89f-20fecc5363ca",
   "metadata": {},
   "outputs": [],
   "source": [
    "def cluster_(pid_inpath, mmseqs_dir, identity, pid_list = None):\n",
    "    if pid_list != None:\n",
    "        with open(pid_inpath, \"w\") as outfile:\n",
    "            for pid in pid_list:\n",
    "                print(pid, file=outfile)\n",
    "    cmd = \"python3 clustering_gen.py {} {} {}\".format(pid_inpath, mmseqs_dir, identity)\n",
    "    process = subprocess.Popen(cmd.split(' '))\n",
    "    process.wait()\n",
    "    output_tsv = mmseqs_dir + \"/OUTPUT/_cluster.tsv\"\n",
    "    cluster_rep_df = pd.read_csv(output_tsv, sep = '\\t')\n",
    "    return list(set(cluster_rep_df.iloc[:,0]))"
   ]
  },
  {
   "cell_type": "code",
   "execution_count": null,
   "id": "055396ec-6589-47c3-9bbc-50f4e071f41c",
   "metadata": {},
   "outputs": [],
   "source": [
    "# inactive_tnpBs_list = []\n",
    "# with open(\"../inactive_tnpbs_ref.3.faa\", \"r\") as infile:\n",
    "#     lines=infile.readlines()\n",
    "#     for line in lines:\n",
    "#         if line[0] == '>':\n",
    "#             tnpBid = line.strip('>').strip('\\n')\n",
    "#             inactive_tnpBs_list.append(tnpBid)"
   ]
  },
  {
   "cell_type": "code",
   "execution_count": null,
   "id": "3899b880-1fba-4a48-aea6-618e673def47",
   "metadata": {},
   "outputs": [],
   "source": [
    "# pid_inpath = \"../tnpBs/_all_inactive_tnpBs.3.txt\"\n",
    "# mmseqs_dir = \"../tnpBs/clust_inactive\"\n",
    "# identity = \"0.6\"\n",
    "# pid_list = inactive_tnpBs_list"
   ]
  },
  {
   "cell_type": "code",
   "execution_count": null,
   "id": "faafd7a2-a1ee-4b57-b9f8-fea1079e73e6",
   "metadata": {},
   "outputs": [],
   "source": [
    "# dTnpB_p60_list = cluster_(pid_inpath, mmseqs_dir, identity, pid_list = None)"
   ]
  },
  {
   "cell_type": "code",
   "execution_count": 204,
   "id": "152c5bf8-ddd1-480e-aa82-9dc3f20b7689",
   "metadata": {},
   "outputs": [],
   "source": [
    "# len(pid_list), len(dTnpB_p60_list)"
   ]
  },
  {
   "cell_type": "code",
   "execution_count": 218,
   "id": "b2e68eff-d546-43b4-9d57-58d06baae7ef",
   "metadata": {},
   "outputs": [
    {
     "data": {
      "text/plain": [
       "(100, 384)"
      ]
     },
     "execution_count": 218,
     "metadata": {},
     "output_type": "execute_result"
    }
   ],
   "source": [
    "len(low_icity_dtnpBs_samp), len(tnpBs_samp_p60_list)"
   ]
  },
  {
   "cell_type": "code",
   "execution_count": 210,
   "id": "f1c7998e-2379-4616-ba44-a357d7de4c7e",
   "metadata": {},
   "outputs": [],
   "source": [
    "pid_inpath = \"../tnpBs/tnpBs_dtnpBs_samp.3.txt\"\n",
    "mmseqs_dir = \"../tnpBs/clust_inactive_active\"\n",
    "identity = \"0.6\"\n",
    "tnpBs_samp_set = high_icity_dtnpBs_samp.copy()\n",
    "tnpBs_samp_set.update(low_icity_dtnpBs_samp)\n",
    "tnpBs_samp_set.update(tnpBs_p60samp)\n",
    "\n",
    "#tnpBs_samp_p60_list = cluster_(pid_inpath, mmseqs_dir, identity, list(tnpBs_samp_set))"
   ]
  },
  {
   "cell_type": "code",
   "execution_count": 213,
   "id": "466d8dcb-b3ff-41a1-93e1-94e38502fea9",
   "metadata": {},
   "outputs": [
    {
     "data": {
      "text/plain": [
       "(493, 384)"
      ]
     },
     "execution_count": 213,
     "metadata": {},
     "output_type": "execute_result"
    }
   ],
   "source": [
    "len(tnpBs_samp_set), len(tnpBs_samp_p60_list)"
   ]
  },
  {
   "cell_type": "markdown",
   "id": "fef9af2f-2a33-4304-90a7-d4b08c75eb7a",
   "metadata": {},
   "source": [
    "### get alignment infile"
   ]
  },
  {
   "cell_type": "code",
   "execution_count": 219,
   "id": "363ca22a-9821-4b8e-9b3c-d6e5d6e31d7a",
   "metadata": {},
   "outputs": [],
   "source": [
    "protidlist = tnpBs_samp_p60_list\n",
    "kalign_infile = \"../tnpBs/alignments/kalign_tnpB_dTnpB_p60_ref.in.faa\"\n",
    "get_faas_protidlist(protidlist, kalign_infile, minlen = 300)"
   ]
  },
  {
   "cell_type": "markdown",
   "id": "35f7d11d-49b4-4234-9b36-3d57a4651fda",
   "metadata": {},
   "source": [
    "### kalign"
   ]
  },
  {
   "cell_type": "code",
   "execution_count": 220,
   "id": "dcebf130-4453-42b6-9731-bc9fbdda7f9c",
   "metadata": {},
   "outputs": [],
   "source": [
    "infile_k = kalign_infile\n",
    "outfile_k = \"../tnpBs/alignments/kalign_tnpB_dTnpB_p60_ref.out.faa\""
   ]
  },
  {
   "cell_type": "code",
   "execution_count": 221,
   "id": "3af4b1dd-868b-4e83-aab8-15dac9ecaec7",
   "metadata": {},
   "outputs": [],
   "source": [
    "def kalign(infile, outfile, minlen = 300, idlist = None):\n",
    "    if idlist != None:\n",
    "        with open(infile, \"w\") as kalign_infile:\n",
    "            for protid in idlist:\n",
    "                protseq = get_prot_sequence(protid)\n",
    "                if len(protseq) > minlen:\n",
    "                    print(\">\" + protid, file=kalign_infile)\n",
    "                    print(protseq, file=kalign_infile)\n",
    "    cmd = \"kalign -i {} -o {}\".format(infile, outfile)\n",
    "    process = subprocess.Popen(cmd.split(' '))"
   ]
  },
  {
   "cell_type": "code",
   "execution_count": null,
   "id": "05b902d2-9b0c-4ce9-8534-ba62f94a50d8",
   "metadata": {},
   "outputs": [],
   "source": [
    "kalign(infile_k, outfile_k)"
   ]
  },
  {
   "cell_type": "markdown",
   "id": "160aabd6-2bd6-4474-88ba-9741aba70e0b",
   "metadata": {},
   "source": [
    "## Build tree"
   ]
  },
  {
   "cell_type": "code",
   "execution_count": 222,
   "id": "f8c14a72-8fba-4bf9-b306-82512f193c89",
   "metadata": {},
   "outputs": [],
   "source": [
    "infile_tree = outfile_k\n",
    "outfile_tree = outfile_k.replace(\"faa\", \"tree\").replace(\"kalign_\", \"\")"
   ]
  },
  {
   "cell_type": "code",
   "execution_count": 223,
   "id": "fa44fa94-c8f9-4188-9ff2-c3b60cf805b0",
   "metadata": {},
   "outputs": [],
   "source": [
    "def fasttree(infile, outfile):\n",
    "    cmd = \"FastTree {} > {}\".format(infile, outfile)\n",
    "    print(cmd)\n",
    "    process = subprocess.Popen(cmd.split(' '))"
   ]
  },
  {
   "cell_type": "code",
   "execution_count": 225,
   "id": "eb53b9d5-72cc-4419-878e-8ebd2f820505",
   "metadata": {},
   "outputs": [],
   "source": [
    "# fasttree(infile_tree, outfile_tree)"
   ]
  },
  {
   "cell_type": "markdown",
   "id": "5229bc02-ce5f-4a97-89ec-d697091407ab",
   "metadata": {},
   "source": [
    "### create dataframe ann.otating tnpBs on tree"
   ]
  },
  {
   "cell_type": "code",
   "execution_count": 226,
   "id": "575f0043-af28-43d0-92a5-9cba3fac3048",
   "metadata": {},
   "outputs": [],
   "source": [
    "tnpB_ids_tree = get_headers_faa(infile_tree)\n",
    "tnpB_isinactive_highicity_tree = [1 if tnpB in high_icity_dtnpBs_samp else 0 for tnpB in tnpB_ids_tree ]\n",
    "tnpB_isinactive_lowicity_tree = [1 if tnpB in low_icity_dtnpBs_samp else 0 for tnpB in tnpB_ids_tree ]\n",
    "tnpB_isactive_tree = [1 if tnpB in tnpBs_p60samp else 0 for tnpB in tnpB_ids_tree ]"
   ]
  },
  {
   "cell_type": "code",
   "execution_count": 240,
   "id": "956948bc-95d1-4bcf-b845-844d8023a0fb",
   "metadata": {},
   "outputs": [],
   "source": [
    "tnpB_treelabels_df = pd.DataFrame(data={\"tnpB_id\": tnpB_ids_tree, \n",
    "                   \"inactive_highicity\": tnpB_isinactive_highicity_tree,\n",
    "                   \"inactive_lowicity\": tnpB_isinactive_lowicity_tree,\n",
    "                   \"active\": tnpB_isactive_tree\n",
    "                  })\n",
    "tnpB_treelabels_df['activity'] = tnpB_treelabels_df.iloc[:,1:].idxmax(1)\n",
    "tnpB_treelabels_df.to_csv(\"../tnpBs/alignments/tnpB_dTnpB_p60_treelabels.csv\")"
   ]
  },
  {
   "cell_type": "markdown",
   "id": "9585deb7-ec66-443b-821b-a8e5f0f116ef",
   "metadata": {},
   "source": [
    "### Extracting info from trees"
   ]
  },
  {
   "cell_type": "code",
   "execution_count": 242,
   "id": "1e8246f2-7e0b-4e8a-b0ab-91c0ec12d835",
   "metadata": {},
   "outputs": [
    {
     "data": {
      "text/plain": [
       "18"
      ]
     },
     "execution_count": 242,
     "metadata": {},
     "output_type": "execute_result"
    }
   ],
   "source": [
    "sum(tnpB_isinactive_highicity_tree)"
   ]
  },
  {
   "cell_type": "code",
   "execution_count": null,
   "id": "e543be06-3a35-4179-9165-67fe49859497",
   "metadata": {},
   "outputs": [],
   "source": [
    "# Clusters of inactive high-icity tnpBs, starting at 12:00\n"
   ]
  }
 ],
 "metadata": {
  "environment": {
   "kernel": "ggdb",
   "name": "common-cpu.m82",
   "type": "gcloud",
   "uri": "gcr.io/deeplearning-platform-release/base-cpu:m82"
  },
  "kernelspec": {
   "display_name": "ggdb",
   "language": "python",
   "name": "ggdb"
  },
  "language_info": {
   "codemirror_mode": {
    "name": "ipython",
    "version": 3
   },
   "file_extension": ".py",
   "mimetype": "text/x-python",
   "name": "python",
   "nbconvert_exporter": "python",
   "pygments_lexer": "ipython3",
   "version": "3.9.7"
  }
 },
 "nbformat": 4,
 "nbformat_minor": 5
}
