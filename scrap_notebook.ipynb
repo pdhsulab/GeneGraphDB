{
 "cells": [
  {
   "cell_type": "code",
   "execution_count": 28,
   "metadata": {},
   "outputs": [],
   "source": [
    "import os\n",
    "import pandas as pd\n",
    "import matplotlib.pyplot as plt\n",
    "from Bio import SeqIO\n",
    "import csv"
   ]
  },
  {
   "cell_type": "code",
   "execution_count": 29,
   "metadata": {},
   "outputs": [],
   "source": [
    "path_drep = \"../drep_genomes/OUTPUT/rep_genomes/\"\n",
    "drep_samples = {}\n",
    "for directory in os.listdir(path_drep):\n",
    "    path_2 = path_drep + directory\n",
    "    if os.path.isdir(path_2):\n",
    "        for directory_2 in os.listdir(path_2):\n",
    "            path_3 = path_2 + \"/\" + directory_2\n",
    "            if os.path.isdir(path_3):\n",
    "                for directory_3 in os.listdir(path_3):\n",
    "                    path_4 = path_3 + \"/\" + directory_3 + \"/\"\n",
    "                    if os.path.isdir(path_4):\n",
    "                        for directory_samp in os.listdir(path_4):\n",
    "                            samp_dir = path_4 + directory_samp\n",
    "                            if os.path.isdir(samp_dir):\n",
    "                                drep_samples[directory_samp] = path_4"
   ]
  },
  {
   "cell_type": "code",
   "execution_count": 30,
   "metadata": {},
   "outputs": [],
   "source": [
    "def get_mmseqs_input(file_paths_list, outfile_path):\n",
    "    num_samples = len(file_paths_list)\n",
    "    final_cycle_ind = num_samples //1000\n",
    "    cat_cmd_1 = \"cat \"\n",
    "    for i in range(1000):\n",
    "        cat_cmd_1 += file_paths_list[i] + \" \"\n",
    "    cat_cmd_1 += \" > \" + outfile_path\n",
    "    os.system(cat_cmd_1)\n",
    "\n",
    "    for i in range(1, final_cycle_ind):\n",
    "        cat_cmd = \"cat \"\n",
    "        for j in range(i * 1000, (i + 1) * 1000):\n",
    "\n",
    "            cat_cmd += file_paths_list[j] + \" \"\n",
    "        cat_cmd += \" >> \" + outfile_path\n",
    "        os.system(cat_cmd)\n",
    "\n",
    "    cat_cmd = \"cat \"\n",
    "    for i in range(final_cycle_ind * 1000, num_samples):\n",
    "        cat_cmd += file_paths_list[i] + \" \"\n",
    "    cat_cmd += \" >> \" + outfile_path\n",
    "    os.system(cat_cmd)"
   ]
  },
  {
   "cell_type": "markdown",
   "metadata": {},
   "source": [
    "### make multi prodigal .faa inputs"
   ]
  },
  {
   "cell_type": "code",
   "execution_count": 5,
   "metadata": {},
   "outputs": [],
   "source": [
    "prodigal_paths = []\n",
    "for sample in drep_samples.keys():\n",
    "    sample_path = drep_samples[sample] + sample\n",
    "    prodigal_path = sample_path + \"/\" + sample + \".prodigal.faa.gz\"\n",
    "    prodigal_paths.append(prodigal_path)\n",
    "    \n",
    "outfile_path = \"../clusters/INPUT/mmseqs2_testdb_input.faa.gz\"\n",
    "\n",
    "#get_mmseqs_input(prodigal_paths, outfile_path)"
   ]
  },
  {
   "cell_type": "code",
   "execution_count": 6,
   "metadata": {},
   "outputs": [],
   "source": [
    "backup_cmd = \"gsutil cp \" + outfile_path + \" gs://jluo_bucket/ggdb/clusters\"\n",
    "#os.system(backup_cmd)"
   ]
  },
  {
   "cell_type": "markdown",
   "metadata": {},
   "source": [
    "### make multi .gff inputs"
   ]
  },
  {
   "cell_type": "code",
   "execution_count": 7,
   "metadata": {},
   "outputs": [
    {
     "name": "stdout",
     "output_type": "stream",
     "text": [
      "making multi .gff inputs\n"
     ]
    }
   ],
   "source": [
    "print(\"making multi .gff inputs\")\n",
    "gff_paths = []\n",
    "for sample in drep_samples.keys():\n",
    "    sample_path = drep_samples[sample] + sample\n",
    "    prodigal_path = sample_path + \"/\" + sample + \".prodigal.gff.gz\"\n",
    "    prodigal_paths.append(prodigal_path)\n",
    "    \n",
    "outfile_path_gff = \"../clusters/mmseqs2_testdb_input.gff.gz\"\n",
    "\n",
    "#get_mmseqs_input(prodigal_paths, outfile_path_gff)"
   ]
  },
  {
   "cell_type": "code",
   "execution_count": null,
   "metadata": {},
   "outputs": [],
   "source": [
    "backup_cmd_2 = \"gsutil cp \" + outfile_path_gff + \" gs://jluo_bucket/ggdb/clusters\"\n",
    "#os.system(backup_cmd_2)"
   ]
  },
  {
   "cell_type": "markdown",
   "metadata": {},
   "source": [
    "### data exploration of failed samples"
   ]
  },
  {
   "cell_type": "code",
   "execution_count": 35,
   "metadata": {},
   "outputs": [],
   "source": [
    "path_temp = \"ggdb_multisql_errorlog.csv\""
   ]
  },
  {
   "cell_type": "code",
   "execution_count": null,
   "metadata": {},
   "outputs": [],
   "source": []
  },
  {
   "cell_type": "code",
   "execution_count": 47,
   "metadata": {},
   "outputs": [],
   "source": [
    "in_df = pd.read_csv(path_temp, header=None)\n",
    "in_df = in_df.iloc[3928:].set_index(0)\n",
    "#in_df.to_csv(path_temp, header = False)"
   ]
  },
  {
   "cell_type": "markdown",
   "metadata": {},
   "source": [
    "## choose representatives for stringent clusters"
   ]
  },
  {
   "cell_type": "code",
   "execution_count": null,
   "metadata": {},
   "outputs": [],
   "source": []
  },
  {
   "cell_type": "code",
   "execution_count": 31,
   "metadata": {},
   "outputs": [],
   "source": [
    "# iterate through unique pid (cluster representatives) in tsv\n",
    "# explore data (distribution of cluster sizes, do any representatives have >1 *)\n",
    "# search for protein in fasta file (load in memory for now)\n",
    "# length + # of *'s\n",
    "# priority is (1) no * (2) length \n",
    "\n",
    "# 1. make protein_stats csv file that summarizes each protein's viability as a representataive of a cluster\n",
    "\n",
    "path_coords = \"../clusters/proteines_testdb_10k.faa\"\n",
    "\n",
    "outfile_stats = open(\"../clusters/proteins_stats_perm_clustering.csv\", \"w\")\n",
    "print(\"pid,isgapfree,length,iscomplete,sequence\", file=outfile_stats)\n",
    "               \n",
    "fasta_sequences = SeqIO.parse(open(path_coords),'fasta')\n",
    "for fasta in fasta_sequences:\n",
    "    name, sequence = fasta.id, str(fasta.seq)\n",
    "    p_gapfree = sequence[:-1].count(\"*\") == 0\n",
    "    p_len = len(sequence)\n",
    "    p_complete = (sequence[0] == \"M\")&(sequence[-1] == \"*\")\n",
    "    print(name + \",\" + str(p_gapfree) + \",\" + str(p_len) + \",\" + str(p_complete) + \",\" + sequence, file=outfile_stats)\n",
    "\n",
    "#gff_sequences = SeqIO.parse(open()    \n",
    "    \n",
    "# 2. make pid to fragment dictionary\n",
    "#pid_to_frag    "
   ]
  },
  {
   "cell_type": "code",
   "execution_count": 32,
   "metadata": {},
   "outputs": [],
   "source": [
    "outfile_stats_df = pd.read_csv(\"../clusters/proteins_stats_perm_clustering.csv\")"
   ]
  },
  {
   "cell_type": "code",
   "execution_count": 45,
   "metadata": {},
   "outputs": [],
   "source": [
    "#outfile_stats_df[outfile_stats_df[\"length\"] < 100]"
   ]
  },
  {
   "cell_type": "code",
   "execution_count": 34,
   "metadata": {},
   "outputs": [],
   "source": [
    "path_tsv = \"../clusters/OUTPUT/stringent/tmp/clu_cluster_10k.tsv\"\n",
    "with open(path_tsv, \"r\") as in_file:\n",
    "    for line in csv.reader(in_file, delimiter='\\t'):\n",
    "        # search for protein\n",
    "        # get stats\n",
    "        # write to new file\n",
    "        unique_pid = line[1]\n",
    "    "
   ]
  },
  {
   "cell_type": "code",
   "execution_count": 46,
   "metadata": {},
   "outputs": [
    {
     "data": {
      "text/html": [
       "<div>\n",
       "<style scoped>\n",
       "    .dataframe tbody tr th:only-of-type {\n",
       "        vertical-align: middle;\n",
       "    }\n",
       "\n",
       "    .dataframe tbody tr th {\n",
       "        vertical-align: top;\n",
       "    }\n",
       "\n",
       "    .dataframe thead th {\n",
       "        text-align: right;\n",
       "    }\n",
       "</style>\n",
       "<table border=\"1\" class=\"dataframe\">\n",
       "  <thead>\n",
       "    <tr style=\"text-align: right;\">\n",
       "      <th></th>\n",
       "      <th>0</th>\n",
       "      <th>1</th>\n",
       "    </tr>\n",
       "  </thead>\n",
       "  <tbody>\n",
       "    <tr>\n",
       "      <th>0</th>\n",
       "      <td>8d08b269589e6b17da1953549c42646eb974e87a2acdea...</td>\n",
       "      <td>0bb0f09df534faa350cde83aeee781cf36778f82b310a9...</td>\n",
       "    </tr>\n",
       "    <tr>\n",
       "      <th>1</th>\n",
       "      <td>8d08b269589e6b17da1953549c42646eb974e87a2acdea...</td>\n",
       "      <td>0bb0f09df534faa350cde83aeee781cf36778f82b310a9...</td>\n",
       "    </tr>\n",
       "    <tr>\n",
       "      <th>2</th>\n",
       "      <td>8d08b269589e6b17da1953549c42646eb974e87a2acdea...</td>\n",
       "      <td>e0b63cf53261c8a6484fb78e7fb45a53775928c4f3411d...</td>\n",
       "    </tr>\n",
       "    <tr>\n",
       "      <th>3</th>\n",
       "      <td>8d08b269589e6b17da1953549c42646eb974e87a2acdea...</td>\n",
       "      <td>8e8213f5a2e431aa9999d96d1e4c707b5c83eeb2527c56...</td>\n",
       "    </tr>\n",
       "    <tr>\n",
       "      <th>4</th>\n",
       "      <td>8d08b269589e6b17da1953549c42646eb974e87a2acdea...</td>\n",
       "      <td>b908dfca9078e34c86a9d8f576c6d9a69e9f1cf98e3575...</td>\n",
       "    </tr>\n",
       "    <tr>\n",
       "      <th>...</th>\n",
       "      <td>...</td>\n",
       "      <td>...</td>\n",
       "    </tr>\n",
       "    <tr>\n",
       "      <th>9896</th>\n",
       "      <td>8bc4bbe4b8150dc6efdbb0a5eb5e61460c23a369eeba74...</td>\n",
       "      <td>8bc4bbe4b8150dc6efdbb0a5eb5e61460c23a369eeba74...</td>\n",
       "    </tr>\n",
       "    <tr>\n",
       "      <th>9897</th>\n",
       "      <td>4f74bedafe2406184579f4a3c3ecaef508c9a05958c63a...</td>\n",
       "      <td>4f74bedafe2406184579f4a3c3ecaef508c9a05958c63a...</td>\n",
       "    </tr>\n",
       "    <tr>\n",
       "      <th>9898</th>\n",
       "      <td>db4c8682a3627478f39c7a9f4d07ba9c61e76d77227ddb...</td>\n",
       "      <td>db4c8682a3627478f39c7a9f4d07ba9c61e76d77227ddb...</td>\n",
       "    </tr>\n",
       "    <tr>\n",
       "      <th>9899</th>\n",
       "      <td>83609878f820f061c41523cc3c82add7d7e3ab3934fd7f...</td>\n",
       "      <td>83609878f820f061c41523cc3c82add7d7e3ab3934fd7f...</td>\n",
       "    </tr>\n",
       "    <tr>\n",
       "      <th>9900</th>\n",
       "      <td>af624b85556024c5904d6f6cbb0c87e7f6467ba8396c29...</td>\n",
       "      <td>af624b85556024c5904d6f6cbb0c87e7f6467ba8396c29...</td>\n",
       "    </tr>\n",
       "  </tbody>\n",
       "</table>\n",
       "<p>9901 rows × 2 columns</p>\n",
       "</div>"
      ],
      "text/plain": [
       "                                                      0  \\\n",
       "0     8d08b269589e6b17da1953549c42646eb974e87a2acdea...   \n",
       "1     8d08b269589e6b17da1953549c42646eb974e87a2acdea...   \n",
       "2     8d08b269589e6b17da1953549c42646eb974e87a2acdea...   \n",
       "3     8d08b269589e6b17da1953549c42646eb974e87a2acdea...   \n",
       "4     8d08b269589e6b17da1953549c42646eb974e87a2acdea...   \n",
       "...                                                 ...   \n",
       "9896  8bc4bbe4b8150dc6efdbb0a5eb5e61460c23a369eeba74...   \n",
       "9897  4f74bedafe2406184579f4a3c3ecaef508c9a05958c63a...   \n",
       "9898  db4c8682a3627478f39c7a9f4d07ba9c61e76d77227ddb...   \n",
       "9899  83609878f820f061c41523cc3c82add7d7e3ab3934fd7f...   \n",
       "9900  af624b85556024c5904d6f6cbb0c87e7f6467ba8396c29...   \n",
       "\n",
       "                                                      1  \n",
       "0     0bb0f09df534faa350cde83aeee781cf36778f82b310a9...  \n",
       "1     0bb0f09df534faa350cde83aeee781cf36778f82b310a9...  \n",
       "2     e0b63cf53261c8a6484fb78e7fb45a53775928c4f3411d...  \n",
       "3     8e8213f5a2e431aa9999d96d1e4c707b5c83eeb2527c56...  \n",
       "4     b908dfca9078e34c86a9d8f576c6d9a69e9f1cf98e3575...  \n",
       "...                                                 ...  \n",
       "9896  8bc4bbe4b8150dc6efdbb0a5eb5e61460c23a369eeba74...  \n",
       "9897  4f74bedafe2406184579f4a3c3ecaef508c9a05958c63a...  \n",
       "9898  db4c8682a3627478f39c7a9f4d07ba9c61e76d77227ddb...  \n",
       "9899  83609878f820f061c41523cc3c82add7d7e3ab3934fd7f...  \n",
       "9900  af624b85556024c5904d6f6cbb0c87e7f6467ba8396c29...  \n",
       "\n",
       "[9901 rows x 2 columns]"
      ]
     },
     "execution_count": 46,
     "metadata": {},
     "output_type": "execute_result"
    }
   ],
   "source": [
    "pd.read_csv(path_tsv, sep = \"\\t\", header = None)"
   ]
  },
  {
   "cell_type": "code",
   "execution_count": 49,
   "metadata": {},
   "outputs": [],
   "source": [
    "unique_pid = pd.read_csv(path_tsv, sep = \"\\t\", header = None)[1].unique()"
   ]
  },
  {
   "cell_type": "code",
   "execution_count": 50,
   "metadata": {},
   "outputs": [
    {
     "data": {
      "text/plain": [
       "9208"
      ]
     },
     "execution_count": 50,
     "metadata": {},
     "output_type": "execute_result"
    }
   ],
   "source": [
    "len(unique_pid)"
   ]
  },
  {
   "cell_type": "markdown",
   "metadata": {},
   "source": [
    "## Cluster_df data ex to get cluster summary stats"
   ]
  },
  {
   "cell_type": "code",
   "execution_count": 22,
   "metadata": {},
   "outputs": [],
   "source": [
    "cluster_df = pd.read_csv(path_tsv, sep = '\\t', header = None)\n",
    "rep_counts = cluster_df.groupby(0).count()[1]"
   ]
  },
  {
   "cell_type": "code",
   "execution_count": 31,
   "metadata": {},
   "outputs": [],
   "source": [
    "all_pids_s = cluster_df[1]"
   ]
  },
  {
   "cell_type": "code",
   "execution_count": null,
   "metadata": {},
   "outputs": [],
   "source": []
  }
 ],
 "metadata": {
  "environment": {
   "kernel": "ggdb",
   "name": "common-cpu.m82",
   "type": "gcloud",
   "uri": "gcr.io/deeplearning-platform-release/base-cpu:m82"
  },
  "kernelspec": {
   "display_name": "ggdb",
   "language": "python",
   "name": "ggdb"
  },
  "language_info": {
   "codemirror_mode": {
    "name": "ipython",
    "version": 3
   },
   "file_extension": ".py",
   "mimetype": "text/x-python",
   "name": "python",
   "nbconvert_exporter": "python",
   "pygments_lexer": "ipython3",
   "version": "3.9.7"
  }
 },
 "nbformat": 4,
 "nbformat_minor": 4
}
