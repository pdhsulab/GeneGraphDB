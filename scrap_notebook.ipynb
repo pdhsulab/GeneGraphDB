{
 "cells": [
  {
   "cell_type": "code",
   "execution_count": 1,
   "metadata": {},
   "outputs": [],
   "source": [
    "import os"
   ]
  },
  {
   "cell_type": "code",
   "execution_count": 3,
   "metadata": {},
   "outputs": [],
   "source": [
    "path_drep = \"../drep_genomes/OUTPUT/rep_genomes/\"\n",
    "drep_samples = {}\n",
    "for directory in os.listdir(path_drep):\n",
    "    path_2 = path_drep + directory\n",
    "    if os.path.isdir(path_2):\n",
    "        for directory_2 in os.listdir(path_2):\n",
    "            path_3 = path_2 + \"/\" + directory_2\n",
    "            if os.path.isdir(path_3):\n",
    "                for directory_3 in os.listdir(path_3):\n",
    "                    path_4 = path_3 + \"/\" + directory_3 + \"/\"\n",
    "                    if os.path.isdir(path_4):\n",
    "                        for directory_samp in os.listdir(path_4):\n",
    "                            samp_dir = path_4 + directory_samp\n",
    "                            if os.path.isdir(samp_dir):\n",
    "                                drep_samples[directory_samp] = path_4"
   ]
  },
  {
   "cell_type": "code",
   "execution_count": 4,
   "metadata": {},
   "outputs": [],
   "source": [
    "prodigal_paths = []\n",
    "for sample in drep_samples.keys():\n",
    "    sample_path = drep_samples[sample] + sample\n",
    "    prodigal_path = sample_path + \"/\" + sample + \".prodigal.faa.gz\"\n",
    "    prodigal_paths.append(prodigal_path)"
   ]
  },
  {
   "cell_type": "code",
   "execution_count": 22,
   "metadata": {},
   "outputs": [],
   "source": [
    "num_samples = len(prodigal_paths)\n",
    "final_cycle_ind = num_samples //1000\n",
    "path_input = \"../clusters/INPUT/mmseqs2_testdb_input.faa.gz\""
   ]
  },
  {
   "cell_type": "code",
   "execution_count": 34,
   "metadata": {},
   "outputs": [],
   "source": [
    "cat_cmd_1 = \"cat \"\n",
    "for i in range(1000):\n",
    "    cat_cmd_1 += prodigal_paths[i] + \" \"\n",
    "cat_cmd_1 += \" > \" + path_input\n",
    "os.system(cat_cmd_1)\n",
    "\n",
    "for i in range(1, final_cycle_ind):\n",
    "    cat_cmd = \"cat \"\n",
    "    for j in range(i * 1000, (i + 1) * 1000):\n",
    "        \n",
    "        cat_cmd += prodigal_paths[j] + \" \"\n",
    "    cat_cmd += \" >> \" + path_input\n",
    "    os.system(cat_cmd)\n",
    "\n",
    "cat_cmd = \"cat \"\n",
    "for i in range(final_cycle_ind * 1000, num_samples):\n",
    "    cat_cmd += prodigal_paths[i] + \" \"\n",
    "cat_cmd += \" >> \" + path_input\n",
    "os.system(cat_cmd)\n",
    "        "
   ]
  },
  {
   "cell_type": "code",
   "execution_count": null,
   "metadata": {},
   "outputs": [],
   "source": [
    "os.system(cat_cmd)"
   ]
  },
  {
   "cell_type": "code",
   "execution_count": 13,
   "metadata": {},
   "outputs": [
    {
     "data": {
      "text/plain": [
       "'gsutil cp ../clusters/INPUT/mmseqs2_testdb_input.faa.gz gs://jluo_bucket/ggdb/clusters'"
      ]
     },
     "execution_count": 13,
     "metadata": {},
     "output_type": "execute_result"
    }
   ],
   "source": [
    "backup_cmd = \"gsutil cp \" + path_input + \" gs://jluo_bucket/ggdb/clusters\"\n",
    "os.system(backup_cmd)"
   ]
  },
  {
   "cell_type": "code",
   "execution_count": null,
   "metadata": {},
   "outputs": [],
   "source": []
  }
 ],
 "metadata": {
  "environment": {
   "kernel": "python3",
   "name": "common-cpu.m82",
   "type": "gcloud",
   "uri": "gcr.io/deeplearning-platform-release/base-cpu:m82"
  },
  "kernelspec": {
   "display_name": "Python 3",
   "language": "python",
   "name": "python3"
  },
  "language_info": {
   "codemirror_mode": {
    "name": "ipython",
    "version": 3
   },
   "file_extension": ".py",
   "mimetype": "text/x-python",
   "name": "python",
   "nbconvert_exporter": "python",
   "pygments_lexer": "ipython3",
   "version": "3.7.10"
  }
 },
 "nbformat": 4,
 "nbformat_minor": 4
}
