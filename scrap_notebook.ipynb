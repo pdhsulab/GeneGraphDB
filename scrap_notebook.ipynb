{
 "cells": [
  {
   "cell_type": "code",
   "execution_count": 1,
   "metadata": {},
   "outputs": [],
   "source": [
    "import os"
   ]
  },
  {
   "cell_type": "code",
   "execution_count": 2,
   "metadata": {},
   "outputs": [
    {
     "name": "stdout",
     "output_type": "stream",
     "text": [
      "\u001b[34m8156401\u001b[m\u001b[m/                    \u001b[34mgenomes_annot\u001b[m\u001b[m/\r\n",
      "9217881.prodigal.faa        \u001b[34mgenomes_annot_2\u001b[m\u001b[m/\r\n",
      "LICENSE.txt                 ggdb_load_stats.csv\r\n",
      "MANIFEST.in                 ggdb_multisql_errorlog.csv\r\n",
      "README.md                   ggdb_summary_stats.csv\r\n",
      "Untitled.ipynb              setup.py\r\n",
      "genegraph.db                test_cat\r\n",
      "\u001b[34mgenegraphdb\u001b[m\u001b[m/                \u001b[34mvenv\u001b[m\u001b[m/\r\n",
      "\u001b[34mgenegraphdb.egg-info\u001b[m\u001b[m/\r\n"
     ]
    }
   ],
   "source": [
    "ls"
   ]
  },
  {
   "cell_type": "code",
   "execution_count": 3,
   "metadata": {},
   "outputs": [],
   "source": [
    "path_drep = \"../drep_genomes/OUTPUT/rep_genomes/\"\n",
    "drep_samples = {}\n",
    "for directory in os.listdir(path_drep):\n",
    "    path_2 = path_drep + directory\n",
    "    if os.path.isdir(path_2):\n",
    "        for directory_2 in os.listdir(path_2):\n",
    "            path_3 = path_2 + \"/\" + directory_2\n",
    "            if os.path.isdir(path_3):\n",
    "                for directory_3 in os.listdir(path_3):\n",
    "                    path_4 = path_3 + \"/\" + directory_3 + \"/\"\n",
    "                    if os.path.isdir(path_4):\n",
    "                        for directory_samp in os.listdir(path_4):\n",
    "                            samp_dir = path_4 + directory_samp\n",
    "                            if os.path.isdir(samp_dir):\n",
    "                                drep_samples[directory_samp] = path_4"
   ]
  },
  {
   "cell_type": "code",
   "execution_count": 4,
   "metadata": {},
   "outputs": [
    {
     "data": {
      "text/plain": [
       "{'GUT_GENOME221102': '../drep_genomes/OUTPUT/rep_genomes/A009/B007/C024/',\n",
       " '9217881': '../drep_genomes/OUTPUT/rep_genomes/A001/B001/C009/',\n",
       " '9217271': '../drep_genomes/OUTPUT/rep_genomes/A001/B001/C009/'}"
      ]
     },
     "execution_count": 4,
     "metadata": {},
     "output_type": "execute_result"
    }
   ],
   "source": [
    "drep_samples"
   ]
  },
  {
   "cell_type": "code",
   "execution_count": 5,
   "metadata": {},
   "outputs": [
    {
     "data": {
      "text/plain": [
       "['../drep_genomes/OUTPUT/rep_genomes/A009/B007/C024/GUT_GENOME221102/GUT_GENOME221102.prodigal.faa.gz',\n",
       " '../drep_genomes/OUTPUT/rep_genomes/A001/B001/C009/9217881/9217881.prodigal.faa.gz',\n",
       " '../drep_genomes/OUTPUT/rep_genomes/A001/B001/C009/9217271/9217271.prodigal.faa.gz']"
      ]
     },
     "execution_count": 5,
     "metadata": {},
     "output_type": "execute_result"
    }
   ],
   "source": [
    "prodigal_paths = []\n",
    "for sample in drep_samples.keys():\n",
    "    sample_path = drep_samples[sample] + sample\n",
    "    prodigal_path = sample_path + \"/\" + sample + \".prodigal.faa.gz\"\n",
    "    prodigal_paths.append(prodigal_path)\n",
    "prodigal_paths"
   ]
  },
  {
   "cell_type": "code",
   "execution_count": 6,
   "metadata": {},
   "outputs": [],
   "source": [
    "cat_cmd = \"cat \"\n",
    "for i in range(len(prodigal_paths)):\n",
    "    cat_cmd += prodigal_paths[i] + \" \"\n",
    "cat_cmd += \" > test_mmseqs2.faa.gz\""
   ]
  },
  {
   "cell_type": "code",
   "execution_count": 7,
   "metadata": {},
   "outputs": [
    {
     "data": {
      "text/plain": [
       "'cat ../drep_genomes/OUTPUT/rep_genomes/A009/B007/C024/GUT_GENOME221102/GUT_GENOME221102.prodigal.faa.gz ../drep_genomes/OUTPUT/rep_genomes/A001/B001/C009/9217881/9217881.prodigal.faa.gz ../drep_genomes/OUTPUT/rep_genomes/A001/B001/C009/9217271/9217271.prodigal.faa.gz  > test_mmseqs2.faa.gz'"
      ]
     },
     "execution_count": 7,
     "metadata": {},
     "output_type": "execute_result"
    }
   ],
   "source": [
    "cat_cmd"
   ]
  },
  {
   "cell_type": "code",
   "execution_count": null,
   "metadata": {},
   "outputs": [],
   "source": [
    "os.system(cat_cmd)"
   ]
  }
 ],
 "metadata": {
  "kernelspec": {
   "display_name": "ggdb",
   "language": "python",
   "name": "ggdb"
  },
  "language_info": {
   "codemirror_mode": {
    "name": "ipython",
    "version": 3
   },
   "file_extension": ".py",
   "mimetype": "text/x-python",
   "name": "python",
   "nbconvert_exporter": "python",
   "pygments_lexer": "ipython3",
   "version": "3.8.5"
  }
 },
 "nbformat": 4,
 "nbformat_minor": 4
}
