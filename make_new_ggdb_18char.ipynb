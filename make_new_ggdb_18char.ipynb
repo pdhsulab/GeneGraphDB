{
 "cells": [
  {
   "cell_type": "code",
   "execution_count": 1,
   "id": "a838cdc9-163d-4e1d-bd00-33383d1a3438",
   "metadata": {},
   "outputs": [],
   "source": [
    "import os\n",
    "import pandas as pd\n",
    "import matplotlib.pyplot as plt\n",
    "from Bio import SeqIO\n",
    "import csv\n",
    "import sqlite3\n",
    "import time\n",
    "from multiprocessing import Pool, cpu_count\n",
    "import sys"
   ]
  },
  {
   "cell_type": "code",
   "execution_count": null,
   "id": "6be5a890-1e3b-4138-8ef8-e06a19ecc64b",
   "metadata": {},
   "outputs": [],
   "source": [
    "def protein_stats_db():\n",
    "    conn = sqlite3.connect('80kprotein_stats.db')\n",
    "    cursor = conn.cursor()\n",
    "    cmd1 = \"ATTACH DATABASE '80kprotein_stats.old.db' AS db2\"\n",
    "    cmd2 = \"INSERT OR IGNORE INTO proteins SELECT SUBSTRING(pid, 1, 18), isgapfree, length, iscomplete, sequence FROM db2.proteins\"\n",
    "    conn.execute(cmd1)\n",
    "    cursor.execute(cmd2)\n",
    "    conn.commit()\n",
    "    conn.close()\n",
    "protein_stats_db()"
   ]
  },
  {
   "cell_type": "code",
   "execution_count": null,
   "id": "10266697-c860-4da7-b8e5-eac29ed2bfda",
   "metadata": {},
   "outputs": [],
   "source": [
    "def proteins():\n",
    "    conn = sqlite3.connect('genegraph.new.db')\n",
    "    cursor = conn.cursor()\n",
    "    cmd1 = \"ATTACH DATABASE 'genegraph.db' AS db2\"\n",
    "    cmd2 = \"INSERT INTO proteins SELECT SUBSTRING(hashid, 1, 18), length FROM db2.proteins\"\n",
    "    conn.execute(cmd1)\n",
    "    cursor.execute(cmd2)\n",
    "    conn.commit()\n",
    "    conn.close()\n",
    "#proteins()"
   ]
  },
  {
   "cell_type": "code",
   "execution_count": null,
   "id": "1aa3b551-fade-4068-b51e-7ff505d8d5a7",
   "metadata": {},
   "outputs": [],
   "source": [
    "def insert_rest():\n",
    "    conn = sqlite3.connect('genegraph.new.db')\n",
    "    cursor = conn.cursor()\n",
    "    cmd1 = \"ATTACH DATABASE 'genegraph.db' AS db2\"\n",
    "    cmd2 = \"INSERT INTO samples SELECT sampleid FROM db2.samples\"\n",
    "    cmd3 = \"INSERT INTO crisprs SELECT SUBSTRING(hashid, 1, 18) FROM db2.crisprs\"\n",
    "    cmd4 = \"INSERT INTO contigs SELECT SUBSTRING(hashid, 1, 18), length FROM db2.contigs\"\n",
    "    cmd5 = \"INSERT INTO contig2sample SELECT SUBSTRING(contighashid, 1, 18), sampleid FROM db2.contig2sample\"\n",
    "    cmd6 = \"INSERT INTO crisprcoords SELECT SUBSTRING(crisprhash, 1, 18), SUBSTRING(contighash, 1, 18), start, end FROM db2.crisprcoords\"\n",
    "    cmd7 = \"INSERT INTO proteincoords SELECT SUBSTRING(phash, 1, 18), SUBSTRING(contighash, 1, 18), start, end, orientation FROM db2.proteincoords\"\n",
    "    cmd8 = \"INSERT INTO prot2prot SELECT SUBSTRING(p1hash, 1, 18), SUBSTRING(p2hash, 1, 18) FROM db2.prot2prot\"\n",
    "    cmd9 = \"INSERT INTO prot2crispr SELECT SUBSTRING(p1hash, 1, 18), SUBSTRING(crisprhash, 1, 18) FROM db2.prot2crispr\"\n",
    "    cmd10 = \"INSERT INTO prot2protwindow SELECT SUBSTRING(p1hash, 1, 18), SUBSTRING(p2hash, 1, 18) FROM db2.prot2protwindow\"\n",
    "    cmd11 = \"INSERT INTO prot2crisprwindow SELECT SUBSTRING(p1hash, 1, 18), SUBSTRING(crisprhash, 1, 18) FROM db2.prot2crisprwindow\"\n",
    "    cmd12 = \"INSERT INTO stringent SELECT SUBSTRING(reppid, 1, 18), SUBSTRING(pid, 1, 18) FROM db2.stringent\"\n",
    "    cmd13 = \"INSERT INTO permissive SELECT SUBSTRING(reppid, 1, 18), SUBSTRING(pid, 1, 18) FROM db2.permissive\"\n",
    "    cmd14 = \"INSERT INTO clusters SELECT SUBSTRING(p100, 1, 18), SUBSTRING(p90, 1, 18), SUBSTRING(p30, 1, 18) FROM db2.clusters\"\n",
    "    \n",
    "    conn.execute(cmd1)\n",
    "    cursor.execute(cmd7)\n",
    "    cursor.execute(cmd14)\n",
    "    cursor.execute(cmd2)\n",
    "    cursor.execute(cmd3)\n",
    "    cursor.execute(cmd4)\n",
    "    cursor.execute(cmd5)\n",
    "    cursor.execute(cmd6)\n",
    "\n",
    "    cursor.execute(cmd8)\n",
    "    cursor.execute(cmd9)\n",
    "    cursor.execute(cmd10)\n",
    "    cursor.execute(cmd11)\n",
    "    cursor.execute(cmd12)\n",
    "    cursor.execute(cmd13)\n",
    "\n",
    "    conn.commit()\n",
    "    conn.close()\n",
    "\n",
    "# insert_rest()"
   ]
  },
  {
   "cell_type": "code",
   "execution_count": null,
   "id": "2dfc6280-b8c6-4e37-a7da-0807c8d5b178",
   "metadata": {},
   "outputs": [],
   "source": [
    "def samples():\n",
    "    conn = sqlite3.connect('genegraph.new.db')\n",
    "    cursor = conn.cursor()\n",
    "    cmd1 = \"ATTACH DATABASE 'genegraph.db' AS db2\"\n",
    "    cmd2 = \"INSERT INTO samples SELECT sampleid FROM db2.samples\"\n",
    "    conn.execute(cmd1)\n",
    "    cursor.execute(cmd2)\n",
    "    conn.commit()\n",
    "    conn.close()\n",
    "#samples()"
   ]
  },
  {
   "cell_type": "code",
   "execution_count": null,
   "id": "b4bd4a8b-49e4-4027-8ca8-cac85cae3ceb",
   "metadata": {},
   "outputs": [],
   "source": [
    "def crisprs():\n",
    "    conn = sqlite3.connect('genegraph.new.db')\n",
    "    cursor = conn.cursor()\n",
    "    cmd1 = \"ATTACH DATABASE 'genegraph.db' AS db2\"\n",
    "    cmd2 = \"INSERT INTO crisprs SELECT SUBSTRING(hashid, 1, 18) FROM db2.crisprs\"\n",
    "    conn.execute(cmd1)\n",
    "    cursor.execute(cmd2)\n",
    "    conn.commit()\n",
    "    conn.close()\n",
    "#crisprs()"
   ]
  },
  {
   "cell_type": "code",
   "execution_count": null,
   "id": "2c0fb789-041f-4321-b085-b0e2bda8ebc0",
   "metadata": {},
   "outputs": [],
   "source": [
    "def contigs():\n",
    "    conn = sqlite3.connect('genegraph.new.db')\n",
    "    cursor = conn.cursor()\n",
    "    cmd1 = \"ATTACH DATABASE 'genegraph.db' AS db2\"\n",
    "    cmd2 = \"INSERT INTO contigs SELECT SUBSTRING(hashid, 1, 18), length FROM db2.contigs\"\n",
    "    conn.execute(cmd1)\n",
    "    cursor.execute(cmd2)\n",
    "    conn.commit()\n",
    "    conn.close()\n",
    "#contigs()"
   ]
  },
  {
   "cell_type": "code",
   "execution_count": null,
   "id": "89805f8a-a343-4a72-a9dd-f42a38a50ca0",
   "metadata": {},
   "outputs": [],
   "source": [
    "def contig2sample():\n",
    "    conn = sqlite3.connect('genegraph.new.db')\n",
    "    cursor = conn.cursor()\n",
    "    cmd1 = \"ATTACH DATABASE 'genegraph.db' AS db2\"\n",
    "    cmd2 = \"INSERT INTO contig2sample SELECT SUBSTRING(contighashid, 1, 18), sampleid FROM db2.contig2sample\"\n",
    "    conn.execute(cmd1)\n",
    "    cursor.execute(cmd2)\n",
    "    conn.commit()\n",
    "    conn.close()\n",
    "#contig2sample()"
   ]
  },
  {
   "cell_type": "code",
   "execution_count": null,
   "id": "26576416-3e6d-4518-8011-7874d02f9056",
   "metadata": {},
   "outputs": [],
   "source": [
    "def crisprcoords():\n",
    "    conn = sqlite3.connect('genegraph.new.db')\n",
    "    cursor = conn.cursor()\n",
    "    cmd1 = \"ATTACH DATABASE 'genegraph.db' AS db2\"\n",
    "    cmd2 = \"INSERT INTO crisprcoords SELECT SUBSTRING(crisprhash, 1, 18), SUBSTRING(contighash, 1, 18), start, end FROM db2.crisprcoords\"\n",
    "    conn.execute(cmd1)\n",
    "    cursor.execute(cmd2)\n",
    "    conn.commit()\n",
    "    conn.close()\n",
    "#crisprcoords()"
   ]
  },
  {
   "cell_type": "code",
   "execution_count": null,
   "id": "dc8cfc4a-6f2f-4e14-ac50-982594c5633f",
   "metadata": {},
   "outputs": [],
   "source": [
    "def proteincoords():\n",
    "    conn = sqlite3.connect('genegraph.new.db')\n",
    "    cursor = conn.cursor()\n",
    "    cmd1 = \"ATTACH DATABASE 'genegraph.db' AS db2\"\n",
    "    cmd2 = \"INSERT INTO proteincoords SELECT SUBSTRING(phash, 1, 18), SUBSTRING(contighash, 1, 18), start, end, orientation FROM db2.proteincoords\"\n",
    "    conn.execute(cmd1)\n",
    "    cursor.execute(cmd2)\n",
    "    conn.commit()\n",
    "    conn.close()\n",
    "#proteincoords()"
   ]
  },
  {
   "cell_type": "code",
   "execution_count": null,
   "id": "1f808c1f-af77-4956-aa77-42231c38b98e",
   "metadata": {},
   "outputs": [],
   "source": [
    "def prot2prot():\n",
    "    conn = sqlite3.connect('genegraph.new.db')\n",
    "    cursor = conn.cursor()\n",
    "    cmd1 = \"ATTACH DATABASE 'genegraph.db' AS db2\"\n",
    "    cmd2 = \"INSERT INTO prot2prot SELECT SUBSTRING(p1hash, 1, 18), SUBSTRING(p2hash, 1, 18) FROM db2.prot2prot\"\n",
    "    conn.execute(cmd1)\n",
    "    cursor.execute(cmd2)\n",
    "    conn.commit()\n",
    "    conn.close()\n",
    "#prot2prot()"
   ]
  },
  {
   "cell_type": "code",
   "execution_count": null,
   "id": "23a64617-3b04-41a7-8c92-7862ed1c0b6d",
   "metadata": {},
   "outputs": [],
   "source": [
    "def prot2crispr():\n",
    "    conn = sqlite3.connect('genegraph.new.db')\n",
    "    cursor = conn.cursor()\n",
    "    cmd1 = \"ATTACH DATABASE 'genegraph.db' AS db2\"\n",
    "    cmd2 = \"INSERT INTO prot2crispr SELECT SUBSTRING(p1hash, 1, 18), SUBSTRING(crisprhash, 1, 18) FROM db2.prot2crispr\"\n",
    "    conn.execute(cmd1)\n",
    "    cursor.execute(cmd2)\n",
    "    conn.commit()\n",
    "    conn.close()\n",
    "#prot2crispr()"
   ]
  },
  {
   "cell_type": "code",
   "execution_count": null,
   "id": "d6a38fc8-a065-407f-bb33-4d994cd63ab5",
   "metadata": {},
   "outputs": [],
   "source": [
    "def prot2protwindow():\n",
    "    conn = sqlite3.connect('genegraph.new.db')\n",
    "    cursor = conn.cursor()\n",
    "    cmd1 = \"ATTACH DATABASE 'genegraph.db' AS db2\"\n",
    "    cmd2 = \"INSERT INTO prot2protwindow SELECT SUBSTRING(p1hash, 1, 18), SUBSTRING(p2hash, 1, 18) FROM db2.prot2protwindow\"\n",
    "    conn.execute(cmd1)\n",
    "    cursor.execute(cmd2)\n",
    "    conn.commit()\n",
    "    conn.close()\n",
    "#prot2protwindow()"
   ]
  },
  {
   "cell_type": "code",
   "execution_count": null,
   "id": "1e0d6e16-a527-4e4e-8f78-d13cefaa028e",
   "metadata": {},
   "outputs": [],
   "source": [
    "def prot2crisprwindow():\n",
    "    conn = sqlite3.connect('genegraph.new.db')\n",
    "    cursor = conn.cursor()\n",
    "    cmd1 = \"ATTACH DATABASE 'genegraph.db' AS db2\"\n",
    "    cmd2 = \"INSERT INTO prot2crisprwindow SELECT SUBSTRING(p1hash, 1, 18), SUBSTRING(crisprhash, 1, 18) FROM db2.prot2crisprwindow\"\n",
    "    conn.execute(cmd1)\n",
    "    cursor.execute(cmd2)\n",
    "    conn.commit()\n",
    "    conn.close()\n",
    "#prot2crisprwindow()"
   ]
  },
  {
   "cell_type": "code",
   "execution_count": null,
   "id": "a8496139-ca53-48f8-884c-c9fb5fca043f",
   "metadata": {},
   "outputs": [],
   "source": [
    "def stringent():\n",
    "    conn = sqlite3.connect('genegraph.new.db')\n",
    "    cursor = conn.cursor()\n",
    "    cmd1 = \"ATTACH DATABASE 'genegraph.db' AS db2\"\n",
    "    cmd2 = \"INSERT INTO stringent SELECT SUBSTRING(reppid, 1, 18), SUBSTRING(pid, 1, 18) FROM db2.stringent\"\n",
    "    conn.execute(cmd1)\n",
    "    cursor.execute(cmd2)\n",
    "    conn.commit()\n",
    "    conn.close()\n",
    "#stringent()"
   ]
  },
  {
   "cell_type": "code",
   "execution_count": null,
   "id": "44a5afaa-d258-40b6-bd87-94ad2d69344f",
   "metadata": {},
   "outputs": [],
   "source": [
    "def permissive():\n",
    "    conn = sqlite3.connect('genegraph.new.db')\n",
    "    cursor = conn.cursor()\n",
    "    cmd1 = \"ATTACH DATABASE 'genegraph.db' AS db2\"\n",
    "    cmd2 = \"INSERT INTO permissive SELECT SUBSTRING(reppid, 1, 18), SUBSTRING(pid, 1, 18) FROM db2.permissive\"\n",
    "    conn.execute(cmd1)\n",
    "    cursor.execute(cmd2)\n",
    "    conn.commit()\n",
    "    conn.close()\n",
    "#permissive()"
   ]
  },
  {
   "cell_type": "code",
   "execution_count": null,
   "id": "d9021bf1-a644-469e-941f-6cf5b7c239c8",
   "metadata": {},
   "outputs": [],
   "source": [
    "def clusters():\n",
    "    conn = sqlite3.connect('genegraph.new.db')\n",
    "    cursor = conn.cursor()\n",
    "    cmd1 = \"ATTACH DATABASE 'genegraph.db' AS db2\"\n",
    "    cmd2 = \"INSERT INTO clusters SELECT SUBSTRING(p100, 1, 18), SUBSTRING(p90, 1, 18), SUBSTRING(p30, 1, 18) FROM db2.clusters\"\n",
    "    conn.execute(cmd1)\n",
    "    cursor.execute(cmd2)\n",
    "    conn.commit()\n",
    "    conn.close()\n",
    "#clusters()"
   ]
  },
  {
   "cell_type": "code",
   "execution_count": null,
   "id": "4688536d-9e00-44e1-9d00-7a1548f0f4aa",
   "metadata": {},
   "outputs": [],
   "source": []
  }
 ],
 "metadata": {
  "environment": {
   "kernel": "ggdb",
   "name": "common-cpu.m82",
   "type": "gcloud",
   "uri": "gcr.io/deeplearning-platform-release/base-cpu:m82"
  },
  "kernelspec": {
   "display_name": "ggdb",
   "language": "python",
   "name": "ggdb"
  },
  "language_info": {
   "codemirror_mode": {
    "name": "ipython",
    "version": 3
   },
   "file_extension": ".py",
   "mimetype": "text/x-python",
   "name": "python",
   "nbconvert_exporter": "python",
   "pygments_lexer": "ipython3",
   "version": "3.9.7"
  }
 },
 "nbformat": 4,
 "nbformat_minor": 5
}
