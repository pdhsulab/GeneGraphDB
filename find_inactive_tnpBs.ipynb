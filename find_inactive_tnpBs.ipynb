{
 "cells": [
  {
   "cell_type": "code",
   "execution_count": 23,
   "id": "63ab32de-d1c6-4991-8d06-38b28c0f7f81",
   "metadata": {},
   "outputs": [],
   "source": [
    "import os\n",
    "import pandas as pd\n",
    "import matplotlib.pyplot as plt\n",
    "from Bio import SeqIO\n",
    "from Bio import SearchIO\n",
    "import csv\n",
    "import sqlite3\n",
    "import time\n",
    "from multiprocessing import Pool, cpu_count\n",
    "import sys\n",
    "from calc_icity_ import *\n",
    "import ast\n",
    "from collections import defaultdict"
   ]
  },
  {
   "cell_type": "code",
   "execution_count": 50,
   "id": "04636ba9-6939-47e9-9a36-81d1c2bd2c8b",
   "metadata": {},
   "outputs": [],
   "source": [
    "outdir = \"../tnpBs/representatives\"\n",
    "\n",
    "infile_tnpb_df = \"tnpB_targetgenes_pfam.filtered.csv\"\n",
    "infile_tnpBs = \"tnpBs_in_testdb.p100.1e4.txt\"\n",
    "tnpB_p60s_path = \"../tnpBs/cluster/OUTPUT/tmp/clu_cluster.tsv\"\n",
    "infile_mafft = outdir + \"/_all_tnpBs_mafft_input.faa\"\n",
    "outfile_mafft = outdir + \"/_all_tnpBs_mafft.out.faa\"\n",
    "\n",
    "outfile_tnpBs_inactive = \"../tnpBs/_inactive_tnpBs.faa\""
   ]
  },
  {
   "cell_type": "code",
   "execution_count": 25,
   "id": "888eb633-f74e-4f70-aee9-c2308d9ec09f",
   "metadata": {},
   "outputs": [],
   "source": [
    "tnpB_10_target_annot_df = pd.read_csv(infile_tnpb_df).iloc[:,1:]\n",
    "#tnpB_10_target_annot_df = pd.read_csv(\"tnpB_targetgenes_pfam.csv\").iloc[:,1:]"
   ]
  },
  {
   "cell_type": "code",
   "execution_count": 26,
   "id": "683f12a4-6296-474d-af9b-5f3df5c71fd9",
   "metadata": {},
   "outputs": [
    {
     "data": {
      "text/plain": [
       "(321, 11)"
      ]
     },
     "execution_count": 26,
     "metadata": {},
     "output_type": "execute_result"
    }
   ],
   "source": [
    "tnpB_10_target_annot_df.shape"
   ]
  },
  {
   "cell_type": "code",
   "execution_count": 11,
   "id": "65cad4a4-f240-4711-862d-ea044bd80355",
   "metadata": {},
   "outputs": [
    {
     "data": {
      "text/plain": [
       "(55599, 55599)"
      ]
     },
     "execution_count": 11,
     "metadata": {},
     "output_type": "execute_result"
    }
   ],
   "source": [
    "tnpBs_list = []\n",
    "with open(infile_tnpBs, \"r\") as infile:\n",
    "    lines = infile.readlines()\n",
    "    for line in lines:\n",
    "        p100 = line.split('\\n')[0]\n",
    "        tnpBs_list.append(p100)\n",
    "tnpBs_set = set(tnpBs_list)\n",
    "len(tnpBs_list), len(tnpBs_set)"
   ]
  },
  {
   "cell_type": "markdown",
   "id": "b538d5ef-d291-47c7-8820-1f13a8955661",
   "metadata": {},
   "source": [
    "## get high icity tnpBs (p60s) to align"
   ]
  },
  {
   "cell_type": "code",
   "execution_count": 36,
   "id": "b1c3c849-70c4-4d83-bb66-6f860e6fda30",
   "metadata": {},
   "outputs": [],
   "source": [
    "def get_prot_sequence(pid):\n",
    "    con=sqlite3.connect(\"80kprotein_stats.db\")\n",
    "    cur = con.cursor()\n",
    "    cmd = \"SELECT sequence FROM proteins WHERE pid = '%s'\" % pid \n",
    "    #print(cmd)\n",
    "    cur.execute(cmd)\n",
    "    return str(cur.fetchone()[0])\n",
    "    con.close()\n",
    "def get_faas_protidlist(protidlist, outfile_path):\n",
    "    with open(outfile_path, \"w\") as outfile:\n",
    "        for protid in protidlist:\n",
    "            protseq = get_prot_sequence(protid)\n",
    "            print(\">\" + protid, file=outfile)\n",
    "            print(protseq, file=outfile)\n",
    "# # run only once to cluster all tnpBs in tnpBs_list\n",
    "#get_faas_protidlist(tnpBs_list, \"../tnpBs/cluster/INPUT/tnpB_mmseqs_input.faa\")"
   ]
  },
  {
   "cell_type": "code",
   "execution_count": 18,
   "id": "c6badc6c-deba-402d-8416-768e2f510a7a",
   "metadata": {},
   "outputs": [],
   "source": [
    "# run only after p60 clusters formed\n",
    "tnpB_p60_df = pd.read_csv(tnpB_p60s_path, sep = '\\t', header = None).rename(columns = {0:\"p60\",1:'p100'}).drop_duplicates()"
   ]
  },
  {
   "cell_type": "code",
   "execution_count": 27,
   "id": "473af590-313e-4f7c-86ee-5bd2cd94dfc9",
   "metadata": {},
   "outputs": [],
   "source": [
    "high_icity_tnpBs_ls = []\n",
    "for baitp100s_str in tnpB_10_target_annot_df[\"baitp100s\"]:\n",
    "    baitp100s_ls = ast.literal_eval(baitp100s_str)\n",
    "    high_icity_tnpBs_ls += baitp100s_ls\n",
    "high_icity_tnpBs = [tnpB for tnpB in high_icity_tnpBs_ls if tnpB in tnpBs_set]\n",
    "high_icity_tnpBs_set = set(high_icity_tnpBs)\n"
   ]
  },
  {
   "cell_type": "code",
   "execution_count": 28,
   "id": "655769cb-50ad-4a7c-a49e-574f9ca44e7f",
   "metadata": {},
   "outputs": [
    {
     "data": {
      "text/plain": [
       "(8331, 9767)"
      ]
     },
     "execution_count": 28,
     "metadata": {},
     "output_type": "execute_result"
    }
   ],
   "source": [
    "len(high_icity_tnpBs), len([tnpB for tnpB in high_icity_tnpBs_ls])"
   ]
  },
  {
   "cell_type": "code",
   "execution_count": 29,
   "id": "6ee57842-a0ac-4914-8cac-0d0f18126df1",
   "metadata": {},
   "outputs": [],
   "source": [
    "tnpB_p60_list = list(set(tnpB_p60_df['p60']))\n",
    "tnpB_p60_highicity_list = [p60 for p60 in tnpB_p60_list if p60 in high_icity_tnpBs_set]"
   ]
  },
  {
   "cell_type": "code",
   "execution_count": 30,
   "id": "f09106be-92f7-4d5c-816f-4ddf2147567b",
   "metadata": {},
   "outputs": [
    {
     "data": {
      "text/plain": [
       "(4983, 55599)"
      ]
     },
     "execution_count": 30,
     "metadata": {},
     "output_type": "execute_result"
    }
   ],
   "source": [
    "len(high_icity_tnpBs_set), len(tnpBs_list)"
   ]
  },
  {
   "cell_type": "code",
   "execution_count": 32,
   "id": "fb9f8ac4-6f27-42dd-80f4-686d1cf3d4ca",
   "metadata": {},
   "outputs": [
    {
     "data": {
      "text/plain": [
       "(917, 23776)"
      ]
     },
     "execution_count": 32,
     "metadata": {},
     "output_type": "execute_result"
    }
   ],
   "source": [
    "len(tnpB_p60_highicity_list), len(tnpB_p60_list)"
   ]
  },
  {
   "cell_type": "markdown",
   "id": "b73d752b-98f2-4a13-8ecb-62f27e36dce2",
   "metadata": {},
   "source": [
    "### run alignments and get catalytically inactive tnpBs"
   ]
  },
  {
   "cell_type": "code",
   "execution_count": 37,
   "id": "8f4a35f5-c713-4099-9297-734624617ebc",
   "metadata": {},
   "outputs": [],
   "source": [
    "def get_multifaa_protidlist(protidlist, outpath):\n",
    "    with open(outpath, \"w\") as outfile:\n",
    "        for protid in protidlist:\n",
    "            protseq = get_prot_sequence(protid)\n",
    "            if len(protseq) > 300 and len(protseq) < 500:\n",
    "                print(\">\" + protid, file=outfile)\n",
    "                print(protseq, file=outfile)\n",
    "get_multifaa_protidlist(tnpB_p60_highicity_list, infile_mafft)"
   ]
  },
  {
   "cell_type": "code",
   "execution_count": 40,
   "id": "94b5f0ba-cb41-4974-9bf4-ad75d6e0db61",
   "metadata": {},
   "outputs": [
    {
     "name": "stdout",
     "output_type": "stream",
     "text": [
      "running mafft ginsi: ginsi --thread 32 ../tnpBs/representatives/_all_tnpBs_mafft_input.faa > ../tnpBs/representatives/_all_tnpBs_mafft.out.faa\n"
     ]
    },
    {
     "name": "stderr",
     "output_type": "stream",
     "text": [
      "sh: 1: ginsi: not found\n"
     ]
    },
    {
     "data": {
      "text/plain": [
       "32512"
      ]
     },
     "execution_count": 40,
     "metadata": {},
     "output_type": "execute_result"
    }
   ],
   "source": [
    "cmd_mafft = \"ginsi --thread 32 \" + infile_mafft + \" > \" + outfile_mafft\n",
    "print(\"running mafft ginsi: \" + cmd_mafft)\n",
    "os.system(cmd_mafft)"
   ]
  },
  {
   "cell_type": "code",
   "execution_count": 41,
   "id": "51af7a13-05ee-4dc1-9987-1356fa7c5eaf",
   "metadata": {},
   "outputs": [
    {
     "data": {
      "text/plain": [
       "True"
      ]
     },
     "execution_count": 41,
     "metadata": {},
     "output_type": "execute_result"
    }
   ],
   "source": [
    "'0fea0aedf485f57c86' in tnpB_p60_highicity_list"
   ]
  },
  {
   "cell_type": "code",
   "execution_count": 42,
   "id": "c4701f46-63bf-414a-b955-979ae80d9e7f",
   "metadata": {},
   "outputs": [
    {
     "data": {
      "text/plain": [
       "('D', 'E', 'D')"
      ]
     },
     "execution_count": 42,
     "metadata": {},
     "output_type": "execute_result"
    }
   ],
   "source": [
    "ref_tnpB_pid = '0fea0aedf485f57c86'\n",
    "seq1 = get_prot_sequence(ref_tnpB_pid)\n",
    "seq1[187], seq1[271], seq1[354]"
   ]
  },
  {
   "cell_type": "code",
   "execution_count": 47,
   "id": "1edd1769-e68c-4c69-9402-cdb3d3b32e9e",
   "metadata": {},
   "outputs": [],
   "source": [
    "def get_alignindices_dict(ref_tnpB_pid, msa_file):\n",
    "    # get seq1, which is the amino acid fasta format for ref_tnpB_pid\n",
    "    seq1 = get_prot_sequence(ref_tnpB_pid)\n",
    "    # get seq2, which is the amino acid fasta format with gaps, post-alignment\n",
    "    with open(msa_file) as handle:\n",
    "        for rec in SeqIO.parse(handle, 'fasta'):\n",
    "            pid = rec.id\n",
    "            if pid == ref_tnpB_pid:\n",
    "                seq2 = str(rec.seq)\n",
    "                break\n",
    "    # map the indices of amino acids between the two sequence formats\n",
    "    index_to_alignindex = {}\n",
    "    align_indexes = []\n",
    "    for i in range(len(seq2)):\n",
    "        char = seq2[i]\n",
    "        if char != '-':\n",
    "            align_indexes.append(i)\n",
    "    for j in range(len(align_indexes)):\n",
    "        index_to_alignindex[j] = align_indexes[j]\n",
    "    return index_to_alignindex\n",
    "\n",
    "align_indices_dict = get_alignindices_dict(ref_tnpB_pid, outfile_mafft)"
   ]
  },
  {
   "cell_type": "code",
   "execution_count": 48,
   "id": "5e726bda-b5eb-41af-9d04-4343e54c84d4",
   "metadata": {},
   "outputs": [],
   "source": []
  },
  {
   "cell_type": "code",
   "execution_count": 99,
   "id": "18dd72d9-b902-4581-a676-bfaed3eec2d8",
   "metadata": {},
   "outputs": [],
   "source": [
    "count_3, count_2, count_1, count_0 = 0, 0, 0, 0\n",
    "with open(outfile_mafft) as handle, \\\n",
    "open (outfile_tnpBs_inactive, \"w\") as outfile:\n",
    "    for rec in SeqIO.parse(handle, 'fasta'):\n",
    "        sequence = rec.seq\n",
    "        pid = rec.id\n",
    "        first_residue_missing = sequence[align_indices_dict[187]] != 'D'\n",
    "        second_residue_missing = sequence[align_indices_dict[271]] != 'E'\n",
    "        third_residue_missing = sequence[align_indices_dict[354]] != 'D'\n",
    "        num_res_missing = first_residue_missing + second_residue_missing + third_residue_missing \n",
    "        if num_res_missing == 3:\n",
    "            print(\">\" + pid, file = outfile)\n",
    "            sequence_gapfree = get_prot_sequence(pid)\n",
    "            print(sequence_gapfree, file = outfile)\n",
    "            count_3 += 1\n",
    "        elif num_res_missing == 2:\n",
    "            print(\">\" + pid, file = outfile)\n",
    "            sequence_gapfree = get_prot_sequence(pid)\n",
    "            print(sequence_gapfree, file = outfile)\n",
    "            count_2 += 1\n",
    "        elif num_res_missing == 1:\n",
    "            count_1 += 1\n",
    "        elif num_res_missing == 0:\n",
    "            count_0 += 1"
   ]
  },
  {
   "cell_type": "code",
   "execution_count": 100,
   "id": "9080e2da-f94f-4872-b9c8-32455bef2ad3",
   "metadata": {},
   "outputs": [
    {
     "data": {
      "text/plain": [
       "(17, 18, 113, 327)"
      ]
     },
     "execution_count": 100,
     "metadata": {},
     "output_type": "execute_result"
    }
   ],
   "source": [
    "count_3, count_2, count_1, count_0"
   ]
  },
  {
   "cell_type": "code",
   "execution_count": 101,
   "id": "2a092276-92e0-439e-9f5a-00b5982e5b2e",
   "metadata": {},
   "outputs": [],
   "source": [
    "# p30_inactive_list = []\n",
    "# with open(outfile_tnpBs_inactive) as handle:\n",
    "#     for rec in SeqIO.parse(handle, 'fasta'):\n",
    "#         p30_inactive = get_permissive_rep(rec.id)\n",
    "#         p30_inactive_list.append(p30_inactive)\n",
    "# p30_inactive_list.sort()\n",
    "# set(p30_inactive_list)"
   ]
  },
  {
   "cell_type": "markdown",
   "id": "af5b166b-c931-49d2-bbee-787d7d4220a0",
   "metadata": {},
   "source": [
    "### get hits near these inactive tnpBs"
   ]
  },
  {
   "cell_type": "code",
   "execution_count": 103,
   "id": "b440271d-cddf-42d9-b59b-d069ba849193",
   "metadata": {},
   "outputs": [],
   "source": [
    "inactive_tnpBs = []\n",
    "with open (outfile_tnpBs_inactive) as handle:\n",
    "    for rec in SeqIO.parse(handle, 'fasta'):\n",
    "        sequence = rec.seq\n",
    "        pid = rec.id\n",
    "        inactive_tnpBs.append(pid)"
   ]
  },
  {
   "cell_type": "code",
   "execution_count": 105,
   "id": "c5de549d-38c7-4462-af69-3621521d5d9b",
   "metadata": {},
   "outputs": [],
   "source": [
    "def extract_inactive_tnpBs(entry, inactive_tnpBs):\n",
    "    baitp100s_set = set(ast.literal_eval(entry))\n",
    "    intersection = baitp100s_set.intersection(inactive_tnpBs)\n",
    "    return intersection"
   ]
  },
  {
   "cell_type": "code",
   "execution_count": 106,
   "id": "8be1893b-ef01-4555-a3b7-889c6010986f",
   "metadata": {},
   "outputs": [],
   "source": [
    "def get_hits_with_inactive_tnpB_bait_df(inactive_tnpBs, df):\n",
    "#     all_query_ids = [pfam for pfam in list(pfam_df['query_id'].sort_values().unique()) if type(pfam) == str]\n",
    "#     query_ids = []\n",
    "#     for query_ids_suffix in query_ids_suffixes:\n",
    "#         query_ids += [pfam for pfam in all_query_ids if query_ids_suffix in pfam ]    \n",
    "#     hits_s = df[df[\"query_id\"].isin(query_ids)]['hit_id']\n",
    "#     hits_set = set(hits_s)\n",
    "#     hits_with_pfam_df = df[df[\"hit_id\"].isin(hits_set)]\n",
    "    \n",
    "    \n",
    "    baitlists_all = [ast.literal_eval(baitlist) for baitlist in df['baitp100s'].unique()]\n",
    "    baitlists_expanded = []\n",
    "    for baitlist in baitlists_all:\n",
    "        for bait in baitlist:\n",
    "            if bait in inactive_tnpBs:\n",
    "                baitlists_expanded.append(str(baitlist))\n",
    "                break\n",
    "    hits_with_inactive_tnpB_df = df[df[\"baitp100s\"].isin(baitlists_expanded)].dropna()\n",
    "    # add column, \"inactive tnpBs\"\n",
    "    hits_with_inactive_tnpB_df['inactive tnpBs'] = hits_with_inactive_tnpB_df['baitp100s'].apply(lambda x: extract_inactive_tnpBs(x, inactive_tnpBs))\n",
    "    tnpB_hits_coloc_inactive_tnpB =  hits_with_inactive_tnpB_df[hits_with_inactive_tnpB_df['is_tnpB'] == 1]\n",
    "                \n",
    "    print(\"number hits with >1 inactive tnpB bait: \" + str(len(hits_with_inactive_tnpB_df['hit_id'].unique())))\n",
    "    print(\"number tnpB hits with >1 inactive tnpB bait: \" + str(len(tnpB_hits_coloc_inactive_tnpB['hit_id'].unique())))\n",
    "    return hits_with_inactive_tnpB_df"
   ]
  },
  {
   "cell_type": "code",
   "execution_count": 107,
   "id": "04c366a7-5a9b-48d6-81cb-5ae8e81d6f50",
   "metadata": {},
   "outputs": [
    {
     "name": "stdout",
     "output_type": "stream",
     "text": [
      "number hits with >1 inactive tnpB bait: 19\n",
      "number tnpB hits with >1 inactive tnpB bait: 1\n"
     ]
    },
    {
     "data": {
      "text/plain": [
       "array(['c7a1b8f01c5b7c48a2', '7205dff302ff900300', '27177e034d397f4d56',\n",
       "       '49c65ceeadb463ef7d', '23422406293d40c201', '6bf6c4c7da68779d7a',\n",
       "       'c1050b21cc75640d51', 'aa6af7e9289c3558d3', 'e8a14f064cce46f350',\n",
       "       '986ad2cde69643b021', 'd2246f26c16fb9eec9', 'c15257c28ad9a20cdd',\n",
       "       '0093c124a5b6ee038d', '3a86b6b12ef4de1264', 'ba436543bec6c30920',\n",
       "       '4e45823b6b83464d6e', 'd2248a31d0e133ef11', '4a23bcab7c50591a6a',\n",
       "       '9a8a6e441d6dea8617'], dtype=object)"
      ]
     },
     "execution_count": 107,
     "metadata": {},
     "output_type": "execute_result"
    }
   ],
   "source": [
    "pd.set_option('display.max_rows', None)\n",
    "targets_inactivebaits_df = get_hits_with_inactive_tnpB_bait_df(inactive_tnpBs, tnpB_10_target_annot_df)\n",
    "targets_inactivebaits_df[\"hit_id\"].unique()"
   ]
  },
  {
   "cell_type": "code",
   "execution_count": 108,
   "id": "b3b90913-1260-45ec-8d67-6552330eef03",
   "metadata": {},
   "outputs": [],
   "source": [
    "target_to_bait_df = targets_inactivebaits_df[['hit_id', 'inactive tnpBs']]"
   ]
  },
  {
   "cell_type": "code",
   "execution_count": 109,
   "id": "b2c3b282-3d9c-48b1-a0e0-89fff1614764",
   "metadata": {},
   "outputs": [
    {
     "data": {
      "text/plain": [
       "{'0f08a20cfe029876e3',\n",
       " '13d95e27e737ac62a9',\n",
       " '476fa0561841de3b03',\n",
       " '6be956b3dd0dfba935',\n",
       " 'b9cc7b8a78f75d3bc5',\n",
       " 'c328360c354617b7a9'}"
      ]
     },
     "execution_count": 109,
     "metadata": {},
     "output_type": "execute_result"
    }
   ],
   "source": [
    "target_to_bait_df[target_to_bait_df[\"hit_id\"] == '23422406293d40c201'].iloc[1, 1]"
   ]
  },
  {
   "cell_type": "code",
   "execution_count": 115,
   "id": "9e847a8f-c46a-4371-a2a7-b44f1f90d6f6",
   "metadata": {},
   "outputs": [
    {
     "data": {
      "text/plain": [
       "True"
      ]
     },
     "execution_count": 115,
     "metadata": {},
     "output_type": "execute_result"
    }
   ],
   "source": [
    "'7f51222e4a7ac0fcf6' in high_icity_tnpBs_set"
   ]
  },
  {
   "cell_type": "code",
   "execution_count": null,
   "id": "ba7e4bad-26f1-4873-b199-b6d433ffb7b8",
   "metadata": {},
   "outputs": [],
   "source": []
  }
 ],
 "metadata": {
  "environment": {
   "kernel": "ggdb",
   "name": "common-cpu.m82",
   "type": "gcloud",
   "uri": "gcr.io/deeplearning-platform-release/base-cpu:m82"
  },
  "kernelspec": {
   "display_name": "ggdb",
   "language": "python",
   "name": "ggdb"
  },
  "language_info": {
   "codemirror_mode": {
    "name": "ipython",
    "version": 3
   },
   "file_extension": ".py",
   "mimetype": "text/x-python",
   "name": "python",
   "nbconvert_exporter": "python",
   "pygments_lexer": "ipython3",
   "version": "3.9.7"
  }
 },
 "nbformat": 4,
 "nbformat_minor": 5
}
