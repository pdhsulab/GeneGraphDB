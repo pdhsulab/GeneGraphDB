{
 "cells": [
  {
   "cell_type": "code",
   "execution_count": 1,
   "id": "63ab32de-d1c6-4991-8d06-38b28c0f7f81",
   "metadata": {},
   "outputs": [],
   "source": [
    "import os\n",
    "import pandas as pd\n",
    "import matplotlib.pyplot as plt\n",
    "from Bio import SeqIO\n",
    "from Bio import SearchIO\n",
    "import csv\n",
    "import sqlite3\n",
    "import time\n",
    "from multiprocessing import Pool, cpu_count\n",
    "import sys\n",
    "from calc_icity_ import *\n",
    "import ast\n",
    "from collections import defaultdict"
   ]
  },
  {
   "cell_type": "code",
   "execution_count": 2,
   "id": "65cad4a4-f240-4711-862d-ea044bd80355",
   "metadata": {},
   "outputs": [
    {
     "data": {
      "text/plain": [
       "(55599, 55599)"
      ]
     },
     "execution_count": 2,
     "metadata": {},
     "output_type": "execute_result"
    }
   ],
   "source": [
    "tnpBs_list = []\n",
    "infile_tnpBs = \"tnpBs_in_testdb.p100.1e4.txt\"\n",
    "with open(infile_tnpBs, \"r\") as infile:\n",
    "    lines = infile.readlines()\n",
    "    for line in lines:\n",
    "        p100 = line.split('\\n')[0]\n",
    "        tnpBs_list.append(p100)\n",
    "tnpBs_set = set(tnpBs_list)\n",
    "len(tnpBs_list), len(tnpBs_set)"
   ]
  },
  {
   "cell_type": "code",
   "execution_count": 3,
   "id": "888eb633-f74e-4f70-aee9-c2308d9ec09f",
   "metadata": {},
   "outputs": [],
   "source": [
    "tnpB_10_target_annot_df = pd.read_csv(\"tnpB_targetgenes_pfam.csv\").iloc[:,1:]"
   ]
  },
  {
   "cell_type": "code",
   "execution_count": 4,
   "id": "683f12a4-6296-474d-af9b-5f3df5c71fd9",
   "metadata": {},
   "outputs": [
    {
     "data": {
      "text/plain": [
       "(1659, 11)"
      ]
     },
     "execution_count": 4,
     "metadata": {},
     "output_type": "execute_result"
    }
   ],
   "source": [
    "tnpB_10_target_annot_df.shape"
   ]
  },
  {
   "cell_type": "code",
   "execution_count": 5,
   "id": "473af590-313e-4f7c-86ee-5bd2cd94dfc9",
   "metadata": {},
   "outputs": [],
   "source": [
    "high_icity_tnpBs_ls = []\n",
    "for baitp100s_str in tnpB_10_target_annot_df[\"baitp100s\"]:\n",
    "    baitp100s_ls = ast.literal_eval(baitp100s_str)\n",
    "    high_icity_tnpBs_ls += baitp100s_ls\n",
    "high_icity_tnpBs = [tnpB for tnpB in high_icity_tnpBs_ls if tnpB in tnpBs_set]\n",
    "high_icity_tnpBs_set = set(high_icity_tnpBs)\n"
   ]
  },
  {
   "cell_type": "markdown",
   "id": "b538d5ef-d291-47c7-8820-1f13a8955661",
   "metadata": {},
   "source": [
    "## get representative tnpBs (p60s) to align"
   ]
  },
  {
   "cell_type": "code",
   "execution_count": 6,
   "id": "b1c3c849-70c4-4d83-bb66-6f860e6fda30",
   "metadata": {},
   "outputs": [],
   "source": [
    "def get_prot_sequence(pid):\n",
    "    con=sqlite3.connect(\"80kprotein_stats.db\")\n",
    "    cur = con.cursor()\n",
    "    cmd = \"SELECT sequence FROM proteins WHERE pid = '%s'\" % pid \n",
    "    #print(cmd)\n",
    "    cur.execute(cmd)\n",
    "    return str(cur.fetchone()[0])\n",
    "    con.close()\n",
    "def get_faas_protidlist(protidlist, outfile_path):\n",
    "    with open(outfile_path, \"w\") as outfile:\n",
    "        for protid in protidlist:\n",
    "            protseq = get_prot_sequence(protid)\n",
    "            print(\">\" + protid, file=outfile)\n",
    "            print(protseq, file=outfile)\n",
    "#get_faas_protidlist(tnpBs_list, \"INPUT/tnpB_mmseqs_input.faa\")"
   ]
  },
  {
   "cell_type": "code",
   "execution_count": 7,
   "id": "5a768eb1-0bcb-40a1-bd82-d9a75ba89822",
   "metadata": {},
   "outputs": [],
   "source": [
    "tnpB_p60s_path = \"../tnpBs/cluster/OUTPUT/tmp/clu_cluster.tsv\"\n",
    "tnpB_p60_df = pd.read_csv(tnpB_p60s_path, sep = '\\t', header = None).rename(columns = {0:\"p60\",1:'p100'}).drop_duplicates()"
   ]
  },
  {
   "cell_type": "code",
   "execution_count": 8,
   "id": "6ee57842-a0ac-4914-8cac-0d0f18126df1",
   "metadata": {},
   "outputs": [],
   "source": [
    "tnpB_p60_df_samp = tnpB_p60_df\n",
    "tnpB_p60_list_samp = list(set(tnpB_p60_df_samp['p60']))\n",
    "tnpB_p60_highicity_list = [p60 for p60 in tnpB_p60_list_samp if p60 in high_icity_tnpBs_set]"
   ]
  },
  {
   "cell_type": "code",
   "execution_count": 9,
   "id": "f09106be-92f7-4d5c-816f-4ddf2147567b",
   "metadata": {},
   "outputs": [
    {
     "data": {
      "text/plain": [
       "(4977, 55599)"
      ]
     },
     "execution_count": 9,
     "metadata": {},
     "output_type": "execute_result"
    }
   ],
   "source": [
    "len(high_icity_tnpBs_set), len(tnpBs_list)"
   ]
  },
  {
   "cell_type": "code",
   "execution_count": 10,
   "id": "fb9f8ac4-6f27-42dd-80f4-686d1cf3d4ca",
   "metadata": {},
   "outputs": [
    {
     "data": {
      "text/plain": [
       "(1129, 78873)"
      ]
     },
     "execution_count": 10,
     "metadata": {},
     "output_type": "execute_result"
    }
   ],
   "source": [
    "len(tnpB_p60_highicity_list), len(tnpB_p60_df)"
   ]
  },
  {
   "cell_type": "code",
   "execution_count": 11,
   "id": "ac0e2a62-05e7-4fe7-9e8f-17268e3d1e59",
   "metadata": {},
   "outputs": [],
   "source": [
    "def get_faas_protidlist(protidlist):\n",
    "    for protid in protidlist:\n",
    "        outfile_path = \"../tnpBs/representatives/\" + protid + \".faa\"\n",
    "        with open(outfile_path, \"w\") as outfile:\n",
    "            protseq = get_prot_sequence(protid)\n",
    "            if len(protseq) > 300:\n",
    "                print(\">\" + protid, file=outfile)\n",
    "                print(protseq, file=outfile)\n",
    "#get_faas_protidlist(tnpB_p60_highicity_list)"
   ]
  },
  {
   "cell_type": "code",
   "execution_count": 12,
   "id": "37edcf43-0160-406c-9f74-8d11147a8620",
   "metadata": {},
   "outputs": [
    {
     "data": {
      "text/plain": [
       "(array([ 44., 121., 157., 250., 178., 179., 126.,  77.,  91.,  71.]),\n",
       " array([ 47. ,  91.9, 136.8, 181.7, 226.6, 271.5, 316.4, 361.3, 406.2,\n",
       "        451.1, 496. ]),\n",
       " <BarContainer object of 10 artists>)"
      ]
     },
     "execution_count": 12,
     "metadata": {},
     "output_type": "execute_result"
    },
    {
     "data": {
      "image/png": "[encoded data removed]",
      "text/plain": [
       "<Figure size 432x288 with 1 Axes>"
      ]
     },
     "metadata": {
      "needs_background": "light"
     },
     "output_type": "display_data"
    }
   ],
   "source": [
    "plt.hist(tnpB_10_target_annot_df[tnpB_10_target_annot_df['target_length'] < 500]['target_length'])"
   ]
  },
  {
   "cell_type": "markdown",
   "id": "b73d752b-98f2-4a13-8ecb-62f27e36dce2",
   "metadata": {},
   "source": [
    "### run alignments and get catalytically inactive tnpBs"
   ]
  },
  {
   "cell_type": "code",
   "execution_count": 13,
   "id": "62c26136-d4c9-4b1c-8a09-dc2cd52f07a7",
   "metadata": {},
   "outputs": [
    {
     "data": {
      "text/plain": [
       "1129"
      ]
     },
     "execution_count": 13,
     "metadata": {},
     "output_type": "execute_result"
    }
   ],
   "source": [
    "len(tnpB_p60_highicity_list)"
   ]
  },
  {
   "cell_type": "code",
   "execution_count": 19,
   "id": "8f4a35f5-c713-4099-9297-734624617ebc",
   "metadata": {},
   "outputs": [],
   "source": [
    "def get_multifaa_protidlist(protidlist):\n",
    "    outfile_path = \"../tnpBs/representatives/_all_tnpBs_muscle_input.faa\"\n",
    "    with open(outfile_path, \"w\") as outfile:\n",
    "        for protid in protidlist:\n",
    "            protseq = get_prot_sequence(protid)\n",
    "            if len(protseq) > 300 and len(protseq) < 500:\n",
    "                print(\">\" + protid, file=outfile)\n",
    "                print(protseq, file=outfile)\n",
    "get_multifaa_protidlist(tnpB_p60_highicity_list)"
   ]
  },
  {
   "cell_type": "code",
   "execution_count": null,
   "id": "d37ef673-3a64-4ecb-83c0-c6553c29aeff",
   "metadata": {},
   "outputs": [],
   "source": []
  },
  {
   "cell_type": "code",
   "execution_count": 46,
   "id": "94b5f0ba-cb41-4974-9bf4-ad75d6e0db61",
   "metadata": {},
   "outputs": [],
   "source": [
    "cmd_mafft = \"ginsi --thread 32 ../tnpBs/representatives/_all_tnpBs_muscle_input.faa > ../tnpBs/representatives/_all_tnpBs_mafft.out.faa\"\n",
    "#os.system(cmd_mafft)"
   ]
  },
  {
   "cell_type": "code",
   "execution_count": null,
   "id": "115c0386-a8f6-4b33-9b5a-e7208a3c21c0",
   "metadata": {},
   "outputs": [],
   "source": []
  },
  {
   "cell_type": "code",
   "execution_count": 85,
   "id": "382358de-1a31-4dd2-a5d0-5504c4c6ccd6",
   "metadata": {},
   "outputs": [],
   "source": []
  },
  {
   "cell_type": "code",
   "execution_count": 35,
   "id": "c4701f46-63bf-414a-b955-979ae80d9e7f",
   "metadata": {},
   "outputs": [
    {
     "data": {
      "text/plain": [
       "('D', 'E', 'D')"
      ]
     },
     "execution_count": 35,
     "metadata": {},
     "output_type": "execute_result"
    }
   ],
   "source": [
    "ref_tnpB_pid = '0fea0aedf485f57c86'\n",
    "seq1 = get_prot_sequence(ref_tnpB_pid)\n",
    "seq1[187], seq1[271], seq1[354]"
   ]
  },
  {
   "cell_type": "code",
   "execution_count": 40,
   "id": "f066bd8b-cc79-4ec9-852d-b5f399477a8f",
   "metadata": {},
   "outputs": [],
   "source": [
    "with open(\"../tnpBs/representatives/_all_tnpBs_mafft.out.faa\") as handle:\n",
    "    for rec in SeqIO.parse(handle, 'fasta'):\n",
    "        pid = rec.id\n",
    "        if pid == ref_tnpB_pid:\n",
    "            seq2 = str(rec.seq)\n",
    "            break"
   ]
  },
  {
   "cell_type": "code",
   "execution_count": 43,
   "id": "1edd1769-e68c-4c69-9402-cdb3d3b32e9e",
   "metadata": {},
   "outputs": [],
   "source": [
    "def get_alignindices_dict(seq1, seq2):\n",
    "    index_to_alignindex = {}\n",
    "    align_indexes = []\n",
    "    for i in range(len(seq2)):\n",
    "        char = seq2[i]\n",
    "        if char != '-':\n",
    "            align_indexes.append(i)\n",
    "    for j in range(len(align_indexes)):\n",
    "        index_to_alignindex[j] = align_indexes[j]\n",
    "    return index_to_alignindex\n",
    "\n",
    "align_indices_dict = get_alignindices_dict(seq1, seq2)"
   ]
  },
  {
   "cell_type": "code",
   "execution_count": null,
   "id": "ac557637-65f6-424d-8883-2a4407a2ca83",
   "metadata": {},
   "outputs": [],
   "source": [
    "with open(\"../tnpBs/representatives/_all_tnpBs_mafft.out.faa\") as handle:\n",
    "    for rec in SeqIO.parse(handle, 'fasta'):\n",
    "        pid = rec.id\n",
    "        if pid == ref_tnpB_pid:\n",
    "            seq2 = str(rec.seq)\n",
    "            break"
   ]
  },
  {
   "cell_type": "code",
   "execution_count": 44,
   "id": "98645bcc-86c3-4e61-a45f-c2a26dad6153",
   "metadata": {},
   "outputs": [
    {
     "data": {
      "text/plain": [
       "('D', 'E', 'D')"
      ]
     },
     "execution_count": 44,
     "metadata": {},
     "output_type": "execute_result"
    }
   ],
   "source": [
    "seq2[align_indices_dict[187]], seq2[align_indices_dict[271]], seq2[align_indices_dict[354]]"
   ]
  },
  {
   "cell_type": "code",
   "execution_count": 47,
   "id": "5e726bda-b5eb-41af-9d04-4343e54c84d4",
   "metadata": {},
   "outputs": [],
   "source": [
    "count_3, count_2, count_1, count_0 = 0, 0, 0, 0"
   ]
  },
  {
   "cell_type": "code",
   "execution_count": 51,
   "id": "18dd72d9-b902-4581-a676-bfaed3eec2d8",
   "metadata": {},
   "outputs": [],
   "source": [
    "with open(\"../tnpBs/representatives/_all_tnpBs_mafft.out.faa\") as handle, \\\n",
    "open (\"../tnpBs/_inactive_tnpBs.faa\", \"w\") as outfile:\n",
    "    for rec in SeqIO.parse(handle, 'fasta'):\n",
    "        sequence = rec.seq\n",
    "        pid = rec.id\n",
    "        first_residue_missing = sequence[align_indices_dict[187]] != 'D'\n",
    "        second_residue_missing = sequence[align_indices_dict[271]] != 'E'\n",
    "        third_residue_missing = sequence[align_indices_dict[354]] != 'D'\n",
    "        num_res_missing = first_residue_missing + second_residue_missing + third_residue_missing \n",
    "        if num_res_missing == 3:\n",
    "            print(\">\" + pid, file = outfile)\n",
    "            sequence_gapfree = get_prot_sequence(pid)\n",
    "            print(sequence_gapfree, file = outfile)\n",
    "            count_3 += 1\n",
    "        elif num_res_missing == 2:\n",
    "            count_2 += 1\n",
    "        elif num_res_missing == 1:\n",
    "            count_1 += 1\n",
    "        elif num_res_missing == 0:\n",
    "            count_0 += 1"
   ]
  },
  {
   "cell_type": "code",
   "execution_count": 53,
   "id": "f94b649e-8cdb-4edc-9e93-2c93afb4faec",
   "metadata": {},
   "outputs": [
    {
     "data": {
      "text/plain": [
       "(15, 24, 153, 367)"
      ]
     },
     "execution_count": 53,
     "metadata": {},
     "output_type": "execute_result"
    }
   ],
   "source": [
    "count_3, count_2, count_1, count_0"
   ]
  },
  {
   "cell_type": "code",
   "execution_count": 59,
   "id": "2a092276-92e0-439e-9f5a-00b5982e5b2e",
   "metadata": {},
   "outputs": [
    {
     "data": {
      "text/plain": [
       "['14bc66ab7912db1e07',\n",
       " '14bc66ab7912db1e07',\n",
       " '15ce911abbf167916e',\n",
       " '1745b64944eaf24e7d',\n",
       " '199f6fcd868299f952',\n",
       " '4ca2541634b8270ca0',\n",
       " '4ca2541634b8270ca0',\n",
       " '544d19bbbb28945456',\n",
       " '55da22e58a862b21b0',\n",
       " '6e87489ba377373838',\n",
       " '6e87489ba377373838',\n",
       " '993ea08c331aa195bb',\n",
       " 'b8218de8a485c7b37f',\n",
       " 'c328360c354617b7a9',\n",
       " 'f6e74b8eea638f8073']"
      ]
     },
     "execution_count": 59,
     "metadata": {},
     "output_type": "execute_result"
    }
   ],
   "source": [
    "p30_inactive_list = []\n",
    "with open(\"../tnpBs/_inactive_tnpBs.faa\") as handle:\n",
    "    for rec in SeqIO.parse(handle, 'fasta'):\n",
    "        p30_inactive = get_permissive_rep(rec.id)\n",
    "        p30_inactive_list.append(p30_inactive)\n",
    "p30_inactive_list.sort()\n",
    "p30_inactive_list"
   ]
  },
  {
   "cell_type": "code",
   "execution_count": 66,
   "id": "89bfb847-7d89-4dab-836d-791509aff0c2",
   "metadata": {},
   "outputs": [
    {
     "data": {
      "text/plain": [
       "True"
      ]
     },
     "execution_count": 66,
     "metadata": {},
     "output_type": "execute_result"
    }
   ],
   "source": [
    "'15ce911abbf167916e' in high_icity_tnpBs_set"
   ]
  },
  {
   "cell_type": "code",
   "execution_count": null,
   "id": "2b26d01e-42a8-49fe-b24c-26f07d56a3d0",
   "metadata": {},
   "outputs": [],
   "source": []
  }
 ],
 "metadata": {
  "environment": {
   "kernel": "ggdb",
   "name": "common-cpu.m82",
   "type": "gcloud",
   "uri": "gcr.io/deeplearning-platform-release/base-cpu:m82"
  },
  "kernelspec": {
   "display_name": "ggdb",
   "language": "python",
   "name": "ggdb"
  },
  "language_info": {
   "codemirror_mode": {
    "name": "ipython",
    "version": 3
   },
   "file_extension": ".py",
   "mimetype": "text/x-python",
   "name": "python",
   "nbconvert_exporter": "python",
   "pygments_lexer": "ipython3",
   "version": "3.9.7"
  }
 },
 "nbformat": 4,
 "nbformat_minor": 5
}
