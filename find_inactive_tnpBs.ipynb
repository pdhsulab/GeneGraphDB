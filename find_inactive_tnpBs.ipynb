{
 "cells": [
  {
   "cell_type": "code",
   "execution_count": 195,
   "id": "63ab32de-d1c6-4991-8d06-38b28c0f7f81",
   "metadata": {},
   "outputs": [],
   "source": [
    "import os\n",
    "import pandas as pd\n",
    "import matplotlib.pyplot as plt\n",
    "from Bio import SeqIO\n",
    "from Bio import SearchIO\n",
    "import csv\n",
    "import sqlite3\n",
    "import time\n",
    "from multiprocessing import Pool, cpu_count\n",
    "import sys\n",
    "from calc_icity_ import *\n",
    "import ast\n",
    "from collections import defaultdict\n",
    "import subprocess\n",
    "import logomaker"
   ]
  },
  {
   "cell_type": "code",
   "execution_count": 253,
   "id": "38e04c06-5017-4d0a-801b-7b5039f54eac",
   "metadata": {},
   "outputs": [],
   "source": [
    "def get_prot_sequence(pid):\n",
    "    con = sqlite3.connect(\"80kprotein_stats.db\")\n",
    "    cur = con.cursor()\n",
    "    cmd = \"SELECT sequence FROM proteins WHERE pid = '%s'\" % pid \n",
    "    #print(cmd)\n",
    "    cur.execute(cmd)\n",
    "    return str(cur.fetchone()[0])\n",
    "    con.close()\n",
    "def get_p100s(p90_id):\n",
    "    conn = sqlite3.connect('genegraph.db')\n",
    "    cursor = conn.cursor()\n",
    "    cmd = \"SELECT p100 FROM clusters WHERE p90 = '%s'\" % (p90_id)\n",
    "    cursor.execute(cmd)\n",
    "    p100s = get_list_ids_fromcursor(cursor.fetchall())\n",
    "    conn.close()\n",
    "    return(list(set(p100s)))\n",
    "def get_p100s_p30(p30_id):\n",
    "    conn = sqlite3.connect('genegraph.db')\n",
    "    cursor = conn.cursor()\n",
    "    cmd = \"SELECT p100 FROM clusters WHERE p90 = '%s'\" % (p30_id)\n",
    "    cursor.execute(cmd)\n",
    "    p100s = get_list_ids_fromcursor(cursor.fetchall())\n",
    "    conn.close()\n",
    "    return(list(set(p100s)))\n",
    "def get_permissive_rep_(bait_pid):\n",
    "    conn = sqlite3.connect('genegraph.db')\n",
    "    cursor = conn.cursor()\n",
    "    perm_rep = None\n",
    "    cmd_p = \"SELECT p30 FROM clusters WHERE p100 = '%s'\" % (bait_pid)\n",
    "    try:\n",
    "        cursor.execute(cmd_p)\n",
    "        perm_rep = cursor.fetchone()[0]\n",
    "        conn.close()\n",
    "        return(perm_rep)\n",
    "    except:\n",
    "        return \"nan\"\n",
    "def get_stringent_rep(p100_id):\n",
    "    conn = sqlite3.connect('genegraph.db')\n",
    "    cursor = conn.cursor()\n",
    "    perm_rep = None\n",
    "    cmd_p = \"SELECT p90 FROM clusters WHERE p100 = '%s'\" % (p100_id)\n",
    "    cursor.execute(cmd_p)\n",
    "    try:\n",
    "        perm_rep = cursor.fetchone()[0]\n",
    "    except:\n",
    "        pass\n",
    "    #perm_rep = cursor.fetchone()[0]\n",
    "    conn.close()\n",
    "    return(perm_rep)"
   ]
  },
  {
   "cell_type": "code",
   "execution_count": 265,
   "id": "8ba872be-791b-4d2e-813f-3611b3b40559",
   "metadata": {},
   "outputs": [
    {
     "data": {
      "text/plain": [
       "'MGKSTIKLTRRIQLLIDLPTKEERKEKLDKLYQYQNRCFRAANIMVSHMYVQEMIKEFFYLSEGIKYKLADEKKEEDGILQRSRINTTYRVVSDRFKGEIPTDILSSLNNNLLSTFNKNKSEYWRGQCSLRNFKKEMAFPFPPKSMNRISYNPDKKAFCFRLFSIPFKTYLGRDFTDKQKLLERLVEEDIKLCTSHIKLKDGKTYWLAVFEIEKERNSLDPALMAEALLSLEYPIIVKAGKTKLTIGSREEFLYRRLAIQAAYKRAQIGATYSRSGKGRKRKLKAVDRLRKSESDYVLHRIHVYSRRLIDFCIKHRAGTLILLNQKDKMDIAKKEEFVLRNWSYCELMTKIKYKAEKAGIELIVG*'"
      ]
     },
     "execution_count": 265,
     "metadata": {},
     "output_type": "execute_result"
    }
   ],
   "source": [
    "get_prot_sequence('08d8b0aae431e781e7')"
   ]
  },
  {
   "cell_type": "code",
   "execution_count": 269,
   "id": "2a523ab1-8b00-488c-9a8e-6db7c4545fda",
   "metadata": {},
   "outputs": [
    {
     "data": {
      "text/plain": [
       "'MMEKSTLILTRKIQLIVDLPTQEERKEVLGTLYRWRNRCFRAANLIVSHLYIQEMVKEFLYLSEGIVHKLVDEKKDEAGLLQRSRLNTTYRVISDRFKGEIPMNILSCLNSRLHSTFNKDYQEYWSGESSLKNFKRDMAFPFGLEGISRLAYHPEKKCFCFRLFQLPFKTYLGKDFTGNKKLLDQIVNGEIKLCTSQIKLEKGKIFWLAVVEIKKDNHYLQPEIIAEASLSLEYPLVVKIGKSRFPIGTKEEFLYRRLAIQASRRRIQTGVTYAKSGKGRIRKLKALEKMSQVERNYVHDRLHFYSRKLIDLCITNKAGTLILLDQDEKMELAKEEEFVLRNWSYYELMTKIKYKADKAGIELIIA*'"
      ]
     },
     "execution_count": 269,
     "metadata": {},
     "output_type": "execute_result"
    }
   ],
   "source": [
    "related_baits = get_p100s_p30(get_permissive_rep_('08d8b0aae431e781e7'))\n",
    "get_prot_sequence(related_baits[1])"
   ]
  },
  {
   "cell_type": "code",
   "execution_count": 233,
   "id": "a6eda2d3-3cdf-429a-9038-741b89b0518c",
   "metadata": {},
   "outputs": [
    {
     "data": {
      "text/plain": [
       "{'0344dc509e9dbaf433',\n",
       " '14bc66ab7912db1e07',\n",
       " '15ce911abbf167916e',\n",
       " '199f6fcd868299f952',\n",
       " '4ca2541634b8270ca0',\n",
       " '544d19bbbb28945456',\n",
       " '55da22e58a862b21b0',\n",
       " '6e87489ba377373838',\n",
       " '993ea08c331aa195bb',\n",
       " 'c328360c354617b7a9'}"
      ]
     },
     "execution_count": 233,
     "metadata": {},
     "output_type": "execute_result"
    }
   ],
   "source": [
    "a = ['55da22e58a862b21b0', '6e87489ba377373838']\n",
    "b = ['4ca2541634b8270ca0', '0344dc509e9dbaf433', '544d19bbbb28945456', '14bc66ab7912db1e07', '15ce911abbf167916e', '993ea08c331aa195bb']\n",
    "c = ['0344dc509e9dbaf433', '15ce911abbf167916e', '14bc66ab7912db1e07', '993ea08c331aa195bb']\n",
    "d = ['199f6fcd868299f952', '4ca2541634b8270ca0', 'c328360c354617b7a9', '14bc66ab7912db1e07', '6e87489ba377373838']\n",
    "e = set(a + b + c + d)\n",
    "e"
   ]
  },
  {
   "cell_type": "code",
   "execution_count": 236,
   "id": "42b29aa8-f9a5-4c30-95c3-9fceb01e0f9c",
   "metadata": {},
   "outputs": [
    {
     "data": {
      "text/plain": [
       "'14bc66ab7912db1e07'"
      ]
     },
     "execution_count": 236,
     "metadata": {},
     "output_type": "execute_result"
    }
   ],
   "source": [
    "\n",
    "get_permissive_rep_('08d8b0aae431e781e7')"
   ]
  },
  {
   "cell_type": "code",
   "execution_count": 234,
   "id": "fece969f-9c7a-423b-9a8a-f92db6776571",
   "metadata": {},
   "outputs": [
    {
     "data": {
      "text/plain": [
       "{'0344dc509e9dbaf433', '544d19bbbb28945456', '993ea08c331aa195bb'}"
      ]
     },
     "execution_count": 234,
     "metadata": {},
     "output_type": "execute_result"
    }
   ],
   "source": [
    "set(e).intersection(s70_hits)"
   ]
  },
  {
   "cell_type": "code",
   "execution_count": 230,
   "id": "9ba67f36-d637-4b50-bbfc-e63d017cb382",
   "metadata": {},
   "outputs": [],
   "source": [
    "s70_hits = '''544d19bbbb28945456\n",
    "d56a7711fd2267ab6f\n",
    "993ea08c331aa195bb\n",
    "4f57d22e2dcced9ff8\n",
    "33dd4e33d50551ddb9\n",
    "aafe61c843388decac\n",
    "0344dc509e9dbaf433\n",
    "717024767c388b708a\n",
    "1fd51328ba8f2bf7e6\n",
    "a808192562f3066861\n",
    "f0db035585cb74b182\n",
    "f5e83ad3861646707d\n",
    "ed4afa22b5e938b715\n",
    "78fc112a8e714ce9a4\n",
    "845816982a787eb3e6\n",
    "226611224045add90b\n",
    "699f1b111b1cc443dc\n",
    "132a510018f8dd6e3a\n",
    "9af830751624d8869b\n",
    "14deb978f03fabd599\n",
    "585d269c15321b1844'''.split('\\n')"
   ]
  },
  {
   "cell_type": "code",
   "execution_count": 226,
   "id": "5e05dce6-1e6d-4756-9a2b-d5bfc91cad77",
   "metadata": {},
   "outputs": [],
   "source": [
    "e = ['59b0fbb906144660af', 'cded850a86d3ad37cc', '187642717e12e8b423', '2708f719170dd7443f', '1fdb5ad6120af83ccd', '27257a3b647318e3b1', 'c311f851d7423817eb', '59b0fbb906144660af', '78aabe0a3172e03283', '094c58e079654d067d', '4de73c0e1ca67a9780', 'b4416eeb0b7b065696', 'dc8b0ca34e6566a9d9', 'd1c9e0c0aad943d796', 'f39349814694893df8', '45f6abd141d3c011a2', '542de7651e749f8971', '931ba8cae02f69f68d', 'ad41ffccc1a18c00f6']\n",
    "with open(\"sig70_afold_input.posctrl.faa\", \"w\") as outfile:\n",
    "    for prot in e:\n",
    "        print(\">\" + prot, file=outfile)\n",
    "        print(get_prot_sequence(prot), file=outfile)"
   ]
  },
  {
   "cell_type": "code",
   "execution_count": 218,
   "id": "e69c7c21-6ed1-4971-a019-557c74a9663c",
   "metadata": {},
   "outputs": [],
   "source": [
    "with open(\"sig70_afold_input.faa\", \"w\") as outfile:\n",
    "    for prot in list(set(a).union(b).union(c).union(d)):\n",
    "        print(\">\" + prot, file=outfile)\n",
    "        print(get_prot_sequence(prot), file=outfile)"
   ]
  },
  {
   "cell_type": "code",
   "execution_count": 182,
   "id": "04636ba9-6939-47e9-9a36-81d1c2bd2c8b",
   "metadata": {},
   "outputs": [],
   "source": [
    "#outdir = \"../tnpBs/representatives\"\n",
    "outdir = \"../tnpBs/all_tnpBs\"\n",
    "\n",
    "\n",
    "infile_tnpb_df = \"tnpB_targetgenes_pfam.filtered.csv\"\n",
    "infile_tnpBs = \"tnpBs_in_testdb.p100.1e4.txt\"\n",
    "tnpB_p60s_path = \"../tnpBs/cluster/OUTPUT/tmp/clu_cluster.tsv\"\n",
    "infile_mafft = outdir + \"/_all_tnpBs_mafft_input.faa\"\n",
    "outfile_mafft = outdir + \"/_all_tnpBs_mafft.out.faa\"\n",
    "\n",
    "#outfile_tnpBs_inactive = \"../tnpBs/_inactive_tnpBs.faa\"\n",
    "outfile_tnpBs_inactive_3 = \"../tnpBs/_all_inactive_tnpBs.3.faa\"\n",
    "outfile_tnpBs_inactive_2 = \"../tnpBs/_all_inactive_tnpBs.2.faa\"\n",
    "outfile_tnpBs_inactive_1 = \"../tnpBs/_all_inactive_tnpBs.1.faa\""
   ]
  },
  {
   "cell_type": "code",
   "execution_count": 183,
   "id": "888eb633-f74e-4f70-aee9-c2308d9ec09f",
   "metadata": {},
   "outputs": [],
   "source": [
    "#tnpB_10_target_annot_df = pd.read_csv(infile_tnpb_df).iloc[:,1:]\n",
    "tnpB_df = pd.read_csv(\"tnpB_icity_output.tsv\", sep='\\t')\n",
    "tnpB_df = tnpB_df[tnpB_df[\"icity\"] > .7].sort_values([\"icity\",\"numer\"], ascending = False).drop_duplicates()\n",
    "tnpB_10_target_annot_df = tnpB_df[tnpB_df[\"denom\"] > 10]"
   ]
  },
  {
   "cell_type": "code",
   "execution_count": 160,
   "id": "13842e98-7dbf-4bb4-baee-99326782a881",
   "metadata": {},
   "outputs": [],
   "source": [
    "with open(\"dTnpB_target.txt\", \"w\") as outfile:\n",
    "    for pid in list(tnpB_10_target_annot_df[\"target_p30id\"]):\n",
    "        print(pid, file=outfile)"
   ]
  },
  {
   "cell_type": "code",
   "execution_count": 147,
   "id": "a2e593fa-4a9e-48b5-86ed-4f56aff82ee4",
   "metadata": {},
   "outputs": [],
   "source": [
    "inactive_tnpBs_list = []\n",
    "with open(\"../inactive_tnpbs_ref.3.faa\", \"r\") as infile:\n",
    "    lines=infile.readlines()\n",
    "    for line in lines:\n",
    "        if line[0] == '>':\n",
    "            tnpBid = line.strip('>').strip('\\n')\n",
    "            inactive_tnpBs_list.append(tnpBid)"
   ]
  },
  {
   "cell_type": "code",
   "execution_count": 148,
   "id": "65cad4a4-f240-4711-862d-ea044bd80355",
   "metadata": {},
   "outputs": [
    {
     "data": {
      "text/plain": [
       "(55599, 55599)"
      ]
     },
     "execution_count": 148,
     "metadata": {},
     "output_type": "execute_result"
    }
   ],
   "source": [
    "tnpBs_list = []\n",
    "with open(infile_tnpBs, \"r\") as infile:\n",
    "    lines = infile.readlines()\n",
    "    for line in lines:\n",
    "        p100 = line.split('\\n')[0]\n",
    "        tnpBs_list.append(p100)\n",
    "tnpBs_set = set(tnpBs_list)\n",
    "len(tnpBs_list), len(tnpBs_set)"
   ]
  },
  {
   "cell_type": "markdown",
   "id": "b538d5ef-d291-47c7-8820-1f13a8955661",
   "metadata": {},
   "source": [
    "## get high icity tnpBs (p60s) to align"
   ]
  },
  {
   "cell_type": "code",
   "execution_count": 149,
   "id": "56f167cc-09bc-4811-bac3-19013423ea14",
   "metadata": {},
   "outputs": [],
   "source": [
    "def cluster_(pid_inpath, mmseqs_dir, identity, pid_list = None):\n",
    "    if pid_list != None:\n",
    "        with open(pid_inpath, \"w\") as outfile:\n",
    "            for pid in pid_list:\n",
    "                print(pid, file=outfile)\n",
    "    cmd = \"python3 clustering_gen.py {} {} {}\".format(pid_inpath, mmseqs_dir, identity)\n",
    "    process = subprocess.Popen(cmd.split(' '))\n",
    "    output_tsv = mmseqs_dir + \"/OUTPUT/_cluster.tsv\"\n",
    "    cluster_rep_df = pd.read_csv(output_tsv, sep = '\\t').drop_duplicates()\n",
    "    return list(cluster_rep_df.iloc[:,0])"
   ]
  },
  {
   "cell_type": "code",
   "execution_count": 150,
   "id": "bc227595-41bc-4dcc-a032-255b98ad589e",
   "metadata": {},
   "outputs": [
    {
     "data": {
      "text/plain": [
       "1613"
      ]
     },
     "execution_count": 150,
     "metadata": {},
     "output_type": "execute_result"
    }
   ],
   "source": [
    "len(out_list)"
   ]
  },
  {
   "cell_type": "code",
   "execution_count": 151,
   "id": "e7798e31-ea5a-48d3-8a0f-f1ba9e53ab08",
   "metadata": {},
   "outputs": [],
   "source": [
    "#out_list = cluster_(\"../tnpBs/_all_inactive_tnpBs.3.txt\", \"../tnpBs/clust_inactive\", \"0.6\", inactive_tnpBs_list)"
   ]
  },
  {
   "cell_type": "code",
   "execution_count": 152,
   "id": "b1c3c849-70c4-4d83-bb66-6f860e6fda30",
   "metadata": {},
   "outputs": [],
   "source": [
    "def get_prot_sequence(pid):\n",
    "    con=sqlite3.connect(\"80kprotein_stats.db\")\n",
    "    cur = con.cursor()\n",
    "    cmd = \"SELECT sequence FROM proteins WHERE pid = '%s'\" % pid \n",
    "    #print(cmd)\n",
    "    cur.execute(cmd)\n",
    "    return str(cur.fetchone()[0])\n",
    "    con.close()\n",
    "def get_faas_protidlist(protidlist, outfile_path):\n",
    "    with open(outfile_path, \"w\") as outfile:\n",
    "        for protid in protidlist:\n",
    "            protseq = get_prot_sequence(protid)\n",
    "            print(\">\" + protid, file=outfile)\n",
    "            print(protseq, file=outfile)\n",
    "# # run only once to cluster all tnpBs in tnpBs_list\n",
    "#get_faas_protidlist(tnpBs_list, \"../tnpBs/cluster/INPUT/tnpB_mmseqs_input.faa\")"
   ]
  },
  {
   "cell_type": "code",
   "execution_count": 153,
   "id": "c6badc6c-deba-402d-8416-768e2f510a7a",
   "metadata": {
    "tags": []
   },
   "outputs": [],
   "source": [
    "# run only after p60 clusters formed\n",
    "tnpB_p60_df = pd.read_csv(tnpB_p60s_path, sep = '\\t', header = None).rename(columns = {0:\"p60\",1:'p100'}).drop_duplicates()"
   ]
  },
  {
   "cell_type": "code",
   "execution_count": 154,
   "id": "473af590-313e-4f7c-86ee-5bd2cd94dfc9",
   "metadata": {},
   "outputs": [],
   "source": [
    "high_icity_tnpBs_ls = []\n",
    "for baitp100s_str in tnpB_10_target_annot_df[\"baitp100s\"]:\n",
    "    baitp100s_ls = ast.literal_eval(baitp100s_str)\n",
    "    high_icity_tnpBs_ls += baitp100s_ls\n",
    "high_icity_tnpBs = [tnpB for tnpB in high_icity_tnpBs_ls if tnpB in tnpBs_set]\n",
    "high_icity_tnpBs_set = set(high_icity_tnpBs)\n"
   ]
  },
  {
   "cell_type": "code",
   "execution_count": 176,
   "id": "655769cb-50ad-4a7c-a49e-574f9ca44e7f",
   "metadata": {},
   "outputs": [
    {
     "data": {
      "text/plain": [
       "(670, 588)"
      ]
     },
     "execution_count": 176,
     "metadata": {},
     "output_type": "execute_result"
    }
   ],
   "source": [
    "len(high_icity_tnpBs), len(high_icity_tnpBs_set)"
   ]
  },
  {
   "cell_type": "code",
   "execution_count": 177,
   "id": "6ee57842-a0ac-4914-8cac-0d0f18126df1",
   "metadata": {},
   "outputs": [],
   "source": [
    "tnpB_p60_list = list(set(tnpB_p60_df['p60']))\n",
    "tnpB_p60_highicity_list = [p60 for p60 in tnpB_p60_list if p60 in high_icity_tnpBs_set]"
   ]
  },
  {
   "cell_type": "code",
   "execution_count": 178,
   "id": "f09106be-92f7-4d5c-816f-4ddf2147567b",
   "metadata": {},
   "outputs": [
    {
     "data": {
      "text/plain": [
       "(588, 55599)"
      ]
     },
     "execution_count": 178,
     "metadata": {},
     "output_type": "execute_result"
    }
   ],
   "source": [
    "len(high_icity_tnpBs_set), len(tnpBs_list)"
   ]
  },
  {
   "cell_type": "code",
   "execution_count": 179,
   "id": "fb9f8ac4-6f27-42dd-80f4-686d1cf3d4ca",
   "metadata": {},
   "outputs": [
    {
     "data": {
      "text/plain": [
       "(45, 23776)"
      ]
     },
     "execution_count": 179,
     "metadata": {},
     "output_type": "execute_result"
    }
   ],
   "source": [
    "len(tnpB_p60_highicity_list), len(tnpB_p60_list)"
   ]
  },
  {
   "cell_type": "markdown",
   "id": "b73d752b-98f2-4a13-8ecb-62f27e36dce2",
   "metadata": {},
   "source": [
    "### run alignments and get catalytically inactive tnpBs"
   ]
  },
  {
   "cell_type": "code",
   "execution_count": 20,
   "id": "8f4a35f5-c713-4099-9297-734624617ebc",
   "metadata": {},
   "outputs": [],
   "source": [
    "def get_multifaa_protidlist(protidlist, outpath):\n",
    "    with open(outpath, \"w\") as outfile:\n",
    "        for protid in protidlist:\n",
    "            protseq = get_prot_sequence(protid)\n",
    "            if len(protseq) > 300 and len(protseq) < 500:\n",
    "                print(\">\" + protid, file=outfile)\n",
    "                print(protseq, file=outfile)\n",
    "#get_multifaa_protidlist(tnpB_p60_highicity_list, infile_mafft)"
   ]
  },
  {
   "cell_type": "code",
   "execution_count": 21,
   "id": "582152b5-1799-4556-a33e-138a59efe80e",
   "metadata": {},
   "outputs": [],
   "source": [
    "tnpBs_list = []\n",
    "with open(infile_tnpBs, \"r\") as infile:\n",
    "    lines = infile.readlines()\n",
    "    for line in lines:\n",
    "        line=line.strip('\\n')\n",
    "        tnpBs_list.append(line)"
   ]
  },
  {
   "cell_type": "code",
   "execution_count": null,
   "id": "664e2301-75c0-4ba2-b695-6215a2797b95",
   "metadata": {},
   "outputs": [],
   "source": [
    "# to do - delete later\n",
    "#get_multifaa_protidlist(tnpBs_list, infile_mafft)"
   ]
  },
  {
   "cell_type": "code",
   "execution_count": 36,
   "id": "94b5f0ba-cb41-4974-9bf4-ad75d6e0db61",
   "metadata": {},
   "outputs": [],
   "source": [
    "cmd_mafft = \"ginsi --thread 32 \" + infile_mafft + \" > \" + outfile_mafft\n",
    "print(\"running mafft ginsi: \" + cmd_mafft)\n",
    "os.system(cmd_mafft)"
   ]
  },
  {
   "cell_type": "code",
   "execution_count": null,
   "id": "671a7691-05de-43bb-900d-4169e75c0d8c",
   "metadata": {},
   "outputs": [],
   "source": [
    "# # run kalign to align hundreds of thousands of proteins\n",
    "# cmd_kalign = \"kalign -i \" + infile_kalign + \" -o \" + outfile_kalign\n",
    "# print(\"running kalign: \" + cmd_kalign)\n",
    "# os.system(cmd_kalign)"
   ]
  },
  {
   "cell_type": "code",
   "execution_count": 37,
   "id": "57cd7255-6b89-4262-ad5b-32ca795556d1",
   "metadata": {},
   "outputs": [],
   "source": [
    "out_ref = \"../ref_tnpB_pid.faa\"\n",
    "with open(out_ref, \"w\") as outfile:\n",
    "    print(\">0fea0aedf485f57c86\", file=outfile)\n",
    "    print(get_prot_sequence(ref_tnpB_pid), file=outfile)\n",
    "    "
   ]
  },
  {
   "cell_type": "code",
   "execution_count": 22,
   "id": "c4701f46-63bf-414a-b955-979ae80d9e7f",
   "metadata": {},
   "outputs": [
    {
     "data": {
      "text/plain": [
       "('D', 'E', 'D')"
      ]
     },
     "execution_count": 22,
     "metadata": {},
     "output_type": "execute_result"
    }
   ],
   "source": [
    "ref_tnpB_pid = '0fea0aedf485f57c86'\n",
    "seq1 = get_prot_sequence(ref_tnpB_pid)\n",
    "seq1[187], seq1[271], seq1[354]"
   ]
  },
  {
   "cell_type": "code",
   "execution_count": 34,
   "id": "1edd1769-e68c-4c69-9402-cdb3d3b32e9e",
   "metadata": {},
   "outputs": [],
   "source": [
    "def get_alignindices_dict(ref_tnpB_pid, msa_file):\n",
    "    # get seq1, which is the amino acid fasta format for ref_tnpB_pid\n",
    "    seq1 = get_prot_sequence(ref_tnpB_pid)\n",
    "    # get seq2, which is the amino acid fasta format with gaps, post-alignment\n",
    "    with open(msa_file) as handle:\n",
    "        for rec in SeqIO.parse(handle, 'fasta'):\n",
    "            pid = rec.id\n",
    "            if pid == ref_tnpB_pid:\n",
    "                seq2 = str(rec.seq)\n",
    "                break\n",
    "    # map the indices of amino acids between the two sequence formats\n",
    "    index_to_alignindex = {}\n",
    "    align_indexes = []\n",
    "    for i in range(len(seq2)):\n",
    "        char = seq2[i]\n",
    "        if char != '-':\n",
    "            align_indexes.append(i)\n",
    "    for j in range(len(align_indexes)):\n",
    "        index_to_alignindex[j] = align_indexes[j]\n",
    "    return index_to_alignindex\n",
    "\n",
    "#align_indices_dict = get_alignindices_dict(ref_tnpB_pid, outfile_mafft)\n",
    "align_indices_dict = get_alignindices_dict(ref_tnpB_pid, '../tmp.kalign.faa')"
   ]
  },
  {
   "cell_type": "code",
   "execution_count": 199,
   "id": "fc93e664-2fb6-4a30-9e9d-31d23adf78e4",
   "metadata": {},
   "outputs": [],
   "source": [
    "count_3, count_2, count_1, count_0 = 0, 0, 0, 0\n",
    "seq_logo_list_alltnpBs = []\n",
    "#with open(outfile_mafft) as handle, \\\n",
    "with open(\"../tmp.kalign.faa\") as handle, \\\n",
    "open (outfile_tnpBs_inactive_3, \"w\") as outfile_3, \\\n",
    "open (outfile_tnpBs_inactive_2, \"w\") as outfile_2, \\\n",
    "open (outfile_tnpBs_inactive_1, \"w\") as outfile_1:\n",
    "    for rec in SeqIO.parse(handle, 'fasta'):\n",
    "        sequence = rec.seq\n",
    "        pid = rec.id\n",
    "        residues = [sequence[align_indices_dict[187]], sequence[align_indices_dict[271]], sequence[align_indices_dict[354]]]\n",
    "        seq_logo_list_alltnpBs += [residues]\n",
    "        first_residue_missing = residues[0] != 'D'\n",
    "        second_residue_missing = residues[1] != 'E'\n",
    "        third_residue_missing = residues[2] != 'D'\n",
    "        num_res_missing = first_residue_missing + second_residue_missing + third_residue_missing \n",
    "        sequence_gapfree = get_prot_sequence(pid)\n",
    "        if (len(sequence_gapfree) > 300) and (len(sequence_gapfree) < 500):\n",
    "            if num_res_missing == 3:\n",
    "                print(\">\" + pid, file = outfile_3)\n",
    "                print(sequence_gapfree, file = outfile_3)\n",
    "                count_3 += 1\n",
    "            elif num_res_missing == 2:\n",
    "                print(\">\" + pid, file = outfile_2)\n",
    "                print(sequence_gapfree, file = outfile_2)\n",
    "                count_2 += 1\n",
    "            if num_res_missing == 1:\n",
    "                print(\">\" + pid, file = outfile_1)\n",
    "                print(sequence_gapfree, file = outfile_1)\n",
    "                count_1 += 1\n",
    "            elif num_res_missing == 0:\n",
    "                count_0 += 1"
   ]
  },
  {
   "cell_type": "code",
   "execution_count": 200,
   "id": "1b5416ee-8e69-478b-bdb2-57c92e846d9b",
   "metadata": {},
   "outputs": [
    {
     "data": {
      "text/plain": [
       "(1613, 1781, 8345, 24667)"
      ]
     },
     "execution_count": 200,
     "metadata": {},
     "output_type": "execute_result"
    }
   ],
   "source": [
    "count_3, count_2, count_1, count_0"
   ]
  },
  {
   "cell_type": "code",
   "execution_count": 207,
   "id": "ba580321-ede8-4ffd-9073-7babb1507a86",
   "metadata": {},
   "outputs": [
    {
     "data": {
      "text/plain": [
       "<logomaker.src.Logo.Logo at 0x7fdbac197280>"
      ]
     },
     "execution_count": 207,
     "metadata": {},
     "output_type": "execute_result"
    },
    {
     "data": {
      "image/png": "[encoded data removed]",
      "text/plain": [
       "<Figure size 720x180 with 1 Axes>"
      ]
     },
     "metadata": {
      "needs_background": "light"
     },
     "output_type": "display_data"
    }
   ],
   "source": [
    "p100_seqlogo_raw_df = pd.DataFrame(seq_logo_list_alltnpBs)\n",
    "p100_resid_1_freq_df = pd.DataFrame(pd.get_dummies(p100_seqlogo_raw_df.iloc[:, 0]).mean())\n",
    "p100_resid_2_freq_df = pd.DataFrame(pd.get_dummies(p100_seqlogo_raw_df.iloc[:, 1]).mean())#.rename(columns={'0':'1'})\n",
    "p100_resid_3_freq_df = pd.DataFrame(pd.get_dummies(p100_seqlogo_raw_df.iloc[:, 2]).mean())#.rename(columns={'0':'1'})\n",
    "p100_seqlogo_freq_df = pd.concat([p100_resid_1_freq_df, p100_resid_2_freq_df, p100_resid_3_freq_df], axis = 1).fillna(0)\n",
    "p100_seqlogo_freq_df.columns = [1, 2, 3]\n",
    "p100_seqlogo_freq_df = p100_seqlogo_freq_df.transpose()\n",
    "# p100_resid_1_freq_df.iloc[:,0].sort_values(ascending=False), \\\n",
    "# p100_resid_2_freq_df.iloc[:,0].sort_values(ascending=False), \\\n",
    "# p100_resid_3_freq_df.iloc[:,0].sort_values(ascending=False)\n",
    "crp_logo = logomaker.Logo(p100_seqlogo_freq_df)\n",
    "crp_logo"
   ]
  },
  {
   "cell_type": "code",
   "execution_count": 201,
   "id": "0cf54a55-5f01-45e9-b2fc-33b49090354e",
   "metadata": {},
   "outputs": [
    {
     "data": {
      "text/plain": [
       "Text(0, 0.5, 'frequency')"
      ]
     },
     "execution_count": 201,
     "metadata": {},
     "output_type": "execute_result"
    },
    {
     "data": {
      "image/png": "[encoded data removed]",
      "text/plain": [
       "<Figure size 432x288 with 1 Axes>"
      ]
     },
     "metadata": {
      "needs_background": "light"
     },
     "output_type": "display_data"
    }
   ],
   "source": [
    "plt.bar([0, 1, 2, 3], [count_0, count_1, count_2, count_3])\n",
    "plt.xlabel(\"number of mutations at catalytic site\")\n",
    "plt.ylabel(\"frequency\")"
   ]
  },
  {
   "cell_type": "code",
   "execution_count": 101,
   "id": "2a092276-92e0-439e-9f5a-00b5982e5b2e",
   "metadata": {},
   "outputs": [],
   "source": [
    "# p30_inactive_list = []\n",
    "# with open(outfile_tnpBs_inactive) as handle:\n",
    "#     for rec in SeqIO.parse(handle, 'fasta'):\n",
    "#         p30_inactive = get_permissive_rep(rec.id)\n",
    "#         p30_inactive_list.append(p30_inactive)\n",
    "# p30_inactive_list.sort()\n",
    "# set(p30_inactive_list)"
   ]
  }
 ],
 "metadata": {
  "environment": {
   "kernel": "ggdb",
   "name": "common-cpu.m82",
   "type": "gcloud",
   "uri": "gcr.io/deeplearning-platform-release/base-cpu:m82"
  },
  "kernelspec": {
   "display_name": "ggdb",
   "language": "python",
   "name": "ggdb"
  },
  "language_info": {
   "codemirror_mode": {
    "name": "ipython",
    "version": 3
   },
   "file_extension": ".py",
   "mimetype": "text/x-python",
   "name": "python",
   "nbconvert_exporter": "python",
   "pygments_lexer": "ipython3",
   "version": "3.9.7"
  }
 },
 "nbformat": 4,
 "nbformat_minor": 5
}
