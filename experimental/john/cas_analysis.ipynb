{
 "cells": [
  {
   "cell_type": "code",
   "execution_count": null,
   "id": "d0df8975",
   "metadata": {
    "collapsed": false,
    "deletable": true,
    "editable": true,
    "heading_collapsed": false,
    "hidden": false
   },
   "outputs": [],
   "source": [
    "import pandas as pd\n",
    "import numpy as np\n",
    "import json\n",
    "import plotly.express as px\n",
    "from pyvis.network import Network\n",
    "import networkx as nx\n",
    "\n",
    "import sqlite3\n",
    "\n",
    "\n",
    "from utils import notebook_util\n",
    "notebook_util.disp_notebook_full_width()"
   ]
  },
  {
   "cell_type": "code",
   "execution_count": null,
   "id": "13a0c3aa",
   "metadata": {
    "collapsed": false,
    "deletable": true,
    "editable": true,
    "heading_collapsed": false,
    "hidden": false
   },
   "outputs": [],
   "source": [
    "# from jacob; grabs AA sequence\n",
    "\n",
    "con=sqlite3.connect(\"/GeneGraphDB/data/20220322_80kprotein_stats.db\")\n",
    "\n",
    "def get_prot_sequence(pid):\n",
    "#     con=sqlite3.connect(\"/GeneGraphDB/data/20220322_80kprotein_stats.db\")\n",
    "    cur = con.cursor()\n",
    "    cmd = \"SELECT sequence FROM proteins WHERE pid = '%s'\" % pid\n",
    "    cur.execute(cmd)\n",
    "    return str(cur.fetchone()[0])\n",
    "    con.close()"
   ]
  },
  {
   "cell_type": "code",
   "execution_count": null,
   "id": "f12738e8",
   "metadata": {
    "collapsed": false,
    "deletable": true,
    "editable": true,
    "heading_collapsed": false,
    "hidden": false
   },
   "outputs": [],
   "source": [
    "dataframes = []\n",
    "\n",
    "for json_file in [\n",
    "    \"/GeneGraphDB/data/20220308_neo4j_colocalization/cas1.json\",\n",
    "    \"/GeneGraphDB/data/20220308_neo4j_colocalization/cas2.json\",\n",
    "    \"/GeneGraphDB/data/20220308_neo4j_colocalization/tnpBs_in_testdb.p100.1e4.json\"\n",
    "]:\n",
    "    with open(json_file) as f:\n",
    "        data_dict = json.load(f)\n",
    "        df = pd.DataFrame(data_dict.values())\n",
    "        dataframes.append(df)"
   ]
  },
  {
   "cell_type": "code",
   "execution_count": null,
   "id": "7df15dc1",
   "metadata": {
    "collapsed": false,
    "deletable": true,
    "editable": true,
    "heading_collapsed": false,
    "hidden": false
   },
   "outputs": [],
   "source": [
    "joint_df = pd.concat(dataframes).copy()"
   ]
  },
  {
   "cell_type": "code",
   "execution_count": null,
   "id": "327174a5",
   "metadata": {
    "collapsed": false,
    "deletable": true,
    "editable": true,
    "heading_collapsed": false,
    "hidden": false
   },
   "outputs": [],
   "source": [
    "joint_df['weighted_score'] = joint_df['tgt_colocalization'] * np.power(joint_df['num_tgt_p100s'], 1/3)"
   ]
  },
  {
   "cell_type": "code",
   "execution_count": null,
   "id": "ea6ea0bc",
   "metadata": {
    "collapsed": false,
    "deletable": true,
    "editable": true,
    "heading_collapsed": false,
    "hidden": false
   },
   "outputs": [],
   "source": [
    "filtered_df = joint_df.copy()\n",
    "\n",
    "print(len(filtered_df), \"rows total\")\n",
    "filtered_df = filtered_df[filtered_df['num_tgt_p100s'] >= 5]\n",
    "print(len(filtered_df), \"filtered for >5 tgt p100\")\n",
    "filtered_df = filtered_df[filtered_df['num_connections'] > 1]\n",
    "print(len(filtered_df), \"+ filtered for >1 shared edges\")\n",
    "\n",
    "filtered_df = filtered_df[filtered_df['tgt_colocalization'] > 0.1]\n",
    "print(len(filtered_df), \"+ filtered for >0.1 tgt colocalization\")\n",
    "\n",
    "filtered_df = filtered_df[filtered_df['bait_colocalization'] > 0.01]\n",
    "print(len(filtered_df), \"+ filtered for >0.01 bait colocalization\")\n",
    "\n",
    "\n",
    "filtered_df.sort_values('weighted_score', ascending=False, inplace=True)\n",
    "filtered_df\n"
   ]
  },
  {
   "cell_type": "code",
   "execution_count": null,
   "id": "4b7b26d0",
   "metadata": {
    "collapsed": false,
    "deletable": true,
    "editable": true,
    "heading_collapsed": false,
    "hidden": false
   },
   "outputs": [],
   "source": [
    "for tgt_p30 in filtered_df['tgt_p30'][0:20]:\n",
    "    print(tgt_p30)\n",
    "    print()\n",
    "    print(get_prot_sequence(tgt_p30))\n",
    "    display(joint_df[(joint_df['tgt_p30'] == tgt_p30) | (joint_df['bait_p30'] == tgt_p30)])\n",
    "    print(\"\\n\\n*********\\n\")"
   ]
  },
  {
   "cell_type": "code",
   "execution_count": null,
   "id": "88f91159",
   "metadata": {
    "collapsed": false,
    "deletable": true,
    "editable": true,
    "heading_collapsed": false,
    "hidden": false
   },
   "outputs": [],
   "source": [
    "joint_df['bait_type'].unique()"
   ]
  },
  {
   "cell_type": "code",
   "execution_count": null,
   "id": "e07816a8",
   "metadata": {
    "collapsed": false,
    "deletable": true,
    "editable": true,
    "heading_collapsed": false,
    "hidden": false
   },
   "outputs": [],
   "source": [
    "BLACK = \"#000000\"\n",
    "WHITE = \"#FFFFFF\"\n",
    "RED = \"#FF0000\"\n",
    "GREEN = \"#00FF00\"\n",
    "BLUE = \"#0000FF\"\n",
    "YELLOW = \"#FFFF00\"\n",
    "CYAN = \"#00FFFF\"\n",
    "MAGENTA = \"#FF00FF\"\n",
    "PURPLE = \"#A020F0\"\n",
    "\n",
    "TYPE_TO_COLOR = {\n",
    "    'cas1': GREEN,\n",
    "    'cas2': BLUE,\n",
    "    'tnpB': RED,\n",
    "    'unknown': MAGENTA,\n",
    "}\n",
    "\n",
    "G = nx.Graph()\n",
    "\n",
    "def stylized_edge(G, src, dest, weight):\n",
    "    if weight < 0.5:\n",
    "        col = RED\n",
    "        width = 1\n",
    "    else:\n",
    "        col = GREEN\n",
    "        width = 5\n",
    "    G.add_edge(src, dest, color=col, weight = width)\n",
    "\n",
    "def num_p100s_to_size(num_p100s: int) -> int:\n",
    "    \n",
    "    disp_size = np.log(num_p100s)\n",
    "    disp_size = int(np.round(disp_size))\n",
    "    disp_size = max(1, disp_size)\n",
    "    disp_size = disp_size * 3\n",
    "    return disp_size\n",
    "\n",
    "#     G.add_node(p30, size=50, color=RED)\n",
    "#     G.add_node(p90, size=25, color=YELLOW)\n",
    "#     G.add_edge(p30, p90, type=\"p30_clustering\")\n",
    "\n",
    "for tgt_p30 in filtered_df['tgt_p30'][0:200]:\n",
    "    tgt_related_df = joint_df[(joint_df['tgt_p30'] == tgt_p30) | (joint_df['bait_p30'] == tgt_p30)]\n",
    "    display(tgt_related_df)\n",
    "    \n",
    "    for row in tgt_related_df.to_dict('records'):\n",
    "        tgt_p30 = row['tgt_p30']\n",
    "        tgt_colocalization = row['tgt_colocalization']\n",
    "        \n",
    "        if tgt_p30 not in G:\n",
    "            tgt_num_p100s = row['num_tgt_p100s']\n",
    "            tgt_type_series = joint_df[joint_df['bait_p30'] == tgt_p30]['bait_type']\n",
    "            tgt_type = tgt_type_series.unique()[0] if len(tgt_type_series) > 0 else \"unknown\"\n",
    "            tgt_color = TYPE_TO_COLOR.get(tgt_type)\n",
    "            G.add_node(tgt_p30, size=num_p100s_to_size(tgt_num_p100s), color=tgt_color)\n",
    "\n",
    "        \n",
    "        bait_p30 = row['bait_p30']\n",
    "        # bait_colocalization = row['bait_colocalization']\n",
    "        if bait_p30 not in G:\n",
    "            bait_num_p100s = row['num_bait_p100s']\n",
    "            bait_type = row['bait_type']\n",
    "            bait_color = TYPE_TO_COLOR.get(bait_type)\n",
    "            G.add_node(bait_p30, size=num_p100s_to_size(bait_num_p100s), color=bait_color)        \n",
    "        \n",
    "\n",
    "        \n",
    "        stylized_edge(G, tgt_p30, bait_p30, tgt_colocalization)\n",
    "        \n"
   ]
  },
  {
   "cell_type": "code",
   "execution_count": null,
   "id": "f4394f50",
   "metadata": {
    "collapsed": false,
    "deletable": true,
    "editable": true,
    "heading_collapsed": false,
    "hidden": false
   },
   "outputs": [],
   "source": [
    "%%time\n",
    "net = Network(notebook=True, height=\"1000px\", width=\"1000px\")\n",
    "net.from_nx(G)\n",
    "net.show('./pyvis_test.html')"
   ]
  }
 ],
 "metadata": {
  "kernelspec": {
   "display_name": "Python 3 (ipykernel)",
   "language": "python",
   "name": "python3"
  },
  "language_info": {
   "codemirror_mode": {
    "name": "ipython",
    "version": 3
   },
   "file_extension": ".py",
   "mimetype": "text/x-python",
   "name": "python",
   "nbconvert_exporter": "python",
   "pygments_lexer": "ipython3",
   "version": "3.9.10"
  }
 },
 "nbformat": 4,
 "nbformat_minor": 5
}
