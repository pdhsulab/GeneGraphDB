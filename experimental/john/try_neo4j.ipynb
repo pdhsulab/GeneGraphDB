{
 "cells": [
  {
   "cell_type": "code",
   "execution_count": null,
   "id": "837a0c09",
   "metadata": {
    "collapsed": false,
    "deletable": true,
    "editable": true,
    "heading_collapsed": false,
    "hidden": false
   },
   "outputs": [],
   "source": [
    "from neo4j import GraphDatabase\n",
    "from db_inference import simple_sql_db\n",
    "from functools import lru_cache\n",
    "\n",
    "NEO4J_DOCKER_INSTANCE_NAME = \"testneo4j\""
   ]
  },
  {
   "cell_type": "code",
   "execution_count": null,
   "id": "fde6ed38",
   "metadata": {
    "collapsed": false,
    "deletable": true,
    "editable": true,
    "heading_collapsed": false,
    "hidden": false
   },
   "outputs": [],
   "source": [
    "# https://towardsdatascience.com/create-a-graph-database-in-neo4j-using-python-4172d40f89c4\n",
    "class Neo4jConnection:\n",
    "    \n",
    "    def __init__(self, uri, user, pwd):\n",
    "        self.__uri = uri\n",
    "        self.__user = user\n",
    "        self.__pwd = pwd\n",
    "        self.__driver = None\n",
    "        try:\n",
    "            self.__driver = GraphDatabase.driver(self.__uri, auth=(self.__user, self.__pwd))\n",
    "        except Exception as e:\n",
    "            print(\"Failed to create the driver:\", e)\n",
    "        \n",
    "    def close(self):\n",
    "        if self.__driver is not None:\n",
    "            self.__driver.close()\n",
    "        \n",
    "    def query(self, query, parameters=None, db=None):\n",
    "        assert self.__driver is not None, \"Driver not initialized!\"\n",
    "        session = None\n",
    "        response = None\n",
    "        try: \n",
    "            session = self.__driver.session(database=db) if db is not None else self.__driver.session() \n",
    "            response = list(session.run(query, parameters))\n",
    "        except Exception as e:\n",
    "            print(\"Query failed:\", e)\n",
    "        finally: \n",
    "            if session is not None:\n",
    "                session.close()\n",
    "        return response\n",
    "\n",
    "\n",
    "conn = Neo4jConnection(uri=f\"bolt://{NEO4J_DOCKER_INSTANCE_NAME}:7687\", \n",
    "                       user=\"neo4j\",              \n",
    "                       pwd=\"test\")"
   ]
  },
  {
   "cell_type": "code",
   "execution_count": null,
   "id": "e6183f5f",
   "metadata": {
    "collapsed": false,
    "deletable": true,
    "editable": true,
    "heading_collapsed": false,
    "hidden": false
   },
   "outputs": [],
   "source": [
    "sql_db.get_tables()"
   ]
  },
  {
   "cell_type": "code",
   "execution_count": null,
   "id": "06e34886",
   "metadata": {
    "collapsed": false,
    "deletable": true,
    "editable": true,
    "heading_collapsed": false,
    "hidden": false
   },
   "outputs": [],
   "source": [
    "%%time\n",
    "\n",
    "sql_db = simple_sql_db.SimplifiedSqlDb()\n",
    "\n",
    "@lru_cache(maxsize=1000000)\n",
    "def p100_to_p30_cached(p100):\n",
    "    row = sql_db.get_p30_cluster_for_p100(p100)\n",
    "    return row['p30']\n",
    "\n",
    "cur = sql_db.conn.cursor()\n",
    "num_rows = 0\n",
    "num_cluster_misses = 0\n",
    "for r in cur.execute(f\"SELECT * FROM prot2protwindow LIMIT 1000000;\"):\n",
    "    try:\n",
    "        p30_a = p100_to_p30_cached(r['p1hash'])\n",
    "        p30_b = p100_to_p30_cached(r['p2hash'])\n",
    "    except AssertionError as e:\n",
    "#         print(e)\n",
    "        num_cluster_misses += 1\n",
    "    num_rows += 1\n",
    "    \n",
    "print(num_rows, num_cluster_misses)\n",
    "\n",
    "\n",
    "\n"
   ]
  },
  {
   "cell_type": "code",
   "execution_count": null,
   "id": "0c656624",
   "metadata": {
    "collapsed": false,
    "deletable": true,
    "editable": true,
    "heading_collapsed": false,
    "hidden": false
   },
   "outputs": [],
   "source": [
    "cur.execute()"
   ]
  },
  {
   "cell_type": "code",
   "execution_count": null,
   "id": "2a6a40e6",
   "metadata": {
    "collapsed": false,
    "deletable": true,
    "editable": true,
    "heading_collapsed": false,
    "hidden": false
   },
   "outputs": [],
   "source": [
    "num_rows"
   ]
  },
  {
   "cell_type": "code",
   "execution_count": null,
   "id": "8279ce6f",
   "metadata": {
    "collapsed": false,
    "deletable": true,
    "editable": true,
    "heading_collapsed": false,
    "hidden": false,
    "scrolled": true
   },
   "outputs": [],
   "source": [
    "r.keys()"
   ]
  },
  {
   "cell_type": "code",
   "execution_count": null,
   "id": "3d28556d",
   "metadata": {
    "collapsed": false,
    "deletable": true,
    "editable": true,
    "heading_collapsed": false,
    "hidden": false
   },
   "outputs": [],
   "source": [
    "# check that node is unique\n",
    "conn.query('CREATE CONSTRAINT p30s IF NOT EXISTS ON (p:P30)     ASSERT p.id IS UNIQUE')\n"
   ]
  },
  {
   "cell_type": "code",
   "execution_count": null,
   "id": "37b3dadf",
   "metadata": {
    "collapsed": false,
    "deletable": true,
    "editable": true,
    "heading_collapsed": false,
    "hidden": false
   },
   "outputs": [],
   "source": []
  }
 ],
 "metadata": {
  "kernelspec": {
   "display_name": "Python 3 (ipykernel)",
   "language": "python",
   "name": "python3"
  },
  "language_info": {
   "codemirror_mode": {
    "name": "ipython",
    "version": 3
   },
   "file_extension": ".py",
   "mimetype": "text/x-python",
   "name": "python",
   "nbconvert_exporter": "python",
   "pygments_lexer": "ipython3",
   "version": "3.9.10"
  }
 },
 "nbformat": 4,
 "nbformat_minor": 5
}
