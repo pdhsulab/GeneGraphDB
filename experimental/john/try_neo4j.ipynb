{
 "cells": [
  {
   "cell_type": "code",
   "execution_count": null,
   "id": "837a0c09",
   "metadata": {
    "collapsed": false,
    "deletable": true,
    "editable": true,
    "heading_collapsed": false,
    "hidden": false
   },
   "outputs": [],
   "source": [
    "from neo4j import GraphDatabase\n",
    "from db_inference import simple_sql_db\n",
    "from functools import lru_cache\n",
    "\n",
    "from more_itertools import chunked\n",
    "from utils import notebook_util\n",
    "notebook_util.disp_notebook_full_width()\n",
    "NEO4J_DOCKER_INSTANCE_NAME = \"testneo4j\""
   ]
  },
  {
   "cell_type": "code",
   "execution_count": null,
   "id": "e6183f5f",
   "metadata": {
    "collapsed": false,
    "deletable": true,
    "editable": true,
    "heading_collapsed": false,
    "hidden": false
   },
   "outputs": [],
   "source": [
    "sql_db = simple_sql_db.SimpleSqlDb()\n",
    "sql_db.get_tables()"
   ]
  },
  {
   "cell_type": "code",
   "execution_count": null,
   "id": "06e34886",
   "metadata": {
    "collapsed": false,
    "deletable": true,
    "editable": true,
    "heading_collapsed": false,
    "hidden": false
   },
   "outputs": [],
   "source": [
    "# %%time\n",
    "\n",
    "# # @lru_cache(maxsize=1000000)\n",
    "# def p100_to_p30_cached(p100):\n",
    "#     row = sql_db.get_p30_cluster_for_p100(p100)\n",
    "#     if row is None:\n",
    "#         return row\n",
    "#     else:\n",
    "#         row['p30']\n",
    "\n",
    "# cur = sql_db.conn.cursor()\n",
    "# num_rows = 0\n",
    "# num_cluster_misses = 0\n",
    "# for r in cur.execute(f\"SELECT * FROM prot2protwindow LIMIT 1000;\"):\n",
    "#     print(r['p1hash'], r['p2hash'])\n",
    "#     p30_a = p100_to_p30_cached(r['p1hash'])\n",
    "#     p30_b = p100_to_p30_cached(r['p2hash'])\n",
    "    \n",
    "#     if (p30_a is None) or (p30_b is None):\n",
    "#         num_cluster_misses+=1\n",
    "#         # p30 miss!\n",
    "#         continue\n",
    "#     num_rows += 1\n",
    "    \n",
    "# print(num_rows, num_cluster_misses)\n",
    "\n",
    "\n",
    "\n"
   ]
  },
  {
   "cell_type": "code",
   "execution_count": null,
   "id": "fde6ed38",
   "metadata": {
    "collapsed": false,
    "deletable": true,
    "editable": true,
    "heading_collapsed": false,
    "hidden": false
   },
   "outputs": [],
   "source": [
    "# https://towardsdatascience.com/create-a-graph-database-in-neo4j-using-python-4172d40f89c4\n",
    "class Neo4jConnection:\n",
    "    \n",
    "    def __init__(self, uri, user, pwd):\n",
    "        self.__uri = uri\n",
    "        self.__user = user\n",
    "        self.__pwd = pwd\n",
    "        self.__driver = None\n",
    "        try:\n",
    "            self.__driver = GraphDatabase.driver(self.__uri, auth=(self.__user, self.__pwd))\n",
    "        except Exception as e:\n",
    "            print(\"Failed to create the driver:\", e)\n",
    "        \n",
    "    def close(self):\n",
    "        if self.__driver is not None:\n",
    "            self.__driver.close()\n",
    "        \n",
    "    def query(self, query, parameters=None, db=None):\n",
    "        assert self.__driver is not None, \"Driver not initialized!\"\n",
    "        session = None\n",
    "        response = None\n",
    "        try: \n",
    "            session = self.__driver.session(database=db) if db is not None else self.__driver.session() \n",
    "            response = list(session.run(query, parameters))\n",
    "        except Exception as e:\n",
    "            print(\"Query failed:\", e)\n",
    "        finally: \n",
    "            if session is not None:\n",
    "                session.close()\n",
    "        return response\n",
    "\n",
    "\n",
    "conn = Neo4jConnection(uri=f\"bolt://{NEO4J_DOCKER_INSTANCE_NAME}:7687\", \n",
    "                       user=\"neo4j\",              \n",
    "                       pwd=\"test\")"
   ]
  },
  {
   "cell_type": "code",
   "execution_count": null,
   "id": "3d28556d",
   "metadata": {
    "collapsed": false,
    "deletable": true,
    "editable": true,
    "heading_collapsed": false,
    "hidden": false
   },
   "outputs": [],
   "source": [
    "# add uniqueness constraints\n",
    "conn.query('CREATE CONSTRAINT ON (p:P30) ASSERT p.p30 IS UNIQUE')\n",
    "conn.query('CREATE CONSTRAINT ON (p:P90) ASSERT p.p90 IS UNIQUE')\n",
    "conn.query('CREATE CONSTRAINT ON (p:P100) ASSERT p.p100 IS UNIQUE')"
   ]
  },
  {
   "cell_type": "code",
   "execution_count": null,
   "id": "9520516e",
   "metadata": {
    "collapsed": false,
    "deletable": true,
    "editable": true,
    "heading_collapsed": false,
    "hidden": false
   },
   "outputs": [],
   "source": [
    "cur = sql_db.conn.cursor()\n",
    "for r in cur.execute(f\"SELECT * FROM prot2protwindow LIMIT 1000;\"):\n",
    "    print(r['p1hash'], r['p2hash'])\n",
    "\n",
    "#     # create node 1\n",
    "#     cipher_q = \"CREATE (n:P100 {p100: '%s'})\" % r['p1hash']\n",
    "#     print(cipher_q)\n",
    "#     conn.query(cipher_q)\n",
    "\n",
    "# #     # create node 2\n",
    "#     cipher_q = \"CREATE (n:P100 {p100: '%s'})\" % r['p2hash']\n",
    "#     print(cipher_q)\n",
    "#     conn.query(cipher_q)\n",
    "    \n",
    "    # can't store bidirectional relationship.  \n",
    "    # https://stackoverflow.com/questions/43783241/why-neo4j-dont-allows-not-directed-or-bidirectional-relationships-at-creation-t/43793964\n",
    "    cipher_q = \"MATCH (n:P100 {p100: '%s'}), (m:P100 {p100: '%s'}) MERGE (n)-[:WINDOWED_NEIGHBOR]->(m)\" % (r['p1hash'], r['p2hash'])\n",
    "    print(cipher_q)\n",
    "    conn.query(cipher_q)\n",
    "    "
   ]
  },
  {
   "cell_type": "code",
   "execution_count": null,
   "id": "f03534f8",
   "metadata": {
    "collapsed": false,
    "deletable": true,
    "editable": true,
    "heading_collapsed": false,
    "hidden": false
   },
   "outputs": [],
   "source": [
    "cur = sql_db.conn.cursor()\n",
    "rows = [dict(x) for x in cur.execute(f\"SELECT * FROM prot2protwindow LIMIT 10000;\")]\n",
    "cur.close()\n",
    "\n",
    "query = '''\n",
    "        UNWIND $rows AS row\n",
    "        MATCH (n:P100 {p100: row.p1hash}), (m:P100 {p100: row.p2hash})\n",
    "        MERGE (n)-[:WINDOWED_NEIGHBOR]->(m)\n",
    "        RETURN count(*) as total\n",
    "        '''\n",
    "conn.query(query, parameters = {'rows':rows})\n",
    "\n"
   ]
  },
  {
   "cell_type": "code",
   "execution_count": null,
   "id": "ada8b455",
   "metadata": {
    "collapsed": false,
    "deletable": true,
    "editable": true,
    "heading_collapsed": false,
    "hidden": false
   },
   "outputs": [],
   "source": [
    "%%time\n",
    "\n",
    "cur = sql_db.conn.cursor()\n",
    "cur.execute(f\"SELECT * FROM prot2protwindow LIMIT 1000000;\")\n",
    "\n",
    "for rows in chunked(cur, 1000):x\n",
    "#     print(len(rows))\n",
    "    len(rows)\n",
    "\n",
    "cur.close()"
   ]
  },
  {
   "cell_type": "code",
   "execution_count": null,
   "id": "9272a4e8",
   "metadata": {
    "collapsed": false,
    "deletable": true,
    "editable": true,
    "heading_collapsed": false,
    "hidden": false
   },
   "outputs": [],
   "source": []
  }
 ],
 "metadata": {
  "kernelspec": {
   "display_name": "Python 3 (ipykernel)",
   "language": "python",
   "name": "python3"
  },
  "language_info": {
   "codemirror_mode": {
    "name": "ipython",
    "version": 3
   },
   "file_extension": ".py",
   "mimetype": "text/x-python",
   "name": "python",
   "nbconvert_exporter": "python",
   "pygments_lexer": "ipython3",
   "version": "3.9.10"
  }
 },
 "nbformat": 4,
 "nbformat_minor": 5
}
