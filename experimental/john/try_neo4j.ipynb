{
 "cells": [
  {
   "cell_type": "code",
   "execution_count": null,
   "id": "837a0c09",
   "metadata": {
    "collapsed": false,
    "deletable": true,
    "editable": true,
    "heading_collapsed": false,
    "hidden": false
   },
   "outputs": [],
   "source": [
    "from db_inference import simple_sql_db, simple_neo4j\n",
    "from functools import lru_cache\n",
    "\n",
    "from more_itertools import chunked\n",
    "from utils import notebook_util\n",
    "notebook_util.disp_notebook_full_width()\n"
   ]
  },
  {
   "cell_type": "code",
   "execution_count": null,
   "id": "e6183f5f",
   "metadata": {
    "collapsed": false,
    "deletable": true,
    "editable": true,
    "heading_collapsed": false,
    "hidden": false
   },
   "outputs": [],
   "source": [
    "sql_db = simple_sql_db.SimpleSqlDb()\n",
    "sql_db.get_tables()"
   ]
  },
  {
   "cell_type": "code",
   "execution_count": null,
   "id": "fde6ed38",
   "metadata": {
    "collapsed": false,
    "deletable": true,
    "editable": true,
    "heading_collapsed": false,
    "hidden": false
   },
   "outputs": [],
   "source": [
    "conn = simple_neo4j.Neo4jConnection()"
   ]
  },
  {
   "cell_type": "code",
   "execution_count": null,
   "id": "3d28556d",
   "metadata": {
    "collapsed": false,
    "deletable": true,
    "editable": true,
    "heading_collapsed": false,
    "hidden": false
   },
   "outputs": [],
   "source": [
    "# add uniqueness constraints\n",
    "conn.query('CREATE CONSTRAINT ON (p:P30) ASSERT p.p30 IS UNIQUE')\n",
    "conn.query('CREATE CONSTRAINT ON (p:P90) ASSERT p.p90 IS UNIQUE')\n",
    "conn.query('CREATE CONSTRAINT ON (p:P100) ASSERT p.p100 IS UNIQUE')"
   ]
  },
  {
   "cell_type": "code",
   "execution_count": null,
   "id": "9520516e",
   "metadata": {
    "collapsed": false,
    "deletable": true,
    "editable": true,
    "heading_collapsed": false,
    "hidden": false
   },
   "outputs": [],
   "source": [
    "cur = sql_db.conn.cursor()\n",
    "for r in cur.execute(f\"SELECT * FROM prot2protwindow LIMIT 1000;\"):\n",
    "    print(r['p1hash'], r['p2hash'])\n",
    "\n",
    "#     # create node 1\n",
    "#     cipher_q = \"CREATE (n:P100 {p100: '%s'})\" % r['p1hash']\n",
    "#     print(cipher_q)\n",
    "#     conn.query(cipher_q)\n",
    "\n",
    "# #     # create node 2\n",
    "#     cipher_q = \"CREATE (n:P100 {p100: '%s'})\" % r['p2hash']\n",
    "#     print(cipher_q)\n",
    "#     conn.query(cipher_q)\n",
    "    \n",
    "    # can't store bidirectional relationship.  \n",
    "    # https://stackoverflow.com/questions/43783241/why-neo4j-dont-allows-not-directed-or-bidirectional-relationships-at-creation-t/43793964\n",
    "    cipher_q = \"MATCH (n:P100 {p100: '%s'}), (m:P100 {p100: '%s'}) MERGE (n)-[:WINDOWED_NEIGHBOR]->(m)\" % (r['p1hash'], r['p2hash'])\n",
    "    print(cipher_q)\n",
    "    conn.query(cipher_q)\n",
    "    "
   ]
  },
  {
   "cell_type": "code",
   "execution_count": null,
   "id": "f03534f8",
   "metadata": {
    "collapsed": false,
    "deletable": true,
    "editable": true,
    "heading_collapsed": false,
    "hidden": false
   },
   "outputs": [],
   "source": [
    "cur = sql_db.conn.cursor()\n",
    "rows = [dict(x) for x in cur.execute(f\"SELECT * FROM prot2protwindow LIMIT 10000;\")]\n",
    "cur.close()\n",
    "\n",
    "query = '''\n",
    "        UNWIND $rows AS row\n",
    "        MATCH (n:P100 {p100: row.p1hash}), (m:P100 {p100: row.p2hash})\n",
    "        MERGE (n)-[:WINDOWED_NEIGHBOR]->(m)\n",
    "        RETURN count(*) as total\n",
    "        '''\n",
    "conn.query(query, parameters = {'rows':rows})\n",
    "\n"
   ]
  },
  {
   "cell_type": "code",
   "execution_count": null,
   "id": "be43a7f1",
   "metadata": {
    "collapsed": false,
    "deletable": true,
    "editable": true,
    "heading_collapsed": false,
    "hidden": false
   },
   "outputs": [],
   "source": [
    "cur = sql_db.conn.cursor()\n",
    "rows = [dict(x) for x in cur.execute(f\"SELECT * FROM clusters LIMIT 1000;\")]\n",
    "cur.close()\n",
    "\n",
    "query = '''\n",
    "        UNWIND $rows AS row\n",
    "        MERGE (c30:P30 {p30: row.p30})\n",
    "        MERGE (c90:P90 {p90: row.p90})\n",
    "        MERGE (c100:P100 {p100: row.p100})\n",
    "        MERGE (c30)-[:P30_CLUSTERING]->(c90)\n",
    "        MERGE (c90)-[:P90_CLUSTERING]->(c100)\n",
    "        RETURN count(*) as total\n",
    "        '''\n",
    "conn.query(query, parameters = {'rows':rows})"
   ]
  },
  {
   "cell_type": "code",
   "execution_count": null,
   "id": "ada8b455",
   "metadata": {
    "collapsed": false,
    "deletable": true,
    "editable": true,
    "heading_collapsed": false,
    "hidden": false
   },
   "outputs": [],
   "source": [
    "%%time\n",
    "\n",
    "cur = sql_db.conn.cursor()\n",
    "cur.execute(f\"SELECT * FROM prot2protwindow LIMIT 1000000;\")\n",
    "\n",
    "for rows in chunked(cur, 1000):x\n",
    "#     print(len(rows))\n",
    "    len(rows)\n",
    "\n",
    "cur.close()"
   ]
  },
  {
   "cell_type": "code",
   "execution_count": null,
   "id": "9272a4e8",
   "metadata": {
    "collapsed": false,
    "deletable": true,
    "editable": true,
    "heading_collapsed": false,
    "hidden": false
   },
   "outputs": [],
   "source": []
  }
 ],
 "metadata": {
  "kernelspec": {
   "display_name": "Python 3 (ipykernel)",
   "language": "python",
   "name": "python3"
  },
  "language_info": {
   "codemirror_mode": {
    "name": "ipython",
    "version": 3
   },
   "file_extension": ".py",
   "mimetype": "text/x-python",
   "name": "python",
   "nbconvert_exporter": "python",
   "pygments_lexer": "ipython3",
   "version": "3.9.10"
  }
 },
 "nbformat": 4,
 "nbformat_minor": 5
}
