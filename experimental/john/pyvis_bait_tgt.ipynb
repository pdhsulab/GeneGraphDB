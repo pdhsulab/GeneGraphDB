{
 "cells": [
  {
   "cell_type": "code",
   "execution_count": null,
   "id": "8de83c66",
   "metadata": {
    "collapsed": false,
    "deletable": true,
    "editable": true,
    "heading_collapsed": false,
    "hidden": false
   },
   "outputs": [],
   "source": [
    "import networkx as nx\n",
    "from pyvis.network import Network\n",
    "\n",
    "from utils import notebook_util, sql_query_util\n",
    "\n",
    "from db_inference import calc_icity\n",
    "from IPython.display import display\n",
    "import pandas as pd\n",
    "\n",
    "notebook_util.disp_notebook_full_width()\n"
   ]
  },
  {
   "cell_type": "code",
   "execution_count": null,
   "id": "f9d803a4",
   "metadata": {
    "collapsed": false,
    "deletable": true,
    "editable": true,
    "heading_collapsed": false,
    "hidden": false
   },
   "outputs": [],
   "source": [
    "sql_db = sql_query_util.SimplifiedSqlDb()"
   ]
  },
  {
   "cell_type": "code",
   "execution_count": null,
   "id": "9f84e6f5",
   "metadata": {
    "collapsed": false,
    "deletable": true,
    "editable": true,
    "heading_collapsed": false,
    "hidden": false
   },
   "outputs": [],
   "source": [
    "# Interesting combo (high scoring)\n",
    "# bait_hash = \"693388b375dbd274e1\"\n",
    "# tgt_hash = \"1b58be4f65b975319f\"\n",
    "\n",
    "bait_hash = \"693388b375dbd274e1\"\n",
    "print(\"BAIT\", bait_hash)\n",
    "tgt_hashes = sql_db.get_p100_windowed_neighbors(bait_hash)\n",
    "print(\"TARGETS\")\n",
    "display(tgt_hashes)\n",
    "\n",
    "tgt_hash = tgt_hashes[0]"
   ]
  },
  {
   "cell_type": "raw",
   "id": "b4b5529f",
   "metadata": {
    "collapsed": false,
    "deletable": true,
    "editable": true,
    "heading_collapsed": false,
    "hidden": false
   },
   "source": [
    "# recommended combo from Jacob\n",
    "bait_hash = \"74fd0ac8957faee53e\"  # tnpB\n",
    "tgt_hash = \"ba436543bec6c30920\"  # rando neighbor with high icity/abundance"
   ]
  },
  {
   "cell_type": "code",
   "execution_count": null,
   "id": "21030db7",
   "metadata": {
    "collapsed": false,
    "deletable": true,
    "editable": true,
    "heading_collapsed": false,
    "hidden": false
   },
   "outputs": [],
   "source": [
    "%%time\n",
    "bait_p30 = sql_db.get_p30_cluster_for_p100(bait_hash)['p30']\n",
    "\n",
    "tgt_results = []\n",
    "\n",
    "for tgt_hash in tgt_hashes:\n",
    "    tgt_p30 = sql_db.get_p30_cluster_for_p100(tgt_hash)['p30']\n",
    "    tgt_res, bait_res, G = calc_icity.calc_icity_tgt_bait(sql_db, tgt_p30, bait_p30)\n",
    "    tgt_results.append(tgt_res)\n",
    "    print(f\"calced {tgt_hash}\")\n",
    "\n",
    "icity_df = pd.DataFrame(tgt_results)\n",
    "icity_df.sort_values('icity_p100', ascending=False, inplace=True)\n",
    "display(icity_df)"
   ]
  },
  {
   "cell_type": "code",
   "execution_count": null,
   "id": "0b2e6f77",
   "metadata": {
    "collapsed": false,
    "deletable": true,
    "editable": true,
    "heading_collapsed": false,
    "hidden": false
   },
   "outputs": [],
   "source": [
    "tgt_p30 = sql_db.get_p30_cluster_for_p100(tgt_hash)['p30']\n",
    "bait_p30 = sql_db.get_p30_cluster_for_p100(bait_hash)['p30']\n",
    "tgt_res, bait_res, G = calc_icity.calc_icity_tgt_bait(sql_db, tgt_p30, bait_p30)"
   ]
  },
  {
   "cell_type": "code",
   "execution_count": null,
   "id": "4f963c86",
   "metadata": {
    "collapsed": false,
    "deletable": true,
    "editable": true,
    "heading_collapsed": false,
    "hidden": false
   },
   "outputs": [],
   "source": [
    "%%time\n",
    "# Graph connections between target cluster (blue) and bait cluster (purple)\n",
    "tgt_p30 = sql_db.get_p30_cluster_for_p100(tgt_hash)['p30']\n",
    "bait_p30 = sql_db.get_p30_cluster_for_p100(bait_hash)['p30']\n",
    "G = calc_icity.build_icity_graph(sql_db, tgt_p30, bait_p30)"
   ]
  },
  {
   "cell_type": "code",
   "execution_count": null,
   "id": "32f110e4",
   "metadata": {
    "collapsed": false,
    "deletable": true,
    "editable": true,
    "heading_collapsed": false,
    "hidden": false,
    "scrolled": false
   },
   "outputs": [],
   "source": [
    "%%time\n",
    "net = Network(notebook=True, height=\"1000px\", width=\"1000px\")\n",
    "net.from_nx(G)\n",
    "net.show('./pyvis_test.html')"
   ]
  }
 ],
 "metadata": {
  "kernelspec": {
   "display_name": "Python 3 (ipykernel)",
   "language": "python",
   "name": "python3"
  },
  "language_info": {
   "codemirror_mode": {
    "name": "ipython",
    "version": 3
   },
   "file_extension": ".py",
   "mimetype": "text/x-python",
   "name": "python",
   "nbconvert_exporter": "python",
   "pygments_lexer": "ipython3",
   "version": "3.9.10"
  }
 },
 "nbformat": 4,
 "nbformat_minor": 5
}
