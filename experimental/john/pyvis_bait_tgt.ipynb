{
 "cells": [
  {
   "cell_type": "code",
   "execution_count": null,
   "id": "8de83c66",
   "metadata": {
    "collapsed": false,
    "deletable": true,
    "editable": true,
    "heading_collapsed": false,
    "hidden": false
   },
   "outputs": [],
   "source": [
    "import sqlite3\n",
    "import networkx as nx\n",
    "from pyvis.network import Network\n",
    "\n",
    "from utils import notebook_util, sql_query_util\n",
    "\n",
    "notebook_util.disp_notebook_full_width()\n",
    "\n",
    "BLACK=\"#000000\"\n",
    "WHITE=\"#FFFFFF\"\n",
    "RED=\"#FF0000\"\n",
    "GREEN=\"#00FF00\"\n",
    "BLUE=\"#0000FF\"\n",
    "YELLOW=\"#FFFF00\"\n",
    "CYAN=\"#00FFFF\"\n",
    "MAGENTA=\"#FF00FF\"\n",
    "PURPLE=\"#A020F0\""
   ]
  },
  {
   "cell_type": "code",
   "execution_count": null,
   "id": "f9d803a4",
   "metadata": {
    "collapsed": false,
    "deletable": true,
    "editable": true,
    "heading_collapsed": false,
    "hidden": false
   },
   "outputs": [],
   "source": [
    "sql_db = sql_query_util.SimplifiedSqlDb()"
   ]
  },
  {
   "cell_type": "code",
   "execution_count": null,
   "id": "bd3d3f3c",
   "metadata": {
    "collapsed": false,
    "deletable": true,
    "editable": true,
    "heading_collapsed": false,
    "hidden": false
   },
   "outputs": [],
   "source": [
    "for table in [\"clusters\", \"prot2protwindow\"]:\n",
    "    print(f\"TABLE: {table}\\n\")\n",
    "    cur = sql_db.conn.cursor()\n",
    "    cur.execute(f\"SELECT * FROM {table} LIMIT 1;\")\n",
    "    for row in cur.fetchall():\n",
    "        for key in row.keys():\n",
    "            print(f\"{key}: {row[key]}\")\n",
    "        print(\"\\n\")\n",
    "    cur.close()\n",
    "    \n",
    "    print(\"******\\n\\n\")"
   ]
  },
  {
   "cell_type": "code",
   "execution_count": null,
   "id": "9f84e6f5",
   "metadata": {
    "collapsed": false,
    "deletable": true,
    "editable": true,
    "heading_collapsed": false,
    "hidden": false
   },
   "outputs": [],
   "source": [
    "# Interesting combo (high scoring)\n",
    "# bait_hash = \"693388b375dbd274e1\"\n",
    "# tgt_hash = \"1b58be4f65b975319f\"\n",
    "\n",
    "bait_hash = \"693388b375dbd274e1\"\n",
    "print(\"BAIT\", bait_hash)\n",
    "tgt_hashes = sql_db.get_p100_windowed_neighbors(bait_hash)\n",
    "print(\"TARGETS\")\n",
    "display(tgt_hashes)\n",
    "\n",
    "tgt_hash = tgt_hashes[0]"
   ]
  },
  {
   "cell_type": "code",
   "execution_count": null,
   "id": "747a8abe",
   "metadata": {
    "collapsed": false,
    "deletable": true,
    "editable": true,
    "heading_collapsed": false,
    "hidden": false
   },
   "outputs": [],
   "source": [
    "# recommended combo from Jacob\n",
    "bait_hash = \"74fd0ac8957faee53e\"  # tnpB\n",
    "tgt_hash = \"ba436543bec6c30920\"  # rando neighbor with high icity/abundance"
   ]
  },
  {
   "cell_type": "code",
   "execution_count": null,
   "id": "4f963c86",
   "metadata": {
    "collapsed": false,
    "deletable": true,
    "editable": true,
    "heading_collapsed": false,
    "hidden": false
   },
   "outputs": [],
   "source": [
    "# Graph connections between target cluster (cyan) and bait cluster (magenta)\n",
    "G = nx.Graph()\n",
    "# add target node\n",
    "G.add_node(tgt_hash, type='p100', size=10, color=CYAN)\n",
    "# add bait node\n",
    "G.add_node(bait_hash, type='p100', size=10, color=MAGENTA)\n",
    "\n",
    "\n",
    "cluster_to_p100s = {\n",
    "    'target': set(),\n",
    "    'bait': set()\n",
    "}\n",
    "\n",
    "\n",
    "# add target cluster, bait cluster\n",
    "for node, p100_color, label in ((tgt_hash, BLUE, 'target'), (bait_hash, PURPLE, 'bait')):\n",
    "    cluster_row = sql_db.get_p30_cluster_for_p100(node)\n",
    "    p90 = cluster_row['p90'] + \"_p90\"\n",
    "    p30 = cluster_row['p30'] + \"_p30\"\n",
    "    G.add_node(p90, size=25, color=YELLOW)\n",
    "    G.add_edge(p90, node, type=\"p90_cluster\")\n",
    "    G.add_node(p30, size=50, color=RED)\n",
    "    G.add_edge(p30, p90, type=\"p30_cluster\")\n",
    "    \n",
    "    # add other p90s from cluster\n",
    "    for cluster_row in sql_db.get_p30_cluster_members(cluster_row['p30']):\n",
    "        print(f\"found p100 for {node}\")\n",
    "        p100 = cluster_row['p100']\n",
    "        p90 = cluster_row['p90'] + \"_p90\"\n",
    "        p30 = cluster_row['p30'] + \"_p30\"\n",
    "        G.add_node(p100, size=10, color=p100_color)\n",
    "        G.add_node(p90, size=25, color=YELLOW)\n",
    "        G.add_edge(p90, p100, type=\"p90_cluster\")\n",
    "        G.add_node(p30, size=50, color=RED)\n",
    "        G.add_edge(p30, p90, type=\"p30_cluster\")\n",
    "        cluster_to_p100s[label].add(p100)\n",
    "\n",
    "# add edges\n",
    "for tgt_member in cluster_to_p100s['target']:\n",
    "    tgt_member_neighbors = sql_db.get_p100_windowed_neighbors(tgt_member)\n",
    "    for neighbor in tgt_member_neighbors:\n",
    "        if neighbor in cluster_to_p100s['bait']:\n",
    "            print(\"found connection\")\n",
    "            G.add_edge(tgt_member, neighbor)\n",
    "\n",
    "\n",
    "# add back bait and target in with special coloring\n",
    "# add target node\n",
    "G.add_node(tgt_hash, type='p100', size=10, color=CYAN)\n",
    "# add bait node\n",
    "G.add_node(bait_hash, type='p100', size=10, color=MAGENTA)\n",
    "\n"
   ]
  },
  {
   "cell_type": "code",
   "execution_count": null,
   "id": "32f110e4",
   "metadata": {
    "collapsed": false,
    "deletable": true,
    "editable": true,
    "heading_collapsed": false,
    "hidden": false,
    "scrolled": false
   },
   "outputs": [],
   "source": [
    "net = Network(notebook=True, height=\"1000px\", width=\"1000px\")\n",
    "net.from_nx(G)\n",
    "net.show('./pyvis_test.html')"
   ]
  },
  {
   "cell_type": "code",
   "execution_count": null,
   "id": "42f8e2aa",
   "metadata": {
    "collapsed": false,
    "deletable": true,
    "editable": true,
    "heading_collapsed": false,
    "hidden": false
   },
   "outputs": [],
   "source": [
    "def compute_icity(tgt_hash, G):\n",
    "    tgt_p30_cluster = sql_db.get_p30_cluster_for_p100(tgt_hash)['p30'] + '_p30'\n",
    "    print(\"Target cluster:\", tgt_p30_cluster)\n",
    "\n",
    "    tgt_p100s = list(nx.descendants_at_distance(G, tgt_p30_cluster, 2))\n",
    "    print(\"Total p100s:\", len(tgt_p100s))\n",
    "\n",
    "    p100_to_icity = {}\n",
    "    for p100 in tgt_p100s:\n",
    "        p100_to_icity[p100] = any([not n.endswith('_p90') for n in G.neighbors(p100)])\n",
    "\n",
    "    num_p100_positive = sum(p100_to_icity.values())\n",
    "    print(\"p100s positive icity:\", num_p100_positive)\n",
    "\n",
    "\n",
    "    tgt_p90s = list(G.neighbors(tgt_p30_cluster))\n",
    "    print(\"Total p90s:\", len(tgt_p90s))\n",
    "\n",
    "    p90s_any_icity = 0\n",
    "    p90s_majority_icity = 0\n",
    "\n",
    "    for p90_cluster in tgt_p90s:\n",
    "        p100_neighbors = [n for n in G.neighbors(p90_cluster) if n != tgt_p30_cluster]\n",
    "        p100_positive = [n for n in p100_neighbors if p100_to_icity[n]]\n",
    "\n",
    "        if len(p100_positive) > 0:\n",
    "            p90s_any_icity += 1\n",
    "\n",
    "        if (len(p100_positive) / len(p100_neighbors)) > 0.5:\n",
    "            p90s_majority_icity += 1\n",
    "\n",
    "    print(\"p90s with any p100:\", p90s_any_icity)\n",
    "\n",
    "    print(\"p90s with majority icity:\", p90s_majority_icity)\n",
    "\n",
    "    print(\"icity p100:\", num_p100_positive / len(tgt_p100s) )\n",
    "\n",
    "    print(\"icity p90 any:\", p90s_any_icity / len(tgt_p90s))\n",
    "    print(\"icity p90 majority:\", p90s_majority_icity / len(tgt_p90s) )\n",
    "\n",
    "\n",
    "print(\"#### From Target #####\")\n",
    "compute_icity(tgt_hash, G)\n",
    "print(\"\\n\\n\\n\\n\")\n",
    "print(\"#### From Bait #####\")\n",
    "compute_icity(bait_hash, G)\n",
    "\n",
    "\n"
   ]
  },
  {
   "cell_type": "code",
   "execution_count": null,
   "id": "cb572755",
   "metadata": {
    "collapsed": false,
    "deletable": true,
    "editable": true,
    "heading_collapsed": false,
    "hidden": false
   },
   "outputs": [],
   "source": [
    "tables = sql_db.get_tables()\n",
    "list(sorted(tables))"
   ]
  },
  {
   "cell_type": "code",
   "execution_count": null,
   "id": "1a1dfd5e",
   "metadata": {
    "collapsed": false,
    "deletable": true,
    "editable": true,
    "heading_collapsed": false,
    "hidden": false
   },
   "outputs": [],
   "source": [
    "%%time\n",
    "sp = dict(nx.all_pairs_shortest_path(G))"
   ]
  },
  {
   "cell_type": "raw",
   "id": "19dea4ce",
   "metadata": {
    "collapsed": false,
    "deletable": true,
    "editable": true,
    "heading_collapsed": false,
    "hidden": false
   },
   "source": [
    "# example: all cluster members\n",
    "for idx, row in enumerate(sql_db.get_p30_cluster_members('c2b5fea0b52ea0ac15')):\n",
    "    for key in row.keys():\n",
    "        print(f\"{key}: {row[key]}\")\n",
    "    print(\"\\n\")"
   ]
  }
 ],
 "metadata": {
  "kernelspec": {
   "display_name": "Python 3 (ipykernel)",
   "language": "python",
   "name": "python3"
  },
  "language_info": {
   "codemirror_mode": {
    "name": "ipython",
    "version": 3
   },
   "file_extension": ".py",
   "mimetype": "text/x-python",
   "name": "python",
   "nbconvert_exporter": "python",
   "pygments_lexer": "ipython3",
   "version": "3.9.10"
  }
 },
 "nbformat": 4,
 "nbformat_minor": 5
}
