{
 "cells": [
  {
   "cell_type": "code",
   "execution_count": 5,
   "id": "8de83c66",
   "metadata": {
    "heading_collapsed": false,
    "hidden": false
   },
   "outputs": [
    {
     "data": {
      "text/html": [
       "<style>.container { width:100% !important; }</style>"
      ],
      "text/plain": [
       "<IPython.core.display.HTML object>"
      ]
     },
     "metadata": {},
     "output_type": "display_data"
    }
   ],
   "source": [
    "import pandas as pd\n",
    "from IPython.display import display\n",
    "from pyvis.network import Network\n",
    "\n",
    "from db_inference import calc_icity\n",
    "from db_inference.simple_sql_db import SimpleSqlDb\n",
    "from utils import notebook_util\n",
    "\n",
    "notebook_util.disp_notebook_full_width()\n"
   ]
  },
  {
   "cell_type": "code",
   "execution_count": 6,
   "id": "f9d803a4",
   "metadata": {
    "heading_collapsed": false,
    "hidden": false
   },
   "outputs": [],
   "source": [
    "sql_db = SimpleSqlDb()"
   ]
  },
  {
   "cell_type": "code",
   "execution_count": 3,
   "id": "9f84e6f5",
   "metadata": {
    "heading_collapsed": false,
    "hidden": false
   },
   "outputs": [
    {
     "name": "stdout",
     "output_type": "stream",
     "text": [
      "BAIT 693388b375dbd274e1\n",
      "TARGETS\n"
     ]
    },
    {
     "data": {
      "text/plain": [
       "['1b58be4f65b975319f',\n",
       " '59f3653c36dde18eef',\n",
       " '6c403b38891422234d',\n",
       " '7426e51f0050136f07',\n",
       " '8282ec0833b44af2e8',\n",
       " 'b078cbc8fc25b6bf55',\n",
       " 'b4a0ae3ee9d63bb120',\n",
       " 'c25c022677394b4a2f',\n",
       " 'ce3ef3eefef3823f5a',\n",
       " 'd7dc8eb56b5745f9bc',\n",
       " 'db310e2a5678bbc1cf',\n",
       " 'e1912a410e1beb69fe',\n",
       " 'f3fbe07a74adf91ccc']"
      ]
     },
     "metadata": {},
     "output_type": "display_data"
    }
   ],
   "source": [
    "# Interesting combo (high scoring)\n",
    "# bait_hash = \"693388b375dbd274e1\"\n",
    "# tgt_hash = \"1b58be4f65b975319f\"\n",
    "\n",
    "bait_hash = \"693388b375dbd274e1\"\n",
    "print(\"BAIT\", bait_hash)\n",
    "tgt_hashes = sql_db.get_p100_windowed_neighbors(bait_hash)\n",
    "print(\"TARGETS\")\n",
    "display(tgt_hashes)\n",
    "\n",
    "tgt_hash = tgt_hashes[0]"
   ]
  },
  {
   "cell_type": "raw",
   "id": "b4b5529f",
   "metadata": {
    "heading_collapsed": false,
    "hidden": false
   },
   "source": [
    "# recommended combo from Jacob\n",
    "bait_hash = \"74fd0ac8957faee53e\"  # tnpB\n",
    "tgt_hash = \"ba436543bec6c30920\"  # rando neighbor with high icity/abundance"
   ]
  },
  {
   "cell_type": "code",
   "execution_count": null,
   "id": "21030db7",
   "metadata": {
    "heading_collapsed": false,
    "hidden": false
   },
   "outputs": [],
   "source": [
    "%%time\n",
    "bait_p30 = sql_db.get_p30_cluster_for_p100(bait_hash)['p30']\n",
    "\n",
    "tgt_results = []\n",
    "\n",
    "for tgt_hash in tgt_hashes:\n",
    "    tgt_p30 = sql_db.get_p30_cluster_for_p100(tgt_hash)['p30']\n",
    "    tgt_res, bait_res, G = calc_icity.calc_icity_tgt_bait(sql_db, tgt_p30, bait_p30)\n",
    "    tgt_results.append(tgt_res)\n",
    "    print(f\"calced {tgt_hash}\")\n",
    "\n",
    "icity_df = pd.DataFrame(tgt_results)\n",
    "icity_df.sort_values('icity_p100', ascending=False, inplace=True)\n",
    "display(icity_df)"
   ]
  },
  {
   "cell_type": "code",
   "execution_count": 8,
   "id": "0b2e6f77",
   "metadata": {
    "heading_collapsed": false,
    "hidden": false
   },
   "outputs": [
    {
     "data": {
      "text/plain": [
       "{'tgt_hash': '3c157c75f39f8ab820',\n",
       " 'num_tgt_p100s': 689,\n",
       " 'num_tgt_p100s_connected': 544,\n",
       " 'icity_p100': 0.7895500725689405,\n",
       " 'num_tgt_p90s': 226,\n",
       " 'num_tgt_p90s_any_p100_connected': 164,\n",
       " 'num_tgt_p90s_majority_p100_connected': 160,\n",
       " 'icity_p90_any': 0.7256637168141593,\n",
       " 'icity p90 majority': 0.7079646017699115}"
      ]
     },
     "execution_count": 8,
     "metadata": {},
     "output_type": "execute_result"
    }
   ],
   "source": [
    "bait_p30 = \"557e309d5f3d13e440\"\n",
    "tgt_p30 = \"3c157c75f39f8ab820\"\n",
    "\n",
    "# tgt_p30 = sql_db.get_p30_cluster_for_p100(tgt_hash)['p30']\n",
    "# bait_p30 = sql_db.get_p30_cluster_for_p100(bait_hash)['p30']\n",
    "tgt_res, bait_res, G = calc_icity.calc_icity_tgt_bait(sql_db, tgt_p30, bait_p30)\n",
    "tgt_res"
   ]
  },
  {
   "cell_type": "code",
   "execution_count": null,
   "id": "4f963c86",
   "metadata": {
    "heading_collapsed": false,
    "hidden": false
   },
   "outputs": [],
   "source": [
    "%%time\n",
    "# Graph connections between target cluster (blue) and bait cluster (purple)\n",
    "tgt_p30 = sql_db.get_p30_cluster_for_p100(tgt_hash)['p30']\n",
    "bait_p30 = sql_db.get_p30_cluster_for_p100(bait_hash)['p30']\n",
    "G = calc_icity.build_icity_graph(sql_db, tgt_p30, bait_p30)"
   ]
  },
  {
   "cell_type": "code",
   "execution_count": null,
   "id": "32f110e4",
   "metadata": {
    "heading_collapsed": false,
    "hidden": false,
    "scrolled": false
   },
   "outputs": [],
   "source": [
    "%%time\n",
    "net = Network(notebook=True, height=\"1000px\", width=\"1000px\")\n",
    "net.from_nx(G)\n",
    "net.show('./pyvis_test.html')"
   ]
  }
 ],
 "metadata": {
  "kernelspec": {
   "display_name": "Python 3 (ipykernel)",
   "language": "python",
   "name": "python3"
  },
  "language_info": {
   "codemirror_mode": {
    "name": "ipython",
    "version": 3
   },
   "file_extension": ".py",
   "mimetype": "text/x-python",
   "name": "python",
   "nbconvert_exporter": "python",
   "pygments_lexer": "ipython3",
   "version": "3.9.10"
  }
 },
 "nbformat": 4,
 "nbformat_minor": 5
}
