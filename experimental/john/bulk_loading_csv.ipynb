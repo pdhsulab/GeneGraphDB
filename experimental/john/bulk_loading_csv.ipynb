{
 "cells": [
  {
   "cell_type": "code",
   "execution_count": null,
   "id": "cd368458",
   "metadata": {
    "collapsed": false,
    "deletable": true,
    "editable": true,
    "heading_collapsed": false,
    "hidden": false
   },
   "outputs": [],
   "source": [
    "from db_inference import simple_sql_db"
   ]
  },
  {
   "cell_type": "code",
   "execution_count": null,
   "id": "ed2e69a0",
   "metadata": {
    "collapsed": false,
    "deletable": true,
    "editable": true,
    "heading_collapsed": false,
    "hidden": false
   },
   "outputs": [],
   "source": [
    "sql_db = simple_sql_db.SimpleSqlDb()\n",
    "\n",
    "LIMIT = 100000000 # 100M"
   ]
  },
  {
   "cell_type": "code",
   "execution_count": null,
   "id": "6ce8f61b",
   "metadata": {
    "collapsed": false,
    "deletable": true,
    "editable": true,
    "heading_collapsed": false,
    "hidden": false
   },
   "outputs": [],
   "source": [
    "%%time\n",
    "\n",
    "cur = sql_db.conn.cursor()\n",
    "\n",
    "edge_csv_fpath = \"/GeneGraphDB/data/test_edges.csv\"\n",
    "node_csv_fpath = \"/GeneGraphDB/data/test_nodes.csv\"\n",
    "\n",
    "unique_p100s = set()\n",
    "\n",
    "\n",
    "for row in cur.execute(f\"SELECT * FROM prot2protwindow LIMIT {LIMIT}\"):\n",
    "# for row in cur.execute(\"SELECT * FROM prot2protwindow LIMIT 1000\"):\n",
    "    unique_p100s.add(row['p1hash'])\n",
    "    unique_p100s.add(row['p2hash'])\n",
    "\n",
    "print(len(unique_p100s))"
   ]
  },
  {
   "cell_type": "code",
   "execution_count": null,
   "id": "9cc2c0a0",
   "metadata": {
    "collapsed": false,
    "deletable": true,
    "editable": true,
    "heading_collapsed": false,
    "hidden": false
   },
   "outputs": [],
   "source": [
    "%%time\n",
    "p100_to_idx = {p_hash: idx+1 for idx, p_hash in enumerate(unique_p100s)}"
   ]
  },
  {
   "cell_type": "code",
   "execution_count": null,
   "id": "f43c1d39",
   "metadata": {
    "collapsed": false,
    "deletable": true,
    "editable": true,
    "heading_collapsed": false,
    "hidden": false
   },
   "outputs": [],
   "source": [
    "%%time\n",
    "\n",
    "with open(node_csv_fpath, 'w') as node_fp:\n",
    "\n",
    "    node_fp.write(\"id:ID(P100),p100\\n\")\n",
    "\n",
    "    for node_hash, node_idx in p100_to_idx.items():\n",
    "        node_fp.write(\",\".join((str(node_idx), node_hash))+\"\\n\")\n",
    "    \n",
    "\n",
    "print(f\"wrote {node_csv_fpath}\")"
   ]
  },
  {
   "cell_type": "code",
   "execution_count": null,
   "id": "289282f5",
   "metadata": {
    "collapsed": false,
    "deletable": true,
    "editable": true,
    "heading_collapsed": false,
    "hidden": false
   },
   "outputs": [],
   "source": [
    "%%time\n",
    "\n",
    "with open(edge_csv_fpath, 'w') as edge_fp:\n",
    "\n",
    "    edge_fp.write(\":START_ID(P100),:END_ID(P100)\\n\")\n",
    "\n",
    "    for row in cur.execute(f\"SELECT * FROM prot2protwindow LIMIT {LIMIT}\"):\n",
    "        start_idx = p100_to_idx[row['p1hash']]\n",
    "        end_idx = p100_to_idx[row['p2hash']]\n",
    "        edge_fp.write(f\"{start_idx},{end_idx}\\n\")\n",
    "    \n",
    "print(f\"wrote {edge_csv_fpath}\")"
   ]
  },
  {
   "cell_type": "code",
   "execution_count": null,
   "id": "f5805ead",
   "metadata": {
    "collapsed": false,
    "deletable": true,
    "editable": true,
    "heading_collapsed": false,
    "hidden": false
   },
   "outputs": [],
   "source": [
    "import os\n",
    "os.listdir('/GeneGraphDB/data')"
   ]
  },
  {
   "cell_type": "code",
   "execution_count": null,
   "id": "7fab579b",
   "metadata": {
    "collapsed": false,
    "deletable": true,
    "editable": true,
    "heading_collapsed": false,
    "hidden": false
   },
   "outputs": [],
   "source": []
  }
 ],
 "metadata": {
  "kernelspec": {
   "display_name": "Python 3 (ipykernel)",
   "language": "python",
   "name": "python3"
  },
  "language_info": {
   "codemirror_mode": {
    "name": "ipython",
    "version": 3
   },
   "file_extension": ".py",
   "mimetype": "text/x-python",
   "name": "python",
   "nbconvert_exporter": "python",
   "pygments_lexer": "ipython3",
   "version": "3.9.10"
  }
 },
 "nbformat": 4,
 "nbformat_minor": 5
}
