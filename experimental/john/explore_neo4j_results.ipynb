{
 "cells": [
  {
   "cell_type": "code",
   "execution_count": null,
   "id": "d0df8975",
   "metadata": {
    "collapsed": false,
    "deletable": true,
    "editable": true,
    "heading_collapsed": false,
    "hidden": false
   },
   "outputs": [],
   "source": [
    "import pandas as pd\n",
    "import json\n",
    "import plotly.express as px"
   ]
  },
  {
   "cell_type": "code",
   "execution_count": null,
   "id": "f12738e8",
   "metadata": {
    "collapsed": false,
    "deletable": true,
    "editable": true,
    "heading_collapsed": false,
    "hidden": false
   },
   "outputs": [],
   "source": [
    "with open(\"/GeneGraphDB/data/20220308_neo4j_colocalization/cas1.json\") as f:\n",
    "    cas1_dict = json.load(f)"
   ]
  },
  {
   "cell_type": "code",
   "execution_count": null,
   "id": "ea6ea0bc",
   "metadata": {
    "collapsed": false,
    "deletable": true,
    "editable": true,
    "heading_collapsed": false,
    "hidden": false
   },
   "outputs": [],
   "source": [
    "cas1_df = pd.DataFrame(cas1_dict.values())\n",
    "print(len(cas1_df), \"rows total\")\n",
    "cas1_df = cas1_df[cas1_df['num_tgt_p100s'] > 1]\n",
    "print(len(cas1_df), \"filtered for >1 tgt p100\")\n",
    "cas1_df = cas1_df[cas1_df['num_colocated_p100s'] > 1]\n",
    "print(len(cas1_df), \"+ filtered for >1 shared edge\")\n",
    "\n",
    "cas1_df = cas1_df[cas1_df['tgt_colocalization'] > 0.1]\n",
    "print(len(cas1_df), \"+ filtered for >0.1 tgt colocalization\")\n",
    "\n",
    "cas1_df = cas1_df[cas1_df['bait_colocalization'] > 0.01]\n",
    "print(len(cas1_df), \"+ filtered for >0.01 bait colocalization\")\n",
    "\n",
    "\n",
    "cas1_df.sort_values('tgt_colocalization', ascending=False)"
   ]
  },
  {
   "cell_type": "code",
   "execution_count": null,
   "id": "77523007",
   "metadata": {
    "collapsed": false,
    "deletable": true,
    "editable": true,
    "heading_collapsed": false,
    "hidden": false,
    "scrolled": true
   },
   "outputs": [],
   "source": [
    "sum(cas1_df[\"num_tgt_p100s\"] >= 20)"
   ]
  },
  {
   "cell_type": "code",
   "execution_count": null,
   "id": "62874443",
   "metadata": {
    "collapsed": false,
    "deletable": true,
    "editable": true,
    "heading_collapsed": false,
    "hidden": false
   },
   "outputs": [],
   "source": [
    "fig = px.histogram(cas1_df[cas1_df[\"num_tgt_p100s\"] >= 5], x=\"num_tgt_p100s\")\n",
    "fig.show()"
   ]
  },
  {
   "cell_type": "code",
   "execution_count": null,
   "id": "efc8776c",
   "metadata": {
    "collapsed": false,
    "deletable": true,
    "editable": true,
    "heading_collapsed": false,
    "hidden": false
   },
   "outputs": [],
   "source": [
    "cas1_df = cas1_df[cas1_df[\"num_tgt_p100s\"] >= 5]"
   ]
  },
  {
   "cell_type": "code",
   "execution_count": null,
   "id": "3bda160c",
   "metadata": {
    "collapsed": false,
    "deletable": true,
    "editable": true,
    "heading_collapsed": false,
    "hidden": false
   },
   "outputs": [],
   "source": []
  }
 ],
 "metadata": {
  "kernelspec": {
   "display_name": "Python 3 (ipykernel)",
   "language": "python",
   "name": "python3"
  },
  "language_info": {
   "codemirror_mode": {
    "name": "ipython",
    "version": 3
   },
   "file_extension": ".py",
   "mimetype": "text/x-python",
   "name": "python",
   "nbconvert_exporter": "python",
   "pygments_lexer": "ipython3",
   "version": "3.9.10"
  }
 },
 "nbformat": 4,
 "nbformat_minor": 5
}
