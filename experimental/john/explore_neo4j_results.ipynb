{
 "cells": [
  {
   "cell_type": "code",
   "execution_count": null,
   "id": null,
   "metadata": {
    "collapsed": false,
    "deletable": true,
    "editable": true,
    "heading_collapsed": false,
    "hidden": false
   },
   "outputs": [],
   "source": [
    "import pandas as pd\n",
    "import numpy as np\n",
    "import json\n",
    "import plotly.express as px\n",
    "import sqlite3\n",
    "\n",
    "from utils import notebook_util\n",
    "notebook_util.disp_notebook_full_width()"
   ]
  },
  {
   "cell_type": "code",
   "execution_count": null,
   "id": null,
   "metadata": {
    "collapsed": false,
    "deletable": true,
    "editable": true,
    "heading_collapsed": false,
    "hidden": false
   },
   "outputs": [],
   "source": [
    "# from jacob; grabs AA sequence\n",
    "\n",
    "def get_prot_sequence(pid):\n",
    "    con=sqlite3.connect(\"/GeneGraphDB/data/20220322_80kprotein_stats.db\")\n",
    "    cur = con.cursor()\n",
    "    cmd = \"SELECT sequence FROM proteins WHERE pid = '%s'\" % pid\n",
    "    cur.execute(cmd)\n",
    "    return str(cur.fetchone()[0])\n",
    "    con.close()"
   ]
  },
  {
   "cell_type": "code",
   "execution_count": null,
   "id": null,
   "metadata": {
    "collapsed": false,
    "deletable": true,
    "editable": true,
    "heading_collapsed": false,
    "hidden": false
   },
   "outputs": [],
   "source": [
    "with open(\"/GeneGraphDB/data/20220308_neo4j_colocalization/cas1.json\") as f:\n",
    "    cas1_dict = json.load(f)"
   ]
  },
  {
   "cell_type": "code",
   "execution_count": null,
   "id": null,
   "metadata": {
    "collapsed": false,
    "deletable": true,
    "editable": true,
    "heading_collapsed": false,
    "hidden": false
   },
   "outputs": [],
   "source": [
    "cas1_df = pd.DataFrame(cas1_dict.values())\n",
    "cas1_df.head()"
   ]
  },
  {
   "cell_type": "code",
   "execution_count": null,
   "id": null,
   "metadata": {
    "collapsed": false,
    "deletable": true,
    "editable": true,
    "heading_collapsed": false,
    "hidden": false
   },
   "outputs": [],
   "source": [
    "get_prot_sequence(\"c0c421cd2905bef4bb\")"
   ]
  },
  {
   "cell_type": "code",
   "execution_count": null,
   "id": null,
   "metadata": {
    "collapsed": false,
    "deletable": true,
    "editable": true,
    "heading_collapsed": false,
    "hidden": false
   },
   "outputs": [],
   "source": [
    "cas1_df['weighted_score'] = cas1_df['tgt_colocalization'] * np.power(cas1_df['num_tgt_p100s'], 1/3)"
   ]
  },
  {
   "cell_type": "code",
   "execution_count": null,
   "id": null,
   "metadata": {
    "collapsed": false,
    "deletable": true,
    "editable": true,
    "heading_collapsed": false,
    "hidden": false
   },
   "outputs": [],
   "source": [
    "# cas1_df = pd.DataFrame(cas1_dict.values())\n",
    "print(len(cas1_df), \"rows total\")\n",
    "cas1_df = cas1_df[cas1_df['num_tgt_p100s'] >= 5]\n",
    "print(len(cas1_df), \"filtered for >5 tgt p100\")\n",
    "cas1_df = cas1_df[cas1_df['num_connections'] > 1]\n",
    "print(len(cas1_df), \"+ filtered for >1 shared edges\")\n",
    "\n",
    "cas1_df = cas1_df[cas1_df['tgt_colocalization'] > 0.1]\n",
    "print(len(cas1_df), \"+ filtered for >0.1 tgt colocalization\")\n",
    "\n",
    "cas1_df = cas1_df[cas1_df['bait_colocalization'] > 0.01]\n",
    "print(len(cas1_df), \"+ filtered for >0.01 bait colocalization\")\n",
    "\n",
    "\n",
    "cas1_df.sort_values('weighted_score', ascending=False, inplace=True)\n",
    "cas1_df\n",
    "# cas1_df.sort_values('tgt_colocalization', ascending=False)"
   ]
  },
  {
   "cell_type": "code",
   "execution_count": null,
   "id": null,
   "metadata": {
    "collapsed": false,
    "deletable": true,
    "editable": true,
    "heading_collapsed": false,
    "hidden": false
   },
   "outputs": [],
   "source": [
    "for tgt_p30 in cas1_df['tgt_p30'][0:10]:\n",
    "    print(tgt_p30)\n",
    "    print()\n",
    "    print(get_prot_sequence(tgt_p30))\n",
    "    display(cas1_df[(cas1_df['tgt_p30'] == tgt_p30) | (cas1_df['bait_p30'] == tgt_p30)])\n",
    "    print(\"\\n\\n*********\\n\")"
   ]
  },
  {
   "cell_type": "code",
   "execution_count": null,
   "id": null,
   "metadata": {
    "collapsed": false,
    "deletable": true,
    "editable": true,
    "heading_collapsed": false,
    "hidden": false
   },
   "outputs": [],
   "source": []
  },
  {
   "cell_type": "code",
   "execution_count": null,
   "id": null,
   "metadata": {
    "collapsed": false,
    "deletable": true,
    "editable": true,
    "heading_collapsed": false,
    "hidden": false
   },
   "outputs": [],
   "source": []
  },
  {
   "cell_type": "code",
   "execution_count": null,
   "id": null,
   "metadata": {
    "collapsed": false,
    "deletable": true,
    "editable": true,
    "heading_collapsed": false,
    "hidden": false
   },
   "outputs": [],
   "source": [
    "fig = px.histogram(cas1_df[cas1_df[\"num_tgt_p100s\"] >= 5], x=\"num_tgt_p100s\")\n",
    "fig.show()"
   ]
  },
  {
   "cell_type": "code",
   "execution_count": null,
   "id": null,
   "metadata": {
    "collapsed": false,
    "deletable": true,
    "editable": true,
    "heading_collapsed": false,
    "hidden": false
   },
   "outputs": [],
   "source": [
    "cas1_df = cas1_df[cas1_df[\"num_tgt_p100s\"] >= 5]"
   ]
  }
 ],
 "metadata": {
  "kernelspec": {
   "display_name": "Python 3 (ipykernel)",
   "language": "python",
   "name": "python3"
  },
  "language_info": {
   "codemirror_mode": {
    "name": "ipython",
    "version": 3
   },
   "file_extension": ".py",
   "mimetype": "text/x-python",
   "name": "python",
   "nbconvert_exporter": "python",
   "pygments_lexer": "ipython3",
   "version": "3.9.10"
  }
 },
 "nbformat": 4,
 "nbformat_minor": 5
}
