{
 "cells": [
  {
   "cell_type": "code",
   "execution_count": null,
   "id": null,
   "metadata": {
    "collapsed": false,
    "deletable": true,
    "editable": true,
    "heading_collapsed": false,
    "hidden": false
   },
   "outputs": [],
   "source": [
    "import pandas as pd\n",
    "import numpy as np\n",
    "import json\n",
    "import plotly.express as px\n",
    "from pyvis.network import Network\n",
    "import networkx as nx\n",
    "from db_inference import simple_sql_db\n",
    "import prot_db.bigtable_constants as btc\n",
    "\n",
    "from google.cloud.bigtable.row_set import RowSet\n",
    "from google.cloud.bigtable import row_filters\n",
    "\n",
    "import sqlite3\n",
    "\n",
    "\n",
    "from utils import notebook_util\n",
    "notebook_util.disp_notebook_full_width()"
   ]
  },
  {
   "cell_type": "code",
   "execution_count": null,
   "id": null,
   "metadata": {
    "collapsed": false,
    "deletable": true,
    "editable": true,
    "heading_collapsed": false,
    "hidden": false
   },
   "outputs": [],
   "source": [
    "seq_db = simple_sql_db.SequenceSqlDb()\n",
    "sql_db = simple_sql_db.SimpleSqlDb()\n",
    "table = btc.get_table(cloud=True)"
   ]
  },
  {
   "cell_type": "code",
   "execution_count": null,
   "id": null,
   "metadata": {
    "collapsed": false,
    "deletable": true,
    "editable": true,
    "heading_collapsed": false,
    "hidden": false
   },
   "outputs": [],
   "source": [
    "TGT_ID = \"e32c8417a22fee8216\""
   ]
  },
  {
   "cell_type": "code",
   "execution_count": null,
   "id": null,
   "metadata": {
    "collapsed": false,
    "deletable": true,
    "editable": true,
    "heading_collapsed": false,
    "hidden": false
   },
   "outputs": [],
   "source": [
    "def get_row_keys(p30_id):\n",
    "    row_keys = []\n",
    "    tgt_p100s = [row['p100'] for row in sql_db.get_p30_cluster_members(TGT_ID)]\n",
    "    for pid in tgt_p100s:\n",
    "        aa_seq = seq_db.get_sequence(pid)\n",
    "        if aa_seq.endswith(\"*\"):\n",
    "            aa_seq = aa_seq[:-1]\n",
    "        row_key = btc.row_key(aa_seq)\n",
    "        row_keys.append(row_key)\n",
    "    return row_keys"
   ]
  },
  {
   "cell_type": "code",
   "execution_count": null,
   "id": null,
   "metadata": {
    "collapsed": false,
    "deletable": true,
    "editable": true,
    "heading_collapsed": false,
    "hidden": false
   },
   "outputs": [],
   "source": [
    "%%time\n",
    "\n",
    "row_keys = get_row_keys(TGT_ID)\n",
    "print(len(row_keys), \"proteins\")\n",
    "\n",
    "row_filter = row_filters.CellsColumnLimitFilter(1)\n",
    "\n",
    "row_set = RowSet()\n",
    "for row_key in row_keys:\n",
    "    row_set.add_row_key(row_key)\n",
    "    \n",
    "    \n",
    "rows = table.read_rows(row_set=row_set, filter_=row_filter)"
   ]
  },
  {
   "cell_type": "code",
   "execution_count": null,
   "id": null,
   "metadata": {
    "collapsed": false,
    "deletable": true,
    "editable": true,
    "heading_collapsed": false,
    "hidden": false
   },
   "outputs": [],
   "source": [
    "def parse_annotation(anno):\n",
    "    parsed = {}\n",
    "    for line in anno.split(\";\"):\n",
    "        k, v = line.split(\"=\")\n",
    "        parsed[k] = v\n",
    "    return parsed\n",
    "\n",
    "\n",
    "sources = []\n",
    "annotations = []\n",
    "\n",
    "for row in rows:\n",
    "    sources.append(btc.get_mgnify_study_to_analysis(row))\n",
    "    annotations.append(btc.get_annotations_from_row(row))\n",
    "\n",
    "    \n",
    "annotations = [parse_annotation(anno) for anno in annotations if anno is not None]\n",
    "    "
   ]
  },
  {
   "cell_type": "code",
   "execution_count": null,
   "id": null,
   "metadata": {
    "collapsed": false,
    "deletable": true,
    "editable": true,
    "heading_collapsed": false,
    "hidden": false
   },
   "outputs": [],
   "source": [
    "pd.DataFrame(annotations)"
   ]
  },
  {
   "cell_type": "code",
   "execution_count": null,
   "id": null,
   "metadata": {
    "collapsed": false,
    "deletable": true,
    "editable": true,
    "heading_collapsed": false,
    "hidden": false
   },
   "outputs": [],
   "source": [
    "import urllib.parse\n",
    "\n",
    "urllib.parse.unquote(annotations[0]['eggnog'])"
   ]
  },
  {
   "cell_type": "code",
   "execution_count": null,
   "id": null,
   "metadata": {
    "collapsed": false,
    "deletable": true,
    "editable": true,
    "heading_collapsed": false,
    "hidden": false
   },
   "outputs": [],
   "source": [
    "annotations = [btc.get_annotations_from_row(row) for row in rows]\n",
    "print(len(annotations))\n",
    "\n",
    "print(annotations[-1])"
   ]
  },
  {
   "cell_type": "code",
   "execution_count": null,
   "id": null,
   "metadata": {
    "collapsed": false,
    "deletable": true,
    "editable": true,
    "heading_collapsed": false,
    "hidden": false
   },
   "outputs": [],
   "source": [
    "2bbcdfad92c83273dc -> # https://pfam.xfam.org/family/PF04359\n",
    "\n",
    "2df6766ad7d9fe5716 -> # cas2\n",
    "\n"
   ]
  },
  {
   "cell_type": "code",
   "execution_count": null,
   "id": null,
   "metadata": {
    "collapsed": false,
    "deletable": true,
    "editable": true,
    "heading_collapsed": false,
    "hidden": false
   },
   "outputs": [],
   "source": [
    "pd.DataFrame(parsed)['pfam'].value_counts()"
   ]
  },
  {
   "cell_type": "code",
   "execution_count": null,
   "id": null,
   "metadata": {
    "collapsed": false,
    "deletable": true,
    "editable": true,
    "heading_collapsed": false,
    "hidden": false
   },
   "outputs": [],
   "source": [
    "pd.DataFrame(parsed)"
   ]
  },
  {
   "cell_type": "code",
   "execution_count": null,
   "id": null,
   "metadata": {
    "collapsed": false,
    "deletable": true,
    "editable": true,
    "heading_collapsed": false,
    "hidden": false
   },
   "outputs": [],
   "source": []
  }
 ],
 "metadata": {
  "kernelspec": {
   "display_name": "Python 3 (ipykernel)",
   "language": "python",
   "name": "python3"
  },
  "language_info": {
   "codemirror_mode": {
    "name": "ipython",
    "version": 3
   },
   "file_extension": ".py",
   "mimetype": "text/x-python",
   "name": "python",
   "nbconvert_exporter": "python",
   "pygments_lexer": "ipython3",
   "version": "3.9.10"
  }
 },
 "nbformat": 4,
 "nbformat_minor": 5
}
