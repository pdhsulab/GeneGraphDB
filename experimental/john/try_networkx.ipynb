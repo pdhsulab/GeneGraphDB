{
 "cells": [
  {
   "cell_type": "code",
   "execution_count": null,
   "id": "8de83c66",
   "metadata": {
    "collapsed": false,
    "deletable": true,
    "editable": true,
    "heading_collapsed": false,
    "hidden": false
   },
   "outputs": [],
   "source": [
    "import sqlite3\n",
    "import networkx as nx\n",
    "from pyvis.network import Network"
   ]
  },
  {
   "cell_type": "code",
   "execution_count": null,
   "id": "b769335a",
   "metadata": {
    "collapsed": false,
    "deletable": true,
    "editable": true,
    "heading_collapsed": false,
    "hidden": false
   },
   "outputs": [],
   "source": [
    "conn = sqlite3.connect('/GeneGraphDB/data/genegraph.db')\n",
    "conn.row_factory = sqlite3.Row"
   ]
  },
  {
   "cell_type": "code",
   "execution_count": null,
   "id": "cb572755",
   "metadata": {
    "collapsed": false,
    "deletable": true,
    "editable": true,
    "heading_collapsed": false,
    "hidden": false
   },
   "outputs": [],
   "source": [
    "def get_tables(conn):\n",
    "    tables = []\n",
    "    \n",
    "    cur = conn.cursor()\n",
    "    cur.execute(\"SELECT name FROM sqlite_master WHERE type='table';\")\n",
    "    for table_tup in cur.fetchall():\n",
    "        tables.append(table_tup[0])\n",
    "    cur.close()\n",
    "    \n",
    "    return tables\n",
    "\n",
    "tables = get_tables(conn)\n",
    "list(sorted(tables))"
   ]
  },
  {
   "cell_type": "code",
   "execution_count": null,
   "id": "bd3d3f3c",
   "metadata": {
    "collapsed": false,
    "deletable": true,
    "editable": true,
    "heading_collapsed": false,
    "hidden": false
   },
   "outputs": [],
   "source": [
    "for table in tables:\n",
    "    print(f\"TABLE: {table}\\n\")\n",
    "    cur = conn.cursor()\n",
    "    cur.execute(f\"SELECT * FROM {table} LIMIT 1;\")\n",
    "    for row in cur.fetchall():\n",
    "        for key in row.keys():\n",
    "            print(f\"{key}: {row[key]}\")\n",
    "        print(\"\\n\")\n",
    "    cur.close()\n",
    "    \n",
    "    print(\"******\\n\\n\")"
   ]
  },
  {
   "cell_type": "code",
   "execution_count": null,
   "id": "7758110c",
   "metadata": {
    "collapsed": false,
    "deletable": true,
    "editable": true,
    "heading_collapsed": false,
    "hidden": false
   },
   "outputs": [],
   "source": [
    "cur = conn.cursor()\n",
    "cur.execute(f\"SELECT * FROM clusters WHERE p30 is 'c2b5fea0b52ea0ac15'\")\n",
    "for idx, row in enumerate(cur.fetchall()):\n",
    "    print(idx)\n",
    "    for key in row.keys():\n",
    "        print(f\"{key}: {row[key]}\")\n",
    "    print(\"\\n\")\n",
    "cur.close()"
   ]
  },
  {
   "cell_type": "code",
   "execution_count": null,
   "id": "9f84e6f5",
   "metadata": {
    "collapsed": false,
    "deletable": true,
    "editable": true,
    "heading_collapsed": false,
    "hidden": false
   },
   "outputs": [],
   "source": [
    "tgt_hash = \"e1912a410e1beb69fe\"\n",
    "# bait_hash = \"5088749308272be178\"\n",
    "cur = conn.cursor()\n",
    "cur.execute(f\"SELECT * FROM prot2protwindow WHERE p1hash is '{tgt_hash}' OR p2hash is '{tgt_hash}'\")\n",
    "for idx, row in enumerate(cur.fetchall()):\n",
    "    print(idx)\n",
    "    for key in row.keys():\n",
    "        print(f\"{key}: {row[key]}\")\n",
    "    print(\"\\n\")\n",
    "cur.close()\n"
   ]
  },
  {
   "cell_type": "code",
   "execution_count": null,
   "id": "4f963c86",
   "metadata": {
    "collapsed": false,
    "deletable": true,
    "editable": true,
    "heading_collapsed": false,
    "hidden": false
   },
   "outputs": [],
   "source": [
    "def get_cluster(p100):\n",
    "    cur = conn.cursor()\n",
    "    cur.execute(f\"SELECT * FROM clusters WHERE p100 is '{p100}'\")\n",
    "    all_rows = cur.fetchall()\n",
    "    assert len(all_rows) == 1, f\"Found {len(all_rows)} clusters for p100 {p100}\"\n",
    "    cur.close()\n",
    "    row = all_rows[0]\n",
    "    return row\n",
    "\n",
    "def get_window_neighbors(pid):\n",
    "    cur = conn.cursor()\n",
    "    cur.execute(f\"SELECT * FROM prot2protwindow WHERE p1hash is '{pid}' OR p2hash is '{pid}'\")\n",
    "    rows = list(cur.fetchall())\n",
    "    cur.close()\n",
    "    return rows\n",
    "\n",
    "G = nx.Graph()\n",
    "for idx, row in enumerate(get_window_neighbors(tgt_hash)):\n",
    "    for row_key in [\"p1hash\", \"p2hash\"]:\n",
    "        G.add_node(row[row_key], type='p100', size=10, color=\"#00ff1e\")\n",
    "        cluster_row = get_cluster(row[row_key])\n",
    "        G.add_node(cluster_row['p90'], type='p90', size=20, color=\"#367440\")\n",
    "        G.add_edge(cluster_row['p90'], cluster_row['p100'], type='p90_cluster')\n",
    "        G.add_node(cluster_row['p30'], type='p30', size=30)\n",
    "        G.add_edge(cluster_row['p30'], cluster_row['p90'], type='p30_cluster', color=\"#8722E1\")\n",
    "    G.add_edge(row['p1hash'], row['p2hash'], type='5kb_window')\n",
    "\n",
    "nx.draw(G)\n",
    "\n"
   ]
  },
  {
   "cell_type": "code",
   "execution_count": null,
   "id": "32f110e4",
   "metadata": {
    "collapsed": false,
    "deletable": true,
    "editable": true,
    "heading_collapsed": false,
    "hidden": false
   },
   "outputs": [],
   "source": [
    "net = Network(notebook=True)\n",
    "net.from_nx(G)\n",
    "net.show('./pyvis_test.html')"
   ]
  },
  {
   "cell_type": "code",
   "execution_count": null,
   "id": "08e3ea97",
   "metadata": {
    "collapsed": false,
    "deletable": true,
    "editable": true,
    "heading_collapsed": false,
    "hidden": false
   },
   "outputs": [],
   "source": [
    "def get_entire_p30_cluster(cluster_id):\n",
    "    cur = conn.cursor()\n",
    "    cur.execute(f\"SELECT * FROM clusters WHERE p30 is '{cluster_id}'\")\n",
    "    rows = list(cur.fetchall())\n",
    "    cur.close()\n",
    "    return rows\n"
   ]
  },
  {
   "cell_type": "code",
   "execution_count": null,
   "id": "1bcb1d82",
   "metadata": {
    "collapsed": false,
    "deletable": true,
    "editable": true,
    "heading_collapsed": false,
    "hidden": false,
    "scrolled": true
   },
   "outputs": [],
   "source": [
    "related_clusters = [n for n in G if G.nodes[n]['type']=='p30']\n",
    "for cluster in related_clusters[0:3]:\n",
    "    cluster_rows = get_entire_p30_cluster(cluster)\n",
    "    print(len(cluster_rows))\n",
    "    for cluster_row in cluster_rows:\n",
    "        G.add_node(cluster_row['p90'], type='p90', size=20, color=\"#367440\")\n",
    "        G.add_edge(cluster_row['p90'], cluster_row['p100'], type='p90_cluster')\n",
    "        G.add_node(cluster_row['p30'], type='p30', size=30)\n",
    "        G.add_edge(cluster_row['p30'], cluster_row['p90'], type='p30_cluster', color=\"#8722E1\")"
   ]
  },
  {
   "cell_type": "code",
   "execution_count": null,
   "id": "97bc37d6",
   "metadata": {
    "collapsed": false,
    "deletable": true,
    "editable": true,
    "heading_collapsed": false,
    "hidden": false
   },
   "outputs": [],
   "source": [
    "net = Network(notebook=True)\n",
    "net.from_nx(G)\n",
    "net.show('./pyvis_test.html')"
   ]
  },
  {
   "cell_type": "code",
   "execution_count": null,
   "id": "4b174338",
   "metadata": {
    "collapsed": false,
    "deletable": true,
    "editable": true,
    "heading_collapsed": false,
    "hidden": false
   },
   "outputs": [],
   "source": [
    "net.get_node('e1912a410e1beb69fe')"
   ]
  },
  {
   "cell_type": "code",
   "execution_count": null,
   "id": "937f1d59",
   "metadata": {
    "collapsed": false,
    "deletable": true,
    "editable": true,
    "heading_collapsed": false,
    "hidden": false
   },
   "outputs": [],
   "source": []
  }
 ],
 "metadata": {
  "kernelspec": {
   "display_name": "Python 3 (ipykernel)",
   "language": "python",
   "name": "python3"
  },
  "language_info": {
   "codemirror_mode": {
    "name": "ipython",
    "version": 3
   },
   "file_extension": ".py",
   "mimetype": "text/x-python",
   "name": "python",
   "nbconvert_exporter": "python",
   "pygments_lexer": "ipython3",
   "version": "3.9.9"
  }
 },
 "nbformat": 4,
 "nbformat_minor": 5
}
