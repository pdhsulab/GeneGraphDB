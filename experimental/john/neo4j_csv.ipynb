{
 "cells": [
  {
   "cell_type": "code",
   "execution_count": null,
   "id": "837a0c09",
   "metadata": {
    "collapsed": false,
    "deletable": true,
    "editable": true,
    "heading_collapsed": false,
    "hidden": false
   },
   "outputs": [],
   "source": [
    "from db_inference import simple_neo4j\n",
    "from utils import ggdb_logging\n",
    "from utils import profile_util\n",
    "\n",
    "CLUSTERS_CSV = \"file:///csv_exports/clusters_sample.csv\"\n",
    "PROT2PROT_WINDOW_CSV = \"file:///csv_exports/prot2protwindow_sample.csv\""
   ]
  },
  {
   "cell_type": "code",
   "execution_count": null,
   "id": "e6183f5f",
   "metadata": {
    "collapsed": false,
    "deletable": true,
    "editable": true,
    "heading_collapsed": false,
    "hidden": false
   },
   "outputs": [],
   "source": [
    "def uniqueness_constraints(conn):\n",
    "    conn.query(\"CREATE CONSTRAINT ON (p:P30) ASSERT p.p30 IS UNIQUE\")\n",
    "    conn.query(\"CREATE CONSTRAINT ON (p:P90) ASSERT p.p90 IS UNIQUE\")\n",
    "    conn.query(\"CREATE CONSTRAINT ON (p:P100) ASSERT p.p100 IS UNIQUE\")\n",
    "\n",
    "\n",
    "def load_clusters(conn):\n",
    "    query = (\n",
    "        \"\"\"\n",
    "            LOAD CSV WITH HEADERS FROM \"%s\" AS row\n",
    "            MERGE (c30:P30 {p30: row.p30})\n",
    "            MERGE (c90:P90 {p90: row.p90})\n",
    "            MERGE (c100:P100 {p100: row.p100})\n",
    "            MERGE (c30)-[:P30_CLUSTERING]->(c90)\n",
    "            MERGE (c90)-[:P90_CLUSTERING]->(c100)\n",
    "            RETURN count(*) as total\n",
    "            \"\"\"\n",
    "        % CLUSTERS_CSV\n",
    "    )\n",
    "    conn.query(query)\n",
    "\n",
    "\n",
    "def load_prot2prot(conn):\n",
    "    query = (\n",
    "        \"\"\"\n",
    "            LOAD CSV WITH HEADERS FROM \"%s\" AS row\n",
    "            MERGE (n:P100 {p100: row.p1hash})\n",
    "            MERGE (m:P100 {p100: row.p2hash})\n",
    "            MERGE (n)-[:WINDOWED_NEIGHBOR]->(m)\n",
    "            RETURN count(*) as total\n",
    "            \"\"\"\n",
    "        % PROT2PROT_WINDOW_CSV\n",
    "    )\n",
    "    conn.query(query)\n"
   ]
  },
  {
   "cell_type": "code",
   "execution_count": null,
   "id": "fde6ed38",
   "metadata": {
    "collapsed": false,
    "deletable": true,
    "editable": true,
    "heading_collapsed": false,
    "hidden": false
   },
   "outputs": [],
   "source": [
    "conn = simple_neo4j.Neo4jConnection()"
   ]
  },
  {
   "cell_type": "code",
   "execution_count": null,
   "id": "3d28556d",
   "metadata": {
    "collapsed": false,
    "deletable": true,
    "editable": true,
    "heading_collapsed": false,
    "hidden": false
   },
   "outputs": [],
   "source": [
    "uniqueness_constraints(conn)"
   ]
  },
  {
   "cell_type": "code",
   "execution_count": null,
   "id": "9272a4e8",
   "metadata": {
    "collapsed": false,
    "deletable": true,
    "editable": true,
    "heading_collapsed": false,
    "hidden": false
   },
   "outputs": [],
   "source": [
    "query = (\n",
    "    \"\"\"\n",
    "        LOAD CSV WITH HEADERS FROM \"%s\" AS row\n",
    "        MERGE (c30:P30 {p30: row.p30})\n",
    "        MERGE (c90:P90 {p90: row.p90})\n",
    "        MERGE (c100:P100 {p100: row.p100})\n",
    "        MERGE (c30)-[:P30_CLUSTERING]->(c90)\n",
    "        MERGE (c90)-[:P90_CLUSTERING]->(c100)\n",
    "        RETURN count(*) as total\n",
    "        \"\"\"\n",
    "    % CLUSTERS_CSV\n",
    ")\n",
    "print(query)\n",
    "conn.query(query)"
   ]
  },
  {
   "cell_type": "code",
   "execution_count": null,
   "id": "7ff82708",
   "metadata": {
    "collapsed": false,
    "deletable": true,
    "editable": true,
    "heading_collapsed": false,
    "hidden": false
   },
   "outputs": [],
   "source": [
    "load_prot2prot(conn)"
   ]
  },
  {
   "cell_type": "code",
   "execution_count": null,
   "id": "b57979e3",
   "metadata": {
    "collapsed": false,
    "deletable": true,
    "editable": true,
    "heading_collapsed": false,
    "hidden": false
   },
   "outputs": [],
   "source": []
  }
 ],
 "metadata": {
  "kernelspec": {
   "display_name": "Python 3 (ipykernel)",
   "language": "python",
   "name": "python3"
  },
  "language_info": {
   "codemirror_mode": {
    "name": "ipython",
    "version": 3
   },
   "file_extension": ".py",
   "mimetype": "text/x-python",
   "name": "python",
   "nbconvert_exporter": "python",
   "pygments_lexer": "ipython3",
   "version": "3.9.10"
  }
 },
 "nbformat": 4,
 "nbformat_minor": 5
}
