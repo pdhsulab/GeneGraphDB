{
 "cells": [
  {
   "cell_type": "code",
   "execution_count": null,
   "id": "45aa04c0",
   "metadata": {
    "collapsed": false,
    "deletable": true,
    "editable": true,
    "heading_collapsed": false,
    "hidden": false
   },
   "outputs": [],
   "source": [
    "from db_inference.simple_sql_db import SimpleSqlDb\n",
    "from db_inference import calc_icity\n",
    "from tqdm import tqdm\n",
    "from utils import notebook_util, ggdb_logging\n",
    "from collections import defaultdict\n",
    "\n",
    "import os\n",
    "import json\n",
    "notebook_util.disp_notebook_full_width()"
   ]
  },
  {
   "cell_type": "code",
   "execution_count": null,
   "id": "e8cb2396",
   "metadata": {
    "collapsed": false,
    "deletable": true,
    "editable": true,
    "heading_collapsed": false,
    "hidden": false
   },
   "outputs": [],
   "source": [
    "db = SimpleSqlDb()"
   ]
  },
  {
   "cell_type": "code",
   "execution_count": null,
   "id": "b47908e9",
   "metadata": {
    "collapsed": false,
    "deletable": true,
    "editable": true,
    "heading_collapsed": false,
    "hidden": false
   },
   "outputs": [],
   "source": [
    "INPUT_FILE = \"/GeneGraphDB/data/jacob_baits_20220202/cas1.txt\"\n",
    "OUTPUT_FILE = os.path.join(\"/GeneGraphDB/data/icity_results/\", os.path.basename(INPUT_FILE).replace(\".txt\", \".json\"))\n",
    "\n",
    "os.makedirs(os.path.dirname(OUTPUT_FILE), exist_ok=True)\n",
    "\n",
    "\n",
    "with open(\"/GeneGraphDB/data/jacob_baits_20220202/cas1.txt\", \"r\") as f:\n",
    "    baits = [line.strip() for line in f.readlines()]\n",
    "    \n",
    "# jacob said files here accidentally have 20 chars instead of 18\n",
    "baits = [b[:18] for b in baits]"
   ]
  },
  {
   "cell_type": "code",
   "execution_count": null,
   "id": "12bfb8c9",
   "metadata": {
    "collapsed": false,
    "deletable": true,
    "editable": true,
    "heading_collapsed": false,
    "hidden": false
   },
   "outputs": [],
   "source": [
    "ggdb_logging.info(f\"Found {len(baits)} baits in file {INPUT_FILE}\")\n",
    "\n",
    "baits = baits[0:10]\n",
    "len(baits)"
   ]
  },
  {
   "cell_type": "raw",
   "id": "d15ecd5c",
   "metadata": {
    "collapsed": false,
    "deletable": true,
    "editable": true,
    "heading_collapsed": false,
    "hidden": false
   },
   "source": [
    "%%time\n",
    "baits_to_neighborhood = {}\n",
    "\n",
    "for bait in baits:\n",
    "    neighbors = db.get_p100_windowed_neighbors(bait)\n",
    "    baits_to_neighborhood[bait] = neighbors\n",
    "    \n",
    "print(baits_to_neighborhood)\n",
    "    "
   ]
  },
  {
   "cell_type": "code",
   "execution_count": null,
   "id": "b239fad0",
   "metadata": {
    "collapsed": false,
    "deletable": true,
    "editable": true,
    "heading_collapsed": false,
    "hidden": false
   },
   "outputs": [],
   "source": [
    "%%time\n",
    "p100_to_p30 = {}\n",
    "icity_results = {}\n",
    "\n",
    "for bait in baits:\n",
    "    ggdb_logging.info(f\"Running bait {bait}\")\n",
    "    if bait not in p100_to_p30:\n",
    "        bait_p30 = db.get_p30_cluster_for_p100(bait)[\"p30\"]\n",
    "        p100_to_p30[bait] = bait_p30\n",
    "    \n",
    "    bait_p30 = p100_to_p30[bait]\n",
    "    \n",
    "    bait_neighbors = db.get_p100_windowed_neighbors(bait)\n",
    "    ggdb_logging.info(f\"Bait {bait} has {len(bait_neighbors)} neighbors\")\n",
    "    \n",
    "    for tgt in bait_neighbors:\n",
    "        if tgt not in p100_to_p30:\n",
    "            tgt_p30_row = db.get_p30_cluster_for_p100(tgt)\n",
    "            if tgt_p30_row is None:\n",
    "                ggdb_logging.info(\"Skipping missing target p30\")\n",
    "                continue\n",
    "            p100_to_p30[tgt] = tgt_p30_row[\"p30\"]\n",
    "        tgt_p30 = p100_to_p30[tgt]\n",
    "        \n",
    "        tgt_first_key = f\"{tgt_p30}|{bait_p30}\"\n",
    "        if tgt_first_key in icity_results:\n",
    "            ggdb_logging.info(f\"cache hit for {tgt_first_key}\")\n",
    "            continue\n",
    "        ggdb_logging.info(f\"Computing icity for {tgt_first_key}\")\n",
    "        \n",
    "        icity_graph = calc_icity.build_icity_graph(db, tgt_p30, bait_p30)\n",
    "        \n",
    "        tgt_first_icity = calc_icity.compute_icity_on_graph(icity_graph, tgt_p30)\n",
    "        tgt_first_icity[\"bait_hash\"] = bait_p30\n",
    "        icity_results[tgt_first_key] = tgt_first_icity\n",
    "        \n",
    "        bait_first_key = f\"{bait_p30}|{tgt_p30}\"\n",
    "        bait_first_icity = calc_icity.compute_icity_on_graph(icity_graph, bait_p30)\n",
    "        bait_first_icity[\"bait_hash\"] = tgt_p30\n",
    "        icity_results[bait_first_key] = bait_first_icity\n"
   ]
  },
  {
   "cell_type": "code",
   "execution_count": null,
   "id": "b4daadf1",
   "metadata": {
    "collapsed": false,
    "deletable": true,
    "editable": true,
    "heading_collapsed": false,
    "hidden": false
   },
   "outputs": [],
   "source": [
    "with open(OUTPUT_FILE, 'w',) as fp:\n",
    "    json.dump(icity_results, fp, indent=2)\n",
    "    \n",
    "ggdb_logging.info(f\"Wrote to file {OUTPUT_FILE}\")"
   ]
  },
  {
   "cell_type": "code",
   "execution_count": null,
   "id": "c26e428e",
   "metadata": {
    "collapsed": false,
    "deletable": true,
    "editable": true,
    "heading_collapsed": false,
    "hidden": false
   },
   "outputs": [],
   "source": []
  }
 ],
 "metadata": {
  "kernelspec": {
   "display_name": "Python 3 (ipykernel)",
   "language": "python",
   "name": "python3"
  },
  "language_info": {
   "codemirror_mode": {
    "name": "ipython",
    "version": 3
   },
   "file_extension": ".py",
   "mimetype": "text/x-python",
   "name": "python",
   "nbconvert_exporter": "python",
   "pygments_lexer": "ipython3",
   "version": "3.9.10"
  }
 },
 "nbformat": 4,
 "nbformat_minor": 5
}
