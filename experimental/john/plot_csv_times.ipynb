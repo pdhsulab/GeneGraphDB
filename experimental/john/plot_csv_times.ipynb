{
 "cells": [
  {
   "cell_type": "code",
   "execution_count": null,
   "id": "e6fcd73b",
   "metadata": {
    "collapsed": false,
    "deletable": true,
    "editable": true,
    "heading_collapsed": false,
    "hidden": false
   },
   "outputs": [],
   "source": [
    "\n",
    "\n",
    "\n",
    "[INFO |ggdb] 2022-02-26 01:54:08,683                                                  /GeneGraphDB/experimental/john/bulk_load_all_csv.py:32   --- CLUSTER_LIMIT is 1000000\n",
    "[INFO |ggdb] 2022-02-26 01:54:10,702                                                                   /GeneGraphDB/utils/profile_util.py:69   --- Duration@<cluster_unique_proteins>: 2.0146 s\n",
    "[INFO |ggdb] 2022-02-26 01:54:15,530                                                                   /GeneGraphDB/utils/profile_util.py:69   --- Duration@<sort unique proteins>: 3.0006 s\n",
    "[INFO |ggdb] 2022-02-26 01:54:16,643                                                                   /GeneGraphDB/utils/profile_util.py:69   --- Duration@<Writing /GeneGraphDB/data/neo4j/import/p30.csv>: 0.6227 s\n",
    "[INFO |ggdb] 2022-02-26 01:54:17,603                                                                   /GeneGraphDB/utils/profile_util.py:69   --- Duration@<Writing /GeneGraphDB/data/neo4j/import/p90.csv>: 0.7146 s\n",
    "[INFO |ggdb] 2022-02-26 01:54:19,077                                                                   /GeneGraphDB/utils/profile_util.py:69   --- Duration@<Writing /GeneGraphDB/data/neo4j/import/p100.csv>: 1.1317 s\n",
    "[INFO |ggdb] 2022-02-26 01:54:21,292                                                                   /GeneGraphDB/utils/profile_util.py:69   --- Duration@<cluster_unique_edges>: 2.1290 s\n",
    "[INFO |ggdb] 2022-02-26 01:54:22,854                                                                   /GeneGraphDB/utils/profile_util.py:69   --- Duration@<Writing /GeneGraphDB/data/neo4j/import/p30_cluster_p100.csv>: 1.3260 s\n",
    "[INFO |ggdb] 2022-02-26 01:54:24,806                                                                   /GeneGraphDB/utils/profile_util.py:69   --- Duration@<Writing /GeneGraphDB/data/neo4j/import/p90_cluster_p100.csv>: 1.7445 s\n",
    "[INFO |ggdb] 2022-02-26 01:54:27,276                                                                   /GeneGraphDB/utils/profile_util.py:69   --- Duration@<Writing p100_to_p100_neighbor>: 1.9588 s\n",
    "[INFO |ggdb] 2022-02-26 01:54:37,512                                                  /GeneGraphDB/experimental/john/bulk_load_all_csv.py:32   --- CLUSTER_LIMIT is 1000000\n",
    "[INFO |ggdb] 2022-02-26 01:54:39,536                                                                   /GeneGraphDB/utils/profile_util.py:69   --- Duration@<cluster_unique_proteins>: 2.0208 s\n",
    "[INFO |ggdb] 2022-02-26 01:54:44,395                                                                   /GeneGraphDB/utils/profile_util.py:69   --- Duration@<sort unique proteins>: 3.0594 s\n",
    "[INFO |ggdb] 2022-02-26 01:54:45,441                                                                   /GeneGraphDB/utils/profile_util.py:69   --- Duration@<Writing /GeneGraphDB/data/neo4j/import/p30.csv>: 0.6326 s\n",
    "[INFO |ggdb] 2022-02-26 01:54:46,190                                                                   /GeneGraphDB/utils/profile_util.py:69   --- Duration@<Writing /GeneGraphDB/data/neo4j/import/p90.csv>: 0.7135 s\n",
    "[INFO |ggdb] 2022-02-26 01:54:47,363                                                                   /GeneGraphDB/utils/profile_util.py:69   --- Duration@<Writing /GeneGraphDB/data/neo4j/import/p100.csv>: 1.1377 s\n",
    "[INFO |ggdb] 2022-02-26 01:54:49,607                                                                   /GeneGraphDB/utils/profile_util.py:69   --- Duration@<cluster_unique_edges>: 2.1632 s\n",
    "[INFO |ggdb] 2022-02-26 01:54:51,025                                                                   /GeneGraphDB/utils/profile_util.py:69   --- Duration@<Writing /GeneGraphDB/data/neo4j/import/p30_cluster_p100.csv>: 1.3019 s\n",
    "[INFO |ggdb] 2022-02-26 01:54:52,767                                                                   /GeneGraphDB/utils/profile_util.py:69   --- Duration@<Writing /GeneGraphDB/data/neo4j/import/p90_cluster_p100.csv>: 1.7078 s\n",
    "[INFO |ggdb] 2022-02-26 01:54:54,974                                                                   /GeneGraphDB/utils/profile_util.py:69   --- Duration@<Writing p100_to_p100_neighbor>: 1.9317 s\n",
    "[INFO |ggdb] 2022-02-26 01:55:28,647                                                  /GeneGraphDB/experimental/john/bulk_load_all_csv.py:32   --- CLUSTER_LIMIT is 10000000\n",
    "[INFO |ggdb] 2022-02-26 01:55:49,481                                                                   /GeneGraphDB/utils/profile_util.py:69   --- Duration@<cluster_unique_proteins>: 20.8302 s\n",
    "[INFO |ggdb] 2022-02-26 01:56:49,212                                                                   /GeneGraphDB/utils/profile_util.py:69   --- Duration@<sort unique proteins>: 41.0657 s\n",
    "[INFO |ggdb] 2022-02-26 01:56:59,019                                                                   /GeneGraphDB/utils/profile_util.py:69   --- Duration@<Writing /GeneGraphDB/data/neo4j/import/p30.csv>: 5.4157 s\n",
    "[INFO |ggdb] 2022-02-26 01:57:06,840                                                                   /GeneGraphDB/utils/profile_util.py:69   --- Duration@<Writing /GeneGraphDB/data/neo4j/import/p90.csv>: 7.8184 s\n",
    "[INFO |ggdb] 2022-02-26 01:57:19,600                                                                   /GeneGraphDB/utils/profile_util.py:69   --- Duration@<Writing /GeneGraphDB/data/neo4j/import/p100.csv>: 12.3826 s\n",
    "[INFO |ggdb] 2022-02-26 01:57:42,134                                                                   /GeneGraphDB/utils/profile_util.py:69   --- Duration@<cluster_unique_edges>: 21.8997 s\n",
    "[INFO |ggdb] 2022-02-26 01:57:59,319                                                                   /GeneGraphDB/utils/profile_util.py:69   --- Duration@<Writing /GeneGraphDB/data/neo4j/import/p30_cluster_p100.csv>: 16.0363 s\n",
    "[INFO |ggdb] 2022-02-26 01:58:19,616                                                                   /GeneGraphDB/utils/profile_util.py:69   --- Duration@<Writing /GeneGraphDB/data/neo4j/import/p90_cluster_p100.csv>: 20.2725 s\n",
    "[INFO |ggdb] 2022-02-26 01:58:41,787                                                                   /GeneGraphDB/utils/profile_util.py:69   --- Duration@<Writing p100_to_p100_neighbor>: 19.3982 s\n",
    "[INFO |ggdb] 2022-02-26 02:01:34,957                                                  /GeneGraphDB/experimental/john/bulk_load_all_csv.py:32   --- CLUSTER_LIMIT is 30000000\n",
    "[INFO |ggdb] 2022-02-26 02:02:41,399                                                                   /GeneGraphDB/utils/profile_util.py:69   --- Duration@<cluster_unique_proteins>: 66.4377 s\n",
    "[INFO |ggdb] 2022-02-26 02:06:09,357                                                                   /GeneGraphDB/utils/profile_util.py:69   --- Duration@<sort unique proteins>: 147.9852 s\n",
    "[INFO |ggdb] 2022-02-26 02:06:39,655                                                                   /GeneGraphDB/utils/profile_util.py:69   --- Duration@<Writing /GeneGraphDB/data/neo4j/import/p30.csv>: 14.3957 s\n",
    "[INFO |ggdb] 2022-02-26 02:07:06,370                                                                   /GeneGraphDB/utils/profile_util.py:69   --- Duration@<Writing /GeneGraphDB/data/neo4j/import/p90.csv>: 26.1342 s\n",
    "[INFO |ggdb] 2022-02-26 02:07:47,897                                                                   /GeneGraphDB/utils/profile_util.py:69   --- Duration@<Writing /GeneGraphDB/data/neo4j/import/p100.csv>: 40.2995 s\n",
    "[INFO |ggdb] 2022-02-26 02:08:54,864                                                                   /GeneGraphDB/utils/profile_util.py:69   --- Duration@<cluster_unique_edges>: 66.8511 s\n",
    "[INFO |ggdb] 2022-02-26 02:09:50,480                                                                   /GeneGraphDB/utils/profile_util.py:69   --- Duration@<Writing /GeneGraphDB/data/neo4j/import/p30_cluster_p100.csv>: 51.0632 s\n",
    "[INFO |ggdb] 2022-02-26 02:10:59,367                                                                   /GeneGraphDB/utils/profile_util.py:69   --- Duration@<Writing /GeneGraphDB/data/neo4j/import/p90_cluster_p100.csv>: 68.5963 s\n",
    "[INFO |ggdb] 2022-02-26 02:12:05,922                                                                   /GeneGraphDB/utils/profile_util.py:69   --- Duration@<Writing p100_to_p100_neighbor>: 55.7827 s"
   ]
  }
 ],
 "metadata": {
  "kernelspec": {
   "display_name": "Python 3 (ipykernel)",
   "language": "python",
   "name": "python3"
  },
  "language_info": {
   "codemirror_mode": {
    "name": "ipython",
    "version": 3
   },
   "file_extension": ".py",
   "mimetype": "text/x-python",
   "name": "python",
   "nbconvert_exporter": "python",
   "pygments_lexer": "ipython3",
   "version": "3.9.10"
  }
 },
 "nbformat": 4,
 "nbformat_minor": 5
}
