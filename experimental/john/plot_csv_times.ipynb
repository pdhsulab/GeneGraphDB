{
 "cells": [
  {
   "cell_type": "code",
   "execution_count": null,
   "id": "884f33e0",
   "metadata": {
    "collapsed": false,
    "deletable": true,
    "editable": true,
    "heading_collapsed": false,
    "hidden": false
   },
   "outputs": [],
   "source": [
    "import pandas as pd\n",
    "import plotly.express as px"
   ]
  },
  {
   "cell_type": "code",
   "execution_count": null,
   "id": "e6fcd73b",
   "metadata": {
    "collapsed": false,
    "deletable": true,
    "editable": true,
    "heading_collapsed": false,
    "hidden": false
   },
   "outputs": [],
   "source": [
    "times = {\n",
    "1000000: {\n",
    "    'cluster_uniq_prots': 2.0146,\n",
    "    'sort_prots': 3.0006,\n",
    "    'p30.csv': 0.6227,\n",
    "    'p90.csv': 0.7146,\n",
    "    'p100.csv': 1.1317,\n",
    "    'cluster_unique_edges': 2.1290,\n",
    "    'p30_cluster_p90.csv': 1.3260,\n",
    "    'p90_cluster_p100.csv': 1.7445,\n",
    "    'p100_to_p100_neighbor': 1.9588,\n",
    "},\n",
    "\n",
    "10000000: {\n",
    "    'cluster_uniq_prots': 20.8302,\n",
    "    'sort_prots': 41.0657,\n",
    "    'p30.csv': 5.4157,\n",
    "    'p90.csv': 7.8184,\n",
    "    'p100.csv': 12.3826,\n",
    "    'cluster_unique_edges': 21.8997,\n",
    "    'p30_cluster_p90.csv': 16.0363,\n",
    "    'p90_cluster_p100.csv': 20.2725,\n",
    "    'p100_to_p100_neighbor': 1.9588,\n",
    "},\n",
    "\n",
    "30000000: {\n",
    "    'cluster_uniq_prots': 66.4377,\n",
    "    'sort_prots': 147.9852,\n",
    "    'p30.csv': 14.3957,\n",
    "    'p90.csv': 26.1342,\n",
    "    'p100.csv': 40.2995,\n",
    "    'cluster_unique_edges': 66.8511,\n",
    "    'p30_cluster_p90.csv': 51.0632,\n",
    "    'p90_cluster_p100.csv': 68.5963,\n",
    "    'p100_to_p100_neighbor': 55.7827,\n",
    "},\n",
    "\n",
    "80000000: {\n",
    "    'cluster_uniq_prots': 177.9834,\n",
    "    'sort_prots': 418.5426,\n",
    "    'p30.csv': 30.9544,\n",
    "    'p90.csv': 71.6270,\n",
    "    'p100.csv': 106.2159,\n",
    "    'cluster_unique_edges': 179.9302,\n",
    "    'p30_cluster_p90.csv': 175.7538,\n",
    "    'p90_cluster_p100.csv': 282.1451,\n",
    "    'p100_to_p100_neighbor': 160.2795,\n",
    "\n",
    "},\n",
    "\n",
    "200000000: {\n",
    "    'cluster_uniq_prots': 931.7631,\n",
    "    'sort_prots': 1123.3119,\n",
    "    'p30.csv': 60.5360,\n",
    "    'p90.csv': 185.0768,\n",
    "    'p100.csv': 245.0516,\n",
    "    'cluster_unique_edges': 947.7416,\n",
    "    'p30_cluster_p90.csv': 410.2804,\n",
    "    'p90_cluster_p100.csv': 535.3802,\n",
    "    'p100_to_p100_neighbor': 384.9470,\n",
    "\n",
    "}\n",
    "}"
   ]
  },
  {
   "cell_type": "code",
   "execution_count": null,
   "id": "106a53a0",
   "metadata": {
    "collapsed": false,
    "deletable": true,
    "editable": true,
    "heading_collapsed": false,
    "hidden": false
   },
   "outputs": [],
   "source": [
    "times_df = pd.DataFrame(times).T\n",
    "times_df"
   ]
  },
  {
   "cell_type": "code",
   "execution_count": null,
   "id": "e037e67d",
   "metadata": {
    "collapsed": false,
    "deletable": true,
    "editable": true,
    "heading_collapsed": false,
    "hidden": false
   },
   "outputs": [],
   "source": [
    "totals = times_df.sum(axis=1)"
   ]
  },
  {
   "cell_type": "code",
   "execution_count": null,
   "id": "712cb63b",
   "metadata": {
    "collapsed": false,
    "deletable": true,
    "editable": true,
    "heading_collapsed": false,
    "hidden": false,
    "scrolled": false
   },
   "outputs": [],
   "source": [
    "for column in times_df.columns:\n",
    "    fig = px.line(x=times_df.index, y=times_df[column], title=column)\n",
    "    fig.show()"
   ]
  },
  {
   "cell_type": "code",
   "execution_count": null,
   "id": "385cb54e",
   "metadata": {
    "collapsed": false,
    "deletable": true,
    "editable": true,
    "heading_collapsed": false,
    "hidden": false
   },
   "outputs": [],
   "source": []
  }
 ],
 "metadata": {
  "kernelspec": {
   "display_name": "Python 3 (ipykernel)",
   "language": "python",
   "name": "python3"
  },
  "language_info": {
   "codemirror_mode": {
    "name": "ipython",
    "version": 3
   },
   "file_extension": ".py",
   "mimetype": "text/x-python",
   "name": "python",
   "nbconvert_exporter": "python",
   "pygments_lexer": "ipython3",
   "version": "3.9.10"
  }
 },
 "nbformat": 4,
 "nbformat_minor": 5
}
