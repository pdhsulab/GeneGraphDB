{
 "cells": [
  {
   "cell_type": "code",
   "execution_count": null,
   "id": "8de83c66",
   "metadata": {
    "collapsed": false,
    "deletable": true,
    "editable": true,
    "heading_collapsed": false,
    "hidden": false
   },
   "outputs": [],
   "source": [
    "import sqlite3"
   ]
  },
  {
   "cell_type": "code",
   "execution_count": null,
   "id": "b769335a",
   "metadata": {
    "collapsed": false,
    "deletable": true,
    "editable": true,
    "heading_collapsed": false,
    "hidden": false
   },
   "outputs": [],
   "source": [
    "conn = sqlite3.connect('/GeneGraphDB/data/genegraph.db')\n",
    "conn.row_factory = sqlite3.Row"
   ]
  },
  {
   "cell_type": "code",
   "execution_count": null,
   "id": "cb572755",
   "metadata": {
    "collapsed": false,
    "deletable": true,
    "editable": true,
    "heading_collapsed": false,
    "hidden": false
   },
   "outputs": [],
   "source": [
    "def get_tables(conn):\n",
    "    tables = []\n",
    "    \n",
    "    cur = conn.cursor()\n",
    "    cur.execute(\"SELECT name FROM sqlite_master WHERE type='table';\")\n",
    "    for table_tup in cur.fetchall():\n",
    "        tables.append(table_tup[0])\n",
    "    cur.close()\n",
    "    \n",
    "    return tables\n",
    "\n",
    "tables = get_tables(conn)\n",
    "list(sorted(tables))"
   ]
  },
  {
   "cell_type": "code",
   "execution_count": null,
   "id": "bd3d3f3c",
   "metadata": {
    "collapsed": false,
    "deletable": true,
    "editable": true,
    "heading_collapsed": false,
    "hidden": false,
    "scrolled": false
   },
   "outputs": [],
   "source": [
    "for table in tables:\n",
    "    print(f\"TABLE: {table}\\n\")\n",
    "    cur = conn.cursor()\n",
    "    cur.execute(f\"SELECT * FROM {table} LIMIT 3;\")\n",
    "    for row in cur.fetchall():\n",
    "        for key in row.keys():\n",
    "            print(f\"{key}: {row[key]}\")\n",
    "        print(\"\\n\")\n",
    "    cur.close()\n",
    "    \n",
    "    print(\"******\\n\\n\")"
   ]
  },
  {
   "cell_type": "code",
   "execution_count": null,
   "id": "7758110c",
   "metadata": {
    "collapsed": false,
    "deletable": true,
    "editable": true,
    "heading_collapsed": false,
    "hidden": false
   },
   "outputs": [],
   "source": [
    "cur = conn.cursor()\n",
    "cur.execute(f\"SELECT * FROM clusters WHERE p30 is 'c2b5fea0b52ea0ac15'\")\n",
    "for idx, row in enumerate(cur.fetchall()):\n",
    "    print(idx)\n",
    "    for key in row.keys():\n",
    "        print(f\"{key}: {row[key]}\")\n",
    "    print(\"\\n\")\n",
    "cur.close()"
   ]
  },
  {
   "cell_type": "code",
   "execution_count": null,
   "id": "9f84e6f5",
   "metadata": {
    "collapsed": false,
    "deletable": true,
    "editable": true,
    "heading_collapsed": false,
    "hidden": false
   },
   "outputs": [],
   "source": [
    "prot_hash = \"5088749308272be178\""
   ]
  }
 ],
 "metadata": {
  "kernelspec": {
   "display_name": "Python 3 (ipykernel)",
   "language": "python",
   "name": "python3"
  },
  "language_info": {
   "codemirror_mode": {
    "name": "ipython",
    "version": 3
   },
   "file_extension": ".py",
   "mimetype": "text/x-python",
   "name": "python",
   "nbconvert_exporter": "python",
   "pygments_lexer": "ipython3",
   "version": "3.9.10"
  }
 },
 "nbformat": 4,
 "nbformat_minor": 5
}
