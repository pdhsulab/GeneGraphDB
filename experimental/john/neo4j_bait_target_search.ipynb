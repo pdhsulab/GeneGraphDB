{
 "cells": [
  {
   "cell_type": "code",
   "execution_count": null,
   "id": "49be8e7a",
   "metadata": {
    "collapsed": false,
    "deletable": true,
    "editable": true,
    "heading_collapsed": false,
    "hidden": false
   },
   "outputs": [],
   "source": [
    "from db_inference import simple_neo4j"
   ]
  },
  {
   "cell_type": "code",
   "execution_count": null,
   "id": "e8260793",
   "metadata": {
    "collapsed": false,
    "deletable": true,
    "editable": true,
    "heading_collapsed": false,
    "hidden": false
   },
   "outputs": [],
   "source": [
    "db = simple_neo4j.Neo4jConnection()\n",
    "\n",
    "BAIT_HASH = \"7ba89c248cf6a20732\""
   ]
  },
  {
   "cell_type": "code",
   "execution_count": null,
   "id": "bf406bf4",
   "metadata": {
    "collapsed": false,
    "deletable": true,
    "editable": true,
    "heading_collapsed": false,
    "hidden": false
   },
   "outputs": [],
   "source": [
    "%%time\n",
    "query = (\n",
    "    'MATCH (bait:P30)-->(bn:P90)-->(bp:P100)-[e]-(tp:P100)<--(tn:P90)<--(tgt:P30) '\n",
    "    f'WHERE bait.p30 = \"{BAIT_HASH}\" '\n",
    "    'WITH tgt, count(e) AS numShared '\n",
    "    'MATCH (tgt:P30) --> (tgt_n:P90) --> (tgt_p:P100) '\n",
    "    'WITH tgt, numShared, count(tgt_p) as numProts '\n",
    "    'RETURN tgt{.p30, numShared, numProts}'\n",
    ")\n",
    "\n",
    "resp = db.query(query)\n",
    "{r[0]['p30']: (r[0]['numShared'], r[0]['numProts']) for r in resp}"
   ]
  },
  {
   "cell_type": "code",
   "execution_count": null,
   "id": "ba38c35a",
   "metadata": {
    "collapsed": false,
    "deletable": true,
    "editable": true,
    "heading_collapsed": false,
    "hidden": false
   },
   "outputs": [],
   "source": [
    "{r[0]['p30']: (r[0]['numShared'], r[0]['numProts']) for r in resp}"
   ]
  },
  {
   "cell_type": "code",
   "execution_count": null,
   "id": "bf8af031",
   "metadata": {
    "collapsed": false,
    "deletable": true,
    "editable": true,
    "heading_collapsed": false,
    "hidden": false
   },
   "outputs": [],
   "source": [
    "query = (\n",
    "    'MATCH (bait:P30)-->(bn:P90)-->(bp:P100)-[e]-(tp:P100)<--(tn:P90)<--(tgt:P30) '         \n",
    "    f'WHERE bait.p30 = \"{BAIT_HASH}\" '\n",
    "    'WITH tgt, count(e) AS numShared '\n",
    "    'RETURN tgt{.p30, numShared} '\n",
    ")\n",
    "\n",
    "resp = db.query(query)\n",
    "{r[0]['p30']: r[0]['numShared'] for r in resp}\n",
    "\n"
   ]
  },
  {
   "cell_type": "code",
   "execution_count": null,
   "id": "0e8fa23f",
   "metadata": {
    "collapsed": false,
    "deletable": true,
    "editable": true,
    "heading_collapsed": false,
    "hidden": false
   },
   "outputs": [],
   "source": [
    "query = 'MATCH (bait:P30)-->(bn:P90)-->(bp:P100)--(tp:P100)<--(tn:P90)<--(tgt:P30) ' \\\n",
    "        f'WHERE bait.p30 = \"7ba89c248cf6a20732\" RETURN DISTINCT collect(tgt.p30)'\n",
    "resp = db.query(query)\n",
    "return resp[0][0]\n",
    "# tgt_nodes = resp[0][0]\n",
    "# tgts = [tgt[\"p30\"] for tgt in tgt_nodes if tgt[\"p30\"] != p30_hash]\n",
    "# return tgts\n",
    "\n",
    "# tgts = get_targets_for_bait(BAIT_HASH)\n",
    "# print(len(tgts))\n",
    "resp[0][0]"
   ]
  },
  {
   "cell_type": "code",
   "execution_count": null,
   "id": "5afa4ed6",
   "metadata": {
    "collapsed": false,
    "deletable": true,
    "editable": true,
    "heading_collapsed": false,
    "hidden": false
   },
   "outputs": [],
   "source": [
    "def get_targets_for_bait(p30_hash):\n",
    "    query = 'MATCH (bait:P30)-->(bn:P90)-->(bp:P100)--(tp:P100)<--(tn:P90)<--(tgt:P30) ' \\\n",
    "            f'WHERE bait.p30 = \"{p30_hash}\" RETURN DISTINCT collect(tgt.p30)'\n",
    "    resp = db.query(query)\n",
    "    tgts = resp[0][0]\n",
    "    return tgts\n",
    "\n",
    "tgts = get_targets_for_bait(BAIT_HASH)\n",
    "print(len(tgts))"
   ]
  },
  {
   "cell_type": "code",
   "execution_count": null,
   "id": "6272e53b",
   "metadata": {
    "collapsed": false,
    "deletable": true,
    "editable": true,
    "heading_collapsed": false,
    "hidden": false
   },
   "outputs": [],
   "source": [
    "def get_num_p100s(p30_hash): \n",
    "    query = f'MATCH (n:P30)-->(:P90)-->(p:P100) WHERE n.p30 = \"{p30_hash}\" RETURN count(p)'\n",
    "    resp = db.query(query)\n",
    "    num_p100s = resp[0]['count(p)']\n",
    "    return num_p100s\n",
    "\n",
    "get_num_p100s(BAIT_HASH)"
   ]
  },
  {
   "cell_type": "code",
   "execution_count": null,
   "id": "3e3f75be",
   "metadata": {
    "collapsed": false,
    "deletable": true,
    "editable": true,
    "heading_collapsed": false,
    "hidden": false
   },
   "outputs": [],
   "source": [
    "for tgt in tgts[0:5]:\n",
    "    print(tgt, get_num_p100s(tgt))"
   ]
  },
  {
   "cell_type": "code",
   "execution_count": null,
   "id": "4346a443",
   "metadata": {
    "collapsed": false,
    "deletable": true,
    "editable": true,
    "heading_collapsed": false,
    "hidden": false
   },
   "outputs": [],
   "source": [
    "def get_num_shared(p30_A, p30_B):\n",
    "    query = 'MATCH (n:P30)-->(o:P90)-->(p:P100)-[e]-(tp:P100)<--(to:P90)<--(tn:P30) ' \\\n",
    "            f'WHERE n.p30 = \"{p30_A}\" AND tn.p30=\"{p30_B}\" RETURN count(e), count(p), count(tp)'\n",
    "    resp = db.query(query)\n",
    "    count_edges = resp[0][\"count(e)\"]\n",
    "    count_prot_A = resp[0][\"count(p)\"]\n",
    "    count_prot_B = resp[0][\"count(tp)\"]\n",
    "    assert count_edges == count_prot_A == count_prot_B\n",
    "    return count_edges\n",
    "    \n",
    "get_num_shared(p30_A = \"32203c2ec32f8968bb\", p30_B = \"7ba89c248cf6a20732\")"
   ]
  },
  {
   "cell_type": "code",
   "execution_count": null,
   "id": "a2a0d0d1",
   "metadata": {
    "collapsed": false,
    "deletable": true,
    "editable": true,
    "heading_collapsed": false,
    "hidden": false
   },
   "outputs": [],
   "source": [
    "%%time\n",
    "bait_num_p100s = get_num_p100s(BAIT_HASH)\n",
    "for tgt in tgts:\n",
    "    tgt_num_p100s = get_num_p100s(tgt)\n",
    "    num_shared = get_num_shared(BAIT_HASH, tgt)\n",
    "    \n",
    "    print(f\"icity {tgt} -> {BAIT_HASH} = {num_shared / tgt_num_p100s:.4f}  ({num_shared:4d} / {tgt_num_p100s:4d})\")\n",
    "    print(f\"icity {BAIT_HASH} -> {tgt} = {num_shared / bait_num_p100s:.4f}  ({num_shared:4d} / {bait_num_p100s:4d})\")"
   ]
  },
  {
   "cell_type": "code",
   "execution_count": null,
   "id": "b24950c1",
   "metadata": {
    "collapsed": false,
    "deletable": true,
    "editable": true,
    "heading_collapsed": false,
    "hidden": false
   },
   "outputs": [],
   "source": [
    "# def get_p30_for_protein(p100_hash):\n",
    "p100_hash = \"e22cef4bf838680478\"\n",
    "query = f'MATCH (n:P30)-->(o:P90)-->(p:P100) WHERE p.p100 = \"{p100_hash}\" RETURN n'\n",
    "resp = db.query(query)\n",
    "p30_hash = resp[0][0]['p30']"
   ]
  },
  {
   "cell_type": "code",
   "execution_count": null,
   "id": "5aac3c9c",
   "metadata": {
    "collapsed": false,
    "deletable": true,
    "editable": true,
    "heading_collapsed": false,
    "hidden": false
   },
   "outputs": [],
   "source": []
  }
 ],
 "metadata": {
  "kernelspec": {
   "display_name": "Python 3 (ipykernel)",
   "language": "python",
   "name": "python3"
  },
  "language_info": {
   "codemirror_mode": {
    "name": "ipython",
    "version": 3
   },
   "file_extension": ".py",
   "mimetype": "text/x-python",
   "name": "python",
   "nbconvert_exporter": "python",
   "pygments_lexer": "ipython3",
   "version": "3.9.10"
  }
 },
 "nbformat": 4,
 "nbformat_minor": 5
}
