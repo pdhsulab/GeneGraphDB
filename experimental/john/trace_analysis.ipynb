{
 "cells": [
  {
   "cell_type": "code",
   "execution_count": null,
   "id": "4a582b74",
   "metadata": {
    "collapsed": false,
    "deletable": true,
    "editable": true,
    "heading_collapsed": false,
    "hidden": false
   },
   "outputs": [],
   "source": [
    "import pandas as pd\n",
    "import plotly.express as px\n",
    "import numpy as np\n",
    "\n",
    "from IPython.display import display"
   ]
  },
  {
   "cell_type": "code",
   "execution_count": null,
   "id": "31677f93",
   "metadata": {
    "collapsed": false,
    "deletable": true,
    "editable": true,
    "heading_collapsed": false,
    "hidden": false
   },
   "outputs": [],
   "source": [
    "TRACE_FILE = \"/GeneGraphDB/data/traces/db2cf9e8fedba9340b.mafft.identities.tsv\"\n",
    "\n",
    "trace_df = pd.read_csv(TRACE_FILE, sep=\"\\t\")\n"
   ]
  },
  {
   "cell_type": "code",
   "execution_count": null,
   "id": "3599a157",
   "metadata": {
    "collapsed": false,
    "deletable": true,
    "editable": true,
    "heading_collapsed": false,
    "hidden": false
   },
   "outputs": [],
   "source": [
    "element_seq_ids = trace_df['element_seqid'].unique().tolist()"
   ]
  },
  {
   "cell_type": "code",
   "execution_count": null,
   "id": "5b74c88e",
   "metadata": {
    "collapsed": false,
    "deletable": true,
    "editable": true,
    "heading_collapsed": false,
    "hidden": false
   },
   "outputs": [],
   "source": [
    "seq_id_to_trace = {}\n",
    "\n",
    "for seq_id, df_grouped in trace_df.groupby('element_seqid'):\n",
    "    print(seq_id)\n",
    "    seq_id_to_trace[seq_id] = df_grouped['identity'].to_numpy()"
   ]
  },
  {
   "cell_type": "code",
   "execution_count": null,
   "id": "d9498ca5",
   "metadata": {
    "collapsed": false,
    "deletable": true,
    "editable": true,
    "heading_collapsed": false,
    "hidden": false,
    "scrolled": false
   },
   "outputs": [],
   "source": [
    "for seq_id, trace_np in sorted(seq_id_to_trace.items())[0:8]:\n",
    "    print(seq_id)\n",
    "    display(px.line(trace_np))"
   ]
  },
  {
   "cell_type": "code",
   "execution_count": null,
   "id": "6cabcbe2",
   "metadata": {
    "collapsed": false,
    "deletable": true,
    "editable": true,
    "heading_collapsed": false,
    "hidden": false
   },
   "outputs": [],
   "source": [
    "PERCENTILE=80\n",
    "WINDOW=5\n",
    "\n",
    "\n",
    "px.line(trace_np)\n",
    "\n",
    "np.percentile(trace_np, PERCENTILE)\n",
    "\n"
   ]
  }
 ],
 "metadata": {
  "kernelspec": {
   "display_name": "Python 3 (ipykernel)",
   "language": "python",
   "name": "python3"
  },
  "language_info": {
   "codemirror_mode": {
    "name": "ipython",
    "version": 3
   },
   "file_extension": ".py",
   "mimetype": "text/x-python",
   "name": "python",
   "nbconvert_exporter": "python",
   "pygments_lexer": "ipython3",
   "version": "3.9.10"
  }
 },
 "nbformat": 4,
 "nbformat_minor": 5
}
