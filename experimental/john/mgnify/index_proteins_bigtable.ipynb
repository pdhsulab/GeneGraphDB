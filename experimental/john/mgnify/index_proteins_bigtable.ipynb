{
 "cells": [
  {
   "cell_type": "code",
   "execution_count": null,
   "id": null,
   "metadata": {
    "collapsed": false,
    "deletable": true,
    "editable": true,
    "heading_collapsed": false,
    "hidden": false
   },
   "outputs": [],
   "source": [
    "from prot_db import bigtable_constants as btc, index_seq_files, load_indexing_queue\n",
    "import itertools"
   ]
  },
  {
   "cell_type": "code",
   "execution_count": null,
   "id": null,
   "metadata": {
    "collapsed": false,
    "deletable": true,
    "editable": true,
    "heading_collapsed": false,
    "hidden": false
   },
   "outputs": [],
   "source": [
    "table = btc.get_table(cloud=False)\n",
    "table.exists()"
   ]
  },
  {
   "cell_type": "code",
   "execution_count": null,
   "id": null,
   "metadata": {
    "collapsed": false,
    "deletable": true,
    "editable": true,
    "heading_collapsed": false,
    "hidden": false,
    "scrolled": true
   },
   "outputs": [],
   "source": [
    "index_seq_files.single_threaded_single_file()"
   ]
  },
  {
   "cell_type": "code",
   "execution_count": null,
   "id": null,
   "metadata": {
    "collapsed": false,
    "deletable": true,
    "editable": true,
    "heading_collapsed": false,
    "hidden": false
   },
   "outputs": [],
   "source": [
    "start_key, end_key = btc.get_boundaries(0)\n",
    "table.read_rows()"
   ]
  },
  {
   "cell_type": "code",
   "execution_count": null,
   "id": null,
   "metadata": {
    "collapsed": false,
    "deletable": true,
    "editable": true,
    "heading_collapsed": false,
    "hidden": false
   },
   "outputs": [],
   "source": [
    "partial_rows = table.read_rows(start_key=start_key, end_key=end_key)\n",
    "\n",
    "for row in itertools.islice(partial_rows, 0, 5):\n",
    "    print(row.row_key)\n",
    "    print(btc.get_seq_from_row(row))\n",
    "    print(btc.get_annotations_from_row(row))\n",
    "    print(btc.get_mgnify_study_to_analysis(row))\n",
    "    print(\"****\")"
   ]
  },
  {
   "cell_type": "markdown",
   "id": null,
   "metadata": {
    "collapsed": false,
    "deletable": true,
    "editable": true,
    "heading_collapsed": false,
    "hidden": false
   },
   "source": [
    "## Scratchwork"
   ]
  },
  {
   "cell_type": "code",
   "execution_count": null,
   "id": null,
   "metadata": {
    "collapsed": false,
    "deletable": true,
    "editable": true,
    "heading_collapsed": false,
    "hidden": false,
    "scrolled": true
   },
   "outputs": [],
   "source": [
    "files = load_indexing_queue.get_fasta_files(cloud=False)\n",
    "x, y = files[0]"
   ]
  },
  {
   "cell_type": "code",
   "execution_count": null,
   "id": null,
   "metadata": {
    "collapsed": false,
    "deletable": true,
    "editable": true,
    "heading_collapsed": false,
    "hidden": false
   },
   "outputs": [],
   "source": [
    "import os\n",
    "from utils import file_util"
   ]
  },
  {
   "cell_type": "code",
   "execution_count": null,
   "id": null,
   "metadata": {
    "collapsed": false,
    "deletable": true,
    "editable": true,
    "heading_collapsed": false,
    "hidden": false
   },
   "outputs": [],
   "source": [
    "# SCRAPE_DIR = \"/GeneGraphDB/data/mgnify_scrape_20220505\"\n",
    "SCRAPE_DIR = \"gs://durrant_prot_pred_db/mgnify_scrape_20220505\"\n",
    "\n",
    "faa_glob = os.path.join(SCRAPE_DIR, \"**/*.faa.gz\")\n",
    "anno_glob = os.path.join(SCRAPE_DIR, \"**/*annotations.gff.bgz\")\n",
    "\n",
    "faa_files = file_util.glob(faa_glob)\n",
    "anno_files = file_util.glob(anno_glob)\n",
    "\n"
   ]
  },
  {
   "cell_type": "code",
   "execution_count": null,
   "id": null,
   "metadata": {
    "collapsed": false,
    "deletable": true,
    "editable": true,
    "heading_collapsed": false,
    "hidden": false,
    "scrolled": true
   },
   "outputs": [],
   "source": [
    "len(faa_files), len(anno_files)"
   ]
  },
  {
   "cell_type": "code",
   "execution_count": null,
   "id": null,
   "metadata": {
    "collapsed": false,
    "deletable": true,
    "editable": true,
    "heading_collapsed": false,
    "hidden": false
   },
   "outputs": [],
   "source": [
    "fpath = \"gs://durrant_tmp/full_scrape.txt\"\n",
    "filesystem = file_util.fs_util.get_fs_from_url(fpath)\n",
    "filesystem.info(fpath)"
   ]
  }
 ],
 "metadata": {
  "kernelspec": {
   "display_name": "Python 3 (ipykernel)",
   "language": "python",
   "name": "python3"
  },
  "language_info": {
   "codemirror_mode": {
    "name": "ipython",
    "version": 3
   },
   "file_extension": ".py",
   "mimetype": "text/x-python",
   "name": "python",
   "nbconvert_exporter": "python",
   "pygments_lexer": "ipython3",
   "version": "3.9.10"
  }
 },
 "nbformat": 4,
 "nbformat_minor": 5
}
