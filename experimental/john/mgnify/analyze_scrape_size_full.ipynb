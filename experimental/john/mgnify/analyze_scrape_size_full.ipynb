{
 "cells": [
  {
   "cell_type": "code",
   "execution_count": null,
   "metadata": {
    "collapsed": false,
    "deletable": true,
    "editable": true,
    "heading_collapsed": false,
    "hidden": false
   },
   "outputs": [],
   "source": [
    "import pandas as pd\n",
    "from IPython.display import display\n",
    "import re\n",
    "\n",
    "\n",
    "# $ gsutil ls -la \"gs://durrant_prot_pred_db/mgnify_scrape_20220505/**\" | tee full_scrape.txt\n",
    "LS_FPATH = '/GeneGraphDB/data/full_scrape.txt'"
   ]
  },
  {
   "cell_type": "code",
   "execution_count": null,
   "metadata": {
    "collapsed": false,
    "deletable": true,
    "editable": true,
    "heading_collapsed": false,
    "hidden": false
   },
   "outputs": [],
   "source": [
    "with open(LS_FPATH) as f:\n",
    "    lines = f.readlines()"
   ]
  },
  {
   "cell_type": "code",
   "execution_count": null,
   "metadata": {
    "collapsed": false,
    "deletable": true,
    "editable": true,
    "heading_collapsed": false,
    "hidden": false
   },
   "outputs": [],
   "source": [
    "lines[0:5]"
   ]
  },
  {
   "cell_type": "code",
   "execution_count": null,
   "metadata": {
    "collapsed": false,
    "deletable": true,
    "editable": true,
    "heading_collapsed": false,
    "hidden": false
   },
   "outputs": [],
   "source": [
    "analysis_pattern = re.compile(r'\\s*(\\d+)\\s+2022.*Z\\s+gs.*studies\\/(\\w*)\\/samples\\/(\\w*)/analyses\\/(\\w+)\\/(.*)#.*$')\n",
    "\n",
    "\n",
    "parsed = []\n",
    "for line in lines:\n",
    "    match_res = analysis_pattern.match(line)\n",
    "    if match_res:\n",
    "      \n",
    "        parsed_dict = {\n",
    "            'size': int(match_res.group(1)),\n",
    "            'study_id': match_res.group(2),\n",
    "            'sample_id': match_res.group(3),\n",
    "            'analysis_id': match_res.group(4),\n",
    "            'filename': match_res.group(5),\n",
    "        }\n",
    "        parsed.append(parsed_dict)\n",
    "        \n",
    "df = pd.DataFrame(parsed)\n",
    "full_df = df.copy()\n",
    "\n",
    "df = df[~df['filename'].str.contains('json')]\n",
    "df = df[df['filename'].str.endswith('.faa.gz')]\n",
    "# df = df[df['size'] > 10**6]\n"
   ]
  },
  {
   "cell_type": "code",
   "execution_count": null,
   "metadata": {
    "collapsed": false,
    "deletable": true,
    "editable": true,
    "heading_collapsed": false,
    "hidden": false
   },
   "outputs": [],
   "source": [
    "studies_pattern = re.compile(r'\\s*(\\d+)\\s+2022.*Z\\s+gs.*studies\\/(\\w*).json')"
   ]
  },
  {
   "cell_type": "code",
   "execution_count": null,
   "metadata": {
    "collapsed": false,
    "deletable": true,
    "editable": true,
    "heading_collapsed": false,
    "hidden": false
   },
   "outputs": [],
   "source": [
    "df.head()"
   ]
  },
  {
   "cell_type": "code",
   "execution_count": null,
   "metadata": {
    "collapsed": false,
    "deletable": true,
    "editable": true,
    "heading_collapsed": false,
    "hidden": false
   },
   "outputs": [],
   "source": [
    "(df[['analysis_id', 'size']].groupby('analysis_id').sum() / 10**6).describe()"
   ]
  },
  {
   "cell_type": "code",
   "execution_count": null,
   "metadata": {
    "collapsed": false,
    "deletable": true,
    "editable": true,
    "heading_collapsed": false,
    "hidden": false
   },
   "outputs": [],
   "source": [
    "df['size'].sum() / 10**9"
   ]
  },
  {
   "cell_type": "code",
   "execution_count": null,
   "metadata": {
    "collapsed": false,
    "deletable": true,
    "editable": true,
    "heading_collapsed": false,
    "hidden": false
   },
   "outputs": [],
   "source": [
    "df.shape  # compared to 61k analysis.json files.  ~15% of studies have a CDS file?"
   ]
  },
  {
   "cell_type": "code",
   "execution_count": null,
   "metadata": {
    "collapsed": false,
    "deletable": true,
    "editable": true,
    "heading_collapsed": false,
    "hidden": false,
    "scrolled": true
   },
   "outputs": [],
   "source": [
    "x = df.groupby('analysis_id').count()\n",
    "x['size'].value_counts() / x['size'].index.size"
   ]
  },
  {
   "cell_type": "code",
   "execution_count": null,
   "metadata": {
    "collapsed": false,
    "deletable": true,
    "editable": true,
    "heading_collapsed": false,
    "hidden": false
   },
   "outputs": [],
   "source": [
    "analysis_df = full_df[full_df['filename'].str.startswith('analysis') & full_df['filename'].str.endswith(\".json\")]\n",
    "analysis_df.groupby('study_id').count()"
   ]
  },
  {
   "cell_type": "code",
   "execution_count": null,
   "metadata": {
    "collapsed": false,
    "deletable": true,
    "editable": true,
    "heading_collapsed": false,
    "hidden": false
   },
   "outputs": [],
   "source": [
    "df.groupby('study_id').count()"
   ]
  },
  {
   "cell_type": "code",
   "execution_count": null,
   "metadata": {
    "collapsed": false,
    "deletable": true,
    "editable": true,
    "heading_collapsed": false,
    "hidden": false
   },
   "outputs": [],
   "source": []
  }
 ],
 "metadata": {
  "kernelspec": {
   "display_name": "Python 3 (ipykernel)",
   "language": "python",
   "name": "python3"
  },
  "language_info": {
   "codemirror_mode": {
    "name": "ipython",
    "version": 3
   },
   "file_extension": ".py",
   "mimetype": "text/x-python",
   "name": "python",
   "nbconvert_exporter": "python",
   "pygments_lexer": "ipython3",
   "version": "3.9.10"
  }
 },
 "nbformat": 4,
 "nbformat_minor": 4
}
