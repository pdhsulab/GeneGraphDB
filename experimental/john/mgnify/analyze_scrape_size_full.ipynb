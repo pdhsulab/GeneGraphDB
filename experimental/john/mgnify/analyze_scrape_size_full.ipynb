{
 "cells": [
  {
   "cell_type": "code",
   "execution_count": null,
   "metadata": {
    "collapsed": false,
    "deletable": true,
    "editable": true,
    "heading_collapsed": false,
    "hidden": false
   },
   "outputs": [],
   "source": [
    "import pandas as pd\n",
    "import numpy as np\n",
    "import random\n",
    "from IPython.display import display\n",
    "import re\n",
    "\n",
    "\n",
    "# $ gsutil ls -la \"gs://durrant_prot_pred_db/mgnify_scrape_20220505/**\" | tee full_scrape.txt\n",
    "LS_FPATH = '/GeneGraphDB/data/full_scrape.txt'"
   ]
  },
  {
   "cell_type": "code",
   "execution_count": null,
   "metadata": {
    "collapsed": false,
    "deletable": true,
    "editable": true,
    "heading_collapsed": false,
    "hidden": false
   },
   "outputs": [],
   "source": [
    "with open(LS_FPATH) as f:\n",
    "    lines = list(f.readlines())\n",
    "    \n",
    "lines[0:5]"
   ]
  },
  {
   "cell_type": "markdown",
   "metadata": {
    "collapsed": false,
    "deletable": true,
    "editable": true,
    "heading_collapsed": false,
    "hidden": false
   },
   "source": [
    "# Plan\n",
    "\n",
    "- [ ] how many analyses are there per study?\n",
    "- [ ] which studies have zero analyses?\n",
    "- [ ] check no-analysis studies in browser (3). see what the expected number of studies is"
   ]
  },
  {
   "cell_type": "code",
   "execution_count": null,
   "metadata": {
    "collapsed": false,
    "deletable": true,
    "editable": true,
    "heading_collapsed": false,
    "hidden": false
   },
   "outputs": [],
   "source": [
    "# function that accepts:\n",
    "#   regex, group labels\n",
    "# returns:\n",
    "#   df of filenames matching regex, group labels as columns\n",
    "\n",
    "ANALYSIS_ARGS = {\n",
    "    'pattern': re.compile(r'\\s*(\\d+)\\s+2022.*Z\\s+gs.*studies\\/(\\w*)\\/samples\\/(\\w*)/analyses\\/(\\w+)\\/(.*)#.*$'),\n",
    "    'group_labels': ['size', 'study_id', 'sample_id', 'analysis_id', 'filename'],\n",
    "}\n",
    "STUDY_ARGS = {\n",
    "    'pattern': re.compile(r'\\s*(\\d+)\\s+2022.*Z\\s+gs.*studies\\/(\\w*)\\/(study_[^\\/]*.json)'),\n",
    "    'group_labels': ['size', 'study_id', 'fname'],\n",
    "}\n",
    "\n",
    "\n",
    "def get_file_df(pattern, group_labels):\n",
    "    parsed_dicts = []\n",
    "    for line in lines:\n",
    "        match_res = pattern.match(line)\n",
    "        if match_res:\n",
    "            # idx is + 1 because group 0 is entire regex match\n",
    "            parsed_dict = {label: match_res.group(group_idx + 1) for group_idx, label in enumerate(group_labels)}\n",
    "            parsed_dict['full_line'] = match_res.group(0)\n",
    "            parsed_dicts.append(parsed_dict)\n",
    "    df = pd.DataFrame(parsed_dicts)\n",
    "    if 'size' in df:\n",
    "        df['size'] = df['size'].astype('Int64')\n",
    "    return df\n",
    "\n",
    "\n",
    "analysis_df = get_file_df(**ANALYSIS_ARGS)\n",
    "display(analysis_df.head())\n",
    "\n",
    "study_df = get_file_df(**STUDY_ARGS)\n",
    "display(study_df.head())"
   ]
  },
  {
   "cell_type": "code",
   "execution_count": null,
   "metadata": {
    "collapsed": false,
    "deletable": true,
    "editable": true,
    "heading_collapsed": false,
    "hidden": false
   },
   "outputs": [],
   "source": [
    "df = analysis_df.copy()\n",
    "df = df[~df['filename'].str.contains('json')]\n",
    "df = df[df['filename'].str.endswith('.faa.gz')]\n",
    "# df = df[df['size'] > 10**6]\n",
    "df.head()"
   ]
  },
  {
   "cell_type": "code",
   "execution_count": null,
   "metadata": {
    "collapsed": false,
    "deletable": true,
    "editable": true,
    "heading_collapsed": false,
    "hidden": false
   },
   "outputs": [],
   "source": [
    "studies_with_analysis = set(df.groupby('study_id').count().index)\n",
    "print(len(studies_with_analysis), \"studies with analysis\")\n",
    "\n",
    "all_studies = set(study_df['study_id'].unique())\n",
    "\n",
    "print(len(all_studies), \"studies total\")\n",
    "\n",
    "random.sample(list(all_studies - studies_with_analysis), 3)\n",
    "\n",
    "\n"
   ]
  },
  {
   "cell_type": "code",
   "execution_count": null,
   "metadata": {
    "collapsed": false,
    "deletable": true,
    "editable": true,
    "heading_collapsed": false,
    "hidden": false
   },
   "outputs": [],
   "source": [
    "study_df[study_df['study_id'] == 'MGYS00005799']['full_line'].values"
   ]
  },
  {
   "cell_type": "code",
   "execution_count": null,
   "metadata": {
    "collapsed": false,
    "deletable": true,
    "editable": true,
    "heading_collapsed": false,
    "hidden": false
   },
   "outputs": [],
   "source": [
    "print(\"analysis file sizes in MB's\")\n",
    "(df[['analysis_id', 'size']].groupby('analysis_id').sum() / 10**6).describe()"
   ]
  },
  {
   "cell_type": "code",
   "execution_count": null,
   "metadata": {
    "collapsed": false,
    "deletable": true,
    "editable": true,
    "heading_collapsed": false,
    "hidden": false
   },
   "outputs": [],
   "source": [
    "df['size'].sum() / 10**9"
   ]
  },
  {
   "cell_type": "code",
   "execution_count": null,
   "metadata": {
    "collapsed": false,
    "deletable": true,
    "editable": true,
    "heading_collapsed": false,
    "hidden": false
   },
   "outputs": [],
   "source": [
    "df.shape  # compared to 61k analysis.json files.  ~15% of studies have a CDS file?"
   ]
  },
  {
   "cell_type": "code",
   "execution_count": null,
   "metadata": {
    "collapsed": false,
    "deletable": true,
    "editable": true,
    "heading_collapsed": false,
    "hidden": false,
    "scrolled": true
   },
   "outputs": [],
   "source": [
    "x = df.groupby('analysis_id').count()\n",
    "x['size'].value_counts() / x['size'].index.size"
   ]
  },
  {
   "cell_type": "code",
   "execution_count": null,
   "metadata": {
    "collapsed": false,
    "deletable": true,
    "editable": true,
    "heading_collapsed": false,
    "hidden": false
   },
   "outputs": [],
   "source": [
    "analysis_df = full_df[full_df['filename'].str.startswith('analysis') & full_df['filename'].str.endswith(\".json\")]\n",
    "analysis_df.groupby('study_id').count()"
   ]
  },
  {
   "cell_type": "code",
   "execution_count": null,
   "metadata": {
    "collapsed": false,
    "deletable": true,
    "editable": true,
    "heading_collapsed": false,
    "hidden": false
   },
   "outputs": [],
   "source": [
    "df.groupby('study_id').count()"
   ]
  },
  {
   "cell_type": "code",
   "execution_count": null,
   "metadata": {
    "collapsed": false,
    "deletable": true,
    "editable": true,
    "heading_collapsed": false,
    "hidden": false
   },
   "outputs": [],
   "source": []
  }
 ],
 "metadata": {
  "kernelspec": {
   "display_name": "Python 3 (ipykernel)",
   "language": "python",
   "name": "python3"
  },
  "language_info": {
   "codemirror_mode": {
    "name": "ipython",
    "version": 3
   },
   "file_extension": ".py",
   "mimetype": "text/x-python",
   "name": "python",
   "nbconvert_exporter": "python",
   "pygments_lexer": "ipython3",
   "version": "3.9.10"
  }
 },
 "nbformat": 4,
 "nbformat_minor": 4
}
