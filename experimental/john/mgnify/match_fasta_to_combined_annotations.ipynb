{
 "cells": [
  {
   "cell_type": "code",
   "execution_count": null,
   "id": "f9b66644",
   "metadata": {
    "collapsed": false,
    "deletable": true,
    "editable": true,
    "heading_collapsed": false,
    "hidden": false
   },
   "outputs": [],
   "source": [
    "from prot_db import bigtable_constants as btc, index_seq_files\n",
    "import itertools\n",
    "import os\n",
    "from utils import file_util, notebook_util, fasta_util\n",
    "import pandas as pd\n",
    "import sys\n",
    "import pprint\n",
    "import subprocess\n",
    "from BCBio.GFF import GFFExaminer\n",
    "\n",
    "\n",
    "pd.set_option('display.max_colwidth', None)\n",
    "notebook_util.disp_notebook_full_width()"
   ]
  },
  {
   "cell_type": "code",
   "execution_count": null,
   "id": "c403cad0",
   "metadata": {
    "collapsed": false,
    "deletable": true,
    "editable": true,
    "heading_collapsed": false,
    "hidden": false
   },
   "outputs": [],
   "source": [
    "# SCRAPE_DIR = \"/GeneGraphDB/data/mgnify_scrape_20220505\"\n",
    "SCRAPE_DIR = \"gs://durrant_prot_pred_db/mgnify_scrape_20220505\"\n",
    "\n",
    "faa_glob = os.path.join(SCRAPE_DIR, \"**/*.faa.gz\")\n",
    "anno_glob = os.path.join(SCRAPE_DIR, \"**/*annotations.gff.bgz\")\n",
    "\n",
    "faa_files = file_util.glob(faa_glob)\n",
    "anno_files = file_util.glob(anno_glob)\n",
    "\n"
   ]
  },
  {
   "cell_type": "code",
   "execution_count": null,
   "id": "9707dc57",
   "metadata": {
    "collapsed": false,
    "deletable": true,
    "editable": true,
    "heading_collapsed": false,
    "hidden": false,
    "scrolled": true
   },
   "outputs": [],
   "source": [
    "len(faa_files), len(anno_files)"
   ]
  },
  {
   "cell_type": "code",
   "execution_count": null,
   "id": "5e3fc78b",
   "metadata": {
    "collapsed": false,
    "deletable": true,
    "editable": true,
    "heading_collapsed": false,
    "hidden": false,
    "scrolled": true
   },
   "outputs": [],
   "source": [
    "faa_files[0], anno_files[0]\n",
    "\n",
    "df_faa = pd.DataFrame(faa_files, columns=[\"path\"])\n",
    "df_faa[\"type\"] = \"faa\"\n",
    "\n",
    "df_anno = pd.DataFrame(anno_files, columns=[\"path\"])\n",
    "df_anno[\"type\"] = \"annotation\"\n",
    "\n",
    "\n",
    "df_combo = pd.concat([df_faa, df_anno])\n",
    "df_combo\n",
    "\n",
    "df_combo[\"dirname\"] = df_combo[\"path\"].map(os.path.dirname)\n",
    "for dirname, df_dir in df_combo.groupby(\"dirname\"):\n",
    "#     if len(df_dir) == 2:\n",
    "#         display(df_dir)\n",
    "    pass\n",
    "\n"
   ]
  },
  {
   "cell_type": "code",
   "execution_count": null,
   "id": "13777104",
   "metadata": {
    "collapsed": false,
    "deletable": true,
    "editable": true,
    "heading_collapsed": false,
    "hidden": false
   },
   "outputs": [],
   "source": [
    "faa_fpath = \"/GeneGraphDB/data/mgnify_scrape_20220505/studies/MGYS00002012/samples/ERS433542/analyses/MGYA00598832/ERZ1746111_FASTA_predicted_cds.faa.gz\"\n",
    "anno_fpath = \"/GeneGraphDB/data/mgnify_scrape_20220505/studies/MGYS00002012/samples/ERS433542/analyses/MGYA00598832/ERZ1746111_FASTA_annotations.gff.bgz\"\n",
    "# anno_fpath = \"/GeneGraphDB/data/mgnify_scrape_20220505/studies/MGYS00002012/samples/ERS433542/analyses/MGYA00598832/derp\""
   ]
  },
  {
   "cell_type": "code",
   "execution_count": null,
   "id": "677c64eb",
   "metadata": {
    "collapsed": false,
    "deletable": true,
    "editable": true,
    "heading_collapsed": false,
    "hidden": false
   },
   "outputs": [],
   "source": [
    "for seq in itertools.islice(fasta_util.open_fasta(faa_fpath), 0, 5):\n",
    "    description = seq.description\n",
    "    fields = description.split(\" # \")\n",
    "    seq_id, begin_idx, end_idx = fields[0:3]\n",
    "    # e.g. ERZ1746111.1-NODE-1-length-464040-cov-12.638829_3 -> ERZ1746111.1-NODE-1-length-464040-cov-12.638829\n",
    "    non_indexed_seq_id = seq_id.split(\"_\", -1)[0]\n",
    "    seq_id_start_end = \"@\".join((non_indexed_seq_id, begin_idx, end_idx))\n",
    "    print(seq_id_start_end)"
   ]
  },
  {
   "cell_type": "code",
   "execution_count": null,
   "id": "92593a24",
   "metadata": {
    "collapsed": false,
    "deletable": true,
    "editable": true,
    "heading_collapsed": false,
    "hidden": false
   },
   "outputs": [],
   "source": [
    "from dataclasses import dataclass\n",
    "\n",
    "@dataclass\n",
    "class GffRow:\n",
    "    seqid: str\n",
    "    source: str\n",
    "    type_: str\n",
    "    start: str\n",
    "    end: str\n",
    "    score: str\n",
    "    strand: str\n",
    "    phase: str\n",
    "    attributes: str\n",
    "    \n"
   ]
  },
  {
   "cell_type": "code",
   "execution_count": null,
   "id": "81519051",
   "metadata": {
    "collapsed": false,
    "deletable": true,
    "editable": true,
    "heading_collapsed": false,
    "hidden": false
   },
   "outputs": [],
   "source": [
    "def parse_gff_file(gff_file):\n",
    "    annotations_fname = os.path.basename(gff_file)\n",
    "    \n",
    "    with file_util.tmp_copy_on_open(gff_file, annotations_fname) as local_file:\n",
    "        if local_file.endswith(\".bgz\"):\n",
    "            # replace suffix so `gunzip` utility works\n",
    "            gzip_name = local_file[:-len(\".bgz\")] + \".gz\"\n",
    "            cmd = f\"mv {local_filegunzip {gzip_name}\"\n",
    "            _ = subprocess.check_output(cmd, shell=True, stderr=subprocess.STDOUT)\n",
    "            local_file.rstrip(\".gz\")\n",
    "    \n",
    "        with open(local_file) as fh:\n",
    "            gff_lines = [line.rstrip() for line in fh.readlines()]\n",
    "        gff_lines = [line.rstrip() for line in gff_lines]\n",
    "        assert(gff_lines[0] == \"##gff-version 3\")\n",
    "        gff_lines = gff_lines[1:]\n",
    "        gff_rows = [GffRow(*line.split(\"\\t\")) for line in gff_lines]\n",
    "    return gff_rows\n",
    "    \n",
    "    \n",
    "gff_rows = parse_gff_file(anno_fpath)\n",
    "gff_rows[0:5]\n",
    "    \n",
    "    "
   ]
  },
  {
   "cell_type": "code",
   "execution_count": null,
   "id": "106e28d2",
   "metadata": {
    "collapsed": false,
    "deletable": true,
    "editable": true,
    "heading_collapsed": false,
    "hidden": false
   },
   "outputs": [],
   "source": [
    "for row in gff_rows[:5]:\n",
    "    seq_id_start_end = \"@\".join((row.seqid, row.start, row.end))\n",
    "    print(seq_id_start_end)"
   ]
  },
  {
   "cell_type": "code",
   "execution_count": null,
   "id": "df134fd7",
   "metadata": {
    "collapsed": false,
    "deletable": true,
    "editable": true,
    "heading_collapsed": false,
    "hidden": false
   },
   "outputs": [],
   "source": []
  }
 ],
 "metadata": {
  "kernelspec": {
   "display_name": "Python 3 (ipykernel)",
   "language": "python",
   "name": "python3"
  },
  "language_info": {
   "codemirror_mode": {
    "name": "ipython",
    "version": 3
   },
   "file_extension": ".py",
   "mimetype": "text/x-python",
   "name": "python",
   "nbconvert_exporter": "python",
   "pygments_lexer": "ipython3",
   "version": "3.9.10"
  }
 },
 "nbformat": 4,
 "nbformat_minor": 5
}
