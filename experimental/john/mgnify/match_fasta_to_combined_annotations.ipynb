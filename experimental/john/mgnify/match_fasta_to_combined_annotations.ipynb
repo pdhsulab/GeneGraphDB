{
 "cells": [
  {
   "cell_type": "code",
   "execution_count": null,
   "id": "f9b66644",
   "metadata": {
    "collapsed": false,
    "deletable": true,
    "editable": true,
    "heading_collapsed": false,
    "hidden": false
   },
   "outputs": [],
   "source": [
    "from prot_db import bigtable_constants as btc, index_seq_files\n",
    "import itertools\n",
    "import os\n",
    "from utils import file_util, notebook_util, fasta_util, ggdb_logging\n",
    "import pandas as pd\n",
    "import sys\n",
    "import pprint\n",
    "import subprocess\n",
    "\n",
    "import importlib\n",
    "importlib.reload(fasta_util)\n",
    "\n",
    "\n",
    "pd.set_option('display.max_colwidth', None)\n",
    "notebook_util.disp_notebook_full_width()"
   ]
  },
  {
   "cell_type": "code",
   "execution_count": null,
   "id": "c403cad0",
   "metadata": {
    "collapsed": false,
    "deletable": true,
    "editable": true,
    "heading_collapsed": false,
    "hidden": false
   },
   "outputs": [],
   "source": [
    "# SCRAPE_DIR = \"/GeneGraphDB/data/mgnify_scrape_20220505\"\n",
    "SCRAPE_DIR = \"gs://durrant_prot_pred_db/mgnify_scrape_20220505\"\n",
    "\n",
    "faa_glob = os.path.join(SCRAPE_DIR, \"**/*.faa.gz\")\n",
    "anno_glob = os.path.join(SCRAPE_DIR, \"**/*annotations.gff.bgz\")\n",
    "\n",
    "faa_files = file_util.glob(faa_glob)\n",
    "anno_files = file_util.glob(anno_glob)\n",
    "\n"
   ]
  },
  {
   "cell_type": "code",
   "execution_count": null,
   "id": "9707dc57",
   "metadata": {
    "collapsed": false,
    "deletable": true,
    "editable": true,
    "heading_collapsed": false,
    "hidden": false,
    "scrolled": true
   },
   "outputs": [],
   "source": [
    "len(faa_files), len(anno_files)"
   ]
  },
  {
   "cell_type": "code",
   "execution_count": null,
   "id": "5e3fc78b",
   "metadata": {
    "collapsed": false,
    "deletable": true,
    "editable": true,
    "heading_collapsed": false,
    "hidden": false,
    "scrolled": true
   },
   "outputs": [],
   "source": [
    "faa_files[0], anno_files[0]\n",
    "\n",
    "df_faa = pd.DataFrame(faa_files, columns=[\"path\"])\n",
    "df_faa[\"type\"] = \"faa\"\n",
    "\n",
    "df_anno = pd.DataFrame(anno_files, columns=[\"path\"])\n",
    "df_anno[\"type\"] = \"annotation\"\n",
    "\n",
    "\n",
    "df_combo = pd.concat([df_faa, df_anno])\n",
    "df_combo\n",
    "\n",
    "skipped_dirs = 0\n",
    "\n",
    "df_combo[\"dirname\"] = df_combo[\"path\"].map(os.path.dirname)\n",
    "for dirname, df_dir in df_combo.groupby(\"dirname\"):\n",
    "    if len(df_dir) != 2:\n",
    "        skipped_dirs += 1\n",
    "        continue\n",
    "    count_by_type = df_dir[\"type\"].value_counts()\n",
    "    if count_by_type['faa'] != 1 or count_by_type['annotation'] != 1:\n",
    "        skipped_dirs += 1\n",
    "        continue\n",
    "        \n",
    "    fasta_fpath = df_dir[df_dir[\"type\"] == \"faa\"].path.values[0]\n",
    "    annotation_fpath = df_dir[df_dir[\"type\"] == \"annotation\"].path.values[0]\n",
    "    \n",
    "    filenames.append((fasta_fpath, annotation_fpath))\n",
    "    \n",
    "    \n",
    "        \n",
    "print(\"Skipped dirs\", skipped_dirsd_dirs)\n",
    "\n"
   ]
  },
  {
   "cell_type": "code",
   "execution_count": null,
   "id": "1f07b03b",
   "metadata": {
    "collapsed": false,
    "deletable": true,
    "editable": true,
    "heading_collapsed": false,
    "hidden": false
   },
   "outputs": [],
   "source": [
    "df_dir[df_dir[\"type\"] == \"faa\"].path.values[0]"
   ]
  },
  {
   "cell_type": "code",
   "execution_count": null,
   "id": "ad9b34bd",
   "metadata": {
    "collapsed": false,
    "deletable": true,
    "editable": true,
    "heading_collapsed": false,
    "hidden": false
   },
   "outputs": [],
   "source": [
    "df_dir[\"type\"].value_counts()['faa']"
   ]
  },
  {
   "cell_type": "code",
   "execution_count": null,
   "id": "bac8bea0",
   "metadata": {
    "collapsed": false,
    "deletable": true,
    "editable": true,
    "heading_collapsed": false,
    "hidden": false
   },
   "outputs": [],
   "source": []
  },
  {
   "cell_type": "code",
   "execution_count": null,
   "id": "13777104",
   "metadata": {
    "collapsed": false,
    "deletable": true,
    "editable": true,
    "heading_collapsed": false,
    "hidden": false
   },
   "outputs": [],
   "source": [
    "faa_fpath = \"/GeneGraphDB/data/mgnify_scrape_20220505/studies/MGYS00002012/samples/ERS433542/analyses/MGYA00598832/ERZ1746111_FASTA_predicted_cds.faa.gz\"\n",
    "anno_fpath = \"/GeneGraphDB/data/mgnify_scrape_20220505/studies/MGYS00002012/samples/ERS433542/analyses/MGYA00598832/ERZ1746111_FASTA_annotations.gff.bgz\""
   ]
  },
  {
   "cell_type": "code",
   "execution_count": null,
   "id": "677c64eb",
   "metadata": {
    "collapsed": false,
    "deletable": true,
    "editable": true,
    "heading_collapsed": false,
    "hidden": false
   },
   "outputs": [],
   "source": [
    "# dummy_index faa_path anno_path\n",
    "\n",
    "def _row_key_from_seq_record(seq_record):\n",
    "    description = seq_record.description\n",
    "    fields = description.split(\" # \")\n",
    "    seq_id, begin_idx, end_idx = fields[0:3]\n",
    "    # e.g. ERZ1746111.1-NODE-1-length-464040-cov-12.638829_3 -> ERZ1746111.1-NODE-1-length-464040-cov-12.638829\n",
    "    non_indexed_seq_id = seq_id.split(\"_\", -1)[0]\n",
    "    seq_id_start_end = \"@\".join((non_indexed_seq_id, begin_idx, end_idx))\n",
    "    return seq_id_start_end\n",
    "\n",
    "def _row_key_from_gff_row(gff_row):\n",
    "    seq_id_start_end = \"@\".join((gff_row.seqid, gff_row.start, gff_row.end))\n",
    "    return seq_id_start_end\n",
    "    "
   ]
  },
  {
   "cell_type": "code",
   "execution_count": null,
   "id": "f6acf37a",
   "metadata": {
    "collapsed": false,
    "deletable": true,
    "editable": true,
    "heading_collapsed": false,
    "hidden": false
   },
   "outputs": [],
   "source": [
    "gff_rows = fasta_util.parse_gff_file(anno_fpath)\n",
    "attribute_dict = {_row_key_from_gff_row(row): row.attributes for row in gff_rows}"
   ]
  },
  {
   "cell_type": "code",
   "execution_count": null,
   "id": "9778a167",
   "metadata": {
    "collapsed": false,
    "deletable": true,
    "editable": true,
    "heading_collapsed": false,
    "hidden": false
   },
   "outputs": [],
   "source": [
    "has_anno = []    \n",
    "for seq in fasta_util.open_fasta(faa_fpath):\n",
    "    if \" # \" not in seq.description:\n",
    "        continue\n",
    "    row_key = _row_key_from_seq_record(seq)\n",
    "    has_anno.append(row_key in attribute_dict)"
   ]
  },
  {
   "cell_type": "code",
   "execution_count": null,
   "id": "16efa27d",
   "metadata": {
    "collapsed": false,
    "deletable": true,
    "editable": true,
    "heading_collapsed": false,
    "hidden": false
   },
   "outputs": [],
   "source": [
    "print(len(has_anno))\n",
    "print(sum(has_anno))"
   ]
  },
  {
   "cell_type": "code",
   "execution_count": null,
   "id": "6bbc193f",
   "metadata": {
    "collapsed": false,
    "deletable": true,
    "editable": true,
    "heading_collapsed": false,
    "hidden": false
   },
   "outputs": [],
   "source": [
    "list(attribute_dict.keys())[0:5]"
   ]
  },
  {
   "cell_type": "code",
   "execution_count": null,
   "id": "a73d595a",
   "metadata": {
    "collapsed": false,
    "deletable": true,
    "editable": true,
    "heading_collapsed": false,
    "hidden": false
   },
   "outputs": [],
   "source": []
  }
 ],
 "metadata": {
  "kernelspec": {
   "display_name": "Python 3 (ipykernel)",
   "language": "python",
   "name": "python3"
  },
  "language_info": {
   "codemirror_mode": {
    "name": "ipython",
    "version": 3
   },
   "file_extension": ".py",
   "mimetype": "text/x-python",
   "name": "python",
   "nbconvert_exporter": "python",
   "pygments_lexer": "ipython3",
   "version": "3.9.10"
  }
 },
 "nbformat": 4,
 "nbformat_minor": 5
}
