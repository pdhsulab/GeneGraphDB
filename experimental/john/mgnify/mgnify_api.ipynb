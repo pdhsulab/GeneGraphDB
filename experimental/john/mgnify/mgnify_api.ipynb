{
 "cells": [
  {
   "cell_type": "code",
   "execution_count": null,
   "metadata": {
    "collapsed": false,
    "deletable": true,
    "editable": true,
    "heading_collapsed": false,
    "hidden": false
   },
   "outputs": [],
   "source": [
    "import importlib\n",
    "import itertools\n",
    "import urllib\n",
    "import json\n",
    "from IPython.display import display\n",
    "import requests\n",
    "import pandas as pd\n",
    "import os\n",
    "\n",
    "from utils import notebook_util\n",
    "from prot_db.prot_sources.mgnify import mgnify_api, scrape_mgnify\n",
    "\n",
    "notebook_util.disp_notebook_full_width()\n",
    "\n",
    "importlib.reload(mgnify_api)\n",
    "importlib.reload(scrape_mgnify)"
   ]
  },
  {
   "cell_type": "code",
   "execution_count": null,
   "metadata": {
    "collapsed": false,
    "deletable": true,
    "editable": true,
    "heading_collapsed": false,
    "hidden": false,
    "scrolled": false
   },
   "outputs": [],
   "source": [
    "with open('/GeneGraphDB/data/scraper_debug/analysis.json', 'r') as f:\n",
    "    analysis_json = json.load(f)\n",
    "    \n",
    "analysis_json\n",
    "\n",
    "download_link = analysis_json['relationships']['downloads']['links']['related']\n",
    "\n",
    "for download in mgnify_api.iterate_mgnify_url(download_link):\n",
    "    label = download[\"attributes\"][\"description\"][\"label\"]\n",
    "    link = download[\"links\"][\"self\"]\n",
    "    \n",
    "#     print(label)\n",
    "#     print(link)\n",
    "#     print(\"----\")\n",
    "\n",
    "    if label in scrape_mgnify.CDS_DOWNLOAD_DESCRIPTION_LABELS:\n",
    "        display(download)\n"
   ]
  },
  {
   "cell_type": "code",
   "execution_count": null,
   "metadata": {
    "collapsed": false,
    "deletable": true,
    "editable": true,
    "heading_collapsed": false,
    "hidden": false
   },
   "outputs": [],
   "source": [
    "os.path.basename(link)"
   ]
  },
  {
   "cell_type": "code",
   "execution_count": null,
   "metadata": {
    "collapsed": false,
    "deletable": true,
    "editable": true,
    "heading_collapsed": false,
    "hidden": false
   },
   "outputs": [],
   "source": [
    "analysis_json"
   ]
  },
  {
   "cell_type": "code",
   "execution_count": null,
   "metadata": {
    "collapsed": false,
    "deletable": true,
    "editable": true,
    "heading_collapsed": false,
    "hidden": false
   },
   "outputs": [],
   "source": [
    "df = pd.read_csv('/GeneGraphDB/data/scraper_debug/combined_annotations.gff', header=None, sep=\"\\t\", skiprows=1)\n",
    "df.columns = [\"seqid\", \"source\", \"other\", \"start\", \"end\", \"score\", \"strand\", \"phase\", \"attributes\"]\n",
    "df"
   ]
  },
  {
   "cell_type": "code",
   "execution_count": null,
   "metadata": {
    "collapsed": false,
    "deletable": true,
    "editable": true,
    "heading_collapsed": false,
    "hidden": false
   },
   "outputs": [],
   "source": [
    "def parse_attributes(attributes):\n",
    "    parsed = {}\n",
    "    for entry in attributes.split(\";\"):\n",
    "        key, value = entry.split(\"=\")\n",
    "        parsed[key] = value\n",
    "    return parsed\n",
    "\n",
    "parse_attributes(df.iloc[5][\"attributes\"])\n"
   ]
  },
  {
   "cell_type": "code",
   "execution_count": null,
   "metadata": {
    "collapsed": false,
    "deletable": true,
    "editable": true,
    "heading_collapsed": false,
    "hidden": false
   },
   "outputs": [],
   "source": [
    "filtered = df[df[\"seqid\"].str.startswith(\"ERZ1745275.25-NODE-25-length-45504-cov-18.102290\")]\n",
    "filtered = filtered[filtered[\"start\"] == 3416]\n",
    "filtered\n"
   ]
  },
  {
   "cell_type": "code",
   "execution_count": null,
   "metadata": {
    "collapsed": false,
    "deletable": true,
    "editable": true,
    "heading_collapsed": false,
    "hidden": false
   },
   "outputs": [],
   "source": [
    "(df[\"start\"] == 2).shape"
   ]
  },
  {
   "cell_type": "code",
   "execution_count": null,
   "metadata": {
    "collapsed": false,
    "deletable": true,
    "editable": true,
    "heading_collapsed": false,
    "hidden": false,
    "scrolled": true
   },
   "outputs": [],
   "source": [
    "# Iterate over all MGNIFY studies  (~3750 studies in April 2020)\n",
    "\n",
    "for study in mgnify_api.get_studies(start_page=148):\n",
    "    print(study['id'])\n",
    "\n",
    "study"
   ]
  },
  {
   "cell_type": "code",
   "execution_count": null,
   "metadata": {
    "collapsed": false,
    "deletable": true,
    "editable": true,
    "heading_collapsed": false,
    "hidden": false
   },
   "outputs": [],
   "source": [
    "pd.read_csv('/GeneGraphDB/data/scraper_debug/diamond_head.tsv', sep=\"\\t\")"
   ]
  },
  {
   "cell_type": "code",
   "execution_count": null,
   "metadata": {
    "collapsed": false,
    "deletable": true,
    "editable": true,
    "heading_collapsed": false,
    "hidden": false,
    "scrolled": true
   },
   "outputs": [],
   "source": [
    "for analysis in itertools.islice(mgnify_api.get_analyses('MGYS00002045'), 0, 51):\n",
    "    print(analysis['id'])\n",
    "\n",
    "analysis"
   ]
  },
  {
   "cell_type": "code",
   "execution_count": null,
   "metadata": {
    "collapsed": false,
    "deletable": true,
    "editable": true,
    "heading_collapsed": false,
    "hidden": false,
    "scrolled": false
   },
   "outputs": [],
   "source": [
    "# test single sample id works\n",
    "# sample_to_analysis = get_sample_to_analysis('MGYS00002045', \"SRS373050\")\n",
    "\n",
    "sample_to_analysis = scrape_mgnify.get_sample_to_analysis('MGYS00002263')"
   ]
  },
  {
   "cell_type": "code",
   "execution_count": null,
   "metadata": {
    "collapsed": false,
    "deletable": true,
    "editable": true,
    "heading_collapsed": false,
    "hidden": false
   },
   "outputs": [],
   "source": [
    "{k: v['id'] for k,v in sample_to_analysis.items()}"
   ]
  },
  {
   "cell_type": "code",
   "execution_count": null,
   "metadata": {
    "collapsed": false,
    "deletable": true,
    "editable": true,
    "heading_collapsed": false,
    "hidden": false,
    "scrolled": false
   },
   "outputs": [],
   "source": [
    "analysis = list(sample_to_analysis.values())[0]\n",
    "\n",
    "downloads_link = analysis['relationships']['downloads']['links']['related']\n",
    "print(downloads_link)\n",
    "\n",
    "# downloads_link = \"https://www.ebi.ac.uk/metagenomics/api/v1/analyses/MGYA00153401/downloads\"\n",
    "\n",
    "TGT_DOWNLOAD_DESCRIPTION_LABELS = [\n",
    "    'Predicted CDS with annotation',\n",
    "    'Predicted CDS without annotation'\n",
    "]\n",
    "\n",
    "for download in mgnify_api.iterate_mgnify_url(downloads_link):\n",
    "    idx = 0\n",
    "    if download['attributes']['description']['label'] in TGT_DOWNLOAD_DESCRIPTION_LABELS:\n",
    "        display(download)\n",
    "        \n",
    "        src_url = download['links']['self']\n",
    "        tgt_path = f\"/GeneGraphDB/data/{download['attributes']['alias']}\"\n",
    "        \n",
    "        urllib.request.urlretrieve(src_url, tgt_path)\n",
    "        print(\"*****************\")\n",
    "        \n",
    "    \n"
   ]
  },
  {
   "cell_type": "code",
   "execution_count": null,
   "metadata": {
    "collapsed": false,
    "deletable": true,
    "editable": true,
    "heading_collapsed": false,
    "hidden": false
   },
   "outputs": [],
   "source": [
    "sample_generator = mgnify_api.get_samples('MGYS00000596')\n",
    "for sample in itertools.islice(sample_generator, 0, 26):\n",
    "    print(sample['id'])\n",
    "\n",
    "sample"
   ]
  },
  {
   "cell_type": "code",
   "execution_count": null,
   "metadata": {
    "collapsed": false,
    "deletable": true,
    "editable": true,
    "heading_collapsed": false,
    "hidden": false,
    "scrolled": false
   },
   "outputs": [],
   "source": [
    "# run_generator = get_runs(runs_url = sample['relationships']['runs']['links']['related'])\n",
    "run_generator = mgnify_api.get_runs('SRS414107')\n",
    "for run in run_generator:\n",
    "    display(run)\n",
    "    print(\"***************\")"
   ]
  },
  {
   "cell_type": "code",
   "execution_count": null,
   "metadata": {
    "collapsed": false,
    "deletable": true,
    "editable": true,
    "heading_collapsed": false,
    "hidden": false
   },
   "outputs": [],
   "source": [
    "# scratchwork from Thomas\n",
    "\n",
    "def get_go_annotation(analysis, enarun):\n",
    "    url = \"https://www.ebi.ac.uk/metagenomics/api/v1/analyses/%s/file/%s_MERGED_FASTQ_GO_slim.csv\" %(analysis, enarun)  \n",
    "    s=requests.get(url).content\n",
    "    return pd.read_csv(io.StringIO(s.decode('utf-8')), header=None, names=[\"tag\", \"desc\", \"\", \"i\"])\n",
    "\n",
    "def download_orf(analysis, enarun, target_path):\n",
    "    # TODO extend for splitted files\n",
    "    url = \"https://www.ebi.ac.uk/metagenomics/api/v1/analyses/%s/file/%s_MERGED_FASTQ_ORF_unannotated.ffn.gz\" %(analysis, enarun)  \n",
    "    urllib.request.urlretrieve(url, target_path)\n",
    "    \n",
    "    \n",
    "ANALYSIS_ID = 'MGYA00153401'\n",
    "\n",
    "\n",
    "get_go_annotation()\n",
    "\n",
    "https://www.ebi.ac.uk/metagenomics/api/v1/studies/MGYS00002045/pipelines/4.1/file/ERP104209_GO-slim_abundances_v4.1.tsv"
   ]
  },
  {
   "cell_type": "code",
   "execution_count": null,
   "metadata": {
    "collapsed": false,
    "deletable": true,
    "editable": true,
    "heading_collapsed": false,
    "hidden": false
   },
   "outputs": [],
   "source": []
  }
 ],
 "metadata": {
  "kernelspec": {
   "display_name": "Python 3 (ipykernel)",
   "language": "python",
   "name": "python3"
  },
  "language_info": {
   "codemirror_mode": {
    "name": "ipython",
    "version": 3
   },
   "file_extension": ".py",
   "mimetype": "text/x-python",
   "name": "python",
   "nbconvert_exporter": "python",
   "pygments_lexer": "ipython3",
   "version": "3.9.10"
  }
 },
 "nbformat": 4,
 "nbformat_minor": 4
}
