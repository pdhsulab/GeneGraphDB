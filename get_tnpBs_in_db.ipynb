{
 "cells": [
  {
   "cell_type": "code",
   "execution_count": 1,
   "id": "2527516f-e410-463b-82e1-4d46b02ecdcb",
   "metadata": {},
   "outputs": [],
   "source": [
    "import os\n",
    "import pandas as pd\n",
    "import matplotlib.pyplot as plt\n",
    "from Bio import SeqIO\n",
    "import csv\n",
    "import sqlite3\n",
    "import time\n",
    "from multiprocessing import Pool, cpu_count\n",
    "import sys"
   ]
  },
  {
   "cell_type": "code",
   "execution_count": 2,
   "id": "7ca615a9-cb19-428c-bbc0-4bd0e3aea891",
   "metadata": {},
   "outputs": [],
   "source": [
    "def get_list_ids_fromcursor(fetchall):\n",
    "    return [fetchone[0] for fetchone in fetchall]"
   ]
  },
  {
   "cell_type": "code",
   "execution_count": 11,
   "id": "57e59835-3da0-4f1f-b898-077c4e94ab7a",
   "metadata": {},
   "outputs": [],
   "source": [
    "def get_all_proteins_set():\n",
    "    conn = sqlite3.connect('genegraph.db')\n",
    "    cursor = conn.cursor()\n",
    "    cmd_get_allprot = \"SELECT SUBSTRING(p100, 1, 18) FROM clusters\"\n",
    "    cursor.execute(cmd_get_allprot)\n",
    "    p100s_ls = get_list_ids_fromcursor(cursor.fetchall())\n",
    "    conn.close()\n",
    "    return(set(p100s_ls))"
   ]
  },
  {
   "cell_type": "code",
   "execution_count": 12,
   "id": "6db153f4-f405-4f76-96fb-7ca902109a0a",
   "metadata": {},
   "outputs": [
    {
     "name": "stdout",
     "output_type": "stream",
     "text": [
      "980.1932475566864\n"
     ]
    }
   ],
   "source": [
    "tic = time.time()\n",
    "all_prot_ids_18char = get_all_proteins_set()\n",
    "toc = time.time()\n",
    "print(toc-tic)"
   ]
  },
  {
   "cell_type": "code",
   "execution_count": 20,
   "id": "67aed3f3-4580-4f31-880f-76dfd597eae6",
   "metadata": {},
   "outputs": [
    {
     "data": {
      "text/plain": [
       "206565256"
      ]
     },
     "execution_count": 20,
     "metadata": {},
     "output_type": "execute_result"
    }
   ],
   "source": [
    "len(all_prot_ids_18char)"
   ]
  },
  {
   "cell_type": "code",
   "execution_count": 57,
   "id": "6796ce67-ee1e-4efb-92d4-ad0be655a7c3",
   "metadata": {},
   "outputs": [],
   "source": [
    "outfile_tnpBs = open(\"tnpBs_in_testdb.p100.txt\", \"w\")\n",
    "with open(\"tnpB_candidates.p100.txt\", \"r\") as infile:\n",
    "    lines = infile.readlines()\n",
    "    for line in lines:\n",
    "        p100=line.split(\"\\n\")[0]\n",
    "        if p100 in all_prot_ids_18char:\n",
    "            print(p100, file=outfile_tnpBs)"
   ]
  }
 ],
 "metadata": {
  "environment": {
   "kernel": "ggdb",
   "name": "common-cpu.m82",
   "type": "gcloud",
   "uri": "gcr.io/deeplearning-platform-release/base-cpu:m82"
  },
  "kernelspec": {
   "display_name": "ggdb",
   "language": "python",
   "name": "ggdb"
  },
  "language_info": {
   "codemirror_mode": {
    "name": "ipython",
    "version": 3
   },
   "file_extension": ".py",
   "mimetype": "text/x-python",
   "name": "python",
   "nbconvert_exporter": "python",
   "pygments_lexer": "ipython3",
   "version": "3.9.7"
  }
 },
 "nbformat": 4,
 "nbformat_minor": 5
}
