{
 "cells": [
  {
   "cell_type": "code",
   "execution_count": 1,
   "id": "2527516f-e410-463b-82e1-4d46b02ecdcb",
   "metadata": {},
   "outputs": [],
   "source": [
    "import os\n",
    "import pandas as pd\n",
    "import matplotlib.pyplot as plt\n",
    "from Bio import SeqIO\n",
    "import csv\n",
    "import sqlite3\n",
    "import time\n",
    "from multiprocessing import Pool, cpu_count\n",
    "import sys"
   ]
  },
  {
   "cell_type": "code",
   "execution_count": 2,
   "id": "7ca615a9-cb19-428c-bbc0-4bd0e3aea891",
   "metadata": {},
   "outputs": [],
   "source": [
    "def get_list_ids_fromcursor(fetchall):\n",
    "    return [fetchone[0] for fetchone in fetchall]"
   ]
  },
  {
   "cell_type": "code",
   "execution_count": 17,
   "id": "a2b4b449-6829-4d3d-9594-52989a5ff002",
   "metadata": {},
   "outputs": [],
   "source": [
    "conn = sqlite3.connect('genegraph.db')\n",
    "cursor = conn.cursor()\n",
    "def get_permissive_rep(bait_pid):\n",
    "    perm_rep = None\n",
    "    cmd_p = \"SELECT p30 FROM clusters WHERE p100 = '%s'\" % (bait_pid)\n",
    "    cursor.execute(cmd_p)\n",
    "    # try:\n",
    "    #     perm_rep = cursor.fetchone()[0]\n",
    "    # except:\n",
    "    #     pass\n",
    "    perm_rep = cursor.fetchone()[0]\n",
    "    return(perm_rep)"
   ]
  },
  {
   "cell_type": "code",
   "execution_count": 18,
   "id": "57e59835-3da0-4f1f-b898-077c4e94ab7a",
   "metadata": {},
   "outputs": [],
   "source": [
    "def get_all_proteins_set():\n",
    "    conn = sqlite3.connect('genegraph.db')\n",
    "    cursor = conn.cursor()\n",
    "    cmd_get_allprot = \"SELECT pid FROM stringent\"\n",
    "    cursor.execute(cmd_get_allprot)\n",
    "    p100s_ls = get_list_ids_fromcursor(cursor.fetchall())\n",
    "    conn.close()\n",
    "    return(set(p100s_ls))"
   ]
  },
  {
   "cell_type": "code",
   "execution_count": 19,
   "id": "6db153f4-f405-4f76-96fb-7ca902109a0a",
   "metadata": {},
   "outputs": [],
   "source": [
    "# tic = time.time()\n",
    "# all_prot_ids_18char = get_all_proteins_set()\n",
    "# toc = time.time()\n",
    "# print(toc-tic)"
   ]
  },
  {
   "cell_type": "code",
   "execution_count": 39,
   "id": "da585471-7c6e-4d4b-b9c3-ddce982dfe47",
   "metadata": {},
   "outputs": [
    {
     "name": "stdout",
     "output_type": "stream",
     "text": [
      "3f963fa41f34593e57\n"
     ]
    },
    {
     "ename": "NameError",
     "evalue": "name 'asdf' is not defined",
     "output_type": "error",
     "traceback": [
      "\u001b[0;31m---------------------------------------------------------------------------\u001b[0m",
      "\u001b[0;31mNameError\u001b[0m                                 Traceback (most recent call last)",
      "\u001b[0;32m/tmp/ipykernel_17491/1296130306.py\u001b[0m in \u001b[0;36m<module>\u001b[0;34m\u001b[0m\n\u001b[1;32m     10\u001b[0m         \u001b[0;32mif\u001b[0m \u001b[0mp100\u001b[0m \u001b[0;34m==\u001b[0m \u001b[0;34m'000101661bb5b93da7'\u001b[0m\u001b[0;34m:\u001b[0m\u001b[0;34m\u001b[0m\u001b[0;34m\u001b[0m\u001b[0m\n\u001b[1;32m     11\u001b[0m             \u001b[0mprint\u001b[0m\u001b[0;34m(\u001b[0m\u001b[0mp30\u001b[0m\u001b[0;34m)\u001b[0m\u001b[0;34m\u001b[0m\u001b[0;34m\u001b[0m\u001b[0m\n\u001b[0;32m---> 12\u001b[0;31m             \u001b[0masdf\u001b[0m\u001b[0;34m\u001b[0m\u001b[0;34m\u001b[0m\u001b[0m\n\u001b[0m\u001b[1;32m     13\u001b[0m         \u001b[0mtnpBs_list_p30\u001b[0m\u001b[0;34m.\u001b[0m\u001b[0mappend\u001b[0m\u001b[0;34m(\u001b[0m\u001b[0mp30\u001b[0m\u001b[0;34m)\u001b[0m\u001b[0;34m\u001b[0m\u001b[0;34m\u001b[0m\u001b[0m\n\u001b[1;32m     14\u001b[0m         \u001b[0mtnpBs_list_p100\u001b[0m\u001b[0;34m.\u001b[0m\u001b[0mappend\u001b[0m\u001b[0;34m(\u001b[0m\u001b[0mp100\u001b[0m\u001b[0;34m)\u001b[0m\u001b[0;34m\u001b[0m\u001b[0;34m\u001b[0m\u001b[0m\n",
      "\u001b[0;31mNameError\u001b[0m: name 'asdf' is not defined"
     ]
    }
   ],
   "source": [
    "tnpBs_list_p30 = []\n",
    "tnpBs_list_p100 = []\n",
    "infile_tnpBs = \"../tnpBs/INPUT/tnpB_candidates.p100.1e4.txt\"\n",
    "with open(infile_tnpBs, \"r\") as infile:\n",
    "    lines = infile.readlines()\n",
    "    for line in lines:\n",
    "        p30_100 = line.split('\\n')[0]\n",
    "        p30 = p30_100.split('_')[0]\n",
    "        p100 = p30_100.split('_')[1]\n",
    "        tnpBs_list_p30.append(p30)\n",
    "        tnpBs_list_p100.append(p100)\n",
    "tnpBs_set_p30 = set(tnpBs_list_p30)\n",
    "tnpBs_set_p100 = set(tnpBs_list_p100)"
   ]
  },
  {
   "cell_type": "code",
   "execution_count": 34,
   "id": "f2ee42c5-bd32-4750-b922-9b0c59cf6d01",
   "metadata": {},
   "outputs": [
    {
     "data": {
      "text/plain": [
       "(28520, 488927)"
      ]
     },
     "execution_count": 34,
     "metadata": {},
     "output_type": "execute_result"
    }
   ],
   "source": [
    "len(tnpBs_set_p30), len(tnpBs_set_p100)"
   ]
  },
  {
   "cell_type": "code",
   "execution_count": 38,
   "id": "c72b0f5e-ac0d-4008-b5d8-ea75cd4260ea",
   "metadata": {},
   "outputs": [
    {
     "name": "stdout",
     "output_type": "stream",
     "text": [
      "000101661bb5b93da7\n"
     ]
    },
    {
     "ename": "NameError",
     "evalue": "name 'asdf' is not defined",
     "output_type": "error",
     "traceback": [
      "\u001b[0;31m---------------------------------------------------------------------------\u001b[0m",
      "\u001b[0;31mNameError\u001b[0m                                 Traceback (most recent call last)",
      "\u001b[0;32m/tmp/ipykernel_17491/362088181.py\u001b[0m in \u001b[0;36m<module>\u001b[0;34m\u001b[0m\n\u001b[1;32m      8\u001b[0m         \u001b[0;32mif\u001b[0m \u001b[0;34m(\u001b[0m\u001b[0mp30\u001b[0m \u001b[0;32min\u001b[0m \u001b[0mtnpBs_set_p100\u001b[0m\u001b[0;34m)\u001b[0m \u001b[0;32mand\u001b[0m \u001b[0;34m(\u001b[0m\u001b[0mp30\u001b[0m \u001b[0;32mnot\u001b[0m \u001b[0;32min\u001b[0m \u001b[0mtnpBs_set_p30\u001b[0m\u001b[0;34m)\u001b[0m\u001b[0;34m:\u001b[0m\u001b[0;34m\u001b[0m\u001b[0;34m\u001b[0m\u001b[0m\n\u001b[1;32m      9\u001b[0m             \u001b[0mprint\u001b[0m\u001b[0;34m(\u001b[0m\u001b[0mp30\u001b[0m\u001b[0;34m)\u001b[0m\u001b[0;34m\u001b[0m\u001b[0;34m\u001b[0m\u001b[0m\n\u001b[0;32m---> 10\u001b[0;31m             \u001b[0masdf\u001b[0m\u001b[0;34m\u001b[0m\u001b[0;34m\u001b[0m\u001b[0m\n\u001b[0m\u001b[1;32m     11\u001b[0m             \u001b[0mcount\u001b[0m \u001b[0;34m+=\u001b[0m\u001b[0;36m1\u001b[0m\u001b[0;34m\u001b[0m\u001b[0;34m\u001b[0m\u001b[0m\n\u001b[1;32m     12\u001b[0m             \u001b[0;31m#print(p100, file=outfile_tnpBs)\u001b[0m\u001b[0;34m\u001b[0m\u001b[0;34m\u001b[0m\u001b[0m\n",
      "\u001b[0;31mNameError\u001b[0m: name 'asdf' is not defined"
     ]
    }
   ],
   "source": [
    "count = 1\n",
    "outfile_tnpBs = open(\"tnpBs_in_testdb.p100.1e4.txt\", \"w\")\n",
    "with open(\"tnpBs_in_testdb.p100.txt\", \"r\") as infile:\n",
    "    lines = infile.readlines()\n",
    "    for line in lines:\n",
    "        p100=line.split(\"\\n\")[0]\n",
    "        p30 = get_permissive_rep(p100)\n",
    "        if p30 in tnpBs_set_p100: # some p100s in this set are p30s in the POC database\n",
    "            print(p100, file=outfile_tnpBs)"
   ]
  },
  {
   "cell_type": "code",
   "execution_count": 36,
   "id": "23cdc5ad-6099-4d94-a6bf-fa8f2c064f48",
   "metadata": {},
   "outputs": [
    {
     "name": "stdout",
     "output_type": "stream",
     "text": [
      "34809\n"
     ]
    }
   ],
   "source": [
    "print(count)"
   ]
  },
  {
   "cell_type": "code",
   "execution_count": 6,
   "id": "6796ce67-ee1e-4efb-92d4-ad0be655a7c3",
   "metadata": {},
   "outputs": [],
   "source": [
    "# outfile_tnpBs = open(\"tnpBs_in_testdb.p100.txt\", \"w\")\n",
    "# with open(\"tnpB_candidates.p100.txt\", \"r\") as infile:\n",
    "#     lines = infile.readlines()\n",
    "#     for line in lines:\n",
    "#         p100=line.split(\"\\n\")[0]\n",
    "#         if p100 in all_prot_ids_18char:\n",
    "#             print(p100, file=outfile_tnpBs)"
   ]
  },
  {
   "cell_type": "code",
   "execution_count": null,
   "id": "84912fad-160c-4862-a9fb-473a31d3d758",
   "metadata": {},
   "outputs": [],
   "source": [
    "conn.close()"
   ]
  }
 ],
 "metadata": {
  "environment": {
   "kernel": "ggdb",
   "name": "common-cpu.m82",
   "type": "gcloud",
   "uri": "gcr.io/deeplearning-platform-release/base-cpu:m82"
  },
  "kernelspec": {
   "display_name": "ggdb",
   "language": "python",
   "name": "ggdb"
  },
  "language_info": {
   "codemirror_mode": {
    "name": "ipython",
    "version": 3
   },
   "file_extension": ".py",
   "mimetype": "text/x-python",
   "name": "python",
   "nbconvert_exporter": "python",
   "pygments_lexer": "ipython3",
   "version": "3.9.7"
  }
 },
 "nbformat": 4,
 "nbformat_minor": 5
}
