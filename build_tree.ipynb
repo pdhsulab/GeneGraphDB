{
 "cells": [
  {
   "cell_type": "code",
   "execution_count": 156,
   "id": "116000e9-8339-48cf-8123-03dee7afd2ce",
   "metadata": {},
   "outputs": [],
   "source": [
    "import os\n",
    "import pandas as pd\n",
    "import matplotlib.pyplot as plt\n",
    "from Bio import SeqIO\n",
    "from Bio import SearchIO\n",
    "from BCBio import GFF\n",
    "import csv\n",
    "import sqlite3\n",
    "import time\n",
    "from multiprocessing import Pool, cpu_count\n",
    "import sys\n",
    "from calc_icity_ import *\n",
    "import ast\n",
    "from collections import defaultdict\n",
    "import subprocess\n",
    "import numpy as np\n",
    "import sys"
   ]
  },
  {
   "cell_type": "markdown",
   "id": "ac314b6f-8584-4d61-8689-32e5331d66b9",
   "metadata": {},
   "source": [
    "### helper"
   ]
  },
  {
   "cell_type": "code",
   "execution_count": 140,
   "id": "838f6698-d979-4786-ad49-8fa2e9b14e41",
   "metadata": {
    "tags": []
   },
   "outputs": [],
   "source": [
    "# make multi.faa file with all dTnpB p90 clusters\n",
    "def get_prot_sequence(pid):\n",
    "    con = sqlite3.connect(\"80kprotein_stats.db\")\n",
    "    cur = con.cursor()\n",
    "    cmd = \"SELECT sequence FROM proteins WHERE pid = '%s'\" % pid \n",
    "    #print(cmd)\n",
    "    cur.execute(cmd)\n",
    "    return str(cur.fetchone()[0]).replace(\"*\", \"\")\n",
    "    con.close()\n",
    "def get_faas_protidlist(protidlist, outfile_path, minlen = 0):\n",
    "    with open(outfile_path, \"w\") as outfile:\n",
    "        for protid in protidlist:\n",
    "            protseq = get_prot_sequence(protid)\n",
    "            if len(protseq) > minlen:\n",
    "                print(\">\" + protid, file=outfile)\n",
    "                print(protseq, file=outfile)\n",
    "def get_p90(bait_pid):\n",
    "    conn = sqlite3.connect('genegraph.db')\n",
    "    cursor = conn.cursor()\n",
    "    perm_rep = None\n",
    "    cmd_p = \"SELECT p90 FROM clusters WHERE p100 = '%s'\" % (bait_pid)\n",
    "    cursor.execute(cmd_p)\n",
    "    perm_rep = cursor.fetchone()[0]\n",
    "    conn.close()\n",
    "    return(perm_rep)\n",
    "def get_p30(bait_pid):\n",
    "    conn = sqlite3.connect('genegraph.db')\n",
    "    cursor = conn.cursor()\n",
    "    perm_rep = None\n",
    "    cmd_p = \"SELECT p30 FROM clusters WHERE p100 = '%s'\" % (bait_pid)\n",
    "    cursor.execute(cmd_p)\n",
    "    perm_rep = cursor.fetchone()[0]\n",
    "    conn.close()\n",
    "    return(perm_rep)\n"
   ]
  },
  {
   "cell_type": "code",
   "execution_count": 137,
   "id": "52838027-8772-4050-bc5d-9966a37492b2",
   "metadata": {},
   "outputs": [],
   "source": [
    "# import multi fasta file\n",
    "inpath = sys.argv[1]\n",
    "outpath = sys.argv[2]\n",
    "\n",
    "input_name = inpath.split('/')[-1].replace(\".faa\", \"\")"
   ]
  },
  {
   "cell_type": "code",
   "execution_count": 152,
   "id": "c9df7a9b-878a-4f44-a17b-9f1e4fa9bf84",
   "metadata": {},
   "outputs": [
    {
     "name": "stdout",
     "output_type": "stream",
     "text": [
      "../tree/sigma70/dTnpB_p30s.faa\n",
      "../tree/sigma70\n"
     ]
    }
   ],
   "source": [
    "print(inpath)\n",
    "print(outpath)"
   ]
  },
  {
   "cell_type": "markdown",
   "id": "fb963b1b-7729-424d-bc7b-b241e12f6daf",
   "metadata": {},
   "source": [
    "### kalign"
   ]
  },
  {
   "cell_type": "code",
   "execution_count": 138,
   "id": "4c93d91f-00b9-43eb-b686-0696ac5c0a31",
   "metadata": {},
   "outputs": [],
   "source": [
    "infile_k = inpath\n",
    "outfile_k = \"{}/{}_kalign.out.faa\".format(outpath, input_name)\n",
    "\n",
    "def kalign(infile, outfile):\n",
    "    cmd = \"kalign -i {} -o {}\".format(infile, outfile)\n",
    "    print(cmd)\n",
    "    process = subprocess.Popen(cmd.split(' '))\n",
    "    process.wait()\n",
    "    "
   ]
  },
  {
   "cell_type": "code",
   "execution_count": null,
   "id": "70222d8f-6a37-49cc-9b9d-aa6f263acbd4",
   "metadata": {},
   "outputs": [],
   "source": [
    "kalign(infile_k, outfile_k)\n"
   ]
  },
  {
   "cell_type": "markdown",
   "id": "c6555375-278f-4152-b46d-19208a86baf1",
   "metadata": {},
   "source": [
    "## Build tree"
   ]
  },
  {
   "cell_type": "code",
   "execution_count": null,
   "id": "6127f029-976d-41aa-a949-28fd3f828a54",
   "metadata": {},
   "outputs": [],
   "source": [
    "infile_tree = outfile_k\n",
    "outfile_tree = outfile_k.replace(\"faa\", \"tree\")\n",
    "def fasttree(infile, outfile):\n",
    "    cmd = \"FastTree {} > {}\".format(infile, outfile)\n",
    "    print(cmd)\n",
    "    time.sleep(2)\n",
    "    os.system(cmd)\n",
    "    #process = subprocess.Popen(cmd.split(' '))\n",
    "fasttree(infile_tree, outfile_tree)\n",
    "\n"
   ]
  },
  {
   "cell_type": "markdown",
   "id": "a8044cb2-6db8-494b-b265-a00965fcba3d",
   "metadata": {},
   "source": [
    "### scratch work - comment out later\n"
   ]
  },
  {
   "cell_type": "markdown",
   "id": "5b75ae4c-0024-4a00-ad61-c21c380f6304",
   "metadata": {},
   "source": [
    "#### make multi.faa file with all dTnpB p90 clusters"
   ]
  },
  {
   "cell_type": "code",
   "execution_count": 109,
   "id": "61253676-77a4-48cb-89b8-356595fd69d0",
   "metadata": {},
   "outputs": [],
   "source": [
    "with open(\"../ggdb_dfs/dTnpB_anymut_target_analysis.filtered.tsv\", \"r\") as infile:\n",
    "    df_ids = pd.read_csv(infile, sep = '\\t').iloc[[0,1,2,14],:2]\n",
    "df_ids[\"baitp90s\"] = df_ids[\"baitp100s\"].apply(lambda x: str([get_p90(pid) for pid in ast.literal_eval(x)]))\n",
    "df_ids[\"baitp30s\"] = df_ids[\"baitp100s\"].apply(lambda x: str([get_p30(pid) for pid in ast.literal_eval(x)]))"
   ]
  },
  {
   "cell_type": "code",
   "execution_count": 126,
   "id": "48b67893-0867-4c5a-ba3f-719d9cd301fb",
   "metadata": {},
   "outputs": [],
   "source": [
    "d_90, d_30 = defaultdict(set), defaultdict(set)"
   ]
  },
  {
   "cell_type": "code",
   "execution_count": 141,
   "id": "ecf824ee-6fc1-4108-add0-19ce5346ef03",
   "metadata": {},
   "outputs": [],
   "source": [
    "for i in range(df_ids.shape[0]):\n",
    "    target_id = df_ids.iloc[i,0]\n",
    "    bait_p90ids = ast.literal_eval(df_ids.iloc[i,2])\n",
    "    for pid in bait_p90ids:\n",
    "        d_90[pid].update([target_id])\n",
    "    bait_p30ids = ast.literal_eval(df_ids.iloc[i,3])\n",
    "    for pid in bait_p30ids:\n",
    "        d_30[pid].update([target_id])"
   ]
  },
  {
   "cell_type": "code",
   "execution_count": 142,
   "id": "4aa74edb-de35-45db-a831-294d7337da05",
   "metadata": {},
   "outputs": [],
   "source": [
    "dTnpB_p90s = list(d_90.keys())\n",
    "get_faas_protidlist(dTnpB_p90s, \"../tree/sigma70/dTnpB_p90s.faa\")"
   ]
  },
  {
   "cell_type": "code",
   "execution_count": 143,
   "id": "eb040573-3726-4e50-bd23-e322d8d769ae",
   "metadata": {},
   "outputs": [],
   "source": [
    "dTnpB_p30s = list(d_30.keys())\n",
    "get_faas_protidlist(dTnpB_p30s, \"../tree/sigma70/dTnpB_p30s.faa\")"
   ]
  },
  {
   "cell_type": "markdown",
   "id": "bbde9944-e1dc-462a-9ced-bf3bbbe8fb6e",
   "metadata": {},
   "source": [
    "#### make multi.fna file with dTnpB locus\n"
   ]
  },
  {
   "cell_type": "code",
   "execution_count": 205,
   "id": "1587e5d9-d3e8-4e3b-a8f3-faab7dd0a625",
   "metadata": {},
   "outputs": [],
   "source": [
    "def get_dtnpb_fna(target_ids, outpath):\n",
    "    with open(outpath, \"w\") as outfile:\n",
    "        for target_id in target_ids:\n",
    "            gff_path = \"../annotate/annotategff/OUTPUT/{}.sorted.gff\".format(target_id)\n",
    "            fna_path = \"../annotate/annotategff/INPUT/fna/{}.examples.fna\".format(target_id)\n",
    "            with open(fna_path) as seq_handle:\n",
    "                seq_dict = SeqIO.to_dict(SeqIO.parse(seq_handle, \"fasta\"))\n",
    "            with open(gff_path) as in_handle:\n",
    "                for rec in GFF.parse(in_handle):\n",
    "                    for i in range(len(rec.features)):\n",
    "                        if rec.features[i].type == \"CDS_bait\":\n",
    "                            bait_loc = rec.features[i].location\n",
    "                            bait_id = rec.features[i].id\n",
    "                            rec_id = rec.id\n",
    "                            dTnpB_loci_seq = seq_dict[rec_id].seq[bait_loc.start + 0:bait_loc.end + 250]\n",
    "                            rec_bait_id = \"{}|{}\".format(rec_id.split('|')[0], bait_id)\n",
    "                            print(\">\" + rec_bait_id, file=outfile)\n",
    "                            print(dTnpB_loci_seq, file=outfile)"
   ]
  },
  {
   "cell_type": "code",
   "execution_count": 212,
   "id": "0a56e489-4ea5-497a-a167-f008f1f3f72b",
   "metadata": {},
   "outputs": [],
   "source": [
    "target_ids = [\"aa6af7e9289c3558d3\", \"23422406293d40c201\", \"c1050b21cc75640d51\", \"6bf6c4c7da68779d7a\"]\n",
    "outfile_dTnpB_fna = \"{}/dTnpB_all_loci.fna\".format(outpath)\n",
    "get_dtnpb_fna(target_ids, outfile_dTnpB_fna)"
   ]
  },
  {
   "cell_type": "code",
   "execution_count": 217,
   "id": "1ef16040-9654-484d-b7dc-ddae27abef59",
   "metadata": {},
   "outputs": [],
   "source": [
    "# summary csv\n",
    "with open(outfile_dTnpB_fna) as seq_handle, open(\"../tree/sigma70/annot_loci.csv\", \"w\") as outfile:\n",
    "    records = SeqIO.parse(seq_handle, \"fasta\")\n",
    "    for record in records:\n",
    "        header = record.id\n",
    "        t30, b100 = header.split('|')\n",
    "        tree_header = \"{}|{}\".format(t30, b100)\n",
    "        b90, b30 = get_p90(b100), get_p30(b100)\n",
    "        out = [tree_header, t30, b30, b90, b100]\n",
    "        print(*out, sep = \",\", file = outfile)"
   ]
  },
  {
   "cell_type": "code",
   "execution_count": 281,
   "id": "8765aa91-9358-487a-9a67-90e8ce440ff6",
   "metadata": {},
   "outputs": [
    {
     "data": {
      "text/plain": [
       "((106, 6), (87, 4), (87, 9))"
      ]
     },
     "execution_count": 281,
     "metadata": {},
     "output_type": "execute_result"
    }
   ],
   "source": [
    "annot_loci_old.shape, annot_loci_metadata.shape, annot_loci_new.shape"
   ]
  },
  {
   "cell_type": "code",
   "execution_count": 283,
   "id": "9343d57b-9239-4e8f-91d3-bd1b541bcadc",
   "metadata": {},
   "outputs": [
    {
     "data": {
      "text/html": [
       "<div>\n",
       "<style scoped>\n",
       "    .dataframe tbody tr th:only-of-type {\n",
       "        vertical-align: middle;\n",
       "    }\n",
       "\n",
       "    .dataframe tbody tr th {\n",
       "        vertical-align: top;\n",
       "    }\n",
       "\n",
       "    .dataframe thead th {\n",
       "        text-align: right;\n",
       "    }\n",
       "</style>\n",
       "<table border=\"1\" class=\"dataframe\">\n",
       "  <thead>\n",
       "    <tr style=\"text-align: right;\">\n",
       "      <th></th>\n",
       "      <th>header</th>\n",
       "      <th>sigma70_p30id</th>\n",
       "      <th>b30</th>\n",
       "      <th>b90</th>\n",
       "      <th>bait_p100id</th>\n",
       "      <th>sigma70_p100id</th>\n",
       "      <th>assembly_id</th>\n",
       "      <th>IS91_copynumb</th>\n",
       "      <th>loci_per_genome</th>\n",
       "    </tr>\n",
       "  </thead>\n",
       "  <tbody>\n",
       "    <tr>\n",
       "      <th>0</th>\n",
       "      <td>aa6af7e9289c3558d3|15ce911abbf167916e</td>\n",
       "      <td>aa6af7e9289c3558d3</td>\n",
       "      <td>15ce911abbf167916e</td>\n",
       "      <td>15ce911abbf167916e</td>\n",
       "      <td>15ce911abbf167916e</td>\n",
       "      <td>00e9f918a990abd36d</td>\n",
       "      <td>GCF_900115145</td>\n",
       "      <td>2</td>\n",
       "      <td>4</td>\n",
       "    </tr>\n",
       "    <tr>\n",
       "      <th>1</th>\n",
       "      <td>aa6af7e9289c3558d3|0344dc509e9dbaf433</td>\n",
       "      <td>aa6af7e9289c3558d3</td>\n",
       "      <td>0344dc509e9dbaf433</td>\n",
       "      <td>0344dc509e9dbaf433</td>\n",
       "      <td>0344dc509e9dbaf433</td>\n",
       "      <td>053e55efbf254f1c04</td>\n",
       "      <td>GCF_001951155</td>\n",
       "      <td>0</td>\n",
       "      <td>1</td>\n",
       "    </tr>\n",
       "    <tr>\n",
       "      <th>2</th>\n",
       "      <td>aa6af7e9289c3558d3|580b003666b8b31f03</td>\n",
       "      <td>aa6af7e9289c3558d3</td>\n",
       "      <td>544d19bbbb28945456</td>\n",
       "      <td>580b003666b8b31f03</td>\n",
       "      <td>580b003666b8b31f03</td>\n",
       "      <td>088272ff80d0904531</td>\n",
       "      <td>GCF_900102055</td>\n",
       "      <td>0</td>\n",
       "      <td>1</td>\n",
       "    </tr>\n",
       "    <tr>\n",
       "      <th>3</th>\n",
       "      <td>aa6af7e9289c3558d3|a994d0b22469f6e7c8</td>\n",
       "      <td>aa6af7e9289c3558d3</td>\n",
       "      <td>544d19bbbb28945456</td>\n",
       "      <td>a994d0b22469f6e7c8</td>\n",
       "      <td>a994d0b22469f6e7c8</td>\n",
       "      <td>10545f9f1029a3a265</td>\n",
       "      <td>GCF_900106795</td>\n",
       "      <td>2</td>\n",
       "      <td>1</td>\n",
       "    </tr>\n",
       "    <tr>\n",
       "      <th>4</th>\n",
       "      <td>aa6af7e9289c3558d3|93699abf295bb251ef</td>\n",
       "      <td>aa6af7e9289c3558d3</td>\n",
       "      <td>14bc66ab7912db1e07</td>\n",
       "      <td>93699abf295bb251ef</td>\n",
       "      <td>93699abf295bb251ef</td>\n",
       "      <td>165a9103de9a151c12</td>\n",
       "      <td>GCF_012910715</td>\n",
       "      <td>0</td>\n",
       "      <td>1</td>\n",
       "    </tr>\n",
       "  </tbody>\n",
       "</table>\n",
       "</div>"
      ],
      "text/plain": [
       "                                  header       sigma70_p30id  \\\n",
       "0  aa6af7e9289c3558d3|15ce911abbf167916e  aa6af7e9289c3558d3   \n",
       "1  aa6af7e9289c3558d3|0344dc509e9dbaf433  aa6af7e9289c3558d3   \n",
       "2  aa6af7e9289c3558d3|580b003666b8b31f03  aa6af7e9289c3558d3   \n",
       "3  aa6af7e9289c3558d3|a994d0b22469f6e7c8  aa6af7e9289c3558d3   \n",
       "4  aa6af7e9289c3558d3|93699abf295bb251ef  aa6af7e9289c3558d3   \n",
       "\n",
       "                  b30                 b90         bait_p100id  \\\n",
       "0  15ce911abbf167916e  15ce911abbf167916e  15ce911abbf167916e   \n",
       "1  0344dc509e9dbaf433  0344dc509e9dbaf433  0344dc509e9dbaf433   \n",
       "2  544d19bbbb28945456  580b003666b8b31f03  580b003666b8b31f03   \n",
       "3  544d19bbbb28945456  a994d0b22469f6e7c8  a994d0b22469f6e7c8   \n",
       "4  14bc66ab7912db1e07  93699abf295bb251ef  93699abf295bb251ef   \n",
       "\n",
       "       sigma70_p100id    assembly_id  IS91_copynumb  loci_per_genome  \n",
       "0  00e9f918a990abd36d  GCF_900115145              2                4  \n",
       "1  053e55efbf254f1c04  GCF_001951155              0                1  \n",
       "2  088272ff80d0904531  GCF_900102055              0                1  \n",
       "3  10545f9f1029a3a265  GCF_900106795              2                1  \n",
       "4  165a9103de9a151c12  GCF_012910715              0                1  "
      ]
     },
     "execution_count": 283,
     "metadata": {},
     "output_type": "execute_result"
    }
   ],
   "source": [
    "# make more advanced summary csv \n",
    "annot_loci_old = pd.read_csv(\"../tree/sigma70/annot_loci.csv\", header = None)\n",
    "annot_loci_metadata = pd.read_csv(\"../tree/sigma70/sigma70_hit_metadata.csv\")\n",
    "b100_t100_df = pd.read_csv(\"../ggdb_dfs/sig70_b100_t100.csv\").loc[:, [\"target_p100id\", \"bait_p100id\"]]\n",
    "annot_loci_old = annot_loci_old.rename({0: \"header\", 1:\"sigma70_p30id\", 2: \"b30\", 3: \"b90\", 4: \"bait_p100id\"}, axis = 1)\n",
    "annot_loci_old = annot_loci_old.merge(b100_t100_df, on = \"bait_p100id\").rename({\"target_p100id\": \"sigma70_p100id\"}, axis = 1)\n",
    "annot_loci_new = annot_loci_old.merge(annot_loci_metadata, on = \"sigma70_p100id\")\n",
    "annot_loci_new.to_csv(\"../tree/sigma70/annot_loci_new.csv\", index = None, header = None)\n",
    "annot_loci_new.head()"
   ]
  },
  {
   "cell_type": "code",
   "execution_count": 284,
   "id": "ff5a4cca-bfd1-4aee-b324-9ad887c116c6",
   "metadata": {},
   "outputs": [
    {
     "data": {
      "text/html": [
       "<div>\n",
       "<style scoped>\n",
       "    .dataframe tbody tr th:only-of-type {\n",
       "        vertical-align: middle;\n",
       "    }\n",
       "\n",
       "    .dataframe tbody tr th {\n",
       "        vertical-align: top;\n",
       "    }\n",
       "\n",
       "    .dataframe thead th {\n",
       "        text-align: right;\n",
       "    }\n",
       "</style>\n",
       "<table border=\"1\" class=\"dataframe\">\n",
       "  <thead>\n",
       "    <tr style=\"text-align: right;\">\n",
       "      <th></th>\n",
       "      <th>header</th>\n",
       "      <th>sigma70_p30id</th>\n",
       "      <th>b30</th>\n",
       "      <th>b90</th>\n",
       "      <th>bait_p100id</th>\n",
       "      <th>sigma70_p100id</th>\n",
       "      <th>assembly_id</th>\n",
       "      <th>IS91_copynumb</th>\n",
       "      <th>loci_per_genome</th>\n",
       "    </tr>\n",
       "  </thead>\n",
       "  <tbody>\n",
       "    <tr>\n",
       "      <th>0</th>\n",
       "      <td>aa6af7e9289c3558d3|15ce911abbf167916e</td>\n",
       "      <td>aa6af7e9289c3558d3</td>\n",
       "      <td>15ce911abbf167916e</td>\n",
       "      <td>15ce911abbf167916e</td>\n",
       "      <td>15ce911abbf167916e</td>\n",
       "      <td>00e9f918a990abd36d</td>\n",
       "      <td>GCF_900115145</td>\n",
       "      <td>2</td>\n",
       "      <td>4</td>\n",
       "    </tr>\n",
       "    <tr>\n",
       "      <th>1</th>\n",
       "      <td>aa6af7e9289c3558d3|0344dc509e9dbaf433</td>\n",
       "      <td>aa6af7e9289c3558d3</td>\n",
       "      <td>0344dc509e9dbaf433</td>\n",
       "      <td>0344dc509e9dbaf433</td>\n",
       "      <td>0344dc509e9dbaf433</td>\n",
       "      <td>053e55efbf254f1c04</td>\n",
       "      <td>GCF_001951155</td>\n",
       "      <td>0</td>\n",
       "      <td>1</td>\n",
       "    </tr>\n",
       "    <tr>\n",
       "      <th>2</th>\n",
       "      <td>aa6af7e9289c3558d3|580b003666b8b31f03</td>\n",
       "      <td>aa6af7e9289c3558d3</td>\n",
       "      <td>544d19bbbb28945456</td>\n",
       "      <td>580b003666b8b31f03</td>\n",
       "      <td>580b003666b8b31f03</td>\n",
       "      <td>088272ff80d0904531</td>\n",
       "      <td>GCF_900102055</td>\n",
       "      <td>0</td>\n",
       "      <td>1</td>\n",
       "    </tr>\n",
       "    <tr>\n",
       "      <th>3</th>\n",
       "      <td>aa6af7e9289c3558d3|a994d0b22469f6e7c8</td>\n",
       "      <td>aa6af7e9289c3558d3</td>\n",
       "      <td>544d19bbbb28945456</td>\n",
       "      <td>a994d0b22469f6e7c8</td>\n",
       "      <td>a994d0b22469f6e7c8</td>\n",
       "      <td>10545f9f1029a3a265</td>\n",
       "      <td>GCF_900106795</td>\n",
       "      <td>2</td>\n",
       "      <td>1</td>\n",
       "    </tr>\n",
       "    <tr>\n",
       "      <th>4</th>\n",
       "      <td>aa6af7e9289c3558d3|93699abf295bb251ef</td>\n",
       "      <td>aa6af7e9289c3558d3</td>\n",
       "      <td>14bc66ab7912db1e07</td>\n",
       "      <td>93699abf295bb251ef</td>\n",
       "      <td>93699abf295bb251ef</td>\n",
       "      <td>165a9103de9a151c12</td>\n",
       "      <td>GCF_012910715</td>\n",
       "      <td>0</td>\n",
       "      <td>1</td>\n",
       "    </tr>\n",
       "    <tr>\n",
       "      <th>...</th>\n",
       "      <td>...</td>\n",
       "      <td>...</td>\n",
       "      <td>...</td>\n",
       "      <td>...</td>\n",
       "      <td>...</td>\n",
       "      <td>...</td>\n",
       "      <td>...</td>\n",
       "      <td>...</td>\n",
       "      <td>...</td>\n",
       "    </tr>\n",
       "    <tr>\n",
       "      <th>82</th>\n",
       "      <td>6bf6c4c7da68779d7a|12a498aea19ce6ec45</td>\n",
       "      <td>6bf6c4c7da68779d7a</td>\n",
       "      <td>6e87489ba377373838</td>\n",
       "      <td>51f58a1d54bd53ec9d</td>\n",
       "      <td>12a498aea19ce6ec45</td>\n",
       "      <td>c18a3f3190b6fda7d3</td>\n",
       "      <td>GCF_014692525</td>\n",
       "      <td>0</td>\n",
       "      <td>1</td>\n",
       "    </tr>\n",
       "    <tr>\n",
       "      <th>83</th>\n",
       "      <td>6bf6c4c7da68779d7a|994f61b1870f322add</td>\n",
       "      <td>6bf6c4c7da68779d7a</td>\n",
       "      <td>55da22e58a862b21b0</td>\n",
       "      <td>be5a84c48d88fedfd8</td>\n",
       "      <td>994f61b1870f322add</td>\n",
       "      <td>4532b45c4e7edc67c0</td>\n",
       "      <td>GCF_900116225</td>\n",
       "      <td>1</td>\n",
       "      <td>1</td>\n",
       "    </tr>\n",
       "    <tr>\n",
       "      <th>84</th>\n",
       "      <td>6bf6c4c7da68779d7a|4fc224ec001602f033</td>\n",
       "      <td>6bf6c4c7da68779d7a</td>\n",
       "      <td>55da22e58a862b21b0</td>\n",
       "      <td>be5a84c48d88fedfd8</td>\n",
       "      <td>4fc224ec001602f033</td>\n",
       "      <td>cf1183adcd3348274f</td>\n",
       "      <td>GCF_011030405</td>\n",
       "      <td>1</td>\n",
       "      <td>2</td>\n",
       "    </tr>\n",
       "    <tr>\n",
       "      <th>85</th>\n",
       "      <td>6bf6c4c7da68779d7a|49ef6279f6c4803c04</td>\n",
       "      <td>6bf6c4c7da68779d7a</td>\n",
       "      <td>6e87489ba377373838</td>\n",
       "      <td>75cb24fd8f1b45b311</td>\n",
       "      <td>49ef6279f6c4803c04</td>\n",
       "      <td>dd5b5c6ad215be5e9d</td>\n",
       "      <td>GCF_011007365</td>\n",
       "      <td>0</td>\n",
       "      <td>1</td>\n",
       "    </tr>\n",
       "    <tr>\n",
       "      <th>86</th>\n",
       "      <td>6bf6c4c7da68779d7a|0648051c710ffc3f99</td>\n",
       "      <td>6bf6c4c7da68779d7a</td>\n",
       "      <td>6e87489ba377373838</td>\n",
       "      <td>75cb24fd8f1b45b311</td>\n",
       "      <td>0648051c710ffc3f99</td>\n",
       "      <td>f15c40f6b73827cf46</td>\n",
       "      <td>GCF_900168125</td>\n",
       "      <td>0</td>\n",
       "      <td>1</td>\n",
       "    </tr>\n",
       "  </tbody>\n",
       "</table>\n",
       "<p>87 rows × 9 columns</p>\n",
       "</div>"
      ],
      "text/plain": [
       "                                   header       sigma70_p30id  \\\n",
       "0   aa6af7e9289c3558d3|15ce911abbf167916e  aa6af7e9289c3558d3   \n",
       "1   aa6af7e9289c3558d3|0344dc509e9dbaf433  aa6af7e9289c3558d3   \n",
       "2   aa6af7e9289c3558d3|580b003666b8b31f03  aa6af7e9289c3558d3   \n",
       "3   aa6af7e9289c3558d3|a994d0b22469f6e7c8  aa6af7e9289c3558d3   \n",
       "4   aa6af7e9289c3558d3|93699abf295bb251ef  aa6af7e9289c3558d3   \n",
       "..                                    ...                 ...   \n",
       "82  6bf6c4c7da68779d7a|12a498aea19ce6ec45  6bf6c4c7da68779d7a   \n",
       "83  6bf6c4c7da68779d7a|994f61b1870f322add  6bf6c4c7da68779d7a   \n",
       "84  6bf6c4c7da68779d7a|4fc224ec001602f033  6bf6c4c7da68779d7a   \n",
       "85  6bf6c4c7da68779d7a|49ef6279f6c4803c04  6bf6c4c7da68779d7a   \n",
       "86  6bf6c4c7da68779d7a|0648051c710ffc3f99  6bf6c4c7da68779d7a   \n",
       "\n",
       "                   b30                 b90         bait_p100id  \\\n",
       "0   15ce911abbf167916e  15ce911abbf167916e  15ce911abbf167916e   \n",
       "1   0344dc509e9dbaf433  0344dc509e9dbaf433  0344dc509e9dbaf433   \n",
       "2   544d19bbbb28945456  580b003666b8b31f03  580b003666b8b31f03   \n",
       "3   544d19bbbb28945456  a994d0b22469f6e7c8  a994d0b22469f6e7c8   \n",
       "4   14bc66ab7912db1e07  93699abf295bb251ef  93699abf295bb251ef   \n",
       "..                 ...                 ...                 ...   \n",
       "82  6e87489ba377373838  51f58a1d54bd53ec9d  12a498aea19ce6ec45   \n",
       "83  55da22e58a862b21b0  be5a84c48d88fedfd8  994f61b1870f322add   \n",
       "84  55da22e58a862b21b0  be5a84c48d88fedfd8  4fc224ec001602f033   \n",
       "85  6e87489ba377373838  75cb24fd8f1b45b311  49ef6279f6c4803c04   \n",
       "86  6e87489ba377373838  75cb24fd8f1b45b311  0648051c710ffc3f99   \n",
       "\n",
       "        sigma70_p100id    assembly_id  IS91_copynumb  loci_per_genome  \n",
       "0   00e9f918a990abd36d  GCF_900115145              2                4  \n",
       "1   053e55efbf254f1c04  GCF_001951155              0                1  \n",
       "2   088272ff80d0904531  GCF_900102055              0                1  \n",
       "3   10545f9f1029a3a265  GCF_900106795              2                1  \n",
       "4   165a9103de9a151c12  GCF_012910715              0                1  \n",
       "..                 ...            ...            ...              ...  \n",
       "82  c18a3f3190b6fda7d3  GCF_014692525              0                1  \n",
       "83  4532b45c4e7edc67c0  GCF_900116225              1                1  \n",
       "84  cf1183adcd3348274f  GCF_011030405              1                2  \n",
       "85  dd5b5c6ad215be5e9d  GCF_011007365              0                1  \n",
       "86  f15c40f6b73827cf46  GCF_900168125              0                1  \n",
       "\n",
       "[87 rows x 9 columns]"
      ]
     },
     "execution_count": 284,
     "metadata": {},
     "output_type": "execute_result"
    }
   ],
   "source": [
    "annot_loci_new"
   ]
  },
  {
   "cell_type": "markdown",
   "id": "4df01c31-1bcb-48c5-8874-3280e2a43239",
   "metadata": {},
   "source": [
    "#### make multi.fna file with wRNAs"
   ]
  },
  {
   "cell_type": "code",
   "execution_count": 219,
   "id": "cf5c2975-b2ec-4b92-a1e1-a3e1410aa85a",
   "metadata": {},
   "outputs": [],
   "source": [
    "def get_wrna_fna(target_ids, outpath, num_bases_tnpb_orf):\n",
    "    with open(outpath, \"w\") as outfile:\n",
    "        for target_id in target_ids:\n",
    "            gff_path = \"../annotate/annotategff/OUTPUT/{}.sorted.gff\".format(target_id)\n",
    "            fna_path = \"../annotate/annotategff/INPUT/fna/{}.examples.fna\".format(target_id)\n",
    "            with open(fna_path) as seq_handle:\n",
    "                seq_dict = SeqIO.to_dict(SeqIO.parse(seq_handle, \"fasta\"))\n",
    "            with open(gff_path) as in_handle:\n",
    "                for rec in GFF.parse(in_handle):\n",
    "                    for i in range(len(rec.features)):\n",
    "                        if rec.features[i].type == \"CDS_bait\":\n",
    "                            bait_loc = rec.features[i].location\n",
    "                            bait_id = rec.features[i].id\n",
    "                            rec_id = rec.id\n",
    "                            dTnpB_loci_seq = seq_dict[rec_id].seq[bait_loc.end - num_bases_tnpb_orf:bait_loc.end + 250]\n",
    "                            rec_bait_id = \"{}|{}\".format(rec_id.split('|')[0], bait_id)\n",
    "                            print(\">\" + rec_bait_id, file=outfile)\n",
    "                            print(dTnpB_loci_seq, file=outfile)"
   ]
  },
  {
   "cell_type": "code",
   "execution_count": 220,
   "id": "a7d2dfd6-b3a8-4ef6-a420-0c0d57d8597d",
   "metadata": {},
   "outputs": [],
   "source": [
    "outfile_wrna_fna_200 = \"{}/wrna_all_loci.200.fna\".format(outpath)\n",
    "get_wrna_fna(target_ids, outfile_wrna_fna_200, 200)"
   ]
  },
  {
   "cell_type": "code",
   "execution_count": 222,
   "id": "1a264adb-37f6-4ef5-9781-df52a92fe427",
   "metadata": {},
   "outputs": [],
   "source": [
    "outfile_wrna_fna_150 = \"{}/wrna_all_loci.150.fna\".format(outpath)\n",
    "get_wrna_fna(target_ids, outfile_wrna_fna_150, 150)"
   ]
  },
  {
   "cell_type": "code",
   "execution_count": 221,
   "id": "bf05f126-2bff-4082-8f10-baf88b23afe5",
   "metadata": {},
   "outputs": [],
   "source": [
    "outfile_wrna_fna_100 = \"{}/wrna_all_loci.100.fna\".format(outpath)\n",
    "get_wrna_fna(target_ids, outfile_wrna_fna_100, 100)"
   ]
  },
  {
   "cell_type": "code",
   "execution_count": 223,
   "id": "627f6612-1d24-4925-9db3-00255aa97427",
   "metadata": {},
   "outputs": [],
   "source": [
    "outfile_wrna_fna_0 = \"{}/wrna_all_loci.0.fna\".format(outpath)\n",
    "get_wrna_fna(target_ids, outfile_wrna_fna_0, 0)"
   ]
  },
  {
   "cell_type": "code",
   "execution_count": null,
   "id": "5a845689-a19a-4db7-a57e-849b0bc57d94",
   "metadata": {},
   "outputs": [],
   "source": []
  }
 ],
 "metadata": {
  "environment": {
   "kernel": "ggdb",
   "name": "common-cpu.m82",
   "type": "gcloud",
   "uri": "gcr.io/deeplearning-platform-release/base-cpu:m82"
  },
  "kernelspec": {
   "display_name": "ggdb",
   "language": "python",
   "name": "ggdb"
  },
  "language_info": {
   "codemirror_mode": {
    "name": "ipython",
    "version": 3
   },
   "file_extension": ".py",
   "mimetype": "text/x-python",
   "name": "python",
   "nbconvert_exporter": "python",
   "pygments_lexer": "ipython3",
   "version": "3.9.7"
  }
 },
 "nbformat": 4,
 "nbformat_minor": 5
}
