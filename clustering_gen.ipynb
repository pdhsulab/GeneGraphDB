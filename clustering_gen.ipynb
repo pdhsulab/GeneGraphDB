{
 "cells": [
  {
   "cell_type": "code",
   "execution_count": 10,
   "id": "8da62467-b1fe-45f2-bba6-8bb9306c077d",
   "metadata": {},
   "outputs": [],
   "source": [
    "import sys\n",
    "import sqlite3\n",
    "import subprocess\n",
    "import os"
   ]
  },
  {
   "cell_type": "markdown",
   "id": "681f6624-b89b-4f63-9bf3-956b9eebe6d7",
   "metadata": {},
   "source": [
    "make mmseqs input multifaa, run mmseqs, get multifasta output, extract ids"
   ]
  },
  {
   "cell_type": "code",
   "execution_count": 41,
   "id": "c5aaac73-aedf-4abe-9682-6c6aa088bcec",
   "metadata": {},
   "outputs": [
    {
     "name": "stderr",
     "output_type": "stream",
     "text": [
      "mkdir: cannot create directory ‘../tnpBs/testclust’: File exists\n",
      "mkdir: cannot create directory ‘../tnpBs/testclust/INPUT’: File exists\n",
      "mkdir: cannot create directory ‘../tnpBs/testclust/OUTPUT’: File exists\n",
      "mkdir: cannot create directory ‘../tnpBs/testclust/OUTPUT/tmp’: File exists\n"
     ]
    }
   ],
   "source": [
    "# pid_inpath, mmseqs_dir, identity = \"cas1.txt\", \"../tnpBs/testclust\", \"0.6\"\n",
    "pid_inpath = sys.argv[1]\n",
    "mmseqs_dir = sys.argv[2]\n",
    "identity = sys.argv[3]\n",
    "os.system(\"mkdir \" + mmseqs_dir + \" \" + mmseqs_dir + \"/INPUT \" + mmseqs_dir + \"/OUTPUT \" + mmseqs_dir + \"/OUTPUT/tmp\")\n",
    "mmseqs_faa_input = mmseqs_dir + \"/INPUT/cluster_input.faa\"\n",
    "mmseqs_faa_output = mmseqs_dir + \"/OUTPUT/\"\n",
    "mmseqs_faa_tmpoutput = mmseqs_dir + \"/OUTPUT/tmp\"\n"
   ]
  },
  {
   "cell_type": "markdown",
   "id": "da368800-1758-41d9-827c-4e3fda31b8ed",
   "metadata": {},
   "source": [
    "## get mmseqs input"
   ]
  },
  {
   "cell_type": "code",
   "execution_count": 33,
   "id": "c3ff9db1-8f3f-448a-98a1-34a4078f608c",
   "metadata": {},
   "outputs": [],
   "source": [
    "in_pid_list = []\n",
    "with open(pid_inpath, \"r\") as infile:\n",
    "    lines=infile.readlines()\n",
    "    for line in lines:\n",
    "        line = line.strip('\\n')[:18]\n",
    "        in_pid_list.append(line)"
   ]
  },
  {
   "cell_type": "code",
   "execution_count": 35,
   "id": "c17b3bb5-31ed-429f-b991-38c665f3bef6",
   "metadata": {},
   "outputs": [],
   "source": [
    "con=sqlite3.connect(\"80kprotein_stats.db\")\n",
    "cur = con.cursor()\n",
    "def get_prot_sequence(pid):\n",
    "    cmd = \"SELECT sequence FROM proteins WHERE pid = '%s'\" % pid \n",
    "    #print(cmd)\n",
    "    cur.execute(cmd)\n",
    "    try:\n",
    "        return str(cur.fetchone()[0])\n",
    "    except:\n",
    "        print(pid)\n",
    "        asdf\n",
    "def get_faas_protidlist(protidlist, outfile_path):\n",
    "    with open(outfile_path, \"w\") as outfile:\n",
    "        for protid in protidlist:\n",
    "            protseq = get_prot_sequence(protid)\n",
    "            print(\">\" + protid, file=outfile)\n",
    "            print(protseq, file=outfile)\n",
    "get_faas_protidlist(in_pid_list, mmseqs_faa_input)\n",
    "con.close()"
   ]
  },
  {
   "cell_type": "code",
   "execution_count": null,
   "id": "679d0689-9936-4d68-a12b-0b56d07266a9",
   "metadata": {},
   "outputs": [],
   "source": [
    "cmd = \"mmseqs easy-linclust \" + mmseqs_faa_input + \" \" + mmseqs_faa_output + \" \" + mmseqs_faa_tmpoutput + \" \" + \\\n",
    "\"--threads 32 -e 0.001 --min-seq-id \" + identity + \" -c \" + identity + \" --cov-mode 0 --spaced-kmer-mode 0 --remove-tmp-files 1\"\n",
    "process = subprocess.Popen(cmd.split(' '))\n",
    "stdout, stderr = process.communicate()"
   ]
  },
  {
   "cell_type": "code",
   "execution_count": null,
   "id": "f3f7e01d-8b92-4eb9-8683-4dbe26c319a2",
   "metadata": {},
   "outputs": [],
   "source": []
  }
 ],
 "metadata": {
  "environment": {
   "kernel": "ggdb",
   "name": "common-cpu.m82",
   "type": "gcloud",
   "uri": "gcr.io/deeplearning-platform-release/base-cpu:m82"
  },
  "kernelspec": {
   "display_name": "ggdb",
   "language": "python",
   "name": "ggdb"
  },
  "language_info": {
   "codemirror_mode": {
    "name": "ipython",
    "version": 3
   },
   "file_extension": ".py",
   "mimetype": "text/x-python",
   "name": "python",
   "nbconvert_exporter": "python",
   "pygments_lexer": "ipython3",
   "version": "3.9.7"
  }
 },
 "nbformat": 4,
 "nbformat_minor": 5
}
