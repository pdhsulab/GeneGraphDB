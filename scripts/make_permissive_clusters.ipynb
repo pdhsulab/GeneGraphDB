{
 "cells": [
  {
   "cell_type": "code",
   "execution_count": 1,
   "id": "4060862e-c2d5-43c5-a5e9-ac7996bc0d52",
   "metadata": {},
   "outputs": [],
   "source": [
    "import os\n",
    "import pandas as pd\n",
    "import matplotlib.pyplot as plt\n",
    "from Bio import SeqIO\n",
    "import csv\n",
    "import sqlite3\n",
    "import time"
   ]
  },
  {
   "cell_type": "code",
   "execution_count": null,
   "id": "f9c5bc2a-5b50-4ea3-a5e9-46832bab16e5",
   "metadata": {},
   "outputs": [],
   "source": []
  },
  {
   "cell_type": "code",
   "execution_count": 3,
   "id": "d5a0a25a-3670-4003-b4b6-4dc9fbf9ba54",
   "metadata": {},
   "outputs": [],
   "source": [
    "def get_permissive_rep(stringent_rep):\n",
    "    conn = sqlite3.connect('genegraph.db')\n",
    "    cursor = conn.cursor()\n",
    "    cmd_p = \"SELECT reppid FROM permissive WHERE pid = '%s'\" % (stringent_rep)\n",
    "    cursor.execute(cmd_p)\n",
    "    perm_rep = cursor.fetchone()[0]\n",
    "    conn.close()\n",
    "    return(perm_rep)"
   ]
  },
  {
   "cell_type": "code",
   "execution_count": 4,
   "id": "f3ed51c8-b6bc-41da-bf4d-65920594ceed",
   "metadata": {},
   "outputs": [],
   "source": [
    "def get_protein_seq(pid):\n",
    "    con=sqlite3.connect(\"80kprotein_stats.db\")\n",
    "    cur = con.cursor()\n",
    "    #cmd = \"SELECT * FROM proteins WHERE hashid='%s'\" % pid\n",
    "    cmd = \"SELECT * FROM proteins WHERE pid = '%s'\" % pid \n",
    "    #print(cmd)\n",
    "    cur.execute(cmd)\n",
    "    return cur.fetchone()[-1]\n",
    "    con.close()"
   ]
  },
  {
   "cell_type": "code",
   "execution_count": null,
   "id": "f3f98417-9405-4390-8f8b-34510075d4f9",
   "metadata": {},
   "outputs": [],
   "source": [
    "path_clu_rep = \"../clusters/clu_rep_stringent_final.csv\""
   ]
  },
  {
   "cell_type": "code",
   "execution_count": 26,
   "id": "73b34d6f-35fe-43c7-9f16-236a1319b7f6",
   "metadata": {},
   "outputs": [],
   "source": [
    "# outfile = open(\"../clusters/INPUT/permissive/clu_perm_mmseqs_input.faa\", \"w\")\n",
    "# with open(path_clu_rep, 'r') as file:\n",
    "#     reader = csv.reader(file)\n",
    "#     next(reader)\n",
    "#     prev_rep = \"\"\n",
    "#     for row in reader:\n",
    "#         stringent_rep = row[0][:18]\n",
    "#         if prev_rep != stringent_rep:\n",
    "#             print(\">\" + stringent_rep, file = outfile)\n",
    "#             print(get_protein_seq(stringent_rep), file = outfile)\n",
    "#         prev_rep = stringent_rep"
   ]
  },
  {
   "cell_type": "code",
   "execution_count": null,
   "id": "7e31f88b-b8a3-43f0-ba0a-b2e916042d21",
   "metadata": {},
   "outputs": [],
   "source": []
  }
 ],
 "metadata": {
  "environment": {
   "kernel": "ggdb",
   "name": "common-cpu.m82",
   "type": "gcloud",
   "uri": "gcr.io/deeplearning-platform-release/base-cpu:m82"
  },
  "kernelspec": {
   "display_name": "ggdb",
   "language": "python",
   "name": "ggdb"
  },
  "language_info": {
   "codemirror_mode": {
    "name": "ipython",
    "version": 3
   },
   "file_extension": ".py",
   "mimetype": "text/x-python",
   "name": "python",
   "nbconvert_exporter": "python",
   "pygments_lexer": "ipython3",
   "version": "3.9.7"
  }
 },
 "nbformat": 4,
 "nbformat_minor": 5
}
