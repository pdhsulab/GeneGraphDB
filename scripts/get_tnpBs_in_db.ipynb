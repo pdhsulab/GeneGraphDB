{
 "cells": [
  {
   "cell_type": "code",
   "execution_count": 7,
   "id": "2527516f-e410-463b-82e1-4d46b02ecdcb",
   "metadata": {},
   "outputs": [],
   "source": [
    "import os\n",
    "import pandas as pd\n",
    "import matplotlib.pyplot as plt\n",
    "from Bio import SeqIO\n",
    "import csv\n",
    "import sqlite3\n",
    "import time\n",
    "from multiprocessing import Pool, cpu_count\n",
    "import sys"
   ]
  },
  {
   "cell_type": "code",
   "execution_count": 8,
   "id": "7ca615a9-cb19-428c-bbc0-4bd0e3aea891",
   "metadata": {},
   "outputs": [],
   "source": [
    "def get_list_ids_fromcursor(fetchall):\n",
    "    return [fetchone[0] for fetchone in fetchall]"
   ]
  },
  {
   "cell_type": "code",
   "execution_count": 17,
   "id": "a2b4b449-6829-4d3d-9594-52989a5ff002",
   "metadata": {},
   "outputs": [],
   "source": [
    "def get_permissive_rep(bait_pid):\n",
    "    conn = sqlite3.connect('genegraph.db')\n",
    "    cursor = conn.cursor()\n",
    "    perm_rep = None\n",
    "    cmd_p = \"SELECT p30 FROM clusters WHERE p100 = '%s'\" % (bait_pid)\n",
    "    cursor.execute(cmd_p)\n",
    "    # try:\n",
    "    #     perm_rep = cursor.fetchone()[0]\n",
    "    # except:\n",
    "    #     pass\n",
    "    perm_rep = cursor.fetchone()[0]\n",
    "    conn.close()\n",
    "    return(perm_rep)"
   ]
  },
  {
   "cell_type": "code",
   "execution_count": 9,
   "id": "57e59835-3da0-4f1f-b898-077c4e94ab7a",
   "metadata": {},
   "outputs": [],
   "source": [
    "def get_all_proteins_set():\n",
    "    conn = sqlite3.connect('genegraph.db')\n",
    "    cursor = conn.cursor()\n",
    "    cmd_get_allprot = \"SELECT pid FROM stringent\"\n",
    "    cursor.execute(cmd_get_allprot)\n",
    "    p100s_ls = get_list_ids_fromcursor(cursor.fetchall())\n",
    "    conn.close()\n",
    "    return(set(p100s_ls))"
   ]
  },
  {
   "cell_type": "code",
   "execution_count": 10,
   "id": "6db153f4-f405-4f76-96fb-7ca902109a0a",
   "metadata": {},
   "outputs": [
    {
     "name": "stdout",
     "output_type": "stream",
     "text": [
      "785.7300934791565\n"
     ]
    }
   ],
   "source": [
    "# tic = time.time()\n",
    "# all_prot_ids_18char = get_all_proteins_set()\n",
    "# toc = time.time()\n",
    "# print(toc-tic)"
   ]
  },
  {
   "cell_type": "code",
   "execution_count": 11,
   "id": "67aed3f3-4580-4f31-880f-76dfd597eae6",
   "metadata": {},
   "outputs": [
    {
     "data": {
      "text/plain": [
       "218562584"
      ]
     },
     "execution_count": 11,
     "metadata": {},
     "output_type": "execute_result"
    }
   ],
   "source": [
    "len(all_prot_ids_18char)"
   ]
  },
  {
   "cell_type": "code",
   "execution_count": 18,
   "id": "da585471-7c6e-4d4b-b9c3-ddce982dfe47",
   "metadata": {},
   "outputs": [
    {
     "data": {
      "text/plain": [
       "488927"
      ]
     },
     "execution_count": 18,
     "metadata": {},
     "output_type": "execute_result"
    }
   ],
   "source": [
    "tnpBs_list_p30 = []\n",
    "infile_tnpBs = \"../tnpBs/INPUT/tnpB_candidates.p100.1e4.txt\"\n",
    "with open(infile_tnpBs, \"r\") as infile:\n",
    "    lines = infile.readlines()\n",
    "    for line in lines:\n",
    "        p30_100 = line.split('\\n')[0]\n",
    "        p100 = p30_100.split('_')[1]\n",
    "        tnpBs_list_p30.append(p100)\n",
    "tnpBs_set_p30 = set(tnpBs_list_p30)\n",
    "len(tnpBs_list_p30)"
   ]
  },
  {
   "cell_type": "code",
   "execution_count": 19,
   "id": "c72b0f5e-ac0d-4008-b5d8-ea75cd4260ea",
   "metadata": {},
   "outputs": [],
   "source": [
    "outfile_tnpBs = open(\"tnpBs_in_testdb.p100.1e4.txt\", \"w\")\n",
    "with open(\"tnpBs_in_testdb.p100.txt\", \"r\") as infile:\n",
    "    lines = infile.readlines()\n",
    "    for line in lines:\n",
    "        p100=line.split(\"\\n\")[0]\n",
    "        p30 = get_permissive_rep(p100)\n",
    "        if p30 in tnpBs_set_p30:\n",
    "            print(p100, file=outfile_tnpBs)"
   ]
  },
  {
   "cell_type": "code",
   "execution_count": 6,
   "id": "6796ce67-ee1e-4efb-92d4-ad0be655a7c3",
   "metadata": {},
   "outputs": [],
   "source": [
    "# outfile_tnpBs = open(\"tnpBs_in_testdb.p100.txt\", \"w\")\n",
    "# with open(\"tnpB_candidates.p100.txt\", \"r\") as infile:\n",
    "#     lines = infile.readlines()\n",
    "#     for line in lines:\n",
    "#         p100=line.split(\"\\n\")[0]\n",
    "#         if p100 in all_prot_ids_18char:\n",
    "#             print(p100, file=outfile_tnpBs)"
   ]
  },
  {
   "cell_type": "code",
   "execution_count": null,
   "id": "84912fad-160c-4862-a9fb-473a31d3d758",
   "metadata": {},
   "outputs": [],
   "source": []
  }
 ],
 "metadata": {
  "environment": {
   "kernel": "ggdb",
   "name": "common-cpu.m82",
   "type": "gcloud",
   "uri": "gcr.io/deeplearning-platform-release/base-cpu:m82"
  },
  "kernelspec": {
   "display_name": "ggdb",
   "language": "python",
   "name": "ggdb"
  },
  "language_info": {
   "codemirror_mode": {
    "name": "ipython",
    "version": 3
   },
   "file_extension": ".py",
   "mimetype": "text/x-python",
   "name": "python",
   "nbconvert_exporter": "python",
   "pygments_lexer": "ipython3",
   "version": "3.9.7"
  }
 },
 "nbformat": 4,
 "nbformat_minor": 5
}
