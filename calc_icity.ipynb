{
 "cells": [
  {
   "cell_type": "code",
   "execution_count": 1,
   "id": "891a25e2-72c4-40f4-85e2-069c82ec5e76",
   "metadata": {},
   "outputs": [],
   "source": [
    "import os\n",
    "import pandas as pd\n",
    "import matplotlib.pyplot as plt\n",
    "from Bio import SeqIO\n",
    "import csv\n",
    "import sqlite3\n",
    "import time\n",
    "from multiprocessing import Pool, cpu_count\n",
    "import sys\n",
    "import ast\n",
    "from collections import defaultdict"
   ]
  },
  {
   "cell_type": "code",
   "execution_count": null,
   "id": "b385f777-10f1-49d7-9a15-2b0401dc6435",
   "metadata": {},
   "outputs": [],
   "source": []
  },
  {
   "cell_type": "markdown",
   "id": "780e2348-d167-4a62-94c6-de0c2b261838",
   "metadata": {},
   "source": [
    "### simple -icity calculation: given single protein, find bait neighbourhoods of all related proteins within the 5kb window"
   ]
  },
  {
   "cell_type": "code",
   "execution_count": 2,
   "id": "e0178df9-a54f-4f73-bf4e-ed077186df3f",
   "metadata": {},
   "outputs": [],
   "source": [
    "def get_list_ids_fromcursor(fetchall):\n",
    "    return [fetchone[0] for fetchone in fetchall]"
   ]
  },
  {
   "cell_type": "code",
   "execution_count": 3,
   "id": "53c462c0-71ff-4441-a194-f317bd721c7c",
   "metadata": {},
   "outputs": [],
   "source": [
    "def get_permissive_rep(bait_pid):\n",
    "    conn = sqlite3.connect('genegraph.db')\n",
    "    cursor = conn.cursor()\n",
    "    perm_rep = None\n",
    "    cmd_p = \"SELECT p30 FROM clusters WHERE p100 = '%s'\" % (bait_pid)\n",
    "    cursor.execute(cmd_p)\n",
    "    try:\n",
    "        perm_rep = cursor.fetchone()[0]\n",
    "    except:\n",
    "        pass # to do - this exception should catch nothing\n",
    "    conn.close()\n",
    "    return(perm_rep)\n",
    "# def get_related_baits(perm_rep):\n",
    "#     conn = sqlite3.connect('genegraph.db')\n",
    "#     cursor = conn.cursor()\n",
    "#     cmd_get_strin_rep = \"SELECT pid FROM permissive WHERE reppid = '%s'\" % (perm_rep)\n",
    "#     cursor.execute(cmd_get_strin_rep)\n",
    "#     strin_reps = get_list_ids_fromcursor(cursor.fetchall())\n",
    "#     p100s_ls = []\n",
    "#     for strin_rep in strin_reps:\n",
    "#         cmd_get_p100 = \"SELECT pid FROM stringent WHERE reppid = '%s'\" % (strin_rep)\n",
    "#         cursor.execute(cmd_get_p100)\n",
    "#         p100s = get_list_ids_fromcursor(cursor.fetchall())\n",
    "#         p100s_ls += p100s    \n",
    "#     conn.close()\n",
    "#     return(p100s_ls)\n",
    "\n",
    "def get_related_baits(perm_rep):\n",
    "    conn = sqlite3.connect('genegraph.db')\n",
    "    cursor = conn.cursor()\n",
    "    cmd_get_strin_rep = \"SELECT p100 FROM clusters WHERE p30 = '%s'\" % (perm_rep)\n",
    "    cursor.execute(cmd_get_strin_rep)\n",
    "    p100s_ls = get_list_ids_fromcursor(cursor.fetchall())\n",
    "    conn.close()\n",
    "    return(list(set(p100s_ls)))"
   ]
  },
  {
   "cell_type": "code",
   "execution_count": 4,
   "id": "e0aec547-e476-40d7-a073-ef70f77da6b9",
   "metadata": {},
   "outputs": [],
   "source": [
    "def get_bait_neighbourhood(in_pid):\n",
    "    conn = sqlite3.connect('genegraph.db')\n",
    "    cursor = conn.cursor()\n",
    "\n",
    "    neighbours_set = set()\n",
    "    cmd_getbaitneighbs = \"SELECT p2hash FROM prot2protwindow WHERE p1hash = '%s'\" % (in_pid)\n",
    "    #print(cmd_getbaitneighbs)\n",
    "    cursor.execute(cmd_getbaitneighbs)\n",
    "    for neighb_id in get_list_ids_fromcursor(cursor.fetchall()):\n",
    "        neighbours_set.add(neighb_id) \n",
    "    cmd_getbaitneighbs = \"SELECT p1hash FROM prot2protwindow WHERE p2hash = '%s'\" % (in_pid)\n",
    "    cursor.execute(cmd_getbaitneighbs)\n",
    "    for neighb_id in get_list_ids_fromcursor(cursor.fetchall()):\n",
    "        neighbours_set.add(neighb_id)\n",
    "    conn.close()\n",
    "    rv = defaultdict(list)\n",
    "    for neighborid in neighbours_set:\n",
    "        rv[neighborid].append(in_pid)\n",
    "    return rv\n",
    "\n",
    "# #this function may not be necessary given some speed-ups\n",
    "# def get_full_bait_neighbourhood(baits_list):\n",
    "#     neighbours_set = set()\n",
    "#     for bait_id in baits_list:\n",
    "#         neighbours_set.update(get_bait_neighbourhood(bait_id))\n",
    "#     with open(\"bait_neighbourhood.txt\", \"w\") as outfile:\n",
    "#         for neighbour_id in neighbours_set:\n",
    "#             print(neighbour_id, file=outfile)\n",
    "#     return neighbours_set\n",
    "        \n",
    "#neigh_ids = get_bait_neighbourhood(\"5088749308272be178d0\")\n",
    "\n",
    "\n",
    "def get_p90s(p30_id):\n",
    "    conn = sqlite3.connect('genegraph.db')\n",
    "    cursor = conn.cursor()\n",
    "    cmd = \"SELECT p90 FROM clusters WHERE p30 = '%s'\" % (p30_id)\n",
    "    cursor.execute(cmd)\n",
    "    p90s = get_list_ids_fromcursor(cursor.fetchall())\n",
    "    conn.close()\n",
    "    return(list(set(p90s)))\n",
    "\n",
    "def get_p100s(p90_id):\n",
    "    conn = sqlite3.connect('genegraph.db')\n",
    "    cursor = conn.cursor()\n",
    "    cmd = \"SELECT p100 FROM clusters WHERE p90 = '%s'\" % (p90_id)\n",
    "    cursor.execute(cmd)\n",
    "    p100s = get_list_ids_fromcursor(cursor.fetchall())\n",
    "    conn.close()\n",
    "    return(list(set(p100s)))\n",
    "\n",
    "\n",
    "def calc_icity(pid, neighb_set):\n",
    "    p30=get_permissive_rep(pid)\n",
    "    if p30 == None:\n",
    "        return None # to do - fix this issue by making comprehensive permissive clusters\n",
    "    p90s = get_p90s(p30)\n",
    "    #print(p90s)\n",
    "    hits = 0\n",
    "    print(\"start calculating icity\")\n",
    "    for p90 in p90s:\n",
    "        p100s = get_p100s(p90)\n",
    "        #print(p100s)\n",
    "        for p100 in p100s:\n",
    "            if p100 in neighb_set:\n",
    "                hits += 1\n",
    "                break\n",
    "    print(\"_icity for \" + pid + \" calculated\")\n",
    "    return [hits / len(p90s), hits, len(p90s)]"
   ]
  },
  {
   "cell_type": "code",
   "execution_count": 5,
   "id": "6cac5427-79e1-4b09-9298-64a8cdefcee3",
   "metadata": {},
   "outputs": [],
   "source": [
    "# perm_rep_ex = get_permissive_rep(\"e0f58eed15ffda8a926c\")\n",
    "# related_baits_ex = get_related_baits(perm_rep_ex)\n",
    "# bait_neighbourhood_ex = get_full_bait_neighbourhood(related_baits_ex)"
   ]
  },
  {
   "cell_type": "code",
   "execution_count": 6,
   "id": "c2171a49-1b6c-485e-b357-37ac63cff1dc",
   "metadata": {},
   "outputs": [],
   "source": [
    "def calc_icity_pool(pid_set_list):\n",
    "    pool = Pool(cpu_count())\n",
    "    results = pool.starmap(calc_icity, iterable = pid_set_list)\n",
    "    pool.close()\n",
    "    pool.join()\n",
    "    \n",
    "    return results"
   ]
  },
  {
   "cell_type": "code",
   "execution_count": null,
   "id": "da6167ae-898b-4884-b572-ae86ec5e7860",
   "metadata": {},
   "outputs": [],
   "source": []
  },
  {
   "cell_type": "code",
   "execution_count": 7,
   "id": "5928a8e9-979c-4549-ae0b-e3e3a5a641ba",
   "metadata": {},
   "outputs": [],
   "source": [
    "# def final_icity_output(target_p100ids, bait_p100ids):\n",
    "#     bait_neighbourhood_ex = set()\n",
    "#     bait_p30s = []\n",
    "#     for bait_p100id in bait_p100ids:\n",
    "#         perm_rep_ex = get_permissive_rep(bait_p100id)\n",
    "#         bait_p30s.append(perm_rep_ex)\n",
    "#         related_baits_ex = get_related_baits(perm_rep_ex)\n",
    "#         bait_neighbourhood_ex.update(get_full_bait_neighbourhood(related_baits_ex))\n",
    "#     #print(sys.getsizeof(bait_neighbourhood_ex)) # to do - delete later\n",
    "#     icity_arglist = [(target_p100id, bait_neighbourhood_ex) for target_p100id in target_p100ids]\n",
    "#     print(target_p100ids)\n",
    "#     icity_list = calc_icity_pool(icity_arglist)\n",
    "#     print(len(bait_neighbourhood_ex))\n",
    "#     with open(\"rando_prot_icity_output.csv\", \"w\") as outfile:\n",
    "#         print(\"target_30id, icity, numer, denom\", file=outfile)\n",
    "#         for i in range(len(icity_arglist)):\n",
    "#             target_p100id = icity_arglist[i][0]\n",
    "#             target_p30id = get_permissive_rep(target_p100id)\n",
    "#             bait_p30ids = str(bait_p30s)\n",
    "#             #print(icity_list)\n",
    "#             try:\n",
    "#                 icity, numer, denom = str(icity_list[i][0]), str(icity_list[i][1]), str(icity_list[i][2])\n",
    "#                 print(\",\".join([target_p30id, icity, numer, denom]), file=outfile)\n",
    "#             except:\n",
    "#                 pass"
   ]
  },
  {
   "cell_type": "markdown",
   "id": "5366c6ff-1357-4bd3-b713-5bb586ccdc79",
   "metadata": {},
   "source": [
    "### tnpb data exploration"
   ]
  },
  {
   "cell_type": "code",
   "execution_count": 8,
   "id": "26a146a7-8a64-4cff-afe5-779403658446",
   "metadata": {},
   "outputs": [],
   "source": [
    "def get_all_proteins_set():\n",
    "    conn = sqlite3.connect('genegraph.db')\n",
    "    cursor = conn.cursor()\n",
    "    cmd_get_allprot = \"SELECT SUBSTRING(p100, 1, 18) FROM clusters LIMIT 50000000\"\n",
    "    cursor.execute(cmd_get_allprot)\n",
    "    p100s_ls = get_list_ids_fromcursor(cursor.fetchall())\n",
    "    conn.close()\n",
    "    return(set(p100s_ls))"
   ]
  },
  {
   "cell_type": "code",
   "execution_count": 9,
   "id": "b4466864-8474-41e2-8005-c4281106817a",
   "metadata": {},
   "outputs": [
    {
     "data": {
      "text/plain": [
       "78873"
      ]
     },
     "execution_count": 9,
     "metadata": {},
     "output_type": "execute_result"
    }
   ],
   "source": [
    "tnpBs_list = []\n",
    "infile_tnpBs = \"tnpBs_in_testdb.p100.txt\"\n",
    "with open(infile_tnpBs, \"r\") as infile:\n",
    "    lines = infile.readlines()\n",
    "    for line in lines:\n",
    "        p100 = line.split('\\n')[0]\n",
    "        tnpBs_list.append(p100)\n",
    "len(tnpBs_list)"
   ]
  },
  {
   "cell_type": "code",
   "execution_count": 10,
   "id": "a0e54463-fbce-46ff-b89e-bcaceab6699f",
   "metadata": {},
   "outputs": [],
   "source": [
    "def get_permissive_rep_pool(bait_p100s):\n",
    "    pool = Pool(cpu_count())\n",
    "    results = pool.map(get_permissive_rep, bait_p100s)\n",
    "    pool.close()\n",
    "    pool.join()\n",
    "    return results"
   ]
  },
  {
   "cell_type": "code",
   "execution_count": 11,
   "id": "29c82a7d-733d-40dc-ba8b-e3e77fe8cdc0",
   "metadata": {},
   "outputs": [],
   "source": [
    "perm_reps = get_permissive_rep_pool(tnpBs_list[:50])"
   ]
  },
  {
   "cell_type": "code",
   "execution_count": 12,
   "id": "3562a8d3-9133-4d04-a332-f5a87bc5fb4d",
   "metadata": {},
   "outputs": [],
   "source": [
    "def get_related_baits_pool(perm_rep_list):\n",
    "    pool = Pool(cpu_count())\n",
    "    results = pool.map(get_related_baits, perm_rep_list)\n",
    "    pool.close()\n",
    "    pool.join()\n",
    "    rv_list = []\n",
    "    for result in results:\n",
    "        rv_list += result\n",
    "    return rv_list"
   ]
  },
  {
   "cell_type": "code",
   "execution_count": 13,
   "id": "9aa15540-b3b9-484b-b800-07d9a86105f0",
   "metadata": {},
   "outputs": [
    {
     "data": {
      "text/plain": [
       "7069"
      ]
     },
     "execution_count": 13,
     "metadata": {},
     "output_type": "execute_result"
    }
   ],
   "source": [
    "related_baits = get_related_baits_pool(perm_reps)\n",
    "len(related_baits)"
   ]
  },
  {
   "cell_type": "code",
   "execution_count": 14,
   "id": "76de0c1c-fd01-4d80-9e4c-7bd7a79d9e3e",
   "metadata": {},
   "outputs": [],
   "source": [
    "def get_bait_neighb_pool(related_baits):\n",
    "    pool = Pool(cpu_count())\n",
    "    results = pool.map(get_bait_neighbourhood, related_baits)\n",
    "    pool.close()\n",
    "    pool.join()\n",
    "    merged_result_dict = {}\n",
    "    for result_dict in results:\n",
    "        merged_result_dict.update(result_dict)\n",
    "    #print(merged_result_dict)\n",
    "    return merged_result_dict"
   ]
  },
  {
   "cell_type": "code",
   "execution_count": 15,
   "id": "0cbb3db6-d61f-4cf0-ac8f-f877e7a299ae",
   "metadata": {},
   "outputs": [],
   "source": [
    "def create_tnpB_neighbourhood(bait_p100ids):\n",
    "    print(\"get permissive reps\")\n",
    "    perm_reps = get_permissive_rep_pool(bait_p100ids)\n",
    "    print(\"get related baits\")\n",
    "    related_baits = get_related_baits_pool(perm_reps)\n",
    "    print(\"get bait neighbs\")\n",
    "    bait_neighbs = get_bait_neighb_pool(related_baits)\n",
    "    print(\"writing bait neighbs\")\n",
    "    with open('bait_neighbourhood.tsv', 'w') as outfile:\n",
    "        for key in bait_neighbs.keys():\n",
    "            outfile.write(\"%s\\t%s\\n\"%(key,bait_neighbs[key]))\n",
    "    # with open(\"bait_neighbourhood.txt\", \"w\") as outfile:\n",
    "    #     for neighbour_id in bait_neighbs:\n",
    "    #         print(neighbour_id, file=outfile)\n",
    "    return bait_neighbs"
   ]
  },
  {
   "cell_type": "code",
   "execution_count": 16,
   "id": "bfed774b-a50a-4d59-848d-1ea8046fab64",
   "metadata": {},
   "outputs": [
    {
     "name": "stdout",
     "output_type": "stream",
     "text": [
      "get permissive reps\n",
      "get related baits\n",
      "get bait neighbs\n",
      "writing bait neighbs\n"
     ]
    }
   ],
   "source": [
    "tic = time.time()\n",
    "create_tnpB_neighbourhood(tnpBs_list)\n",
    "toc=time.time()"
   ]
  },
  {
   "cell_type": "code",
   "execution_count": 17,
   "id": "65c04833-55b0-4190-8f8b-742427d2e199",
   "metadata": {},
   "outputs": [],
   "source": [
    "# required to calculate tnpb icity\n",
    "# to do - make bait_neighb_ids a globally accessible variable later\n",
    "bait_neighb_ids_dict = {}\n",
    "with open(\"bait_neighbourhood.tsv\", \"r\") as infile:\n",
    "    lines = infile.readlines()\n",
    "    for line in lines:\n",
    "        line_list = line.strip(\"\\n\").split(\"\\t\")\n",
    "        bait_id = line_list[0]\n",
    "        neighb_ids = ast.literal_eval(line_list[1])\n",
    "        bait_neighb_ids_dict[bait_id] = neighb_ids\n",
    "bait_neighb_ids = set()\n",
    "for bait_neighb_id in bait_neighb_ids_dict.keys():\n",
    "    bait_neighb_ids.add(bait_neighb_id)"
   ]
  },
  {
   "cell_type": "code",
   "execution_count": 18,
   "id": "3abe6cac-132d-4fd1-8244-a31af2a717d3",
   "metadata": {},
   "outputs": [
    {
     "data": {
      "text/plain": [
       "(55792, 78873)"
      ]
     },
     "execution_count": 18,
     "metadata": {},
     "output_type": "execute_result"
    }
   ],
   "source": [
    "len(bait_neighb_ids_dict), len(tnpBs_list)"
   ]
  },
  {
   "cell_type": "code",
   "execution_count": 20,
   "id": "0ba4614f-d994-425a-8407-c6ef6b55bafd",
   "metadata": {},
   "outputs": [
    {
     "ename": "NameError",
     "evalue": "name 'get_baits_closetotarget' is not defined",
     "output_type": "error",
     "traceback": [
      "\u001b[0;31m---------------------------------------------------------------------------\u001b[0m",
      "\u001b[0;31mNameError\u001b[0m                                 Traceback (most recent call last)",
      "\u001b[0;32m/tmp/ipykernel_18645/1524335479.py\u001b[0m in \u001b[0;36m<module>\u001b[0;34m\u001b[0m\n\u001b[1;32m      1\u001b[0m \u001b[0mtic\u001b[0m \u001b[0;34m=\u001b[0m \u001b[0mtime\u001b[0m\u001b[0;34m.\u001b[0m\u001b[0mtime\u001b[0m\u001b[0;34m(\u001b[0m\u001b[0;34m)\u001b[0m\u001b[0;34m\u001b[0m\u001b[0;34m\u001b[0m\u001b[0m\n\u001b[0;32m----> 2\u001b[0;31m \u001b[0mget_baits_closetotarget\u001b[0m\u001b[0;34m(\u001b[0m\u001b[0;34m\"133307e8c61ec09a60\"\u001b[0m\u001b[0;34m)\u001b[0m\u001b[0;34m\u001b[0m\u001b[0;34m\u001b[0m\u001b[0m\n\u001b[0m\u001b[1;32m      3\u001b[0m \u001b[0mtoc\u001b[0m\u001b[0;34m=\u001b[0m\u001b[0mtime\u001b[0m\u001b[0;34m.\u001b[0m\u001b[0mtime\u001b[0m\u001b[0;34m(\u001b[0m\u001b[0;34m)\u001b[0m\u001b[0;34m\u001b[0m\u001b[0;34m\u001b[0m\u001b[0m\n",
      "\u001b[0;31mNameError\u001b[0m: name 'get_baits_closetotarget' is not defined"
     ]
    }
   ],
   "source": [
    "# tic = time.time()\n",
    "# get_baits_closetotarget(\"133307e8c61ec09a60\")\n",
    "# toc=time.time()"
   ]
  },
  {
   "cell_type": "code",
   "execution_count": 272,
   "id": "42c6f2ed-2801-4299-887f-c61b047df111",
   "metadata": {},
   "outputs": [
    {
     "data": {
      "text/plain": [
       "(set(), 0)"
      ]
     },
     "execution_count": 272,
     "metadata": {},
     "output_type": "execute_result"
    }
   ],
   "source": [
    "# get_baits_closetotarget(\"133307e8c61ec09a60\")"
   ]
  },
  {
   "cell_type": "code",
   "execution_count": 21,
   "id": "f733c5d3-04ba-410b-a407-0714b37a1fca",
   "metadata": {},
   "outputs": [],
   "source": [
    "def calc_tnpb_icity(pid):\n",
    "    p30 = get_permissive_rep(pid)\n",
    "    if p30 == None:\n",
    "        return None # to do - fix this issue by making comprehensive permissive clusters\n",
    "    p90s = get_p90s(p30)\n",
    "    hits = 0\n",
    "    print(\"start calculating icity\")\n",
    "    for p90 in p90s:\n",
    "        p100s = get_p100s(p90)\n",
    "        for p100 in p100s:\n",
    "            if p100 in bait_neighb_ids:\n",
    "                hits += 1\n",
    "                break\n",
    "    print(\"_icity for \" + pid + \" calculated\")\n",
    "    return [hits / len(p90s), hits, len(p90s)]\n",
    "def calc_tnpb_icity_pool(pid_list):\n",
    "    pool = Pool(cpu_count())\n",
    "    results = pool.map(calc_tnpb_icity, iterable = pid_list)\n",
    "    pool.close()\n",
    "    pool.join()\n",
    "    return results"
   ]
  },
  {
   "cell_type": "code",
   "execution_count": 23,
   "id": "acd228e3-cad4-4433-aa60-a7586594c618",
   "metadata": {},
   "outputs": [],
   "source": [
    "def get_baits_closetotarget(p30targetid):\n",
    "    p100s = set()\n",
    "    p90s = get_p90s(p30targetid)\n",
    "    for p90 in p90s:\n",
    "        p100s.update(get_p100s(p90))\n",
    "    nearby_baits = set()\n",
    "    for p100 in p100s:\n",
    "        try:\n",
    "            baitids = bait_neighb_ids_dict[p100]\n",
    "            for baitid in baitids:\n",
    "                nearby_baits.add(baitid)\n",
    "        except:\n",
    "            print(p100)\n",
    "    return list(nearby_baits)"
   ]
  },
  {
   "cell_type": "code",
   "execution_count": 24,
   "id": "d62e3859-2d25-4d8e-ada6-c8350834da17",
   "metadata": {},
   "outputs": [
    {
     "data": {
      "text/plain": [
       "409341"
      ]
     },
     "execution_count": 24,
     "metadata": {},
     "output_type": "execute_result"
    }
   ],
   "source": [
    "tnpB_path = \"tnpB_icity_output.csv\"\n",
    "tnpB_df = pd.read_csv(tnpB_path).rename(columns = \n",
    "                                        {\" icity\": \"icity\", \n",
    "                                         \" numer\": \"numer\", \n",
    "                                         \" denom\": \"denom\"}).drop_duplicates()\n",
    "#tnpB_df = tnpB_df[tnpB_df[\"icity\"] > .7].sort_values([\"icity\",\"numer\"], ascending = False)\n",
    "target_p30s = list(tnpB_df['target_p100id'])\n",
    "len(target_p30s)"
   ]
  },
  {
   "cell_type": "code",
   "execution_count": 25,
   "id": "90f17c05-946b-451b-8563-0c0645fe2fdd",
   "metadata": {},
   "outputs": [],
   "source": [
    "target_ids_dict = get_bait_neighb_pool(tnpBs_list)\n",
    "target_neighb_ids = set()\n",
    "for bait_id in target_ids_dict.keys():\n",
    "    target_neighb_ids.update(target_ids_dict[bait_id])"
   ]
  },
  {
   "cell_type": "code",
   "execution_count": 26,
   "id": "27a2d8ff-3762-4b6d-bb79-d06464756da7",
   "metadata": {},
   "outputs": [
    {
     "data": {
      "text/plain": [
       "637302"
      ]
     },
     "execution_count": 26,
     "metadata": {},
     "output_type": "execute_result"
    }
   ],
   "source": [
    "len(target_ids_dict)"
   ]
  },
  {
   "cell_type": "code",
   "execution_count": 32,
   "id": "863f34b1-d67d-4672-ba88-e5f3d5d7f951",
   "metadata": {},
   "outputs": [
    {
     "name": "stdout",
     "output_type": "stream",
     "text": [
      "1\n",
      "2\n",
      "1\n",
      "2\n"
     ]
    }
   ],
   "source": [
    "for i in range(4):\n",
    "    try:\n",
    "        if i < 2:\n",
    "            print(1)\n",
    "        else:\n",
    "            asdf\n",
    "    except:\n",
    "        continue\n",
    "    print(2)"
   ]
  },
  {
   "cell_type": "code",
   "execution_count": null,
   "id": "42f2768a-5c72-4b84-8958-bd43edf630a8",
   "metadata": {},
   "outputs": [],
   "source": [
    "def tnpB_icity_output(tnpBs_list):\n",
    "    target_ids_dict = get_bait_neighb_pool(tnpBs_list)\n",
    "    print(\"target to bait dict created: \" + str(len(target_ids_dict)))\n",
    "    target_ids = set()\n",
    "    print(str(len(target_ids_dict.keys())) + \" keys in dict\")\n",
    "    for target_id in target_ids_dict.keys():\n",
    "        target_ids.add(target_id)\n",
    "    target_p100ids = list(target_ids)\n",
    "    icity_arglist = [target_p100id for target_p100id in target_p100ids] \n",
    "    print(\"calculating icity for \" + str(len(icity_arglist)) + \" target genes\")\n",
    "    icity_list = calc_tnpb_icity_pool(icity_arglist)\n",
    "    count_err, getbaits_err = 0, 0\n",
    "    print(\"writing -icity to outfile\")\n",
    "    with open(\"tnpB_icity_output.csv\", \"w\") as outfile:\n",
    "    #with open(\"tnpB_icity_output.tmp.csv\", \"w\") as outfile:\n",
    "        print(\"target_p30id,baitp100s,icity,numer,denom\", file=outfile)\n",
    "        for i in range(len(icity_arglist)):\n",
    "            target_p100id = icity_arglist[i]\n",
    "            target_p30id = get_permissive_rep(target_p100id)\n",
    "            try:\n",
    "                baitp100s = str(get_baits_closetotarget(target_p30id))\n",
    "            except:\n",
    "                getbaits_err += 1\n",
    "                continue\n",
    "            try:\n",
    "                icity, numer, denom = str(icity_list[i][0]), str(icity_list[i][1]), str(icity_list[i][2])\n",
    "\n",
    "                print(\",\".join([target_p30id, baitp100s, icity, numer, denom]), file=outfile)\n",
    "            except Exception as e:\n",
    "                count_err += 1\n",
    "                # print(icity_list[i])\n",
    "                # print(e)\n",
    "    print(\"num exceptions is \" + str(count_err))\n",
    "tnpB_icity_output(tnpBs_list)"
   ]
  },
  {
   "cell_type": "markdown",
   "id": "b616723d-d4a9-45a7-9864-030fb2f5fdb3",
   "metadata": {},
   "source": [
    "### get all cas1s and cas2s"
   ]
  },
  {
   "cell_type": "code",
   "execution_count": 1,
   "id": "8737e533-90f9-4455-9641-b133b46246d7",
   "metadata": {},
   "outputs": [],
   "source": [
    "# path_drep = \"../drep_genomes/OUTPUT/rep_genomes/\"\n",
    "# drep_paths = []\n",
    "# # for directory in os.listdir(path_drep):\n",
    "# #     drep_samples[directory] = path_drep + \"/\" + directory\n",
    "# for directory in os.listdir(path_drep):\n",
    "#     path_2 = path_drep + directory\n",
    "#     if os.path.isdir(path_2):\n",
    "#         for directory_2 in os.listdir(path_2):\n",
    "#             path_3 = path_2 + \"/\" + directory_2\n",
    "#             if os.path.isdir(path_3):\n",
    "#                 for directory_3 in os.listdir(path_3):\n",
    "#                     path_4 = path_3 + \"/\" + directory_3 + \"/\"\n",
    "#                     if os.path.isdir(path_4):\n",
    "#                         for directory_samp in os.listdir(path_4):\n",
    "#                             samp_dir = path_4 + directory_samp\n",
    "#                             if os.path.isdir(samp_dir):\n",
    "#                                 drep_paths.append([samp_dir, directory_samp])"
   ]
  },
  {
   "cell_type": "code",
   "execution_count": 2,
   "id": "40d4836f-3da3-47d7-a23e-543b454779d2",
   "metadata": {},
   "outputs": [],
   "source": [
    "def get_castyperfiles(drep_path):\n",
    "    bucket_path = \"gs://durrant/crispestdb/\" + drep_path[0][35:] + \"/\" + drep_path[1] + \".crisprcastyper.domains.tsv.gz\"\n",
    "    command_download = \"gsutil cp \" + bucket_path + \" \" + drep_path[0]\n",
    "    os.system(command_download)\n",
    "    command_gunzip = \"gunzip \" + drep_path[0] + \"/\" + drep_path[1] + \".crisprcastyper.domains.tsv.gz\"\n",
    "    os.system(command_gunzip)\n",
    "    \n",
    "def get_castyperfiles_pool(drep_paths):\n",
    "    pool = Pool(cpu_count())\n",
    "    results = pool.map(get_castyperfiles, drep_paths)\n",
    "    pool.close()\n",
    "    pool.join()\n",
    "\n",
    "#get_castyperfiles_pool(drep_paths)"
   ]
  },
  {
   "cell_type": "code",
   "execution_count": 3,
   "id": "d7c9f9a0-237c-426c-a2d8-8c2bc7868d3b",
   "metadata": {},
   "outputs": [],
   "source": [
    "# drep_cct_paths = []\n",
    "# for drep_path in drep_paths:\n",
    "#     cct_path = drep_path[0] + \"/\" + drep_path[1] + \".crisprcastyper.domains.tsv\"\n",
    "#     drep_cct_paths.append(cct_path)\n",
    "# len(drep_cct_paths)"
   ]
  },
  {
   "cell_type": "code",
   "execution_count": 4,
   "id": "f8cb4c2f-52bb-4656-93a4-a8d13ad11e6d",
   "metadata": {},
   "outputs": [],
   "source": [
    "# # get all cas1s and cas 2s\n",
    "# count = 0\n",
    "# for drep_cct_path in drep_cct_paths:\n",
    "#     try:\n",
    "#         with open(drep_cct_path, \"r\") as infile:\n",
    "#             next(infile)\n",
    "#             lines = infile.readlines()\n",
    "#             for line in lines:\n",
    "#                 line_sep = line.split('\\t')\n",
    "#                 #print(line_sep)\n",
    "#                 header = line_sep[0]\n",
    "#                 cas_annot = line_sep[3]\n",
    "#                 if \"Cas1_\" in cas_annot:\n",
    "#                     print(drep_cct_path + \",\" + header[:20] + \",\" + cas_annot, file = open(\"cas1_drep.csv\", \"a\"))\n",
    "#                 if \"Cas2_\" in cas_annot:\n",
    "#                     print(drep_cct_path + \",\" + header[:20] + \",\" + cas_annot, file = open(\"cas2_drep.csv\", \"a\"))\n",
    "#     except:\n",
    "#         with open(\"missed_cct_paths.txt\", \"a\") as outfile:\n",
    "#             print(drep_cct_path, file=outfile)"
   ]
  },
  {
   "cell_type": "code",
   "execution_count": 5,
   "id": "ba231d4d-f6b4-4e0e-ae53-5a6e1944a280",
   "metadata": {},
   "outputs": [],
   "source": [
    "# cas1s_set, cas2s_set = set(), set()\n",
    "# with open(\"cas1_drep.csv\", \"r\") as infile:\n",
    "#     lines = infile.readlines()\n",
    "#     for line in lines:\n",
    "#         line_sep = line.split(',')\n",
    "#         cas1_id = line_sep[1]\n",
    "#         cas1s_set.add(cas1_id)\n",
    "# with open(\"cas2_drep.csv\", \"r\") as infile:\n",
    "#     lines = infile.readlines()\n",
    "#     for line in lines:\n",
    "#         line_sep = line.split(',')\n",
    "#         cas2_id = line_sep[1]\n",
    "#         cas2s_set.add(cas2_id)"
   ]
  },
  {
   "cell_type": "code",
   "execution_count": 6,
   "id": "2abbefdc-2876-4cf3-a0f0-f54bbda8b177",
   "metadata": {},
   "outputs": [],
   "source": [
    "# len(cas1s_set), len(cas2s_set)"
   ]
  },
  {
   "cell_type": "code",
   "execution_count": 7,
   "id": "7c2868e1-045c-41c3-b5c0-67527fe664b7",
   "metadata": {},
   "outputs": [],
   "source": [
    "def get_random10kprot():\n",
    "    conn = sqlite3.connect('genegraph.db')\n",
    "    cursor = conn.cursor()\n",
    "    cmd = \"SELECT hashid FROM proteins ORDER BY hashid LIMIT 10000\"\n",
    "    cursor.execute(cmd)\n",
    "    random10kprot = get_list_ids_fromcursor(cursor.fetchall())\n",
    "    conn.close()\n",
    "    return(random10kprot)"
   ]
  },
  {
   "cell_type": "code",
   "execution_count": 8,
   "id": "779874a6-8cf3-4662-b6ae-393674d14853",
   "metadata": {},
   "outputs": [],
   "source": [
    "# random_9_proteins = [\"00000009ba423c2c0a75\", \"00000051418dfe799d75\", \"0000005ef429c9ab9d45\", \"00000071a6b842424f6a\", \"000000777af16a869fb0\", \"000000d70aca3d611da1\", \"000000e13071a7ecf39f\", \"0000011dab156def9db5\", \"00000129e4bc5caa1562\"]\n",
    "# final_icity_output(random_9_proteins, list(cas2s_set))"
   ]
  },
  {
   "cell_type": "code",
   "execution_count": 9,
   "id": "44bce873-8cef-48dc-b62d-ab8ce06640b4",
   "metadata": {},
   "outputs": [],
   "source": [
    "# cas1_icity_list = []\n",
    "# with open(\"cas2icity_output.csv\", \"r\") as infile:\n",
    "#     next(infile)\n",
    "#     lines = infile.readlines()\n",
    "#     for line in lines:\n",
    "#         line_sep = line.split(',')\n",
    "#         cas1_icity = line_sep[1]\n",
    "#         cas1_icity_list.append(float(cas1_icity))\n",
    "# cas2_icity_list = []\n",
    "# with open(\"cas1icity_output.csv\", \"r\") as infile:\n",
    "#     next(infile)\n",
    "#     lines = infile.readlines()\n",
    "#     for line in lines:\n",
    "#         line_sep = line.split(',')\n",
    "#         cas2_icity = line_sep[1]\n",
    "#         cas2_icity_list.append(float(cas2_icity))\n",
    "# rando_prot_icity_list = []\n",
    "# with open(\"rando_prot_icity_output.csv\", \"r\") as infile:\n",
    "#     next(infile)\n",
    "#     lines = infile.readlines()\n",
    "#     for line in lines:\n",
    "#         line_sep = line.split(',')\n",
    "#         rando_prot_icity = line_sep[1]\n",
    "#         rando_prot_icity_list.append(float(rando_prot_icity))"
   ]
  },
  {
   "cell_type": "code",
   "execution_count": 12,
   "id": "7224bf2c-ee5a-4fb2-9639-cc81e168bff9",
   "metadata": {},
   "outputs": [],
   "source": [
    "# plt.hist(rando_prot_icity_list, bins = [0,.1,.2,.3,.4,.5,.6,.7,.8,.9,1])\n",
    "# plt.xlabel(\"icity score of random proteins\")\n",
    "# plt.ylabel(\"frequency\")\n",
    "# plt.title(\"cas2-icity scores for 10k random proteins in 80k isolate genomes\")"
   ]
  },
  {
   "cell_type": "code",
   "execution_count": 13,
   "id": "1c71b57b-a639-4927-819a-7e514a3fb012",
   "metadata": {},
   "outputs": [],
   "source": [
    "# plt.hist(cas1_icity_list, bins = [0,.1,.2,.3,.4,.5,.6,.7,.8,.9,1])\n",
    "# plt.xlabel(\"cas2-icity score\")\n",
    "# plt.ylabel(\"frequency\")\n",
    "# plt.title(\"cas2-icity scores for all cas1s in 80k isolate genomes\")"
   ]
  },
  {
   "cell_type": "code",
   "execution_count": 14,
   "id": "e47d5a3c-2c0d-40f0-89e8-a860a5714a22",
   "metadata": {},
   "outputs": [],
   "source": [
    "# plt.hist(cas2_icity_list, bins = [0,.1,.2,.3,.4,.5,.6,.7,.8,.9,1])\n",
    "# plt.xlabel(\"cas1-icity score\")\n",
    "# plt.ylabel(\"frequency\")\n",
    "# plt.title(\"cas1-icity scores for all cas2s in 80k isolate genomes\")"
   ]
  },
  {
   "cell_type": "markdown",
   "id": "353d707f-b141-40c2-a6ed-816a38e7abab",
   "metadata": {},
   "source": [
    "### explore icity outputs"
   ]
  },
  {
   "cell_type": "code",
   "execution_count": 15,
   "id": "73ad189a-53e5-42b3-b04f-0354024ebdc0",
   "metadata": {},
   "outputs": [],
   "source": [
    "#final_icity_output([\"b9a340f0084638555260\"],[\"e0f58eed15ffda8a926c\"])"
   ]
  },
  {
   "cell_type": "code",
   "execution_count": 16,
   "id": "50929e31-eafd-4cc6-acdc-2153fed2fb68",
   "metadata": {},
   "outputs": [],
   "source": [
    "#icity_arglist = [(bait_id, bait_neighbourhood_ex) for bait_id in bait_neighbourhood_ex]"
   ]
  },
  {
   "cell_type": "code",
   "execution_count": 17,
   "id": "39ba69ee-ab4d-49b3-8a33-0e15c0b0b03b",
   "metadata": {},
   "outputs": [],
   "source": [
    "# for i in range(10):\n",
    "#     print(calc_icity(icity_arglist[i][0], icity_arglist[i][1]))\n",
    "# icity_arglist[0][0]"
   ]
  },
  {
   "cell_type": "code",
   "execution_count": 18,
   "id": "649bbf4d-051e-48c4-a542-8177a2447cbe",
   "metadata": {},
   "outputs": [],
   "source": [
    "#calc_icity_pool(icity_arglist[:1000])"
   ]
  },
  {
   "cell_type": "markdown",
   "id": "8849bc4c-0f28-48e5-a0bd-a0bae6d6ed10",
   "metadata": {},
   "source": [
    "### calculate unrefined p100, p90, p30 -icity"
   ]
  },
  {
   "cell_type": "code",
   "execution_count": 19,
   "id": "0fec7fde-78fa-4a90-ae06-858b967332ed",
   "metadata": {},
   "outputs": [],
   "source": [
    "def p100icity():\n",
    "    pass\n"
   ]
  },
  {
   "cell_type": "code",
   "execution_count": null,
   "id": "4def8611-2dfc-4ada-8966-a0671f7ac4ec",
   "metadata": {},
   "outputs": [],
   "source": []
  }
 ],
 "metadata": {
  "environment": {
   "kernel": "ggdb",
   "name": "common-cpu.m82",
   "type": "gcloud",
   "uri": "gcr.io/deeplearning-platform-release/base-cpu:m82"
  },
  "kernelspec": {
   "display_name": "ggdb",
   "language": "python",
   "name": "ggdb"
  },
  "language_info": {
   "codemirror_mode": {
    "name": "ipython",
    "version": 3
   },
   "file_extension": ".py",
   "mimetype": "text/x-python",
   "name": "python",
   "nbconvert_exporter": "python",
   "pygments_lexer": "ipython3",
   "version": "3.9.7"
  }
 },
 "nbformat": 4,
 "nbformat_minor": 5
}
