{
 "cells": [
  {
   "cell_type": "code",
   "execution_count": 2,
   "id": "891a25e2-72c4-40f4-85e2-069c82ec5e76",
   "metadata": {},
   "outputs": [],
   "source": [
    "import os\n",
    "import pandas as pd\n",
    "import matplotlib.pyplot as plt\n",
    "from Bio import SeqIO\n",
    "import csv\n",
    "import sqlite3\n",
    "import time"
   ]
  },
  {
   "cell_type": "code",
   "execution_count": null,
   "id": "75d97604-00d0-43c1-859f-6d2b4b84fa94",
   "metadata": {},
   "outputs": [],
   "source": [
    "# helper functions\n",
    "# compute hash of given protein\n",
    "# compute hashes of multi fasta file\n",
    "# return which proteins appear in database"
   ]
  },
  {
   "cell_type": "markdown",
   "id": "780e2348-d167-4a62-94c6-de0c2b261838",
   "metadata": {},
   "source": [
    "### simple -icity calculation: given single protein, find bait neighbourhoods of all related proteins within the 5kb window"
   ]
  },
  {
   "cell_type": "code",
   "execution_count": 8,
   "id": "f0ebd803-f935-400a-9447-4835480092b5",
   "metadata": {},
   "outputs": [
    {
     "data": {
      "text/plain": [
       "'c2b5fea0b52ea0ac1563'"
      ]
     },
     "execution_count": 8,
     "metadata": {},
     "output_type": "execute_result"
    }
   ],
   "source": [
    "get_permissive_rep(\"5b58073dd6fcc6383a3b\")"
   ]
  },
  {
   "cell_type": "code",
   "execution_count": 33,
   "id": "80b7ee0c-e909-44ce-a47d-8ba6c2a3d290",
   "metadata": {},
   "outputs": [
    {
     "ename": "KeyboardInterrupt",
     "evalue": "",
     "output_type": "error",
     "traceback": [
      "\u001b[0;31m---------------------------------------------------------------------------\u001b[0m",
      "\u001b[0;31mKeyboardInterrupt\u001b[0m                         Traceback (most recent call last)",
      "\u001b[0;32m/tmp/ipykernel_2466/1992575194.py\u001b[0m in \u001b[0;36m<module>\u001b[0;34m\u001b[0m\n\u001b[0;32m----> 1\u001b[0;31m \u001b[0mget_related_baits\u001b[0m\u001b[0;34m(\u001b[0m\u001b[0;34m\"c2b5fea0b52ea0ac1563\"\u001b[0m\u001b[0;34m)\u001b[0m\u001b[0;34m\u001b[0m\u001b[0;34m\u001b[0m\u001b[0m\n\u001b[0m",
      "\u001b[0;32m/tmp/ipykernel_2466/868389365.py\u001b[0m in \u001b[0;36mget_related_baits\u001b[0;34m(perm_rep)\u001b[0m\n\u001b[1;32m     21\u001b[0m     \u001b[0mcmd_s\u001b[0m \u001b[0;34m=\u001b[0m \u001b[0;34m\"SELECT pid FROM stringent WHERE reppid = '%s'\"\u001b[0m \u001b[0;34m%\u001b[0m \u001b[0;34m(\u001b[0m\u001b[0mperm_rep\u001b[0m\u001b[0;34m)\u001b[0m\u001b[0;34m\u001b[0m\u001b[0;34m\u001b[0m\u001b[0m\n\u001b[1;32m     22\u001b[0m     \u001b[0mcursor\u001b[0m\u001b[0;34m.\u001b[0m\u001b[0mexecute\u001b[0m\u001b[0;34m(\u001b[0m\u001b[0mcmd_s\u001b[0m\u001b[0;34m)\u001b[0m\u001b[0;34m\u001b[0m\u001b[0;34m\u001b[0m\u001b[0m\n\u001b[0;32m---> 23\u001b[0;31m     \u001b[0mstringent_rep\u001b[0m \u001b[0;34m=\u001b[0m \u001b[0mcursor\u001b[0m\u001b[0;34m.\u001b[0m\u001b[0mfetchall\u001b[0m\u001b[0;34m(\u001b[0m\u001b[0;34m)\u001b[0m\u001b[0;34m[\u001b[0m\u001b[0;36m0\u001b[0m\u001b[0;34m]\u001b[0m\u001b[0;34m\u001b[0m\u001b[0;34m\u001b[0m\u001b[0m\n\u001b[0m\u001b[1;32m     24\u001b[0m     \u001b[0mcmd_p\u001b[0m \u001b[0;34m=\u001b[0m \u001b[0;34m\"SELECT reppid FROM permissive WHERE pid = '%s'\"\u001b[0m \u001b[0;34m%\u001b[0m \u001b[0;34m(\u001b[0m\u001b[0mstringent_rep\u001b[0m\u001b[0;34m)\u001b[0m\u001b[0;34m\u001b[0m\u001b[0;34m\u001b[0m\u001b[0m\n\u001b[1;32m     25\u001b[0m     \u001b[0mcursor\u001b[0m\u001b[0;34m.\u001b[0m\u001b[0mexecute\u001b[0m\u001b[0;34m(\u001b[0m\u001b[0mcmd_p\u001b[0m\u001b[0;34m)\u001b[0m\u001b[0;34m\u001b[0m\u001b[0;34m\u001b[0m\u001b[0m\n",
      "\u001b[0;31mKeyboardInterrupt\u001b[0m: "
     ]
    }
   ],
   "source": [
    "get_related_baits(\"c2b5fea0b52ea0ac1563\")"
   ]
  },
  {
   "cell_type": "code",
   "execution_count": 28,
   "id": "e0178df9-a54f-4f73-bf4e-ed077186df3f",
   "metadata": {},
   "outputs": [],
   "source": [
    "def get_list_ids_fromcursor(fetchall):\n",
    "    return [fetchone[0] for fetchone in fetchall]"
   ]
  },
  {
   "cell_type": "code",
   "execution_count": 35,
   "id": "53c462c0-71ff-4441-a194-f317bd721c7c",
   "metadata": {},
   "outputs": [],
   "source": [
    "def get_permissive_rep(bait_pid):\n",
    "    conn = sqlite3.connect('genegraph.db')\n",
    "    cursor = conn.cursor()\n",
    "    cmd_s = \"SELECT reppid FROM stringent WHERE pid = '%s'\" % (bait_pid)\n",
    "    cursor.execute(cmd_s)\n",
    "    stringent_rep = cursor.fetchone()[0]\n",
    "    cmd_p = \"SELECT reppid FROM permissive WHERE pid = '%s'\" % (stringent_rep)\n",
    "    cursor.execute(cmd_p)\n",
    "    perm_rep = cursor.fetchone()[0]\n",
    "    conn.close()\n",
    "    return(perm_rep)\n",
    "    # cmd_p = \"SELECT * FROM neighbours\"\n",
    "    # cursor.execute(cmd_p)\n",
    "    # rv=cursor.fetchall()\n",
    "    # conn.close()\n",
    "    # return(rv)\n",
    "\n",
    "def get_related_baits(perm_rep):\n",
    "    conn = sqlite3.connect('genegraph.db')\n",
    "    cursor = conn.cursor()\n",
    "    cmd_get_strin_rep = \"SELECT pid FROM permissive WHERE reppid = '%s'\" % (perm_rep)\n",
    "    cursor.execute(cmd_get_strin_rep)\n",
    "    strin_reps = get_list_ids_fromcursor(cursor.fetchall())\n",
    "    p100s_ls = []\n",
    "    for strin_rep in strin_reps:\n",
    "        cmd_get_p100 = \"SELECT pid FROM stringent WHERE reppid = '%s'\" % (strin_rep)\n",
    "        cursor.execute(cmd_get_p100)\n",
    "        p100s = get_list_ids_fromcursor(cursor.fetchall())\n",
    "        p100s_ls += p100s    \n",
    "    conn.close()\n",
    "    return(p100s_ls)"
   ]
  },
  {
   "cell_type": "code",
   "execution_count": 60,
   "id": "e0aec547-e476-40d7-a073-ef70f77da6b9",
   "metadata": {},
   "outputs": [
    {
     "name": "stdout",
     "output_type": "stream",
     "text": [
      "INSERT INTO neighbours SELECT p2hash,p1hash FROM prot2protwindow WHERE p1hash = '5088749308272be178d0'\n"
     ]
    }
   ],
   "source": [
    "def get_bait_neighbourhood(in_pid):\n",
    "    conn = sqlite3.connect('genegraph.db')\n",
    "    cursor = conn.cursor()\n",
    "    #cursor.execute(\"DROP TABLE neighbours\")\n",
    "                   \n",
    "    cmd_createtemptable = '''CREATE TABLE neighbours (pid, baitid, PRIMARY KEY(pid))'''\n",
    "    #cursor.execute(cmd_createtemptable)\n",
    "    \n",
    "    cmd_getbaitneighbs = \"INSERT INTO neighbours SELECT p2hash,p1hash FROM prot2protwindow WHERE p1hash = '%s'\" % (in_pid)\n",
    "    #print(cmd_getbaitneighbs)\n",
    "    #cursor.execute(cmd_getbaitneighbs)\n",
    "    cmd_getbaitneighbs = \"INSERT INTO neighbours SELECT p1hash,p2hash FROM prot2protwindow WHERE p2hash = '%s'\" % (in_pid)\n",
    "    #cursor.execute(cmd_getbaitneighbs)\n",
    "    cursor.execute(\"SELECT * FROM neighbours\")\n",
    "    rv = get_list_ids_fromcursor(cursor.fetchall())\n",
    "    conn.commit()\n",
    "    conn.close()\n",
    "    return rv\n",
    "\n",
    "neigh_ids = get_bait_neighbourhood(\"5088749308272be178d0\")\n",
    "\n",
    "    \n",
    "def get_p90s(p30_id):\n",
    "    conn = sqlite3.connect('genegraph.db')\n",
    "    cursor = conn.cursor()\n",
    "    cmd = \"SELECT pid FROM permissive WHERE reppid = '%s'\" % (p30_id)\n",
    "    cursor.execute(cmd)\n",
    "    p90s = get_list_ids_fromcursor(cursor.fetchall())\n",
    "    conn.close()\n",
    "    return(p90s)\n",
    "\n",
    "def get_p100s(p90_id):\n",
    "    conn = sqlite3.connect('genegraph.db')\n",
    "    cursor = conn.cursor()\n",
    "    cmd = \"SELECT pid FROM stringent WHERE reppid = '%s'\" % (p90_id)\n",
    "    cursor.execute(cmd)\n",
    "    p100s = get_list_ids_fromcursor(cursor.fetchall())\n",
    "    conn.close()\n",
    "    return(p100s)\n",
    "\n",
    "def p100isneighbour(p100_id):\n",
    "    conn = sqlite3.connect('genegraph.db')\n",
    "    cursor = conn.cursor()\n",
    "    cmd = \"SELECT * FROM neighbours WHERE pid = '%s'\" % (p100_id)\n",
    "    cursor.execute(cmd)\n",
    "    rv = len(get_list_ids_fromcursor(cursor.fetchall())) > 1\n",
    "    conn.close()\n",
    "    return(rv) \n",
    "\n",
    "def calc_icity(neighb_id):\n",
    "    p30=get_permissive_rep(neighb_id)\n",
    "    p90s = get_p90s(p30)\n",
    "    print(p90s)\n",
    "    hits = 0\n",
    "    for p90 in p90s:\n",
    "        p100s = get_p100s(p90)\n",
    "        print(p100s)\n",
    "        for p100 in p100s:\n",
    "            if p100isneighbour(p100):\n",
    "                hits += 1\n",
    "                break\n",
    "    return hits / len(p90)"
   ]
  },
  {
   "cell_type": "code",
   "execution_count": 61,
   "id": "c2171a49-1b6c-485e-b357-37ac63cff1dc",
   "metadata": {},
   "outputs": [
    {
     "name": "stdout",
     "output_type": "stream",
     "text": [
      "['5ec65be4a5c77e325af4', 'e633f4af36532bd61a77', 'bffb6454162dc0ff46b7', 'dc1e6a072f43855ab7ef', '915772758c2338905c98', '958997fe8686f3043a3b', '04c25bd8e8781cc1957a', 'f5373abaa62d19192e59', '08c77f1c274c28223c5d', '04287b36cbec057761ad', '883eb4bd43bc00145e3c', 'ef9f10c3a08e71984a92', '54cffe7cf1fca74ba3a1', '9d19f7789a6961384e64', 'cfe2465126f207458110', 'a6f41b0a6926a9e802e7', '0b9771a224ea8328c8e8']\n",
      "['5ec65be4a5c77e325af4']\n",
      "['e633f4af36532bd61a77']\n",
      "['bffb6454162dc0ff46b7']\n",
      "['dc1e6a072f43855ab7ef']\n",
      "['915772758c2338905c98']\n",
      "['958997fe8686f3043a3b']\n",
      "['04c25bd8e8781cc1957a']\n",
      "['f5373abaa62d19192e59']\n",
      "['08c77f1c274c28223c5d']\n",
      "['04287b36cbec057761ad', '0037b90d5d144f05527d']\n",
      "['883eb4bd43bc00145e3c']\n",
      "['ef9f10c3a08e71984a92']\n",
      "['54cffe7cf1fca74ba3a1']\n",
      "['9d19f7789a6961384e64']\n",
      "['cfe2465126f207458110']\n",
      "['a6f41b0a6926a9e802e7']\n",
      "['0b9771a224ea8328c8e8']\n"
     ]
    },
    {
     "data": {
      "text/plain": [
       "0.0"
      ]
     },
     "execution_count": 61,
     "metadata": {},
     "output_type": "execute_result"
    }
   ],
   "source": [
    "calc_icity(neigh_ids[0])"
   ]
  },
  {
   "cell_type": "code",
   "execution_count": 58,
   "id": "462590fe-3de3-49ef-9748-86cb49c87bc7",
   "metadata": {},
   "outputs": [],
   "source": [
    "t1, t2 = 0,0\n",
    "for i in range(10):\n",
    "    for j in range(20):\n",
    "        if j>5:\n",
    "            t2 += 1\n",
    "            break\n",
    "        "
   ]
  },
  {
   "cell_type": "code",
   "execution_count": 59,
   "id": "de9dca3d-d9a4-4e0b-8977-cdd619db5e35",
   "metadata": {},
   "outputs": [
    {
     "data": {
      "text/plain": [
       "10"
      ]
     },
     "execution_count": 59,
     "metadata": {},
     "output_type": "execute_result"
    }
   ],
   "source": [
    "t2"
   ]
  },
  {
   "cell_type": "code",
   "execution_count": 38,
   "id": "07684596-490a-4ebb-8c56-17676cd3237c",
   "metadata": {},
   "outputs": [
    {
     "data": {
      "text/plain": [
       "['ef9f10c3a08e71984a92',\n",
       " 'b0cd7fc41ed2e142a84a',\n",
       " '7426e51f0050136f0722',\n",
       " 'e1912a410e1beb69fe78',\n",
       " 'ce3ef3eefef3823f5aff',\n",
       " 'b078cbc8fc25b6bf5574']"
      ]
     },
     "execution_count": 38,
     "metadata": {},
     "output_type": "execute_result"
    }
   ],
   "source": [
    "neigh_id"
   ]
  },
  {
   "cell_type": "code",
   "execution_count": null,
   "id": "da9d267b-4607-4b53-8898-8bef85ab7f05",
   "metadata": {},
   "outputs": [],
   "source": []
  }
 ],
 "metadata": {
  "environment": {
   "kernel": "ggdb",
   "name": "common-cpu.m82",
   "type": "gcloud",
   "uri": "gcr.io/deeplearning-platform-release/base-cpu:m82"
  },
  "kernelspec": {
   "display_name": "ggdb",
   "language": "python",
   "name": "ggdb"
  },
  "language_info": {
   "codemirror_mode": {
    "name": "ipython",
    "version": 3
   },
   "file_extension": ".py",
   "mimetype": "text/x-python",
   "name": "python",
   "nbconvert_exporter": "python",
   "pygments_lexer": "ipython3",
   "version": "3.9.7"
  }
 },
 "nbformat": 4,
 "nbformat_minor": 5
}
