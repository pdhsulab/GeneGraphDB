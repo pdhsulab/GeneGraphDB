{
 "cells": [
  {
   "cell_type": "code",
   "execution_count": 57,
   "id": "891a25e2-72c4-40f4-85e2-069c82ec5e76",
   "metadata": {},
   "outputs": [],
   "source": [
    "import os\n",
    "import pandas as pd\n",
    "import matplotlib.pyplot as plt\n",
    "from Bio import SeqIO\n",
    "import csv\n",
    "import sqlite3\n",
    "import time\n",
    "from multiprocessing import Pool, cpu_count\n",
    "import sys\n",
    "import ast\n",
    "from collections import defaultdict"
   ]
  },
  {
   "cell_type": "code",
   "execution_count": null,
   "id": "b385f777-10f1-49d7-9a15-2b0401dc6435",
   "metadata": {},
   "outputs": [],
   "source": []
  },
  {
   "cell_type": "markdown",
   "id": "780e2348-d167-4a62-94c6-de0c2b261838",
   "metadata": {},
   "source": [
    "### simple -icity calculation: given single protein, find bait neighbourhoods of all related proteins within the 5kb window"
   ]
  },
  {
   "cell_type": "code",
   "execution_count": 58,
   "id": "e0178df9-a54f-4f73-bf4e-ed077186df3f",
   "metadata": {},
   "outputs": [],
   "source": [
    "def get_list_ids_fromcursor(fetchall):\n",
    "    return [fetchone[0] for fetchone in fetchall]"
   ]
  },
  {
   "cell_type": "code",
   "execution_count": 59,
   "id": "c18a7409-2d92-43bd-817a-ae509bbc1936",
   "metadata": {},
   "outputs": [],
   "source": [
    "def get_permissive_rep_(bait_pid):\n",
    "    conn = sqlite3.connect('genegraph.db')\n",
    "    cursor = conn.cursor()\n",
    "    perm_rep = None\n",
    "    cmd_p = \"SELECT p30 FROM clusters WHERE p100 = '%s'\" % (bait_pid)\n",
    "    cursor.execute(cmd_p)\n",
    "    perm_rep = cursor.fetchone()[0]\n",
    "    conn.close()\n",
    "    return(perm_rep)"
   ]
  },
  {
   "cell_type": "code",
   "execution_count": 60,
   "id": "53c462c0-71ff-4441-a194-f317bd721c7c",
   "metadata": {},
   "outputs": [],
   "source": [
    "def get_permissive_rep(bait_pid):\n",
    "    conn = sqlite3.connect('genegraph.db')\n",
    "    cursor = conn.cursor()\n",
    "    perm_rep = None\n",
    "    cmd_p = \"SELECT p30 FROM clusters WHERE p100 = '%s'\" % (bait_pid)\n",
    "    cursor.execute(cmd_p)\n",
    "    try:\n",
    "        perm_rep = cursor.fetchone()[0]\n",
    "    except:\n",
    "        pass\n",
    "    #perm_rep = cursor.fetchone()[0]\n",
    "    conn.close()\n",
    "    return(perm_rep)\n",
    "\n",
    "def get_related_baits(perm_rep):\n",
    "    conn = sqlite3.connect('genegraph.db')\n",
    "    cursor = conn.cursor()\n",
    "    cmd_get_strin_rep = \"SELECT p100 FROM clusters WHERE p30 = '%s'\" % (perm_rep)\n",
    "    cursor.execute(cmd_get_strin_rep)\n",
    "    p100s_ls = get_list_ids_fromcursor(cursor.fetchall())\n",
    "    conn.close()\n",
    "    return(list(set(p100s_ls)))"
   ]
  },
  {
   "cell_type": "code",
   "execution_count": 61,
   "id": "e0aec547-e476-40d7-a073-ef70f77da6b9",
   "metadata": {},
   "outputs": [],
   "source": [
    "def get_bait_neighbourhood(in_pid):\n",
    "    conn = sqlite3.connect('genegraph.db')\n",
    "    cursor = conn.cursor()\n",
    "\n",
    "    neighbours_set = set()\n",
    "    cmd_getbaitneighbs = \"SELECT p2hash FROM prot2protwindow WHERE p1hash = '%s'\" % (in_pid)\n",
    "    #print(cmd_getbaitneighbs)\n",
    "    cursor.execute(cmd_getbaitneighbs)\n",
    "    for neighb_id in get_list_ids_fromcursor(cursor.fetchall()):\n",
    "        neighbours_set.add(neighb_id) \n",
    "    cmd_getbaitneighbs = \"SELECT p1hash FROM prot2protwindow WHERE p2hash = '%s'\" % (in_pid)\n",
    "    cursor.execute(cmd_getbaitneighbs)\n",
    "    for neighb_id in get_list_ids_fromcursor(cursor.fetchall()):\n",
    "        neighbours_set.add(neighb_id)\n",
    "    conn.close()\n",
    "    rv = defaultdict(list)\n",
    "    for neighborid in neighbours_set:\n",
    "        rv[neighborid].append(in_pid)\n",
    "    return rv\n",
    "\n",
    "# #this function was only used for calculating cas1/cas2 icity as positive controls\n",
    "def get_full_bait_neighbourhood(baits_list):\n",
    "    neighbours_set = set()\n",
    "    for bait_id in baits_list:\n",
    "        neighbours_set.update(get_bait_neighbourhood(bait_id))\n",
    "    with open(\"bait_neighbourhood.txt\", \"w\") as outfile:\n",
    "        for neighbour_id in neighbours_set:\n",
    "            print(neighbour_id, file=outfile)\n",
    "    return neighbours_set\n",
    "        \n",
    "#neigh_ids = get_bait_neighbourhood(\"5088749308272be178d0\")\n",
    "\n",
    "\n",
    "def get_p90s(p30_id):\n",
    "    conn = sqlite3.connect('genegraph.db')\n",
    "    cursor = conn.cursor()\n",
    "    cmd = \"SELECT p90 FROM clusters WHERE p30 = '%s'\" % (p30_id)\n",
    "    cursor.execute(cmd)\n",
    "    p90s = get_list_ids_fromcursor(cursor.fetchall())\n",
    "    conn.close()\n",
    "    return(list(set(p90s)))\n",
    "\n",
    "def get_p100s(p90_id):\n",
    "    conn = sqlite3.connect('genegraph.db')\n",
    "    cursor = conn.cursor()\n",
    "    cmd = \"SELECT p100 FROM clusters WHERE p90 = '%s'\" % (p90_id)\n",
    "    cursor.execute(cmd)\n",
    "    p100s = get_list_ids_fromcursor(cursor.fetchall())\n",
    "    conn.close()\n",
    "    return(list(set(p100s)))\n",
    "\n",
    "\n",
    "def calc_icity(pid, neighb_set):\n",
    "    p30=get_permissive_rep(pid)\n",
    "    if p30 == None:\n",
    "        return None # to do - fix this issue by making comprehensive permissive clusters\n",
    "    p90s = get_p90s(p30)\n",
    "    #print(p90s)\n",
    "    hits = 0\n",
    "    #print(\"start calculating icity\")\n",
    "    for p90 in p90s:\n",
    "        p100s = get_p100s(p90)\n",
    "        #print(p100s)\n",
    "        for p100 in p100s:\n",
    "            if p100 in neighb_set:\n",
    "                hits += 1\n",
    "                break\n",
    "    #print(\"_icity for \" + pid + \" calculated\")\n",
    "    return [hits / len(p90s), hits, len(p90s)]"
   ]
  },
  {
   "cell_type": "code",
   "execution_count": 62,
   "id": "6cac5427-79e1-4b09-9298-64a8cdefcee3",
   "metadata": {},
   "outputs": [],
   "source": [
    "# perm_rep_ex = get_permissive_rep(\"e0f58eed15ffda8a926c\")\n",
    "# related_baits_ex = get_related_baits(perm_rep_ex)\n",
    "# bait_neighbourhood_ex = get_full_bait_neighbourhood(related_baits_ex)"
   ]
  },
  {
   "cell_type": "code",
   "execution_count": 63,
   "id": "c2171a49-1b6c-485e-b357-37ac63cff1dc",
   "metadata": {},
   "outputs": [],
   "source": [
    "def calc_icity_pool(pid_set_list):\n",
    "    pool = Pool(cpu_count())\n",
    "    results = pool.starmap(calc_icity, iterable = pid_set_list)\n",
    "    pool.close()\n",
    "    pool.join()\n",
    "    return results"
   ]
  },
  {
   "cell_type": "code",
   "execution_count": null,
   "id": "da6167ae-898b-4884-b572-ae86ec5e7860",
   "metadata": {},
   "outputs": [],
   "source": []
  },
  {
   "cell_type": "code",
   "execution_count": 64,
   "id": "5928a8e9-979c-4549-ae0b-e3e3a5a641ba",
   "metadata": {},
   "outputs": [],
   "source": [
    "# def final_icity_output(target_p100ids, bait_p100ids):\n",
    "#     bait_neighbourhood_ex = set()\n",
    "#     bait_p30s = []\n",
    "#     for bait_p100id in bait_p100ids:\n",
    "#         perm_rep_ex = get_permissive_rep(bait_p100id)\n",
    "#         bait_p30s.append(perm_rep_ex)\n",
    "#         related_baits_ex = get_related_baits(perm_rep_ex)\n",
    "#         bait_neighbourhood_ex.update(get_full_bait_neighbourhood(related_baits_ex))\n",
    "#     #print(sys.getsizeof(bait_neighbourhood_ex)) # to do - delete later\n",
    "#     icity_arglist = [(target_p100id, bait_neighbourhood_ex) for target_p100id in target_p100ids]\n",
    "#     print(target_p100ids)\n",
    "#     icity_list = calc_icity_pool(icity_arglist)\n",
    "#     print(len(bait_neighbourhood_ex))\n",
    "#     with open(\"rando_prot_icity_output.csv\", \"w\") as outfile:\n",
    "#         print(\"target_30id, icity, numer, denom\", file=outfile)\n",
    "#         for i in range(len(icity_arglist)):\n",
    "#             target_p100id = icity_arglist[i][0]\n",
    "#             target_p30id = get_permissive_rep(target_p100id)\n",
    "#             bait_p30ids = str(bait_p30s)\n",
    "#             #print(icity_list)\n",
    "#             try:\n",
    "#                 icity, numer, denom = str(icity_list[i][0]), str(icity_list[i][1]), str(icity_list[i][2])\n",
    "#                 print(\",\".join([target_p30id, icity, numer, denom]), file=outfile)\n",
    "#             except:\n",
    "#                 pass"
   ]
  },
  {
   "cell_type": "markdown",
   "id": "5366c6ff-1357-4bd3-b713-5bb586ccdc79",
   "metadata": {},
   "source": [
    "### tnpb data exploration"
   ]
  },
  {
   "cell_type": "code",
   "execution_count": null,
   "id": "e01a9b6c-95f5-470d-8987-e21e571d19e7",
   "metadata": {},
   "outputs": [],
   "source": []
  },
  {
   "cell_type": "code",
   "execution_count": 65,
   "id": "b4466864-8474-41e2-8005-c4281106817a",
   "metadata": {},
   "outputs": [
    {
     "data": {
      "text/plain": [
       "55599"
      ]
     },
     "execution_count": 65,
     "metadata": {},
     "output_type": "execute_result"
    }
   ],
   "source": [
    "tnpBs_list = []\n",
    "infile_tnpBs = \"tnpBs_in_testdb.p100.1e4.txt\"\n",
    "with open(infile_tnpBs, \"r\") as infile:\n",
    "    lines = infile.readlines()\n",
    "    for line in lines:\n",
    "        p100 = line.split('\\n')[0]\n",
    "        tnpBs_list.append(p100)\n",
    "len(tnpBs_list)"
   ]
  },
  {
   "cell_type": "code",
   "execution_count": 66,
   "id": "a0e54463-fbce-46ff-b89e-bcaceab6699f",
   "metadata": {},
   "outputs": [],
   "source": [
    "def get_permissive_rep_pool(bait_p100s):\n",
    "    pool = Pool(cpu_count())\n",
    "    results = pool.map(get_permissive_rep, bait_p100s)\n",
    "    pool.close()\n",
    "    pool.join()\n",
    "    return results"
   ]
  },
  {
   "cell_type": "code",
   "execution_count": null,
   "id": "bbdd77fb-ed0d-4e21-bf2f-7713707e3345",
   "metadata": {},
   "outputs": [],
   "source": []
  },
  {
   "cell_type": "code",
   "execution_count": 67,
   "id": "29c82a7d-733d-40dc-ba8b-e3e77fe8cdc0",
   "metadata": {},
   "outputs": [],
   "source": [
    "# perm_reps = get_permissive_rep_pool(tnpBs_list[:50])"
   ]
  },
  {
   "cell_type": "code",
   "execution_count": 68,
   "id": "3562a8d3-9133-4d04-a332-f5a87bc5fb4d",
   "metadata": {},
   "outputs": [],
   "source": [
    "def get_related_baits_pool(perm_rep_list):\n",
    "    pool = Pool(cpu_count())\n",
    "    results = pool.map(get_related_baits, perm_rep_list)\n",
    "    pool.close()\n",
    "    pool.join()\n",
    "    rv_list = []\n",
    "    for result in results:\n",
    "        rv_list += result\n",
    "    return rv_list"
   ]
  },
  {
   "cell_type": "code",
   "execution_count": 69,
   "id": "9aa15540-b3b9-484b-b800-07d9a86105f0",
   "metadata": {},
   "outputs": [],
   "source": [
    "# related_baits = get_related_baits_pool(perm_reps)\n",
    "# len(related_baits)"
   ]
  },
  {
   "cell_type": "code",
   "execution_count": 70,
   "id": "76de0c1c-fd01-4d80-9e4c-7bd7a79d9e3e",
   "metadata": {},
   "outputs": [],
   "source": [
    "def get_bait_neighb_pool(related_baits):\n",
    "    pool = Pool(cpu_count())\n",
    "    results = pool.map(get_bait_neighbourhood, related_baits)\n",
    "    pool.close()\n",
    "    pool.join()\n",
    "    merged_result_dict = {}\n",
    "    for result_dict in results:\n",
    "        merged_result_dict.update(result_dict)\n",
    "    #print(merged_result_dict)\n",
    "    return merged_result_dict"
   ]
  },
  {
   "cell_type": "code",
   "execution_count": 71,
   "id": "0cbb3db6-d61f-4cf0-ac8f-f877e7a299ae",
   "metadata": {},
   "outputs": [],
   "source": [
    "def create_tnpB_neighbourhood(bait_p100ids):\n",
    "    print(\"get permissive reps\")\n",
    "    perm_reps = get_permissive_rep_pool(bait_p100ids)\n",
    "    print(\"get related baits\")\n",
    "    related_baits = get_related_baits_pool(perm_reps)\n",
    "    print(\"get bait neighbs\")\n",
    "    bait_neighbs = get_bait_neighb_pool(related_baits)\n",
    "    print(\"writing bait neighbs\")\n",
    "    with open('bait_neighbourhood.tsv', 'w') as outfile:\n",
    "        for key in bait_neighbs.keys():\n",
    "            outfile.write(\"%s\\t%s\\n\"%(key,bait_neighbs[key]))\n",
    "    # with open(\"bait_neighbourhood.txt\", \"w\") as outfile:\n",
    "    #     for neighbour_id in bait_neighbs:\n",
    "    #         print(neighbour_id, file=outfile)\n",
    "    return bait_neighbs"
   ]
  },
  {
   "cell_type": "code",
   "execution_count": 72,
   "id": "bfed774b-a50a-4d59-848d-1ea8046fab64",
   "metadata": {},
   "outputs": [],
   "source": [
    "# tic = time.time()\n",
    "# create_tnpB_neighbourhood(tnpBs_list)\n",
    "# toc=time.time()"
   ]
  },
  {
   "cell_type": "code",
   "execution_count": 73,
   "id": "65c04833-55b0-4190-8f8b-742427d2e199",
   "metadata": {},
   "outputs": [],
   "source": [
    "# required to calculate tnpb icity\n",
    "# to do - make bait_neighb_ids a globally accessible variable later\n",
    "# bait_neighb_ids_dict = {}\n",
    "# with open(\"bait_neighbourhood.tsv\", \"r\") as infile:\n",
    "#     lines = infile.readlines()\n",
    "#     for line in lines:\n",
    "#         line_list = line.strip(\"\\n\").split(\"\\t\")\n",
    "#         neighb_id = line_list[0]\n",
    "#         bait_ids = ast.literal_eval(line_list[1])\n",
    "#         bait_neighb_ids_dict[neighb_id] = bait_ids\n",
    "# bait_neighb_ids = set()\n",
    "# for bait_neighb_id in bait_neighb_ids_dict.keys():\n",
    "#     bait_neighb_ids.add(bait_neighb_id)"
   ]
  },
  {
   "cell_type": "code",
   "execution_count": 74,
   "id": "3abe6cac-132d-4fd1-8244-a31af2a717d3",
   "metadata": {},
   "outputs": [],
   "source": [
    "#len(bait_neighb_ids_dict), len(tnpBs_list)"
   ]
  },
  {
   "cell_type": "code",
   "execution_count": 75,
   "id": "0ba4614f-d994-425a-8407-c6ef6b55bafd",
   "metadata": {},
   "outputs": [],
   "source": [
    "# tic = time.time()\n",
    "# get_baits_closetotarget(\"133307e8c61ec09a60\")\n",
    "# toc=time.time()"
   ]
  },
  {
   "cell_type": "code",
   "execution_count": 76,
   "id": "42c6f2ed-2801-4299-887f-c61b047df111",
   "metadata": {},
   "outputs": [],
   "source": [
    "# get_baits_closetotarget(\"133307e8c61ec09a60\")"
   ]
  },
  {
   "cell_type": "code",
   "execution_count": 77,
   "id": "f733c5d3-04ba-410b-a407-0714b37a1fca",
   "metadata": {},
   "outputs": [],
   "source": [
    "def calc_tnpb_icity(pid, bait_neighb_ids):\n",
    "    p30 = get_permissive_rep(pid)\n",
    "    if p30 == None:\n",
    "        return None # to do - fix this issue by making comprehensive permissive clusters\n",
    "    p90s = get_p90s(p30)\n",
    "    hits = 0\n",
    "    #print(\"start calculating icity\")\n",
    "    for p90 in p90s:\n",
    "        p100s = get_p100s(p90)\n",
    "        for p100 in p100s:\n",
    "            if p100 in bait_neighb_ids:\n",
    "                hits += 1\n",
    "                break\n",
    "    #print(\"_icity for \" + pid + \" calculated\")\n",
    "    return [hits / len(p90s), hits, len(p90s)]\n",
    "def calc_tnpb_icity_pool(pid_list):\n",
    "    pool = Pool(cpu_count())\n",
    "    results = pool.starmap(calc_tnpb_icity, iterable = pid_list)\n",
    "    pool.close()\n",
    "    pool.join()\n",
    "    return results"
   ]
  },
  {
   "cell_type": "code",
   "execution_count": 78,
   "id": "acd228e3-cad4-4433-aa60-a7586594c618",
   "metadata": {},
   "outputs": [],
   "source": [
    "def get_baits_closetotarget(p30targetid, bait_neighb_ids_dict):      \n",
    "    p100s = set()\n",
    "    p90s = get_p90s(p30targetid)\n",
    "    for p90 in p90s:\n",
    "        p100s.update(get_p100s(p90))\n",
    "    nearby_baits = set()\n",
    "    for p100 in p100s:\n",
    "        try:\n",
    "            baitids = bait_neighb_ids_dict[p100]\n",
    "            for baitid in baitids:\n",
    "                nearby_baits.add(baitid)\n",
    "        except:\n",
    "            pass\n",
    "        #baitids = bait_neighb_ids_dict[p100]\n",
    "    return list(nearby_baits)"
   ]
  },
  {
   "cell_type": "code",
   "execution_count": 79,
   "id": "d62e3859-2d25-4d8e-ada6-c8350834da17",
   "metadata": {},
   "outputs": [],
   "source": [
    "# tnpB_path = \"tnpB_icity_output.csv\"\n",
    "# tnpB_df = pd.read_csv(tnpB_path).rename(columns = \n",
    "#                                         {\" icity\": \"icity\", \n",
    "#                                          \" numer\": \"numer\", \n",
    "#                                          \" denom\": \"denom\"}).drop_duplicates()\n",
    "# #tnpB_df = tnpB_df[tnpB_df[\"icity\"] > .7].sort_values([\"icity\",\"numer\"], ascending = False)\n",
    "# target_p30s = list(tnpB_df['target_p100id'])\n",
    "# len(target_p30s)"
   ]
  },
  {
   "cell_type": "code",
   "execution_count": 80,
   "id": "6059a9c5-c058-4adb-83b3-25b8a10222bf",
   "metadata": {},
   "outputs": [
    {
     "name": "stdout",
     "output_type": "stream",
     "text": [
      "1613\n",
      "3394\n",
      "11739\n"
     ]
    }
   ],
   "source": [
    "inactive_tnpBs_list = []\n",
    "with open(\"../tnpBs/_all_inactive_tnpBs.3.faa\", \"r\") as infile:\n",
    "    lines=infile.readlines()\n",
    "    for line in lines:\n",
    "        if line[0] == '>':\n",
    "            tnpBid = line.strip('>').strip('\\n')\n",
    "            inactive_tnpBs_list.append(tnpBid)\n",
    "            \n",
    "print(len(inactive_tnpBs_list))\n",
    "\n",
    "with open(\"../tnpBs/_all_inactive_tnpBs.2.faa\", \"r\") as infile:\n",
    "    lines=infile.readlines()\n",
    "    for line in lines:\n",
    "        if line[0] == '>':\n",
    "            tnpBid = line.strip('>').strip('\\n')\n",
    "            inactive_tnpBs_list.append(tnpBid)\n",
    "\n",
    "print(len(inactive_tnpBs_list))\n",
    "\n",
    "with open(\"../tnpBs/_all_inactive_tnpBs.1.faa\", \"r\") as infile:\n",
    "    lines=infile.readlines()\n",
    "    for line in lines:\n",
    "        if line[0] == '>':\n",
    "            tnpBid = line.strip('>').strip('\\n')\n",
    "            inactive_tnpBs_list.append(tnpBid)\n",
    "\n",
    "print(len(inactive_tnpBs_list))"
   ]
  },
  {
   "cell_type": "code",
   "execution_count": 81,
   "id": "e7d302e7-28f9-4357-ade4-30ce51176dfc",
   "metadata": {},
   "outputs": [],
   "source": [
    "test_tnpBs = ['32e56140588692cbfb', '191f1be0b68ca79ff6', '3808fae964963f6310', '318e083e7fb2e55736', 'e88066d62f86ccf767', '2fbae772397b73d65f', 'f3b670d8b2cf9714c7', '6116321d9a36b8933c', '903bc422568dece6a8', '7798f90257f54ece7e', '9acd78fbd6edc88358', '393474d6188f0450c9', 'b18ae9dfef50b1bd8d', '9cd05a18735a3bc637', '8c5a7b9b13d8e56e3a', '6222751607b4b15702', '0145eb10f554ce522d', '81c9c50070bbe1c5cf', '4c43c2cb810631fe3e', '41ef4ef75bd15e3762', '370a9e0aefebf28663', 'bcbe3060b45beaba5f', 'b36f94d2b41b00bf14', '4e5fba4390bd1d67c6', '2b755952ce05675522', 'bebc59761f02536509', 'a2becbc10194ff1ce0']"
   ]
  },
  {
   "cell_type": "code",
   "execution_count": 82,
   "id": "8e003f64-28d2-464b-948f-ebb116333bb4",
   "metadata": {},
   "outputs": [
    {
     "data": {
      "text/plain": [
       "(27, 17)"
      ]
     },
     "execution_count": 82,
     "metadata": {},
     "output_type": "execute_result"
    }
   ],
   "source": [
    "len(test_tnpBs), sum([tnpB in test_tnpBs for tnpB in inactive_tnpBs_list])"
   ]
  },
  {
   "cell_type": "code",
   "execution_count": 83,
   "id": "5093f957-aafc-4486-b6b7-578e6c19c2a4",
   "metadata": {},
   "outputs": [],
   "source": [
    "sig70_near_dTnpB_3_list = ['aa6af7e9289c3558d3', 'c1050b21cc75640d51', '23422406293d40c201', '6bf6c4c7da68779d7a']"
   ]
  },
  {
   "cell_type": "code",
   "execution_count": 84,
   "id": "42f2768a-5c72-4b84-8958-bd43edf630a8",
   "metadata": {},
   "outputs": [],
   "source": [
    "def tnpB_icity_output(tnpBs_list):\n",
    "    # maps neighbor genes to nearby baits and bait relatives\n",
    "    print(\"getting all genes near baits that could contribute to icity\")\n",
    "    bait_neighb_ids_dict = create_tnpB_neighbourhood(tnpBs_list)\n",
    "    bait_neighb_ids = set()\n",
    "    for bait_neighb_id in bait_neighb_ids_dict.keys():\n",
    "        bait_neighb_ids.add(bait_neighb_id)\n",
    "    print(\"mapping all target genes to nearby baits\")\n",
    "    \n",
    "    ## considers a more restricted pool of tnpB neighbors as target genes\n",
    "    #target_ids_dict = get_bait_neighb_pool(tnpBs_list)\n",
    "    target_ids_dict = bait_neighb_ids_dict\n",
    "    print(\"target to bait dict created: \" + str(len(target_ids_dict)))\n",
    "    target_p100ids = []\n",
    "    print(str(len(target_ids_dict.keys())) + \" keys in dict\")\n",
    "    for target_id in target_ids_dict.keys():\n",
    "        target_p100ids.append(target_id)\n",
    "\n",
    "    icity_arglist = [(target_p100id, bait_neighb_ids) for target_p100id in target_p100ids] \n",
    "    print(\"calculating icity for \" + str(len(icity_arglist)) + \" target genes\")\n",
    "    icity_list = calc_tnpb_icity_pool(icity_arglist)\n",
    "    print(\"icity for \" + str(len(icity_list)) + \" target genes calculated\")\n",
    "    count_err, getbaits_err = 0, 0\n",
    "    print(\"writing -icity to outfile\")\n",
    "    with open(\"../ggdb_dfs/dTnpB_icity_output.tsv\", \"w\") as outfile:\n",
    "    #with open(\"sig70_icity_output.tmp.csv\", \"w\") as outfile:\n",
    "        print(\"target_p30id\\tbaitp100s\\ticity\\tnumer\\tdenom\", file=outfile)\n",
    "        for i in range(len(icity_arglist)):\n",
    "            target_p100id = icity_arglist[i][0]\n",
    "            target_p30id = get_permissive_rep(target_p100id)\n",
    "            try:\n",
    "                baitp100s = str(get_baits_closetotarget(target_p30id, bait_neighb_ids_dict))\n",
    "            except:\n",
    "                getbaits_err += 1\n",
    "                continue\n",
    "            try:\n",
    "                icity, numer, denom = str(icity_list[i][0]), str(icity_list[i][1]), str(icity_list[i][2])\n",
    "                print(\"\\t\".join([target_p30id, baitp100s, icity, numer, denom]), file=outfile)\n",
    "            except Exception as e:\n",
    "                count_err += 1\n",
    "                # print(icity_list[i])\n",
    "                # print(e)\n",
    "    print(\"num getbaits_err is \" + str(getbaits_err))\n",
    "    print(\"num exceptions is \" + str(count_err))\n",
    "#tnpB_icity_output(inactive_tnpBs_list)\n",
    "#tnpB_icity_output(sig70_near_dTnpB_3_list)"
   ]
  },
  {
   "cell_type": "code",
   "execution_count": 51,
   "id": "b7214dfc-e968-4120-af7d-f09859047092",
   "metadata": {},
   "outputs": [],
   "source": [
    "# process icity outputs to fetch neighborhoods\n",
    "icity_outpath = '../ggdb_dfs/dTnpB_icity_output.tsv'\n",
    "df_dtnpBicity_output = pd.read_csv(icity_outpath, sep = '\\t')\n",
    "df_dtnpBicity_output = df_dtnpBicity_output[df_dtnpBicity_output['icity'] > .7]\n",
    "df_dtnpBicity_output = df_dtnpBicity_output[df_dtnpBicity_output['denom'] > 10]\n",
    "df_dtnpBicity_output = df_dtnpBicity_output.drop_duplicates().iloc[:, 0:2]\n",
    "df_dtnpBicity_output.to_csv(\"../ggdb_dfs/dTnpB_anymut_target_fetch.input.tsv\", sep = '\\t', index = False)"
   ]
  },
  {
   "cell_type": "code",
   "execution_count": 52,
   "id": "ce0832a0-554f-48a3-8532-6e165420223b",
   "metadata": {},
   "outputs": [],
   "source": [
    "sig70_icity_df = pd.read_csv(\"../ggdb_dfs/sig70_icity_output.tmp.tsv\", sep = '\\t')\n",
    "sig70_icity_out = \"../ggdb_dfs/sig70_icity_output.tmp.tsv\"\n",
    "sig70_icity_df = pd.read_csv(sig70_icity_out, sep = \"\\t\")\n",
    "sig70_icity_df = sig70_icity_df[sig70_icity_df[\"icity\"] > .7]\n",
    "sig70_icity_df = sig70_icity_df[sig70_icity_df[\"denom\"] > 1]\n",
    "sig70_icity_df = sig70_icity_df.drop_duplicates().iloc[:, 0:2]\n",
    "sig70_icity_df.to_csv(\"../ggdb_dfs/sig70_target_fetch.input.tsv\", sep = '\\t', index = False)"
   ]
  },
  {
   "cell_type": "code",
   "execution_count": 45,
   "id": "f7afaddd-54b5-48b1-86d2-3d1987acf0c8",
   "metadata": {},
   "outputs": [
    {
     "data": {
      "text/plain": [
       "set()"
      ]
     },
     "execution_count": 45,
     "metadata": {},
     "output_type": "execute_result"
    }
   ],
   "source": [
    "sig70_target = set(sig70_icity_df['target_p30id'])\n",
    "dTnpB_target = set(df_dtnpBicity_output['target_p30id'])\n",
    "sig70_target.intersection(dTnpB_target)"
   ]
  },
  {
   "cell_type": "code",
   "execution_count": 53,
   "id": "0545ea87-ad47-45b6-84ae-87150388882c",
   "metadata": {},
   "outputs": [
    {
     "data": {
      "text/plain": [
       "(91, 21)"
      ]
     },
     "execution_count": 53,
     "metadata": {},
     "output_type": "execute_result"
    }
   ],
   "source": [
    "len(dTnpB_target), len(sig70_target)\n"
   ]
  },
  {
   "cell_type": "code",
   "execution_count": null,
   "id": "6b749e63-9c32-4246-a4ab-d42ba5a3d4c3",
   "metadata": {},
   "outputs": [],
   "source": []
  },
  {
   "cell_type": "code",
   "execution_count": 86,
   "id": "a18b79b6-b1f2-4cd5-ba79-30d79f75c2e8",
   "metadata": {},
   "outputs": [],
   "source": [
    "def all_related_proteins(pid_list):\n",
    "    perm_reps = get_permissive_rep_pool(pid_list)\n",
    "    related_proteins = get_related_baits_pool(perm_reps)\n",
    "    return related_proteins"
   ]
  },
  {
   "cell_type": "code",
   "execution_count": null,
   "id": "96b59a30-3246-4147-9faa-767a1f73e850",
   "metadata": {},
   "outputs": [],
   "source": [
    "#tnpB_p30_fam = all_related_proteins(tnpBs_list)"
   ]
  },
  {
   "cell_type": "code",
   "execution_count": 89,
   "id": "cb206273-d61d-49cc-9ebf-b60a8e204b6d",
   "metadata": {},
   "outputs": [
    {
     "data": {
      "text/plain": [
       "True"
      ]
     },
     "execution_count": 89,
     "metadata": {},
     "output_type": "execute_result"
    }
   ],
   "source": [
    "'c12c9995cce1b4529a' in inactive_tnpBs_list"
   ]
  },
  {
   "cell_type": "code",
   "execution_count": 88,
   "id": "a862946c-000a-47e6-b9e6-448ea37dab50",
   "metadata": {},
   "outputs": [
    {
     "data": {
      "text/plain": [
       "685647"
      ]
     },
     "execution_count": 88,
     "metadata": {},
     "output_type": "execute_result"
    }
   ],
   "source": [
    "len(dtnpB_p30_fam)"
   ]
  },
  {
   "cell_type": "code",
   "execution_count": 87,
   "id": "b322eb43-b618-4639-90bf-9c474960493c",
   "metadata": {},
   "outputs": [],
   "source": [
    "# RUNS FOR A LONG TIME WHAT\n",
    "dtnpB_p30_fam = all_related_proteins(inactive_tnpBs_list)"
   ]
  },
  {
   "cell_type": "code",
   "execution_count": 101,
   "id": "db8f2127-4ed6-443f-8057-c84d555043b4",
   "metadata": {},
   "outputs": [
    {
     "data": {
      "text/plain": [
       "4"
      ]
     },
     "execution_count": 101,
     "metadata": {},
     "output_type": "execute_result"
    }
   ],
   "source": [
    "len(set(sig70_icity_df[\"target_p30id\"]).intersection(tnpBs_list))"
   ]
  },
  {
   "cell_type": "code",
   "execution_count": 102,
   "id": "c832f963-c4c6-4a2b-90fe-59d542279cf2",
   "metadata": {},
   "outputs": [
    {
     "data": {
      "text/plain": [
       "3"
      ]
     },
     "execution_count": 102,
     "metadata": {},
     "output_type": "execute_result"
    }
   ],
   "source": [
    "len(set(sig70_icity_df[\"target_p30id\"]).intersection(inactive_tnpBs_list))"
   ]
  },
  {
   "cell_type": "markdown",
   "id": "b616723d-d4a9-45a7-9864-030fb2f5fdb3",
   "metadata": {
    "tags": []
   },
   "source": [
    "### get all cas1s and cas2s"
   ]
  },
  {
   "cell_type": "code",
   "execution_count": null,
   "id": "8737e533-90f9-4455-9641-b133b46246d7",
   "metadata": {},
   "outputs": [],
   "source": [
    "# path_drep = \"../drep_genomes/OUTPUT/rep_genomes/\"\n",
    "# drep_paths = []\n",
    "# # for directory in os.listdir(path_drep):\n",
    "# #     drep_samples[directory] = path_drep + \"/\" + directory\n",
    "# for directory in os.listdir(path_drep):\n",
    "#     path_2 = path_drep + directory\n",
    "#     if os.path.isdir(path_2):\n",
    "#         for directory_2 in os.listdir(path_2):\n",
    "#             path_3 = path_2 + \"/\" + directory_2\n",
    "#             if os.path.isdir(path_3):\n",
    "#                 for directory_3 in os.listdir(path_3):\n",
    "#                     path_4 = path_3 + \"/\" + directory_3 + \"/\"\n",
    "#                     if os.path.isdir(path_4):\n",
    "#                         for directory_samp in os.listdir(path_4):\n",
    "#                             samp_dir = path_4 + directory_samp\n",
    "#                             if os.path.isdir(samp_dir):\n",
    "#                                 drep_paths.append([samp_dir, directory_samp])"
   ]
  },
  {
   "cell_type": "code",
   "execution_count": null,
   "id": "40d4836f-3da3-47d7-a23e-543b454779d2",
   "metadata": {},
   "outputs": [],
   "source": [
    "def get_castyperfiles(drep_path):\n",
    "    bucket_path = \"gs://durrant/crispestdb/\" + drep_path[0][35:] + \"/\" + drep_path[1] + \".crisprcastyper.domains.tsv.gz\"\n",
    "    command_download = \"gsutil cp \" + bucket_path + \" \" + drep_path[0]\n",
    "    os.system(command_download)\n",
    "    command_gunzip = \"gunzip \" + drep_path[0] + \"/\" + drep_path[1] + \".crisprcastyper.domains.tsv.gz\"\n",
    "    os.system(command_gunzip)\n",
    "    \n",
    "def get_castyperfiles_pool(drep_paths):\n",
    "    pool = Pool(cpu_count())\n",
    "    results = pool.map(get_castyperfiles, drep_paths)\n",
    "    pool.close()\n",
    "    pool.join()\n",
    "\n",
    "#get_castyperfiles_pool(drep_paths)"
   ]
  },
  {
   "cell_type": "code",
   "execution_count": null,
   "id": "d7c9f9a0-237c-426c-a2d8-8c2bc7868d3b",
   "metadata": {},
   "outputs": [],
   "source": [
    "# drep_cct_paths = []\n",
    "# for drep_path in drep_paths:\n",
    "#     cct_path = drep_path[0] + \"/\" + drep_path[1] + \".crisprcastyper.domains.tsv\"\n",
    "#     drep_cct_paths.append(cct_path)\n",
    "# len(drep_cct_paths)"
   ]
  },
  {
   "cell_type": "code",
   "execution_count": null,
   "id": "f8cb4c2f-52bb-4656-93a4-a8d13ad11e6d",
   "metadata": {},
   "outputs": [],
   "source": [
    "# # get all cas1s and cas 2s\n",
    "# count = 0\n",
    "# for drep_cct_path in drep_cct_paths:\n",
    "#     try:\n",
    "#         with open(drep_cct_path, \"r\") as infile:\n",
    "#             next(infile)\n",
    "#             lines = infile.readlines()\n",
    "#             for line in lines:\n",
    "#                 line_sep = line.split('\\t')\n",
    "#                 #print(line_sep)\n",
    "#                 header = line_sep[0]\n",
    "#                 cas_annot = line_sep[3]\n",
    "#                 if \"Cas1_\" in cas_annot:\n",
    "#                     print(drep_cct_path + \",\" + header[:20] + \",\" + cas_annot, file = open(\"cas1_drep.csv\", \"a\"))\n",
    "#                 if \"Cas2_\" in cas_annot:\n",
    "#                     print(drep_cct_path + \",\" + header[:20] + \",\" + cas_annot, file = open(\"cas2_drep.csv\", \"a\"))\n",
    "#     except:\n",
    "#         with open(\"missed_cct_paths.txt\", \"a\") as outfile:\n",
    "#             print(drep_cct_path, file=outfile)"
   ]
  },
  {
   "cell_type": "code",
   "execution_count": null,
   "id": "ba231d4d-f6b4-4e0e-ae53-5a6e1944a280",
   "metadata": {},
   "outputs": [],
   "source": [
    "# cas1s_set, cas2s_set = set(), set()\n",
    "# with open(\"cas1_drep.csv\", \"r\") as infile:\n",
    "#     lines = infile.readlines()\n",
    "#     for line in lines:\n",
    "#         line_sep = line.split(',')\n",
    "#         cas1_id = line_sep[1]\n",
    "#         cas1s_set.add(cas1_id)\n",
    "# with open(\"cas2_drep.csv\", \"r\") as infile:\n",
    "#     lines = infile.readlines()\n",
    "#     for line in lines:\n",
    "#         line_sep = line.split(',')\n",
    "#         cas2_id = line_sep[1]\n",
    "#         cas2s_set.add(cas2_id)"
   ]
  },
  {
   "cell_type": "code",
   "execution_count": null,
   "id": "2abbefdc-2876-4cf3-a0f0-f54bbda8b177",
   "metadata": {},
   "outputs": [],
   "source": [
    "# len(cas1s_set), len(cas2s_set)"
   ]
  },
  {
   "cell_type": "code",
   "execution_count": null,
   "id": "7c2868e1-045c-41c3-b5c0-67527fe664b7",
   "metadata": {},
   "outputs": [],
   "source": [
    "def get_random10kprot():\n",
    "    conn = sqlite3.connect('genegraph.db')\n",
    "    cursor = conn.cursor()\n",
    "    cmd = \"SELECT hashid FROM proteins ORDER BY hashid LIMIT 10000\"\n",
    "    cursor.execute(cmd)\n",
    "    random10kprot = get_list_ids_fromcursor(cursor.fetchall())\n",
    "    conn.close()\n",
    "    return(random10kprot)"
   ]
  },
  {
   "cell_type": "code",
   "execution_count": null,
   "id": "779874a6-8cf3-4662-b6ae-393674d14853",
   "metadata": {},
   "outputs": [],
   "source": [
    "# random_9_proteins = [\"00000009ba423c2c0a75\", \"00000051418dfe799d75\", \"0000005ef429c9ab9d45\", \"00000071a6b842424f6a\", \"000000777af16a869fb0\", \"000000d70aca3d611da1\", \"000000e13071a7ecf39f\", \"0000011dab156def9db5\", \"00000129e4bc5caa1562\"]\n",
    "# final_icity_output(random_9_proteins, list(cas2s_set))"
   ]
  },
  {
   "cell_type": "code",
   "execution_count": null,
   "id": "9c44c58a-64ab-4f1d-841a-2a339982d62f",
   "metadata": {},
   "outputs": [],
   "source": [
    "def final_icity_output(target_p100ids, bait_p100ids, outfilename):\n",
    "    bait_neighbourhood_ex = set()\n",
    "    bait_p30s = []\n",
    "    for bait_p100id in bait_p100ids:\n",
    "        perm_rep_ex = get_permissive_rep(bait_p100id)\n",
    "        bait_p30s.append(perm_rep_ex)\n",
    "        related_baits_ex = get_related_baits(perm_rep_ex)\n",
    "        bait_neighbourhood_ex.update(get_full_bait_neighbourhood(related_baits_ex))\n",
    "    icity_arglist = [(target_p100id, bait_neighbourhood_ex) for target_p100id in target_p100ids]\n",
    "    icity_list = calc_icity_pool(icity_arglist)\n",
    "    with open(outfilename, \"w\") as outfile:\n",
    "        print(\"target_30id, bait_30ids, icity, numer, denom\", file=outfile)\n",
    "        for i in range(len(icity_arglist)):\n",
    "            target_p100id = icity_arglist[i][0]\n",
    "            target_p30id = get_permissive_rep(target_p100id)\n",
    "            bait_p30ids = str(bait_p30s)\n",
    "            asdf\n",
    "            try:\n",
    "                icity, numer, denom = str(icity_list[i][0]), str(icity_list[i][1]), str(icity_list[i][2])\n",
    "                print(\",\".join([target_p30id, bait_p30ids, icity, numer, denom]), file=outfile)\n",
    "            except:\n",
    "                pass"
   ]
  },
  {
   "cell_type": "code",
   "execution_count": 174,
   "id": "4747b7b0-b0d2-4123-9729-6a98af22e4d7",
   "metadata": {},
   "outputs": [],
   "source": [
    "tnpaid = ['1398176b7a94c33a68']\n",
    "tnpbid = []\n",
    "with open('tnpBs_in_testdb.p100.1e4.txt', 'r') as infile:\n",
    "    lines = infile.readlines()\n",
    "    for line in lines:\n",
    "        line = line.strip('\\n')\n",
    "        tnpbid.append(line)\n",
    "#cas1id = ['6c41d89d162aad350fac']\n"
   ]
  },
  {
   "cell_type": "code",
   "execution_count": null,
   "id": "d5b75e71-eeba-434e-a05c-26b32969906b",
   "metadata": {},
   "outputs": [],
   "source": [
    "\n",
    "\n",
    "#final_icity_output(tnpbid, tnpaid, \"tnpB_tnpA_icity.csv\")"
   ]
  },
  {
   "cell_type": "code",
   "execution_count": 175,
   "id": "2058e62d-c1cd-403e-85db-9f446d5168e5",
   "metadata": {},
   "outputs": [
    {
     "data": {
      "text/html": [
       "<div>\n",
       "<style scoped>\n",
       "    .dataframe tbody tr th:only-of-type {\n",
       "        vertical-align: middle;\n",
       "    }\n",
       "\n",
       "    .dataframe tbody tr th {\n",
       "        vertical-align: top;\n",
       "    }\n",
       "\n",
       "    .dataframe thead th {\n",
       "        text-align: right;\n",
       "    }\n",
       "</style>\n",
       "<table border=\"1\" class=\"dataframe\">\n",
       "  <thead>\n",
       "    <tr style=\"text-align: right;\">\n",
       "      <th></th>\n",
       "      <th>target_30id</th>\n",
       "      <th>bait_30ids</th>\n",
       "      <th>icity</th>\n",
       "      <th>numer</th>\n",
       "      <th>denom</th>\n",
       "    </tr>\n",
       "  </thead>\n",
       "  <tbody>\n",
       "    <tr>\n",
       "      <th>44562</th>\n",
       "      <td>cc5292a91766840a86</td>\n",
       "      <td>['ba436543bec6c30920']</td>\n",
       "      <td>0.500000</td>\n",
       "      <td>1</td>\n",
       "      <td>2</td>\n",
       "    </tr>\n",
       "    <tr>\n",
       "      <th>1870</th>\n",
       "      <td>74fd0ac8957faee53e</td>\n",
       "      <td>['ba436543bec6c30920']</td>\n",
       "      <td>0.333333</td>\n",
       "      <td>9</td>\n",
       "      <td>27</td>\n",
       "    </tr>\n",
       "    <tr>\n",
       "      <th>2424</th>\n",
       "      <td>74fd0ac8957faee53e</td>\n",
       "      <td>['ba436543bec6c30920']</td>\n",
       "      <td>0.333333</td>\n",
       "      <td>9</td>\n",
       "      <td>27</td>\n",
       "    </tr>\n",
       "    <tr>\n",
       "      <th>3166</th>\n",
       "      <td>74fd0ac8957faee53e</td>\n",
       "      <td>['ba436543bec6c30920']</td>\n",
       "      <td>0.333333</td>\n",
       "      <td>9</td>\n",
       "      <td>27</td>\n",
       "    </tr>\n",
       "    <tr>\n",
       "      <th>3521</th>\n",
       "      <td>74fd0ac8957faee53e</td>\n",
       "      <td>['ba436543bec6c30920']</td>\n",
       "      <td>0.333333</td>\n",
       "      <td>9</td>\n",
       "      <td>27</td>\n",
       "    </tr>\n",
       "    <tr>\n",
       "      <th>...</th>\n",
       "      <td>...</td>\n",
       "      <td>...</td>\n",
       "      <td>...</td>\n",
       "      <td>...</td>\n",
       "      <td>...</td>\n",
       "    </tr>\n",
       "    <tr>\n",
       "      <th>55594</th>\n",
       "      <td>036038cad221bceb4e</td>\n",
       "      <td>['ba436543bec6c30920']</td>\n",
       "      <td>0.000000</td>\n",
       "      <td>0</td>\n",
       "      <td>108</td>\n",
       "    </tr>\n",
       "    <tr>\n",
       "      <th>55595</th>\n",
       "      <td>619eb8dabd2cbfc016</td>\n",
       "      <td>['ba436543bec6c30920']</td>\n",
       "      <td>0.000000</td>\n",
       "      <td>0</td>\n",
       "      <td>21</td>\n",
       "    </tr>\n",
       "    <tr>\n",
       "      <th>55596</th>\n",
       "      <td>3553d3be1f9f123d33</td>\n",
       "      <td>['ba436543bec6c30920']</td>\n",
       "      <td>0.000000</td>\n",
       "      <td>0</td>\n",
       "      <td>16</td>\n",
       "    </tr>\n",
       "    <tr>\n",
       "      <th>55597</th>\n",
       "      <td>fea7d737b56d968a7a</td>\n",
       "      <td>['ba436543bec6c30920']</td>\n",
       "      <td>0.000000</td>\n",
       "      <td>0</td>\n",
       "      <td>5</td>\n",
       "    </tr>\n",
       "    <tr>\n",
       "      <th>55598</th>\n",
       "      <td>419f5016142b219a02</td>\n",
       "      <td>['ba436543bec6c30920']</td>\n",
       "      <td>0.000000</td>\n",
       "      <td>0</td>\n",
       "      <td>19</td>\n",
       "    </tr>\n",
       "  </tbody>\n",
       "</table>\n",
       "<p>55594 rows × 5 columns</p>\n",
       "</div>"
      ],
      "text/plain": [
       "              target_30id              bait_30ids     icity   numer   denom\n",
       "44562  cc5292a91766840a86  ['ba436543bec6c30920']  0.500000       1       2\n",
       "1870   74fd0ac8957faee53e  ['ba436543bec6c30920']  0.333333       9      27\n",
       "2424   74fd0ac8957faee53e  ['ba436543bec6c30920']  0.333333       9      27\n",
       "3166   74fd0ac8957faee53e  ['ba436543bec6c30920']  0.333333       9      27\n",
       "3521   74fd0ac8957faee53e  ['ba436543bec6c30920']  0.333333       9      27\n",
       "...                   ...                     ...       ...     ...     ...\n",
       "55594  036038cad221bceb4e  ['ba436543bec6c30920']  0.000000       0     108\n",
       "55595  619eb8dabd2cbfc016  ['ba436543bec6c30920']  0.000000       0      21\n",
       "55596  3553d3be1f9f123d33  ['ba436543bec6c30920']  0.000000       0      16\n",
       "55597  fea7d737b56d968a7a  ['ba436543bec6c30920']  0.000000       0       5\n",
       "55598  419f5016142b219a02  ['ba436543bec6c30920']  0.000000       0      19\n",
       "\n",
       "[55594 rows x 5 columns]"
      ]
     },
     "execution_count": 175,
     "metadata": {},
     "output_type": "execute_result"
    }
   ],
   "source": [
    "df_highicitysearch = pd.read_csv('tnpB_tnpA_icity.csv')\n",
    "df_highicitysearch = df_highicitysearch.sort_values([' icity', ' numer'], ascending = False)\n",
    "df_highicitysearch[df_highicitysearch[' icity'] < 1]"
   ]
  },
  {
   "cell_type": "code",
   "execution_count": null,
   "id": "44bce873-8cef-48dc-b62d-ab8ce06640b4",
   "metadata": {},
   "outputs": [],
   "source": [
    "# cas1_icity_list = []\n",
    "# with open(\"cas2icity_output.csv\", \"r\") as infile:\n",
    "#     next(infile)\n",
    "#     lines = infile.readlines()\n",
    "#     for line in lines:\n",
    "#         line_sep = line.split(',')\n",
    "#         cas1_icity = line_sep[1]\n",
    "#         cas1_icity_list.append(float(cas1_icity))\n",
    "# cas2_icity_list = []\n",
    "# with open(\"cas1icity_output.csv\", \"r\") as infile:\n",
    "#     next(infile)\n",
    "#     lines = infile.readlines()\n",
    "#     for line in lines:\n",
    "#         line_sep = line.split(',')\n",
    "#         cas2_icity = line_sep[1]\n",
    "#         cas2_icity_list.append(float(cas2_icity))\n",
    "# rando_prot_icity_list = []\n",
    "# with open(\"rando_prot_icity_output.csv\", \"r\") as infile:\n",
    "#     next(infile)\n",
    "#     lines = infile.readlines()\n",
    "#     for line in lines:\n",
    "#         line_sep = line.split(',')\n",
    "#         rando_prot_icity = line_sep[1]\n",
    "#         rando_prot_icity_list.append(float(rando_prot_icity))"
   ]
  },
  {
   "cell_type": "code",
   "execution_count": 12,
   "id": "7224bf2c-ee5a-4fb2-9639-cc81e168bff9",
   "metadata": {},
   "outputs": [],
   "source": [
    "# plt.hist(rando_prot_icity_list, bins = [0,.1,.2,.3,.4,.5,.6,.7,.8,.9,1])\n",
    "# plt.xlabel(\"icity score of random proteins\")\n",
    "# plt.ylabel(\"frequency\")\n",
    "# plt.title(\"cas2-icity scores for 10k random proteins in 80k isolate genomes\")"
   ]
  },
  {
   "cell_type": "code",
   "execution_count": 13,
   "id": "1c71b57b-a639-4927-819a-7e514a3fb012",
   "metadata": {},
   "outputs": [],
   "source": [
    "# plt.hist(cas1_icity_list, bins = [0,.1,.2,.3,.4,.5,.6,.7,.8,.9,1])\n",
    "# plt.xlabel(\"cas2-icity score\")\n",
    "# plt.ylabel(\"frequency\")\n",
    "# plt.title(\"cas2-icity scores for all cas1s in 80k isolate genomes\")"
   ]
  },
  {
   "cell_type": "code",
   "execution_count": 14,
   "id": "e47d5a3c-2c0d-40f0-89e8-a860a5714a22",
   "metadata": {},
   "outputs": [],
   "source": [
    "# plt.hist(cas2_icity_list, bins = [0,.1,.2,.3,.4,.5,.6,.7,.8,.9,1])\n",
    "# plt.xlabel(\"cas1-icity score\")\n",
    "# plt.ylabel(\"frequency\")\n",
    "# plt.title(\"cas1-icity scores for all cas2s in 80k isolate genomes\")"
   ]
  },
  {
   "cell_type": "markdown",
   "id": "353d707f-b141-40c2-a6ed-816a38e7abab",
   "metadata": {},
   "source": [
    "### explore icity outputs"
   ]
  },
  {
   "cell_type": "code",
   "execution_count": null,
   "id": "73ad189a-53e5-42b3-b04f-0354024ebdc0",
   "metadata": {},
   "outputs": [],
   "source": [
    "#final_icity_output([\"b9a340f0084638555260\"],[\"e0f58eed15ffda8a926c\"])"
   ]
  },
  {
   "cell_type": "code",
   "execution_count": null,
   "id": "50929e31-eafd-4cc6-acdc-2153fed2fb68",
   "metadata": {},
   "outputs": [],
   "source": [
    "#icity_arglist = [(bait_id, bait_neighbourhood_ex) for bait_id in bait_neighbourhood_ex]"
   ]
  },
  {
   "cell_type": "code",
   "execution_count": null,
   "id": "39ba69ee-ab4d-49b3-8a33-0e15c0b0b03b",
   "metadata": {},
   "outputs": [],
   "source": [
    "# for i in range(10):\n",
    "#     print(calc_icity(icity_arglist[i][0], icity_arglist[i][1]))\n",
    "# icity_arglist[0][0]"
   ]
  },
  {
   "cell_type": "code",
   "execution_count": null,
   "id": "649bbf4d-051e-48c4-a542-8177a2447cbe",
   "metadata": {},
   "outputs": [],
   "source": [
    "#calc_icity_pool(icity_arglist[:1000])"
   ]
  },
  {
   "cell_type": "markdown",
   "id": "8849bc4c-0f28-48e5-a0bd-a0bae6d6ed10",
   "metadata": {},
   "source": [
    "### calculate unrefined p100, p90, p30 -icity"
   ]
  },
  {
   "cell_type": "code",
   "execution_count": null,
   "id": "0fec7fde-78fa-4a90-ae06-858b967332ed",
   "metadata": {},
   "outputs": [],
   "source": [
    "def p100icity():\n",
    "    pass\n"
   ]
  },
  {
   "cell_type": "code",
   "execution_count": null,
   "id": "4def8611-2dfc-4ada-8966-a0671f7ac4ec",
   "metadata": {},
   "outputs": [],
   "source": []
  }
 ],
 "metadata": {
  "environment": {
   "kernel": "ggdb",
   "name": "common-cpu.m82",
   "type": "gcloud",
   "uri": "gcr.io/deeplearning-platform-release/base-cpu:m82"
  },
  "kernelspec": {
   "display_name": "ggdb",
   "language": "python",
   "name": "ggdb"
  },
  "language_info": {
   "codemirror_mode": {
    "name": "ipython",
    "version": 3
   },
   "file_extension": ".py",
   "mimetype": "text/x-python",
   "name": "python",
   "nbconvert_exporter": "python",
   "pygments_lexer": "ipython3",
   "version": "3.9.7"
  }
 },
 "nbformat": 4,
 "nbformat_minor": 5
}
